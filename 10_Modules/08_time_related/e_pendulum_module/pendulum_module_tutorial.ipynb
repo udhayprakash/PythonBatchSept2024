{
 "cells": [
  {
   "cell_type": "code",
   "execution_count": 1,
   "metadata": {},
   "outputs": [
    {
     "name": "stdout",
     "output_type": "stream",
     "text": [
      "Collecting pendulum\n",
      "  Downloading pendulum-3.0.0-cp312-cp312-manylinux_2_17_x86_64.manylinux2014_x86_64.whl.metadata (6.9 kB)\n",
      "Requirement already satisfied: python-dateutil>=2.6 in /home/codespace/.local/lib/python3.12/site-packages (from pendulum) (2.9.0.post0)\n",
      "Requirement already satisfied: tzdata>=2020.1 in /home/codespace/.local/lib/python3.12/site-packages (from pendulum) (2024.1)\n",
      "Collecting time-machine>=2.6.0 (from pendulum)\n",
      "  Downloading time_machine-2.16.0-cp312-cp312-manylinux_2_5_x86_64.manylinux1_x86_64.manylinux_2_17_x86_64.manylinux2014_x86_64.whl.metadata (21 kB)\n",
      "Requirement already satisfied: six>=1.5 in /home/codespace/.local/lib/python3.12/site-packages (from python-dateutil>=2.6->pendulum) (1.16.0)\n",
      "Downloading pendulum-3.0.0-cp312-cp312-manylinux_2_17_x86_64.manylinux2014_x86_64.whl (384 kB)\n",
      "Downloading time_machine-2.16.0-cp312-cp312-manylinux_2_5_x86_64.manylinux1_x86_64.manylinux_2_17_x86_64.manylinux2014_x86_64.whl (33 kB)\n",
      "Installing collected packages: time-machine, pendulum\n",
      "Successfully installed pendulum-3.0.0 time-machine-2.16.0\n"
     ]
    },
    {
     "data": {
      "text/plain": [
       "0"
      ]
     },
     "execution_count": 1,
     "metadata": {},
     "output_type": "execute_result"
    }
   ],
   "source": [
    "from os import system\n",
    "\n",
    "system(\"pip install pendulum\")"
   ]
  },
  {
   "cell_type": "code",
   "execution_count": 2,
   "metadata": {},
   "outputs": [
    {
     "name": "stdout",
     "output_type": "stream",
     "text": [
      "Requirement already satisfied: pendulum in /usr/local/python/3.12.1/lib/python3.12/site-packages (3.0.0)\n",
      "Requirement already satisfied: python-dateutil>=2.6 in /home/codespace/.local/lib/python3.12/site-packages (from pendulum) (2.9.0.post0)\n",
      "Requirement already satisfied: tzdata>=2020.1 in /home/codespace/.local/lib/python3.12/site-packages (from pendulum) (2024.1)\n",
      "Requirement already satisfied: time-machine>=2.6.0 in /usr/local/python/3.12.1/lib/python3.12/site-packages (from pendulum) (2.16.0)\n",
      "Requirement already satisfied: six>=1.5 in /home/codespace/.local/lib/python3.12/site-packages (from python-dateutil>=2.6->pendulum) (1.16.0)\n"
     ]
    }
   ],
   "source": [
    "! pip install pendulum"
   ]
  },
  {
   "cell_type": "code",
   "execution_count": 3,
   "metadata": {},
   "outputs": [],
   "source": [
    "from datetime import datetime\n",
    "import pendulum"
   ]
  },
  {
   "cell_type": "code",
   "execution_count": 4,
   "metadata": {},
   "outputs": [],
   "source": [
    "utc = pendulum.timezone(\"UTC\")\n",
    "pst = pendulum.timezone(\"America/Los_Angeles\")\n",
    "ist = pendulum.timezone(\"Asia/Calcutta\")"
   ]
  },
  {
   "cell_type": "code",
   "execution_count": 5,
   "metadata": {},
   "outputs": [
    {
     "name": "stdout",
     "output_type": "stream",
     "text": [
      "<class 'pendulum.tz.timezone.Timezone'>\n"
     ]
    }
   ],
   "source": [
    "print(type(utc))"
   ]
  },
  {
   "cell_type": "code",
   "execution_count": 6,
   "metadata": {},
   "outputs": [
    {
     "data": {
      "text/plain": [
       "Timezone('UTC')"
      ]
     },
     "execution_count": 6,
     "metadata": {},
     "output_type": "execute_result"
    }
   ],
   "source": [
    "utc"
   ]
  },
  {
   "cell_type": "code",
   "execution_count": 7,
   "metadata": {},
   "outputs": [
    {
     "name": "stdout",
     "output_type": "stream",
     "text": [
      "Current Date Time in UTC = 2024-10-23 21:09:40.080954+00:00\n",
      "Current Date Time in PST = 2024-10-23 14:09:40.081289-07:00\n",
      "Current Date Time in IST = 2024-10-24 02:39:40.081347+05:30\n"
     ]
    }
   ],
   "source": [
    "print(\"Current Date Time in UTC =\", datetime.now(utc))\n",
    "print(\"Current Date Time in PST =\", datetime.now(pst))\n",
    "print(\"Current Date Time in IST =\", datetime.now(ist))"
   ]
  },
  {
   "cell_type": "code",
   "execution_count": 8,
   "metadata": {},
   "outputs": [
    {
     "name": "stdout",
     "output_type": "stream",
     "text": [
      "<class 'datetime.datetime'>\n"
     ]
    }
   ],
   "source": [
    "print(type(datetime.now(ist)))"
   ]
  },
  {
   "cell_type": "code",
   "execution_count": 9,
   "metadata": {},
   "outputs": [
    {
     "name": "stdout",
     "output_type": "stream",
     "text": [
      "<class 'pendulum.datetime.DateTime'>\n",
      "Current Date Time in UTC = 2024-10-23 21:09:40.132601+00:00\n"
     ]
    }
   ],
   "source": [
    "utc_time = pendulum.now(\"UTC\")\n",
    "print(type(utc_time))\n",
    "print(\"Current Date Time in UTC =\", utc_time)"
   ]
  },
  {
   "cell_type": "markdown",
   "metadata": {},
   "source": [
    "### Converting Timezones\n"
   ]
  },
  {
   "cell_type": "code",
   "execution_count": 10,
   "metadata": {},
   "outputs": [
    {
     "name": "stdout",
     "output_type": "stream",
     "text": [
      "<class 'pendulum.datetime.DateTime'>\n",
      "Current Date Time in IST = 2024-10-24 02:39:40.153771+05:30\n"
     ]
    }
   ],
   "source": [
    "utc_time = pendulum.now(\"UTC\")\n",
    "ist_time = utc_time.in_timezone(\"Asia/Calcutta\")\n",
    "print(type(ist_time))\n",
    "print(\"Current Date Time in IST =\", ist_time)"
   ]
  },
  {
   "cell_type": "code",
   "execution_count": 11,
   "metadata": {},
   "outputs": [
    {
     "name": "stdout",
     "output_type": "stream",
     "text": [
      "Current Date Time in Paris = 2024-10-23 23:09:40.153771+02:00\n"
     ]
    }
   ],
   "source": [
    "tz = pendulum.timezone(\"Europe/Paris\")\n",
    "paris_time = tz.convert(ist_time)\n",
    "print(\"Current Date Time in Paris =\", paris_time)"
   ]
  },
  {
   "cell_type": "markdown",
   "metadata": {},
   "source": [
    "### Date Time Manipulations\n"
   ]
  },
  {
   "cell_type": "code",
   "execution_count": 12,
   "metadata": {},
   "outputs": [
    {
     "name": "stdout",
     "output_type": "stream",
     "text": [
      "Updated UTC Time 2024-10-23 21:09:40.153771+00:00\n"
     ]
    }
   ],
   "source": [
    "utc_time.add(years=1)\n",
    "utc_time.subtract(months=2)\n",
    "print(\"Updated UTC Time\", utc_time)"
   ]
  },
  {
   "cell_type": "markdown",
   "metadata": {},
   "source": [
    "### Date Time Formatting\n"
   ]
  },
  {
   "cell_type": "code",
   "execution_count": 13,
   "metadata": {},
   "outputs": [
    {
     "data": {
      "text/plain": [
       "'2024-10-23T21:09:40.153771Z'"
      ]
     },
     "execution_count": 13,
     "metadata": {},
     "output_type": "execute_result"
    }
   ],
   "source": [
    "utc_time.to_iso8601_string()"
   ]
  },
  {
   "cell_type": "code",
   "execution_count": 14,
   "metadata": {},
   "outputs": [
    {
     "data": {
      "text/plain": [
       "'Oct 23, 2024'"
      ]
     },
     "execution_count": 14,
     "metadata": {},
     "output_type": "execute_result"
    }
   ],
   "source": [
    "utc_time.to_formatted_date_string()"
   ]
  },
  {
   "cell_type": "code",
   "execution_count": 15,
   "metadata": {},
   "outputs": [
    {
     "data": {
      "text/plain": [
       "'2024-10-23T21:09:40+00:00'"
      ]
     },
     "execution_count": 15,
     "metadata": {},
     "output_type": "execute_result"
    }
   ],
   "source": [
    "utc_time.to_w3c_string()"
   ]
  },
  {
   "cell_type": "code",
   "execution_count": 16,
   "metadata": {},
   "outputs": [
    {
     "data": {
      "text/plain": [
       "'2024-10-23'"
      ]
     },
     "execution_count": 16,
     "metadata": {},
     "output_type": "execute_result"
    }
   ],
   "source": [
    "utc_time.to_date_string()"
   ]
  },
  {
   "cell_type": "code",
   "execution_count": 17,
   "metadata": {},
   "outputs": [
    {
     "data": {
      "text/plain": [
       "'2024-10-23 21:09:40 UTC+0000'"
      ]
     },
     "execution_count": 17,
     "metadata": {},
     "output_type": "execute_result"
    }
   ],
   "source": [
    "# supports strftime() too\n",
    "utc_time.strftime(\"%Y-%m-%d %H:%M:%S %Z%z\")"
   ]
  },
  {
   "cell_type": "markdown",
   "metadata": {},
   "source": [
    "### Parse String to Date Time\n"
   ]
  },
  {
   "cell_type": "code",
   "execution_count": 18,
   "metadata": {},
   "outputs": [
    {
     "data": {
      "text/plain": [
       "DateTime(2018, 5, 21, 22, 0, 0, tzinfo=Timezone('UTC'))"
      ]
     },
     "execution_count": 18,
     "metadata": {},
     "output_type": "execute_result"
    }
   ],
   "source": [
    "dt = pendulum.parse(\"2018-05-21T22:00:00\")\n",
    "dt"
   ]
  },
  {
   "cell_type": "code",
   "execution_count": 19,
   "metadata": {},
   "outputs": [
    {
     "data": {
      "text/plain": [
       "pendulum.datetime.DateTime"
      ]
     },
     "execution_count": 19,
     "metadata": {},
     "output_type": "execute_result"
    }
   ],
   "source": [
    "type(dt)"
   ]
  },
  {
   "cell_type": "code",
   "execution_count": 20,
   "metadata": {},
   "outputs": [
    {
     "data": {
      "text/plain": [
       "DateTime(2018, 5, 21, 22, 0, 0, tzinfo=Timezone('Europe/Paris'))"
      ]
     },
     "execution_count": 20,
     "metadata": {},
     "output_type": "execute_result"
    }
   ],
   "source": [
    "pendulum.parse(\"2018-05-21T22:00:00\", tz=\"Europe/Paris\")"
   ]
  },
  {
   "cell_type": "code",
   "execution_count": 21,
   "metadata": {},
   "outputs": [
    {
     "data": {
      "text/plain": [
       "DateTime(2018, 5, 21, 0, 0, 0, tzinfo=Timezone('UTC'))"
      ]
     },
     "execution_count": 21,
     "metadata": {},
     "output_type": "execute_result"
    }
   ],
   "source": [
    "# parsing using specified format string\n",
    "pendulum.from_format(\"2018/05/21\", \"YYYY/MM/DD\")"
   ]
  },
  {
   "cell_type": "markdown",
   "metadata": {},
   "source": [
    "### Duration – timedelta replacement\n"
   ]
  },
  {
   "cell_type": "code",
   "execution_count": 22,
   "metadata": {},
   "outputs": [
    {
     "name": "stdout",
     "output_type": "stream",
     "text": [
      "2 years 1 day 10 hours\n"
     ]
    }
   ],
   "source": [
    "time_delta = pendulum.duration(days=1, hours=10, years=2)\n",
    "print(time_delta)"
   ]
  },
  {
   "cell_type": "code",
   "execution_count": 23,
   "metadata": {},
   "outputs": [
    {
     "name": "stdout",
     "output_type": "stream",
     "text": [
      "time_delta years = 2\n"
     ]
    }
   ],
   "source": [
    "print(\"time_delta years =\", time_delta.years)"
   ]
  },
  {
   "cell_type": "code",
   "execution_count": 24,
   "metadata": {},
   "outputs": [
    {
     "name": "stdout",
     "output_type": "stream",
     "text": [
      "time_delta in seconds = 63194400\n"
     ]
    }
   ],
   "source": [
    "print(\"time_delta in seconds =\", time_delta.in_seconds())"
   ]
  },
  {
   "cell_type": "code",
   "execution_count": 25,
   "metadata": {},
   "outputs": [
    {
     "name": "stdout",
     "output_type": "stream",
     "text": [
      "time_delta in words = 2 years 1 day 10 hours\n"
     ]
    }
   ],
   "source": [
    "print(\"time_delta in words =\", time_delta.in_words())"
   ]
  },
  {
   "cell_type": "code",
   "execution_count": 26,
   "metadata": {},
   "outputs": [
    {
     "name": "stdout",
     "output_type": "stream",
     "text": [
      "future date = 2026-10-25 07:09:40.536570+00:00\n"
     ]
    }
   ],
   "source": [
    "print(\"future date =\", pendulum.now() + time_delta)"
   ]
  },
  {
   "cell_type": "markdown",
   "metadata": {},
   "source": [
    "### Period of Time\n"
   ]
  },
  {
   "cell_type": "code",
   "execution_count": 27,
   "metadata": {},
   "outputs": [
    {
     "name": "stdout",
     "output_type": "stream",
     "text": [
      "period in words = 4 days\n",
      "2024-10-23 21:09:40.554232+00:00\n",
      "2024-10-24 21:09:40.554232+00:00\n",
      "2024-10-25 21:09:40.554232+00:00\n",
      "2024-10-26 21:09:40.554232+00:00\n",
      "2024-10-27 21:09:40.554232+00:00\n"
     ]
    }
   ],
   "source": [
    "current_date = pendulum.now()\n",
    "future_date = current_date.add(days=4)\n",
    "\n",
    "period_time = future_date - current_date\n",
    "\n",
    "print(\"period in words =\", period_time.in_words())\n",
    "\n",
    "# period is iterable with days\n",
    "for dt in period_time:\n",
    "    print(dt)"
   ]
  }
 ],
 "metadata": {
  "kernelspec": {
   "display_name": "Python 3",
   "language": "python",
   "name": "python3"
  },
  "language_info": {
   "codemirror_mode": {
    "name": "ipython",
    "version": 3
   },
   "file_extension": ".py",
   "mimetype": "text/x-python",
   "name": "python",
   "nbconvert_exporter": "python",
   "pygments_lexer": "ipython3",
   "version": "3.12.1"
  }
 },
 "nbformat": 4,
 "nbformat_minor": 2
}
