{
 "cells": [
  {
   "cell_type": "code",
   "execution_count": 1,
   "metadata": {},
   "outputs": [],
   "source": [
    "import calendar"
   ]
  },
  {
   "cell_type": "code",
   "execution_count": 2,
   "metadata": {},
   "outputs": [
    {
     "name": "stdout",
     "output_type": "stream",
     "text": [
      "['APRIL', 'AUGUST', 'Calendar', 'DECEMBER', 'Day', 'EPOCH', 'FEBRUARY', 'FRIDAY', 'HTMLCalendar', 'IllegalMonthError', 'IllegalWeekdayError', 'IntEnum', 'JANUARY', 'JULY', 'JUNE', 'LocaleHTMLCalendar', 'LocaleTextCalendar', 'MARCH', 'MAY', 'MONDAY', 'Month', 'NOVEMBER', 'OCTOBER', 'SATURDAY', 'SEPTEMBER', 'SUNDAY', 'THURSDAY', 'TUESDAY', 'TextCalendar', 'WEDNESDAY', '_EPOCH_ORD', '__all__', '__builtins__', '__cached__', '__doc__', '__file__', '__getattr__', '__loader__', '__name__', '__package__', '__spec__', '_colwidth', '_get_default_locale', '_locale', '_localized_day', '_localized_month', '_monthlen', '_nextmonth', '_prevmonth', '_spacing', 'c', 'calendar', 'datetime', 'day_abbr', 'day_name', 'different_locale', 'error', 'firstweekday', 'format', 'formatstring', 'global_enum', 'isleap', 'leapdays', 'main', 'mdays', 'month', 'month_abbr', 'month_name', 'monthcalendar', 'monthrange', 'prcal', 'prmonth', 'prweek', 'repeat', 'setfirstweekday', 'sys', 'timegm', 'warnings', 'week', 'weekday', 'weekheader']\n"
     ]
    }
   ],
   "source": [
    "print(dir(calendar))"
   ]
  },
  {
   "cell_type": "code",
   "execution_count": 3,
   "metadata": {},
   "outputs": [
    {
     "name": "stdout",
     "output_type": "stream",
     "text": [
      "Calendar printing functions\n",
      "\n",
      "Note when comparing these calendars to the ones printed by cal(1): By\n",
      "default, these calendars have Monday as the first day of the week, and\n",
      "Sunday as the last (the European convention). Use setfirstweekday() to\n",
      "set the first day of the week (0=Monday, 6=Sunday).\n"
     ]
    }
   ],
   "source": [
    "print(calendar.__doc__)"
   ]
  },
  {
   "cell_type": "code",
   "execution_count": 4,
   "metadata": {},
   "outputs": [
    {
     "name": "stdout",
     "output_type": "stream",
     "text": [
      " \n",
      "calendar.EPOCH      =1970\n",
      "calendar._EPOCH_ORD =719163\n",
      "\n",
      "calendar.MONDAY     =calendar.MONDAY\n",
      "calendar.TUESDAY    =calendar.TUESDAY\n",
      "calendar.WEDNESDAY  =calendar.WEDNESDAY\n",
      "calendar.THURSDAY   =calendar.THURSDAY\n",
      "calendar.FRIDAY     =calendar.FRIDAY\n",
      "calendar.SATURDAY   =calendar.SATURDAY\n",
      "calendar.SUNDAY     =calendar.SUNDAY\n",
      "\n",
      "calendar.mdays      =[0, 31, 28, 31, 30, 31, 30, 31, 31, 30, 31, 30, 31]\n",
      "\n"
     ]
    }
   ],
   "source": [
    "print(\n",
    "    f\"\"\" \n",
    "{calendar.EPOCH      =}\n",
    "{calendar._EPOCH_ORD =}\n",
    "\n",
    "{calendar.MONDAY     =}\n",
    "{calendar.TUESDAY    =}\n",
    "{calendar.WEDNESDAY  =}\n",
    "{calendar.THURSDAY   =}\n",
    "{calendar.FRIDAY     =}\n",
    "{calendar.SATURDAY   =}\n",
    "{calendar.SUNDAY     =}\n",
    "\n",
    "{calendar.mdays      =}\n",
    "\"\"\"\n",
    ")"
   ]
  },
  {
   "cell_type": "markdown",
   "metadata": {},
   "source": [
    "Getting Abbreviated Weekday Names"
   ]
  },
  {
   "cell_type": "code",
   "execution_count": 5,
   "metadata": {},
   "outputs": [
    {
     "data": {
      "text/plain": [
       "'Mo Tu We Th Fr Sa Su'"
      ]
     },
     "execution_count": 5,
     "metadata": {},
     "output_type": "execute_result"
    }
   ],
   "source": [
    "calendar.weekheader(2)"
   ]
  },
  {
   "cell_type": "code",
   "execution_count": 6,
   "metadata": {},
   "outputs": [
    {
     "name": "stdout",
     "output_type": "stream",
     "text": [
      "0 ==>       \n",
      "1 ==> M T W T F S S\n",
      "2 ==> Mo Tu We Th Fr Sa Su\n",
      "3 ==> Mon Tue Wed Thu Fri Sat Sun\n",
      "4 ==> Mon  Tue  Wed  Thu  Fri  Sat  Sun \n",
      "5 ==>  Mon   Tue   Wed   Thu   Fri   Sat   Sun \n",
      "6 ==>  Mon    Tue    Wed    Thu    Fri    Sat    Sun  \n"
     ]
    }
   ],
   "source": [
    "for i in range(7):\n",
    "    print(i, \"==>\", calendar.weekheader(i))"
   ]
  },
  {
   "cell_type": "markdown",
   "metadata": {},
   "source": [
    "__Problem:__ For a given date, tell the week of the day"
   ]
  },
  {
   "cell_type": "code",
   "execution_count": 7,
   "metadata": {},
   "outputs": [],
   "source": [
    "import calendar\n",
    "\n",
    "\n",
    "def get_week_of_day():\n",
    "    given_input = input('Enter the date in \"MM DD YYYY\" format:')\n",
    "    month, day, year = map(int, given_input.split(\" \"))\n",
    "\n",
    "    weeks = (\n",
    "        \"MONDAY\",\n",
    "        \"TUESDAY\",\n",
    "        \"WEDNESDAY\",\n",
    "        \"THURSDAY\",\n",
    "        \"FRIDAY\",\n",
    "        \"SATURDAY\",\n",
    "        \"SUNDAY\",\n",
    "    )\n",
    "    week_no = calendar.weekday(year, month, day)\n",
    "    week_name = weeks[week_no]\n",
    "    return f\"day of week for {given_input} is {week_name}\""
   ]
  },
  {
   "cell_type": "code",
   "execution_count": 8,
   "metadata": {},
   "outputs": [
    {
     "data": {
      "text/plain": [
       "'day of week for 01 26 2025 is SUNDAY'"
      ]
     },
     "execution_count": 8,
     "metadata": {},
     "output_type": "execute_result"
    }
   ],
   "source": [
    "get_week_of_day()"
   ]
  },
  {
   "cell_type": "code",
   "execution_count": 9,
   "metadata": {},
   "outputs": [
    {
     "data": {
      "text/plain": [
       "'day of week for 08 15 2034 is TUESDAY'"
      ]
     },
     "execution_count": 9,
     "metadata": {},
     "output_type": "execute_result"
    }
   ],
   "source": [
    "get_week_of_day()"
   ]
  },
  {
   "cell_type": "code",
   "execution_count": 10,
   "metadata": {},
   "outputs": [
    {
     "data": {
      "text/plain": [
       "'    August 1947\\nMo Tu We Th Fr Sa Su\\n             1  2  3\\n 4  5  6  7  8  9 10\\n11 12 13 14 15 16 17\\n18 19 20 21 22 23 24\\n25 26 27 28 29 30 31\\n'"
      ]
     },
     "execution_count": 10,
     "metadata": {},
     "output_type": "execute_result"
    }
   ],
   "source": [
    "calendar.month(1947, 8)"
   ]
  },
  {
   "cell_type": "code",
   "execution_count": 11,
   "metadata": {},
   "outputs": [
    {
     "name": "stdout",
     "output_type": "stream",
     "text": [
      "    August 1947\n",
      "Mo Tu We Th Fr Sa Su\n",
      "             1  2  3\n",
      " 4  5  6  7  8  9 10\n",
      "11 12 13 14 15 16 17\n",
      "18 19 20 21 22 23 24\n",
      "25 26 27 28 29 30 31\n",
      "\n"
     ]
    }
   ],
   "source": [
    "print(calendar.month(1947, 8))"
   ]
  },
  {
   "cell_type": "code",
   "execution_count": 12,
   "metadata": {},
   "outputs": [
    {
     "name": "stdout",
     "output_type": "stream",
     "text": [
      "    August 2020\n",
      "Mo Tu We Th Fr Sa Su\n",
      "                1  2\n",
      " 3  4  5  6  7  8  9\n",
      "10 11 12 13 14 15 16\n",
      "17 18 19 20 21 22 23\n",
      "24 25 26 27 28 29 30\n",
      "31\n",
      "\n"
     ]
    }
   ],
   "source": [
    "print(calendar.month(2020, 8))"
   ]
  },
  {
   "cell_type": "markdown",
   "metadata": {},
   "source": [
    "Getting Number of Days in a Month\n",
    "    - weekday (0-6 ~ Mon-Sun) and number of days (28-31) for year, month"
   ]
  },
  {
   "cell_type": "code",
   "execution_count": 13,
   "metadata": {},
   "outputs": [
    {
     "name": "stdout",
     "output_type": "stream",
     "text": [
      "(calendar.FRIDAY, 31)\n"
     ]
    }
   ],
   "source": [
    "print(calendar.monthrange(1947, 8))  # 4 - Friday"
   ]
  },
  {
   "cell_type": "code",
   "execution_count": 14,
   "metadata": {},
   "outputs": [
    {
     "name": "stdout",
     "output_type": "stream",
     "text": [
      "(calendar.SATURDAY, 31)\n"
     ]
    }
   ],
   "source": [
    "print(calendar.monthrange(2020, 8))  # 5 - Saturday"
   ]
  },
  {
   "cell_type": "code",
   "execution_count": 15,
   "metadata": {},
   "outputs": [
    {
     "name": "stdout",
     "output_type": "stream",
     "text": [
      "     March 2020\n",
      "Mo Tu We Th Fr Sa Su\n",
      "                   1\n",
      " 2  3  4  5  6  7  8\n",
      " 9 10 11 12 13 14 15\n",
      "16 17 18 19 20 21 22\n",
      "23 24 25 26 27 28 29\n",
      "30 31\n",
      "\n"
     ]
    }
   ],
   "source": [
    "print(calendar.month(2020, 3))"
   ]
  },
  {
   "cell_type": "code",
   "execution_count": 16,
   "metadata": {},
   "outputs": [
    {
     "name": "stdout",
     "output_type": "stream",
     "text": [
      "(calendar.SUNDAY, 31)\n"
     ]
    }
   ],
   "source": [
    "print(calendar.monthrange(2020, 3))"
   ]
  },
  {
   "cell_type": "code",
   "execution_count": 17,
   "metadata": {},
   "outputs": [
    {
     "name": "stdout",
     "output_type": "stream",
     "text": [
      "[[0, 0, 0, 0, 1, 2, 3], [4, 5, 6, 7, 8, 9, 10], [11, 12, 13, 14, 15, 16, 17], [18, 19, 20, 21, 22, 23, 24], [25, 26, 27, 28, 29, 30, 31]]\n"
     ]
    }
   ],
   "source": [
    "print(calendar.monthcalendar(1947, 8))"
   ]
  },
  {
   "cell_type": "code",
   "execution_count": 18,
   "metadata": {},
   "outputs": [
    {
     "name": "stdout",
     "output_type": "stream",
     "text": [
      "[0, 0, 0, 0, 1, 2, 3]\n",
      "[4, 5, 6, 7, 8, 9, 10]\n",
      "[11, 12, 13, 14, 15, 16, 17]\n",
      "[18, 19, 20, 21, 22, 23, 24]\n",
      "[25, 26, 27, 28, 29, 30, 31]\n"
     ]
    }
   ],
   "source": [
    "for i in calendar.monthcalendar(1947, 8):\n",
    "    print(i)"
   ]
  },
  {
   "cell_type": "markdown",
   "metadata": {},
   "source": [
    "### Displaying the calendar"
   ]
  },
  {
   "cell_type": "code",
   "execution_count": 19,
   "metadata": {},
   "outputs": [
    {
     "name": "stdout",
     "output_type": "stream",
     "text": [
      "Help on method formatyear in module calendar:\n",
      "\n",
      "formatyear(theyear, w=2, l=1, c=6, m=3) method of calendar.TextCalendar instance\n",
      "    Returns a year's calendar as a multi-line string.\n",
      "\n"
     ]
    }
   ],
   "source": [
    "help(calendar.calendar)"
   ]
  },
  {
   "cell_type": "code",
   "execution_count": 20,
   "metadata": {},
   "outputs": [
    {
     "name": "stdout",
     "output_type": "stream",
     "text": [
      "                                      1947\n",
      "\n",
      "      January                       February                       March\n",
      "Mo Tu We Th Fr Sa Su          Mo Tu We Th Fr Sa Su          Mo Tu We Th Fr Sa Su\n",
      "       1  2  3  4  5                          1  2                          1  2\n",
      " 6  7  8  9 10 11 12           3  4  5  6  7  8  9           3  4  5  6  7  8  9\n",
      "13 14 15 16 17 18 19          10 11 12 13 14 15 16          10 11 12 13 14 15 16\n",
      "20 21 22 23 24 25 26          17 18 19 20 21 22 23          17 18 19 20 21 22 23\n",
      "27 28 29 30 31                24 25 26 27 28                24 25 26 27 28 29 30\n",
      "                                                            31\n",
      "\n",
      "       April                          May                           June\n",
      "Mo Tu We Th Fr Sa Su          Mo Tu We Th Fr Sa Su          Mo Tu We Th Fr Sa Su\n",
      "    1  2  3  4  5  6                    1  2  3  4                             1\n",
      " 7  8  9 10 11 12 13           5  6  7  8  9 10 11           2  3  4  5  6  7  8\n",
      "14 15 16 17 18 19 20          12 13 14 15 16 17 18           9 10 11 12 13 14 15\n",
      "21 22 23 24 25 26 27          19 20 21 22 23 24 25          16 17 18 19 20 21 22\n",
      "28 29 30                      26 27 28 29 30 31             23 24 25 26 27 28 29\n",
      "                                                            30\n",
      "\n",
      "        July                         August                      September\n",
      "Mo Tu We Th Fr Sa Su          Mo Tu We Th Fr Sa Su          Mo Tu We Th Fr Sa Su\n",
      "    1  2  3  4  5  6                       1  2  3           1  2  3  4  5  6  7\n",
      " 7  8  9 10 11 12 13           4  5  6  7  8  9 10           8  9 10 11 12 13 14\n",
      "14 15 16 17 18 19 20          11 12 13 14 15 16 17          15 16 17 18 19 20 21\n",
      "21 22 23 24 25 26 27          18 19 20 21 22 23 24          22 23 24 25 26 27 28\n",
      "28 29 30 31                   25 26 27 28 29 30 31          29 30\n",
      "\n",
      "      October                       November                      December\n",
      "Mo Tu We Th Fr Sa Su          Mo Tu We Th Fr Sa Su          Mo Tu We Th Fr Sa Su\n",
      "       1  2  3  4  5                          1  2           1  2  3  4  5  6  7\n",
      " 6  7  8  9 10 11 12           3  4  5  6  7  8  9           8  9 10 11 12 13 14\n",
      "13 14 15 16 17 18 19          10 11 12 13 14 15 16          15 16 17 18 19 20 21\n",
      "20 21 22 23 24 25 26          17 18 19 20 21 22 23          22 23 24 25 26 27 28\n",
      "27 28 29 30 31                24 25 26 27 28 29 30          29 30 31\n",
      "\n"
     ]
    }
   ],
   "source": [
    "print(calendar.calendar(1947, 2, 1, 10))"
   ]
  },
  {
   "cell_type": "code",
   "execution_count": 21,
   "metadata": {},
   "outputs": [
    {
     "data": {
      "text/plain": [
       "0"
      ]
     },
     "execution_count": 21,
     "metadata": {},
     "output_type": "execute_result"
    }
   ],
   "source": [
    "calendar.firstweekday()  # 0 - Monday"
   ]
  },
  {
   "cell_type": "code",
   "execution_count": 22,
   "metadata": {},
   "outputs": [],
   "source": [
    "calendar.setfirstweekday(4)"
   ]
  },
  {
   "cell_type": "code",
   "execution_count": 23,
   "metadata": {},
   "outputs": [
    {
     "data": {
      "text/plain": [
       "4"
      ]
     },
     "execution_count": 23,
     "metadata": {},
     "output_type": "execute_result"
    }
   ],
   "source": [
    "calendar.firstweekday()  # 4 - Friday"
   ]
  },
  {
   "cell_type": "code",
   "execution_count": 24,
   "metadata": {},
   "outputs": [
    {
     "name": "stdout",
     "output_type": "stream",
     "text": [
      "                                      1947\n",
      "\n",
      "      January                       February                       March\n",
      "Fr Sa Su Mo Tu We Th          Fr Sa Su Mo Tu We Th          Fr Sa Su Mo Tu We Th\n",
      "                1  2              1  2  3  4  5  6              1  2  3  4  5  6\n",
      " 3  4  5  6  7  8  9           7  8  9 10 11 12 13           7  8  9 10 11 12 13\n",
      "10 11 12 13 14 15 16          14 15 16 17 18 19 20          14 15 16 17 18 19 20\n",
      "17 18 19 20 21 22 23          21 22 23 24 25 26 27          21 22 23 24 25 26 27\n",
      "24 25 26 27 28 29 30          28                            28 29 30 31\n",
      "31\n",
      "\n",
      "       April                          May                           June\n",
      "Fr Sa Su Mo Tu We Th          Fr Sa Su Mo Tu We Th          Fr Sa Su Mo Tu We Th\n",
      "             1  2  3                             1                 1  2  3  4  5\n",
      " 4  5  6  7  8  9 10           2  3  4  5  6  7  8           6  7  8  9 10 11 12\n",
      "11 12 13 14 15 16 17           9 10 11 12 13 14 15          13 14 15 16 17 18 19\n",
      "18 19 20 21 22 23 24          16 17 18 19 20 21 22          20 21 22 23 24 25 26\n",
      "25 26 27 28 29 30             23 24 25 26 27 28 29          27 28 29 30\n",
      "                              30 31\n",
      "\n",
      "        July                         August                      September\n",
      "Fr Sa Su Mo Tu We Th          Fr Sa Su Mo Tu We Th          Fr Sa Su Mo Tu We Th\n",
      "             1  2  3           1  2  3  4  5  6  7                    1  2  3  4\n",
      " 4  5  6  7  8  9 10           8  9 10 11 12 13 14           5  6  7  8  9 10 11\n",
      "11 12 13 14 15 16 17          15 16 17 18 19 20 21          12 13 14 15 16 17 18\n",
      "18 19 20 21 22 23 24          22 23 24 25 26 27 28          19 20 21 22 23 24 25\n",
      "25 26 27 28 29 30 31          29 30 31                      26 27 28 29 30\n",
      "\n",
      "      October                       November                      December\n",
      "Fr Sa Su Mo Tu We Th          Fr Sa Su Mo Tu We Th          Fr Sa Su Mo Tu We Th\n",
      "                1  2              1  2  3  4  5  6                    1  2  3  4\n",
      " 3  4  5  6  7  8  9           7  8  9 10 11 12 13           5  6  7  8  9 10 11\n",
      "10 11 12 13 14 15 16          14 15 16 17 18 19 20          12 13 14 15 16 17 18\n",
      "17 18 19 20 21 22 23          21 22 23 24 25 26 27          19 20 21 22 23 24 25\n",
      "24 25 26 27 28 29 30          28 29 30                      26 27 28 29 30 31\n",
      "31\n",
      "\n"
     ]
    }
   ],
   "source": [
    "print(calendar.calendar(1947, 2, 1, 10))"
   ]
  },
  {
   "cell_type": "markdown",
   "metadata": {},
   "source": [
    "### TextCalendar\n",
    "    - used to generate plain text calendars. "
   ]
  },
  {
   "cell_type": "code",
   "execution_count": 25,
   "metadata": {},
   "outputs": [],
   "source": [
    "c = calendar.TextCalendar()"
   ]
  },
  {
   "cell_type": "markdown",
   "metadata": {},
   "source": [
    "formatmonth()\n",
    "    - This method takes 4 arguments namely: \n",
    "        - year\n",
    "        - month\n",
    "        - the width of days column (w)\n",
    "        - a number of lines used by each week (l). \n",
    "    - This method returns a multi-line string."
   ]
  },
  {
   "cell_type": "code",
   "execution_count": 26,
   "metadata": {},
   "outputs": [
    {
     "name": "stdout",
     "output_type": "stream",
     "text": [
      "    August 1047\n",
      "Mo Tu We Th Fr Sa Su\n",
      "                   1\n",
      " 2  3  4  5  6  7  8\n",
      " 9 10 11 12 13 14 15\n",
      "16 17 18 19 20 21 22\n",
      "23 24 25 26 27 28 29\n",
      "30 31\n",
      "\n"
     ]
    }
   ],
   "source": [
    "print(c.formatmonth(1047, 8))  # default, w = 2"
   ]
  },
  {
   "cell_type": "code",
   "execution_count": 27,
   "metadata": {},
   "outputs": [
    {
     "name": "stdout",
     "output_type": "stream",
     "text": [
      "        August 1047\n",
      "Mon Tue Wed Thu Fri Sat Sun\n",
      "                          1\n",
      "  2   3   4   5   6   7   8\n",
      "  9  10  11  12  13  14  15\n",
      " 16  17  18  19  20  21  22\n",
      " 23  24  25  26  27  28  29\n",
      " 30  31\n",
      "\n"
     ]
    }
   ],
   "source": [
    "print(c.formatmonth(1047, 8, 3))"
   ]
  },
  {
   "cell_type": "code",
   "execution_count": 28,
   "metadata": {},
   "outputs": [
    {
     "data": {
      "text/plain": [
       "'        August 1047\\nMon Tue Wed Thu Fri Sat Sun\\n                          1\\n  2   3   4   5   6   7   8\\n  9  10  11  12  13  14  15\\n 16  17  18  19  20  21  22\\n 23  24  25  26  27  28  29\\n 30  31\\n'"
      ]
     },
     "execution_count": 28,
     "metadata": {},
     "output_type": "execute_result"
    }
   ],
   "source": [
    "c.formatmonth(1047, 8, 3)"
   ]
  },
  {
   "cell_type": "markdown",
   "metadata": {},
   "source": [
    "prmonth()\n",
    "    - prints value returned from formatmonth, without using print()"
   ]
  },
  {
   "cell_type": "code",
   "execution_count": 29,
   "metadata": {},
   "outputs": [
    {
     "name": "stdout",
     "output_type": "stream",
     "text": [
      "    August 1947\n",
      "Mo Tu We Th Fr Sa Su\n",
      "             1  2  3\n",
      " 4  5  6  7  8  9 10\n",
      "11 12 13 14 15 16 17\n",
      "18 19 20 21 22 23 24\n",
      "25 26 27 28 29 30 31\n"
     ]
    }
   ],
   "source": [
    "c.prmonth(1947, 8)  # default is Monday"
   ]
  },
  {
   "cell_type": "code",
   "execution_count": 30,
   "metadata": {},
   "outputs": [
    {
     "name": "stdout",
     "output_type": "stream",
     "text": [
      "    August 1947\n",
      "Mo Tu We Th Fr Sa Su\n",
      "             1  2  3\n",
      " 4  5  6  7  8  9 10\n",
      "11 12 13 14 15 16 17\n",
      "18 19 20 21 22 23 24\n",
      "25 26 27 28 29 30 31\n",
      "None\n"
     ]
    }
   ],
   "source": [
    "print(c.prmonth(1947, 8))"
   ]
  },
  {
   "cell_type": "code",
   "execution_count": 31,
   "metadata": {
    "scrolled": true
   },
   "outputs": [
    {
     "name": "stdout",
     "output_type": "stream",
     "text": [
      "    August 1947\n",
      "Su Mo Tu We Th Fr Sa\n",
      "                1  2\n",
      " 3  4  5  6  7  8  9\n",
      "10 11 12 13 14 15 16\n",
      "17 18 19 20 21 22 23\n",
      "24 25 26 27 28 29 30\n",
      "31\n"
     ]
    }
   ],
   "source": [
    "# American calendar starts with Sunday\n",
    "c = calendar.TextCalendar(calendar.SUNDAY)\n",
    "c.prmonth(1947, 8)"
   ]
  },
  {
   "cell_type": "code",
   "execution_count": 32,
   "metadata": {},
   "outputs": [
    {
     "name": "stdout",
     "output_type": "stream",
     "text": [
      "    August 1947\n",
      "Fr Sa Su Mo Tu We Th\n",
      " 1  2  3  4  5  6  7\n",
      " 8  9 10 11 12 13 14\n",
      "15 16 17 18 19 20 21\n",
      "22 23 24 25 26 27 28\n",
      "29 30 31\n"
     ]
    }
   ],
   "source": [
    "# Arabic calendar starts with Friday\n",
    "c = calendar.TextCalendar(calendar.FRIDAY)\n",
    "c.prmonth(1947, 8)"
   ]
  },
  {
   "cell_type": "markdown",
   "metadata": {},
   "source": [
    "## LocaleTextCalendar "
   ]
  },
  {
   "cell_type": "markdown",
   "metadata": {},
   "source": [
    "To display in Local language, https://docs.microsoft.com/en-us/cpp/c-runtime-library/language-strings?view=vs-2017"
   ]
  },
  {
   "cell_type": "code",
   "execution_count": 33,
   "metadata": {},
   "outputs": [
    {
     "name": "stdout",
     "output_type": "stream",
     "text": [
      "af_ZA\n",
      "sq_AL\n",
      "gsw_FR\n",
      "am_ET\n",
      "ar_SA\n",
      "ar_IQ\n",
      "ar_EG\n",
      "ar_LY\n",
      "ar_DZ\n",
      "ar_MA\n",
      "ar_TN\n",
      "ar_OM\n",
      "ar_YE\n",
      "ar_SY\n",
      "ar_JO\n",
      "ar_LB\n",
      "ar_KW\n",
      "ar_AE\n",
      "ar_BH\n",
      "ar_QA\n",
      "hy_AM\n",
      "as_IN\n",
      "az_AZ\n",
      "az_AZ\n",
      "ba_RU\n",
      "eu_ES\n",
      "be_BY\n",
      "bn_IN\n",
      "bs_BA\n",
      "bs_BA\n",
      "br_FR\n",
      "bg_BG\n",
      "ca_ES\n",
      "zh_CHS\n",
      "zh_TW\n",
      "zh_CN\n",
      "zh_HK\n",
      "zh_SG\n",
      "zh_MO\n",
      "zh_CHT\n",
      "co_FR\n",
      "hr_HR\n",
      "hr_BA\n",
      "cs_CZ\n",
      "da_DK\n",
      "gbz_AF\n",
      "div_MV\n",
      "nl_NL\n",
      "nl_BE\n",
      "en_US\n",
      "en_GB\n",
      "en_AU\n",
      "en_CA\n",
      "en_NZ\n",
      "en_IE\n",
      "en_ZA\n",
      "en_JA\n",
      "en_CB\n",
      "en_BZ\n",
      "en_TT\n",
      "en_ZW\n",
      "en_PH\n",
      "en_IN\n",
      "en_MY\n",
      "en_IN\n",
      "et_EE\n",
      "fo_FO\n",
      "fil_PH\n",
      "fi_FI\n",
      "fr_FR\n",
      "fr_BE\n",
      "fr_CA\n",
      "fr_CH\n",
      "fr_LU\n",
      "fr_MC\n",
      "fy_NL\n",
      "gl_ES\n",
      "ka_GE\n",
      "de_DE\n",
      "de_CH\n",
      "de_AT\n",
      "de_LU\n",
      "de_LI\n",
      "el_GR\n",
      "kl_GL\n",
      "gu_IN\n",
      "ha_NG\n",
      "he_IL\n",
      "hi_IN\n",
      "hu_HU\n",
      "is_IS\n",
      "id_ID\n",
      "iu_CA\n",
      "iu_CA\n",
      "ga_IE\n",
      "it_IT\n",
      "it_CH\n",
      "ja_JP\n",
      "kn_IN\n",
      "kk_KZ\n",
      "kh_KH\n",
      "qut_GT\n",
      "rw_RW\n",
      "kok_IN\n",
      "ko_KR\n",
      "ky_KG\n",
      "lo_LA\n",
      "lv_LV\n",
      "lt_LT\n",
      "dsb_DE\n",
      "lb_LU\n",
      "mk_MK\n",
      "ms_MY\n",
      "ms_BN\n",
      "ml_IN\n",
      "mt_MT\n",
      "mi_NZ\n",
      "arn_CL\n",
      "mr_IN\n",
      "moh_CA\n",
      "mn_MN\n",
      "mn_CN\n",
      "ne_NP\n",
      "nb_NO\n",
      "nn_NO\n",
      "oc_FR\n",
      "or_IN\n",
      "ps_AF\n",
      "fa_IR\n",
      "pl_PL\n",
      "pt_BR\n",
      "pt_PT\n",
      "pa_IN\n",
      "quz_BO\n",
      "quz_EC\n",
      "quz_PE\n",
      "ro_RO\n",
      "rm_CH\n",
      "ru_RU\n",
      "smn_FI\n",
      "smj_NO\n",
      "smj_SE\n",
      "se_NO\n",
      "se_SE\n",
      "se_FI\n",
      "sms_FI\n",
      "sma_NO\n",
      "sma_SE\n",
      "sa_IN\n",
      "sr_SP\n",
      "sr_BA\n",
      "sr_SP\n",
      "sr_BA\n",
      "si_LK\n",
      "ns_ZA\n",
      "tn_ZA\n",
      "sk_SK\n",
      "sl_SI\n",
      "es_ES\n",
      "es_MX\n",
      "es_ES\n",
      "es_GT\n",
      "es_CR\n",
      "es_PA\n",
      "es_DO\n",
      "es_VE\n",
      "es_CO\n",
      "es_PE\n",
      "es_AR\n",
      "es_EC\n",
      "es_CL\n",
      "es_UR\n",
      "es_PY\n",
      "es_BO\n",
      "es_SV\n",
      "es_HN\n",
      "es_NI\n",
      "es_PR\n",
      "es_US\n",
      "sw_KE\n",
      "sv_SE\n",
      "sv_FI\n",
      "syr_SY\n",
      "tg_TJ\n",
      "tmz_DZ\n",
      "ta_IN\n",
      "tt_RU\n",
      "te_IN\n",
      "th_TH\n",
      "bo_BT\n",
      "bo_CN\n",
      "tr_TR\n",
      "tk_TM\n",
      "ug_CN\n",
      "uk_UA\n",
      "wen_DE\n",
      "ur_PK\n",
      "ur_IN\n",
      "uz_UZ\n",
      "uz_UZ\n",
      "vi_VN\n",
      "cy_GB\n",
      "wo_SN\n",
      "xh_ZA\n",
      "sah_RU\n",
      "ii_CN\n",
      "yo_NG\n",
      "zu_ZA\n"
     ]
    }
   ],
   "source": [
    "import locale\n",
    "import sys\n",
    "\n",
    "for x in locale.windows_locale.values():\n",
    "    if sys.platform == \"win32\":\n",
    "        print(x.replace(\"_\", \"-\"))\n",
    "    else:\n",
    "        print(x)"
   ]
  },
  {
   "cell_type": "code",
   "execution_count": 35,
   "metadata": {},
   "outputs": [
    {
     "ename": "Error",
     "evalue": "unsupported locale setting",
     "output_type": "error",
     "traceback": [
      "\u001b[0;31m---------------------------------------------------------------------------\u001b[0m",
      "\u001b[0;31mError\u001b[0m                                     Traceback (most recent call last)",
      "Cell \u001b[0;32mIn[35], line 2\u001b[0m\n\u001b[1;32m      1\u001b[0m c \u001b[38;5;241m=\u001b[39m calendar\u001b[38;5;241m.\u001b[39mLocaleTextCalendar(locale\u001b[38;5;241m=\u001b[39m\u001b[38;5;124m\"\u001b[39m\u001b[38;5;124men_US\u001b[39m\u001b[38;5;124m\"\u001b[39m)\n\u001b[0;32m----> 2\u001b[0m \u001b[43mc\u001b[49m\u001b[38;5;241;43m.\u001b[39;49m\u001b[43mprmonth\u001b[49m\u001b[43m(\u001b[49m\u001b[38;5;241;43m1947\u001b[39;49m\u001b[43m,\u001b[49m\u001b[43m \u001b[49m\u001b[38;5;241;43m8\u001b[39;49m\u001b[43m)\u001b[49m\n",
      "File \u001b[0;32m/usr/local/python/3.12.1/lib/python3.12/calendar.py:382\u001b[0m, in \u001b[0;36mTextCalendar.prmonth\u001b[0;34m(self, theyear, themonth, w, l)\u001b[0m\n\u001b[1;32m    378\u001b[0m \u001b[38;5;28;01mdef\u001b[39;00m \u001b[38;5;21mprmonth\u001b[39m(\u001b[38;5;28mself\u001b[39m, theyear, themonth, w\u001b[38;5;241m=\u001b[39m\u001b[38;5;241m0\u001b[39m, l\u001b[38;5;241m=\u001b[39m\u001b[38;5;241m0\u001b[39m):\n\u001b[1;32m    379\u001b[0m \u001b[38;5;250m    \u001b[39m\u001b[38;5;124;03m\"\"\"\u001b[39;00m\n\u001b[1;32m    380\u001b[0m \u001b[38;5;124;03m    Print a month's calendar.\u001b[39;00m\n\u001b[1;32m    381\u001b[0m \u001b[38;5;124;03m    \"\"\"\u001b[39;00m\n\u001b[0;32m--> 382\u001b[0m     \u001b[38;5;28mprint\u001b[39m(\u001b[38;5;28;43mself\u001b[39;49m\u001b[38;5;241;43m.\u001b[39;49m\u001b[43mformatmonth\u001b[49m\u001b[43m(\u001b[49m\u001b[43mtheyear\u001b[49m\u001b[43m,\u001b[49m\u001b[43m \u001b[49m\u001b[43mthemonth\u001b[49m\u001b[43m,\u001b[49m\u001b[43m \u001b[49m\u001b[43mw\u001b[49m\u001b[43m,\u001b[49m\u001b[43m \u001b[49m\u001b[43ml\u001b[49m\u001b[43m)\u001b[49m, end\u001b[38;5;241m=\u001b[39m\u001b[38;5;124m'\u001b[39m\u001b[38;5;124m'\u001b[39m)\n",
      "File \u001b[0;32m/usr/local/python/3.12.1/lib/python3.12/calendar.py:390\u001b[0m, in \u001b[0;36mTextCalendar.formatmonth\u001b[0;34m(self, theyear, themonth, w, l)\u001b[0m\n\u001b[1;32m    388\u001b[0m w \u001b[38;5;241m=\u001b[39m \u001b[38;5;28mmax\u001b[39m(\u001b[38;5;241m2\u001b[39m, w)\n\u001b[1;32m    389\u001b[0m l \u001b[38;5;241m=\u001b[39m \u001b[38;5;28mmax\u001b[39m(\u001b[38;5;241m1\u001b[39m, l)\n\u001b[0;32m--> 390\u001b[0m s \u001b[38;5;241m=\u001b[39m \u001b[38;5;28;43mself\u001b[39;49m\u001b[38;5;241;43m.\u001b[39;49m\u001b[43mformatmonthname\u001b[49m\u001b[43m(\u001b[49m\u001b[43mtheyear\u001b[49m\u001b[43m,\u001b[49m\u001b[43m \u001b[49m\u001b[43mthemonth\u001b[49m\u001b[43m,\u001b[49m\u001b[43m \u001b[49m\u001b[38;5;241;43m7\u001b[39;49m\u001b[43m \u001b[49m\u001b[38;5;241;43m*\u001b[39;49m\u001b[43m \u001b[49m\u001b[43m(\u001b[49m\u001b[43mw\u001b[49m\u001b[43m \u001b[49m\u001b[38;5;241;43m+\u001b[39;49m\u001b[43m \u001b[49m\u001b[38;5;241;43m1\u001b[39;49m\u001b[43m)\u001b[49m\u001b[43m \u001b[49m\u001b[38;5;241;43m-\u001b[39;49m\u001b[43m \u001b[49m\u001b[38;5;241;43m1\u001b[39;49m\u001b[43m)\u001b[49m\n\u001b[1;32m    391\u001b[0m s \u001b[38;5;241m=\u001b[39m s\u001b[38;5;241m.\u001b[39mrstrip()\n\u001b[1;32m    392\u001b[0m s \u001b[38;5;241m+\u001b[39m\u001b[38;5;241m=\u001b[39m \u001b[38;5;124m'\u001b[39m\u001b[38;5;130;01m\\n\u001b[39;00m\u001b[38;5;124m'\u001b[39m \u001b[38;5;241m*\u001b[39m l\n",
      "File \u001b[0;32m/usr/local/python/3.12.1/lib/python3.12/calendar.py:620\u001b[0m, in \u001b[0;36mLocaleTextCalendar.formatmonthname\u001b[0;34m(self, theyear, themonth, width, withyear)\u001b[0m\n\u001b[1;32m    619\u001b[0m \u001b[38;5;28;01mdef\u001b[39;00m \u001b[38;5;21mformatmonthname\u001b[39m(\u001b[38;5;28mself\u001b[39m, theyear, themonth, width, withyear\u001b[38;5;241m=\u001b[39m\u001b[38;5;28;01mTrue\u001b[39;00m):\n\u001b[0;32m--> 620\u001b[0m \u001b[43m    \u001b[49m\u001b[38;5;28;43;01mwith\u001b[39;49;00m\u001b[43m \u001b[49m\u001b[43mdifferent_locale\u001b[49m\u001b[43m(\u001b[49m\u001b[38;5;28;43mself\u001b[39;49m\u001b[38;5;241;43m.\u001b[39;49m\u001b[43mlocale\u001b[49m\u001b[43m)\u001b[49m\u001b[43m:\u001b[49m\n\u001b[1;32m    621\u001b[0m \u001b[43m        \u001b[49m\u001b[38;5;28;43;01mreturn\u001b[39;49;00m\u001b[43m \u001b[49m\u001b[38;5;28;43msuper\u001b[39;49m\u001b[43m(\u001b[49m\u001b[43m)\u001b[49m\u001b[38;5;241;43m.\u001b[39;49m\u001b[43mformatmonthname\u001b[49m\u001b[43m(\u001b[49m\u001b[43mtheyear\u001b[49m\u001b[43m,\u001b[49m\u001b[43m \u001b[49m\u001b[43mthemonth\u001b[49m\u001b[43m,\u001b[49m\u001b[43m \u001b[49m\u001b[43mwidth\u001b[49m\u001b[43m,\u001b[49m\u001b[43m \u001b[49m\u001b[43mwithyear\u001b[49m\u001b[43m)\u001b[49m\n",
      "File \u001b[0;32m/usr/local/python/3.12.1/lib/python3.12/calendar.py:585\u001b[0m, in \u001b[0;36mdifferent_locale.__enter__\u001b[0;34m(self)\u001b[0m\n\u001b[1;32m    583\u001b[0m \u001b[38;5;28;01mdef\u001b[39;00m \u001b[38;5;21m__enter__\u001b[39m(\u001b[38;5;28mself\u001b[39m):\n\u001b[1;32m    584\u001b[0m     \u001b[38;5;28mself\u001b[39m\u001b[38;5;241m.\u001b[39moldlocale \u001b[38;5;241m=\u001b[39m _locale\u001b[38;5;241m.\u001b[39msetlocale(_locale\u001b[38;5;241m.\u001b[39mLC_TIME, \u001b[38;5;28;01mNone\u001b[39;00m)\n\u001b[0;32m--> 585\u001b[0m     \u001b[43m_locale\u001b[49m\u001b[38;5;241;43m.\u001b[39;49m\u001b[43msetlocale\u001b[49m\u001b[43m(\u001b[49m\u001b[43m_locale\u001b[49m\u001b[38;5;241;43m.\u001b[39;49m\u001b[43mLC_TIME\u001b[49m\u001b[43m,\u001b[49m\u001b[43m \u001b[49m\u001b[38;5;28;43mself\u001b[39;49m\u001b[38;5;241;43m.\u001b[39;49m\u001b[43mlocale\u001b[49m\u001b[43m)\u001b[49m\n",
      "File \u001b[0;32m/usr/local/python/3.12.1/lib/python3.12/locale.py:615\u001b[0m, in \u001b[0;36msetlocale\u001b[0;34m(category, locale)\u001b[0m\n\u001b[1;32m    612\u001b[0m \u001b[38;5;28;01mif\u001b[39;00m locale \u001b[38;5;129;01mand\u001b[39;00m \u001b[38;5;129;01mnot\u001b[39;00m \u001b[38;5;28misinstance\u001b[39m(locale, _builtin_str):\n\u001b[1;32m    613\u001b[0m     \u001b[38;5;66;03m# convert to string\u001b[39;00m\n\u001b[1;32m    614\u001b[0m     locale \u001b[38;5;241m=\u001b[39m normalize(_build_localename(locale))\n\u001b[0;32m--> 615\u001b[0m \u001b[38;5;28;01mreturn\u001b[39;00m \u001b[43m_setlocale\u001b[49m\u001b[43m(\u001b[49m\u001b[43mcategory\u001b[49m\u001b[43m,\u001b[49m\u001b[43m \u001b[49m\u001b[43mlocale\u001b[49m\u001b[43m)\u001b[49m\n",
      "\u001b[0;31mError\u001b[0m: unsupported locale setting"
     ]
    }
   ],
   "source": [
    "c = calendar.LocaleTextCalendar(locale=\"en_US\")\n",
    "c.prmonth(1947, 8)"
   ]
  },
  {
   "cell_type": "code",
   "execution_count": null,
   "metadata": {},
   "outputs": [],
   "source": [
    "c = calendar.LocaleTextCalendar(locale=\"ug-CN\")\n",
    "c.prmonth(1947, 8)"
   ]
  },
  {
   "cell_type": "code",
   "execution_count": null,
   "metadata": {},
   "outputs": [],
   "source": [
    "c = calendar.LocaleTextCalendar(locale=\"vi-VN\")\n",
    "c.prmonth(1947, 8)"
   ]
  },
  {
   "cell_type": "code",
   "execution_count": null,
   "metadata": {},
   "outputs": [],
   "source": [
    "c = calendar.LocaleTextCalendar(locale=\"sah-RU\")\n",
    "c.prmonth(1947, 8)"
   ]
  },
  {
   "cell_type": "code",
   "execution_count": 36,
   "metadata": {},
   "outputs": [
    {
     "data": {
      "text/plain": [
       "calendar.FRIDAY"
      ]
     },
     "execution_count": 36,
     "metadata": {},
     "output_type": "execute_result"
    }
   ],
   "source": [
    "calendar.weekday(1947, 8, 15)\n",
    "# Return weekday (0-6 ~ Mon-Sun) for year, month (1-12), day (1-31)."
   ]
  },
  {
   "cell_type": "code",
   "execution_count": 37,
   "metadata": {},
   "outputs": [
    {
     "data": {
      "text/plain": [
       "False"
      ]
     },
     "execution_count": 37,
     "metadata": {},
     "output_type": "execute_result"
    }
   ],
   "source": [
    "calendar.isleap(2019)"
   ]
  },
  {
   "cell_type": "code",
   "execution_count": null,
   "metadata": {},
   "outputs": [],
   "source": [
    "calendar.isleap(2020)"
   ]
  },
  {
   "cell_type": "code",
   "execution_count": 38,
   "metadata": {},
   "outputs": [
    {
     "data": {
      "text/plain": [
       "8"
      ]
     },
     "execution_count": 38,
     "metadata": {},
     "output_type": "execute_result"
    }
   ],
   "source": [
    "calendar.leapdays(2000, 2030)"
   ]
  },
  {
   "cell_type": "code",
   "execution_count": 39,
   "metadata": {},
   "outputs": [
    {
     "data": {
      "text/plain": [
       "[2000, 2004, 2008, 2012, 2016, 2020, 2024, 2028]"
      ]
     },
     "execution_count": 39,
     "metadata": {},
     "output_type": "execute_result"
    }
   ],
   "source": [
    "[yr for yr in range(2000, 2031) if calendar.isleap(yr)]"
   ]
  },
  {
   "cell_type": "markdown",
   "metadata": {},
   "source": [
    "iterweekdays \n",
    "    - returns an iterator that contains a list of indexes for the days in a week."
   ]
  },
  {
   "cell_type": "code",
   "execution_count": 40,
   "metadata": {},
   "outputs": [
    {
     "name": "stdout",
     "output_type": "stream",
     "text": [
      "0 1 2 3 4 5 6 "
     ]
    }
   ],
   "source": [
    "c = calendar.Calendar()\n",
    "for i in c.iterweekdays():\n",
    "    print(i, end=\" \")"
   ]
  },
  {
   "cell_type": "markdown",
   "metadata": {},
   "source": [
    "itermonthdates()\n",
    "    - returns an iterator of all days of the given month. \n",
    "    - Also, all days before the start of the month and after the end of the month, \n",
    "      required to get the complete week, are displayed."
   ]
  },
  {
   "cell_type": "code",
   "execution_count": 41,
   "metadata": {},
   "outputs": [
    {
     "name": "stdout",
     "output_type": "stream",
     "text": [
      "2019-12-30\t2019-12-31\t2020-01-01\t2020-01-02\t2020-01-03\t2020-01-04\t2020-01-05\t2020-01-06\t2020-01-07\t2020-01-08\t2020-01-09\t2020-01-10\t2020-01-11\t2020-01-12\t2020-01-13\t2020-01-14\t2020-01-15\t2020-01-16\t2020-01-17\t2020-01-18\t2020-01-19\t2020-01-20\t2020-01-21\t2020-01-22\t2020-01-23\t2020-01-24\t2020-01-25\t2020-01-26\t2020-01-27\t2020-01-28\t2020-01-29\t2020-01-30\t2020-01-31\t2020-02-01\t2020-02-02\t"
     ]
    }
   ],
   "source": [
    "c = calendar.Calendar()\n",
    "for i in c.itermonthdates(2020, 1):\n",
    "    print(i, end=\"\\t\")"
   ]
  },
  {
   "cell_type": "markdown",
   "metadata": {},
   "source": [
    "itermonthdays()\n",
    "    - similar to itermonthdates method, but it only returns the day numbers."
   ]
  },
  {
   "cell_type": "code",
   "execution_count": null,
   "metadata": {},
   "outputs": [],
   "source": [
    "c = calendar.Calendar()\n",
    "for i in c.itermonthdays(2020, 1):\n",
    "    print(i, end=\" \")"
   ]
  },
  {
   "cell_type": "markdown",
   "metadata": {},
   "source": [
    "itermonthdays2()\n",
    "    - displays a tuple consisting of day and weekday numbers."
   ]
  },
  {
   "cell_type": "code",
   "execution_count": null,
   "metadata": {},
   "outputs": [],
   "source": [
    "c = calendar.Calendar()\n",
    "for i in c.itermonthdays2(2020, 1):\n",
    "    print(i, end=\"\\t\")"
   ]
  },
  {
   "cell_type": "markdown",
   "metadata": {},
   "source": [
    "itermonthdays3()\n",
    "    - similar to the itermonthdays3() method, except that it returns a tuple of year, month, and the day of the month."
   ]
  },
  {
   "cell_type": "code",
   "execution_count": null,
   "metadata": {},
   "outputs": [],
   "source": [
    "c = calendar.Calendar()\n",
    "for i in c.itermonthdays3(2020, 1):\n",
    "    print(i, end=\"\\t\")"
   ]
  },
  {
   "cell_type": "markdown",
   "metadata": {},
   "source": [
    "monthdatescalendar()\n",
    "    - returns a list of full weeks in the month\n",
    "    - Each week is a list of 7 datetime.date objects."
   ]
  },
  {
   "cell_type": "code",
   "execution_count": null,
   "metadata": {},
   "outputs": [],
   "source": [
    "c = calendar.Calendar()\n",
    "for i in c.monthdatescalendar(2020, 1):\n",
    "    print(i)"
   ]
  },
  {
   "cell_type": "markdown",
   "metadata": {},
   "source": [
    "monthdays2calendar()\n",
    "    - returns a list of weeks, with each week as 7 tuples of the day of month and day of the week.\n",
    "    - the first value of the tuple is the day of the month (0-31) and second value of the tuple is the week number (0-6)"
   ]
  },
  {
   "cell_type": "code",
   "execution_count": null,
   "metadata": {},
   "outputs": [],
   "source": [
    "c = calendar.Calendar()\n",
    "for i in c.monthdays2calendar(2020, 1):\n",
    "    print(i)"
   ]
  },
  {
   "cell_type": "markdown",
   "metadata": {},
   "source": [
    "monthdayscalendar()\n",
    "    - returns a list of full weeks, with each week being a list of days of a month."
   ]
  },
  {
   "cell_type": "code",
   "execution_count": null,
   "metadata": {},
   "outputs": [],
   "source": [
    "c = calendar.Calendar()\n",
    "for i in c.monthdayscalendar(2020, 1):\n",
    "    print(i)"
   ]
  },
  {
   "cell_type": "markdown",
   "metadata": {},
   "source": [
    "yeardatescalendar()\n",
    "    - This function takes the year (yyyy) and the number of months in a month row (w). \n",
    "    - By default, w parameter is 3. \n",
    "    - The function returns a list of month rows, where days are datetime.date objects."
   ]
  },
  {
   "cell_type": "code",
   "execution_count": null,
   "metadata": {},
   "outputs": [],
   "source": [
    "c = calendar.Calendar()\n",
    "for i in c.yeardatescalendar(2020, 1):\n",
    "    for month in i:\n",
    "        for week in month:\n",
    "            for day in week:\n",
    "                print(day, end=\"\\t\")\n",
    "    print(\"\\n\\n\")"
   ]
  },
  {
   "cell_type": "markdown",
   "metadata": {},
   "source": [
    "yeardays2calendar()\n",
    "    - This function takes the year (yyyy) and number of months we want in a month row (w). \n",
    "    - By default, the w parameter is 3. The function returns a list of weeks, as tuples of \n",
    "      days of the month and the day of the week.\n",
    "\n"
   ]
  },
  {
   "cell_type": "code",
   "execution_count": null,
   "metadata": {},
   "outputs": [],
   "source": [
    "c = calendar.Calendar()\n",
    "for i in c.yeardays2calendar(2020, 1):\n",
    "    for month in i:\n",
    "        for week in month:\n",
    "            for day in week:\n",
    "                print(day, end=\"\\t\")\n",
    "    print(\"\\n\\n\")"
   ]
  },
  {
   "cell_type": "markdown",
   "metadata": {},
   "source": [
    "yeardayscalendar()\n",
    "    - This function takes the year (yyyy) and the number of months we want in a month row (w). \n",
    "    - By default, w parameter is 3. The function returns a list of weeks as the day of the month."
   ]
  },
  {
   "cell_type": "code",
   "execution_count": null,
   "metadata": {},
   "outputs": [],
   "source": [
    "c = calendar.Calendar()\n",
    "for i in c.yeardayscalendar(2020, 1):\n",
    "    for month in i:\n",
    "        for week in month:\n",
    "            for day in week:\n",
    "                print(day, end=\"\\t\")\n",
    "    print(\"\\n\\n\")"
   ]
  },
  {
   "cell_type": "markdown",
   "metadata": {},
   "source": [
    "## HTMLCalendar \n",
    "    - similar to TextCalendar class, but, generates an HTML calendar."
   ]
  },
  {
   "cell_type": "code",
   "execution_count": 42,
   "metadata": {},
   "outputs": [],
   "source": [
    "hc = calendar.HTMLCalendar()"
   ]
  },
  {
   "cell_type": "code",
   "execution_count": 43,
   "metadata": {},
   "outputs": [
    {
     "name": "stdout",
     "output_type": "stream",
     "text": [
      "<table border=\"0\" cellpadding=\"0\" cellspacing=\"0\" class=\"month\">\n",
      "<tr><th colspan=\"7\" class=\"month\">August 2020</th></tr>\n",
      "<tr><th class=\"mon\">Mon</th><th class=\"tue\">Tue</th><th class=\"wed\">Wed</th><th class=\"thu\">Thu</th><th class=\"fri\">Fri</th><th class=\"sat\">Sat</th><th class=\"sun\">Sun</th></tr>\n",
      "<tr><td class=\"noday\">&nbsp;</td><td class=\"noday\">&nbsp;</td><td class=\"noday\">&nbsp;</td><td class=\"noday\">&nbsp;</td><td class=\"noday\">&nbsp;</td><td class=\"sat\">1</td><td class=\"sun\">2</td></tr>\n",
      "<tr><td class=\"mon\">3</td><td class=\"tue\">4</td><td class=\"wed\">5</td><td class=\"thu\">6</td><td class=\"fri\">7</td><td class=\"sat\">8</td><td class=\"sun\">9</td></tr>\n",
      "<tr><td class=\"mon\">10</td><td class=\"tue\">11</td><td class=\"wed\">12</td><td class=\"thu\">13</td><td class=\"fri\">14</td><td class=\"sat\">15</td><td class=\"sun\">16</td></tr>\n",
      "<tr><td class=\"mon\">17</td><td class=\"tue\">18</td><td class=\"wed\">19</td><td class=\"thu\">20</td><td class=\"fri\">21</td><td class=\"sat\">22</td><td class=\"sun\">23</td></tr>\n",
      "<tr><td class=\"mon\">24</td><td class=\"tue\">25</td><td class=\"wed\">26</td><td class=\"thu\">27</td><td class=\"fri\">28</td><td class=\"sat\">29</td><td class=\"sun\">30</td></tr>\n",
      "<tr><td class=\"mon\">31</td><td class=\"noday\">&nbsp;</td><td class=\"noday\">&nbsp;</td><td class=\"noday\">&nbsp;</td><td class=\"noday\">&nbsp;</td><td class=\"noday\">&nbsp;</td><td class=\"noday\">&nbsp;</td></tr>\n",
      "</table>\n",
      "\n"
     ]
    }
   ],
   "source": [
    "print(hc.formatmonth(2020, 8))"
   ]
  },
  {
   "cell_type": "code",
   "execution_count": null,
   "metadata": {},
   "outputs": [],
   "source": [
    "print(hc.formatyear(2020, 8))"
   ]
  },
  {
   "cell_type": "code",
   "execution_count": null,
   "metadata": {},
   "outputs": [],
   "source": [
    "print(hc.formatyearpage(2020, 8, css=None, encoding=None))"
   ]
  },
  {
   "cell_type": "markdown",
   "metadata": {},
   "source": [
    "### LocaleHTMLCalendar "
   ]
  },
  {
   "cell_type": "code",
   "execution_count": null,
   "metadata": {},
   "outputs": [],
   "source": [
    "cal = calendar.LocaleHTMLCalendar(locale=\"en-US\")\n",
    "print(cal.formatmonth(2020, 8))"
   ]
  },
  {
   "cell_type": "code",
   "execution_count": null,
   "metadata": {
    "tags": [
     "outputPrepend"
    ]
   },
   "outputs": [],
   "source": [
    "help(calendar)"
   ]
  }
 ],
 "metadata": {
  "kernelspec": {
   "display_name": "Python 3",
   "language": "python",
   "name": "python3"
  },
  "language_info": {
   "codemirror_mode": {
    "name": "ipython",
    "version": 3
   },
   "file_extension": ".py",
   "mimetype": "text/x-python",
   "name": "python",
   "nbconvert_exporter": "python",
   "pygments_lexer": "ipython3",
   "version": "3.12.1"
  }
 },
 "nbformat": 4,
 "nbformat_minor": 2
}
