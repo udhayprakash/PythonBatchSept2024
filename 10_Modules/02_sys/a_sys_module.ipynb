{
 "cells": [
  {
   "cell_type": "code",
   "execution_count": 2,
   "metadata": {},
   "outputs": [],
   "source": [
    "import sys"
   ]
  },
  {
   "cell_type": "code",
   "execution_count": 3,
   "metadata": {},
   "outputs": [
    {
     "name": "stdout",
     "output_type": "stream",
     "text": [
      "['__breakpointhook__', '__displayhook__', '__doc__', '__excepthook__', '__interactivehook__', '__loader__', '__name__', '__package__', '__spec__', '__stderr__', '__stdin__', '__stdout__', '__unraisablehook__', '_base_executable', '_clear_type_cache', '_current_exceptions', '_current_frames', '_debugmallocstats', '_framework', '_getframe', '_getframemodulename', '_git', '_home', '_setprofileallthreads', '_settraceallthreads', '_stdlib_dir', '_xoptions', 'abiflags', 'activate_stack_trampoline', 'addaudithook', 'api_version', 'argv', 'audit', 'base_exec_prefix', 'base_prefix', 'breakpointhook', 'builtin_module_names', 'byteorder', 'call_tracing', 'copyright', 'deactivate_stack_trampoline', 'displayhook', 'dont_write_bytecode', 'exc_info', 'excepthook', 'exception', 'exec_prefix', 'executable', 'exit', 'flags', 'float_info', 'float_repr_style', 'get_asyncgen_hooks', 'get_coroutine_origin_tracking_depth', 'get_int_max_str_digits', 'getallocatedblocks', 'getdefaultencoding', 'getdlopenflags', 'getfilesystemencodeerrors', 'getfilesystemencoding', 'getprofile', 'getrecursionlimit', 'getrefcount', 'getsizeof', 'getswitchinterval', 'gettrace', 'getunicodeinternedsize', 'hash_info', 'hexversion', 'implementation', 'int_info', 'intern', 'is_finalizing', 'is_stack_trampoline_active', 'last_traceback', 'last_type', 'last_value', 'maxsize', 'maxunicode', 'meta_path', 'modules', 'monitoring', 'orig_argv', 'path', 'path_hooks', 'path_importer_cache', 'platform', 'platlibdir', 'prefix', 'ps1', 'ps2', 'ps3', 'pycache_prefix', 'set_asyncgen_hooks', 'set_coroutine_origin_tracking_depth', 'set_int_max_str_digits', 'setdlopenflags', 'setprofile', 'setrecursionlimit', 'setswitchinterval', 'settrace', 'stderr', 'stdin', 'stdlib_module_names', 'stdout', 'thread_info', 'unraisablehook', 'version', 'version_info', 'warnoptions']\n"
     ]
    }
   ],
   "source": [
    "print(dir(sys))"
   ]
  },
  {
   "cell_type": "code",
   "execution_count": 4,
   "metadata": {},
   "outputs": [
    {
     "name": "stdout",
     "output_type": "stream",
     "text": [
      "sys.base_exec_prefix = /home/codespace/.python/current\n",
      "sys.base_prefix      = /home/codespace/.python/current\n",
      "sys.prefix           = /home/codespace/.python/current\n",
      "sys.exec_prefix      = /home/codespace/.python/current\n"
     ]
    }
   ],
   "source": [
    "print(\"sys.base_exec_prefix =\", sys.base_exec_prefix)\n",
    "print(\"sys.base_prefix      =\", sys.base_prefix)\n",
    "print(\"sys.prefix           =\", sys.prefix)\n",
    "print(\"sys.exec_prefix      =\", sys.exec_prefix)"
   ]
  },
  {
   "cell_type": "code",
   "execution_count": 5,
   "metadata": {},
   "outputs": [
    {
     "name": "stdout",
     "output_type": "stream",
     "text": [
      "sys.byteorder        = little\n"
     ]
    }
   ],
   "source": [
    "# big    - big-endian    (most significant byte first) platforms\n",
    "# little - little-endian (least significant byte first) platforms\n",
    "\n",
    "#    - 128 64 32 16 8 4 2 1\n",
    "# 18 -   0  0 0   1 0 0 1 0\n",
    "print(\"sys.byteorder        =\", sys.byteorder)"
   ]
  },
  {
   "cell_type": "code",
   "execution_count": 6,
   "metadata": {},
   "outputs": [
    {
     "data": {
      "text/plain": [
       "'0b111'"
      ]
     },
     "execution_count": 6,
     "metadata": {},
     "output_type": "execute_result"
    }
   ],
   "source": [
    "bin(7)  # 0000 0111 - little-endian byte order"
   ]
  },
  {
   "cell_type": "code",
   "execution_count": 7,
   "metadata": {},
   "outputs": [
    {
     "name": "stdout",
     "output_type": "stream",
     "text": [
      "sys.copyright        = Copyright (c) 2001-2023 Python Software Foundation.\n",
      "All Rights Reserved.\n",
      "\n",
      "Copyright (c) 2000 BeOpen.com.\n",
      "All Rights Reserved.\n",
      "\n",
      "Copyright (c) 1995-2001 Corporation for National Research Initiatives.\n",
      "All Rights Reserved.\n",
      "\n",
      "Copyright (c) 1991-1995 Stichting Mathematisch Centrum, Amsterdam.\n",
      "All Rights Reserved.\n"
     ]
    }
   ],
   "source": [
    "print(\"sys.copyright        =\", sys.copyright)"
   ]
  },
  {
   "cell_type": "code",
   "execution_count": 8,
   "metadata": {},
   "outputs": [
    {
     "name": "stdout",
     "output_type": "stream",
     "text": [
      "sys._debugmallocstats() = None\n"
     ]
    },
    {
     "name": "stderr",
     "output_type": "stream",
     "text": [
      "Small block threshold = 512, in 32 size classes.\n",
      "\n",
      "class   size   num pools   blocks in use  avail blocks\n",
      "-----   ----   ---------   -------------  ------------\n",
      "    0     16           4            3578           506\n",
      "    1     32          62           31117           503\n",
      "    2     48         209           64934          6126\n",
      "    3     64         560          142110           690\n",
      "    4     80         223           45362           130\n",
      "    5     96          92           15602            38\n",
      "    6    112          59            8470            85\n",
      "    7    128          99           12329           244\n",
      "    8    144          36            3959           109\n",
      "    9    160         213           21681            45\n",
      "   10    176          20            1821            19\n",
      "   11    192          18            1479            51\n",
      "   12    208         160           12441            39\n",
      "   13    224          53            3808             8\n",
      "   14    240          37            2463            53\n",
      "   15    256          47            2902            59\n",
      "   16    272          54            3216            24\n",
      "   17    288          32            1753            39\n",
      "   18    304          25            1284            41\n",
      "   19    320          25            1193            82\n",
      "   20    336          24            1056            96\n",
      "   21    352          20             893            27\n",
      "   22    368          20             857            23\n",
      "   23    384          18             733            23\n",
      "   24    400          56            2201            39\n",
      "   25    416          16             592            32\n",
      "   26    432          14             499            19\n",
      "   27    448          13             448            20\n",
      "   28    464          14             473            17\n",
      "   29    480          13             412            30\n",
      "   30    496          13             382            34\n",
      "   31    512          16             480            16\n",
      "\n",
      "# arenas allocated total           =                   36\n",
      "# arenas reclaimed                 =                    0\n",
      "# arenas highwater mark            =                   36\n",
      "# arenas allocated current         =                   36\n",
      "36 arenas * 1048576 bytes/arena    =           37,748,736\n",
      "\n",
      "# bytes in allocated blocks        =           36,149,760\n",
      "# bytes in available blocks        =              699,904\n",
      "18 unused pools * 16384 bytes      =              294,912\n",
      "# bytes lost to pool headers       =              108,720\n",
      "# bytes lost to quantization       =              151,376\n",
      "# bytes lost to arena alignment    =              344,064\n",
      "Total                              =           37,748,736\n",
      "\n",
      "arena map counts\n",
      "# arena map mid nodes              =                    1\n",
      "# arena map bot nodes              =                    1\n",
      "\n",
      "# bytes lost to arena map root     =              262,144\n",
      "# bytes lost to arena map mid      =              262,144\n",
      "# bytes lost to arena map bot      =              131,072\n",
      "Total                              =              655,360\n",
      "\n",
      "           19 free PyDictObjects * 48 bytes each =                  912\n",
      "           4 free PyFloatObjects * 24 bytes each =                   96\n",
      "           53 free PyListObjects * 40 bytes each =                2,120\n",
      "  19 free 1-sized PyTupleObjects * 32 bytes each =                  608\n",
      "1996 free 2-sized PyTupleObjects * 40 bytes each =               79,840\n",
      "  74 free 3-sized PyTupleObjects * 48 bytes each =                3,552\n",
      " 132 free 4-sized PyTupleObjects * 56 bytes each =                7,392\n",
      "  81 free 5-sized PyTupleObjects * 64 bytes each =                5,184\n",
      "  63 free 6-sized PyTupleObjects * 72 bytes each =                4,536\n",
      "  25 free 7-sized PyTupleObjects * 80 bytes each =                2,000\n",
      "  37 free 8-sized PyTupleObjects * 88 bytes each =                3,256\n",
      "  10 free 9-sized PyTupleObjects * 96 bytes each =                  960\n",
      " 0 free 10-sized PyTupleObjects * 104 bytes each =                    0\n",
      " 8 free 11-sized PyTupleObjects * 112 bytes each =                  896\n",
      "25 free 12-sized PyTupleObjects * 120 bytes each =                3,000\n",
      "21 free 13-sized PyTupleObjects * 128 bytes each =                2,688\n",
      " 8 free 14-sized PyTupleObjects * 136 bytes each =                1,088\n",
      "17 free 15-sized PyTupleObjects * 144 bytes each =                2,448\n",
      "12 free 16-sized PyTupleObjects * 152 bytes each =                1,824\n",
      " 9 free 17-sized PyTupleObjects * 160 bytes each =                1,440\n",
      "16 free 18-sized PyTupleObjects * 168 bytes each =                2,688\n",
      "66 free 19-sized PyTupleObjects * 176 bytes each =               11,616\n",
      "33 free 20-sized PyTupleObjects * 184 bytes each =                6,072\n"
     ]
    }
   ],
   "source": [
    "print(\"sys._debugmallocstats() =\", sys._debugmallocstats())"
   ]
  },
  {
   "cell_type": "code",
   "execution_count": 9,
   "metadata": {},
   "outputs": [
    {
     "name": "stdout",
     "output_type": "stream",
     "text": [
      "sys.dont_write_bytecode   = False\n"
     ]
    }
   ],
   "source": [
    "print(\"sys.dont_write_bytecode   =\", sys.dont_write_bytecode)\n",
    "# make this value to True , to stop creation of .pyc files on python file imports"
   ]
  },
  {
   "cell_type": "code",
   "execution_count": 10,
   "metadata": {},
   "outputs": [
    {
     "name": "stdout",
     "output_type": "stream",
     "text": [
      "sys.getdefaultencoding()       = utf-8\n",
      "sys.getfilesystemencoding()    = utf-8\n",
      "sys.getfilesystemencodeerrors()= surrogateescape\n"
     ]
    }
   ],
   "source": [
    "print(\"sys.getdefaultencoding()       =\", sys.getdefaultencoding())\n",
    "print(\"sys.getfilesystemencoding()    =\", sys.getfilesystemencoding())\n",
    "print(\"sys.getfilesystemencodeerrors()=\", sys.getfilesystemencodeerrors())"
   ]
  },
  {
   "cell_type": "code",
   "execution_count": 11,
   "metadata": {},
   "outputs": [
    {
     "name": "stdout",
     "output_type": "stream",
     "text": [
      "sys.getswitchinterval()    = 0.005\n"
     ]
    }
   ],
   "source": [
    "print(\"sys.getswitchinterval()    =\", sys.getswitchinterval())"
   ]
  },
  {
   "cell_type": "markdown",
   "metadata": {},
   "source": [
    "Reference count"
   ]
  },
  {
   "cell_type": "code",
   "execution_count": 12,
   "metadata": {},
   "outputs": [
    {
     "name": "stdout",
     "output_type": "stream",
     "text": [
      "sys.getrefcount(1234) = 3\n",
      "sys.getrefcount(1234) = 3\n"
     ]
    }
   ],
   "source": [
    "num1 = 1234\n",
    "print(\"sys.getrefcount(1234) =\", sys.getrefcount(1234))\n",
    "del num1\n",
    "print(\"sys.getrefcount(1234) =\", sys.getrefcount(1234))"
   ]
  },
  {
   "cell_type": "code",
   "execution_count": 13,
   "metadata": {},
   "outputs": [
    {
     "name": "stdout",
     "output_type": "stream",
     "text": [
      "\n",
      "0 4294967295\t1 4294967295\t2 4294967295\t3 4294967295\t4 4294967295\t5 4294967295\t6 4294967295\t\n",
      "7 4294967295\t8 4294967295\t9 4294967295\t10 4294967295\t11 4294967295\t12 4294967295\t13 4294967295\t\n",
      "14 4294967295\t15 4294967295\t16 4294967295\t17 4294967295\t18 4294967295\t19 4294967295\t20 4294967295\t\n",
      "21 4294967295\t22 4294967295\t23 4294967295\t24 4294967295\t25 4294967295\t26 4294967295\t27 4294967295\t\n",
      "28 4294967295\t29 4294967295\t30 4294967295\t31 4294967295\t32 4294967295\t33 4294967295\t34 4294967295\t\n",
      "35 4294967295\t36 4294967295\t37 4294967295\t38 4294967295\t39 4294967295\t40 4294967295\t41 4294967295\t\n",
      "42 4294967295\t43 4294967295\t44 4294967295\t45 4294967295\t46 4294967295\t47 4294967295\t48 4294967295\t\n",
      "49 4294967295\t50 4294967295\t51 4294967295\t52 4294967295\t53 4294967295\t54 4294967295\t55 4294967295\t\n",
      "56 4294967295\t57 4294967295\t58 4294967295\t59 4294967295\t60 4294967295\t61 4294967295\t62 4294967295\t\n",
      "63 4294967295\t64 4294967295\t65 4294967295\t66 4294967295\t67 4294967295\t68 4294967295\t69 4294967295\t\n",
      "70 4294967295\t71 4294967295\t72 4294967295\t73 4294967295\t74 4294967295\t75 4294967295\t76 4294967295\t\n",
      "77 4294967295\t78 4294967295\t79 4294967295\t80 4294967295\t81 4294967295\t82 4294967295\t83 4294967295\t\n",
      "84 4294967295\t85 4294967295\t86 4294967295\t87 4294967295\t88 4294967295\t89 4294967295\t90 4294967295\t\n",
      "91 4294967295\t92 4294967295\t93 4294967295\t94 4294967295\t95 4294967295\t96 4294967295\t97 4294967295\t\n",
      "98 4294967295\t99 4294967295\t100 4294967295\t101 4294967295\t102 4294967295\t103 4294967295\t104 4294967295\t\n",
      "105 4294967295\t106 4294967295\t107 4294967295\t108 4294967295\t109 4294967295\t110 4294967295\t111 4294967295\t\n",
      "112 4294967295\t113 4294967295\t114 4294967295\t115 4294967295\t116 4294967295\t117 4294967295\t118 4294967295\t\n",
      "119 4294967295\t120 4294967295\t121 4294967295\t122 4294967295\t123 4294967295\t124 4294967295\t125 4294967295\t\n",
      "126 4294967295\t127 4294967295\t128 4294967295\t129 4294967295\t130 4294967295\t131 4294967295\t132 4294967295\t\n",
      "133 4294967295\t134 4294967295\t135 4294967295\t136 4294967295\t137 4294967295\t138 4294967295\t139 4294967295\t\n",
      "140 4294967295\t141 4294967295\t142 4294967295\t143 4294967295\t144 4294967295\t145 4294967295\t146 4294967295\t\n",
      "147 4294967295\t148 4294967295\t149 4294967295\t150 4294967295\t151 4294967295\t152 4294967295\t153 4294967295\t\n",
      "154 4294967295\t155 4294967295\t156 4294967295\t157 4294967295\t158 4294967295\t159 4294967295\t160 4294967295\t\n",
      "161 4294967295\t162 4294967295\t163 4294967295\t164 4294967295\t165 4294967295\t166 4294967295\t167 4294967295\t\n",
      "168 4294967295\t169 4294967295\t170 4294967295\t171 4294967295\t172 4294967295\t173 4294967295\t174 4294967295\t\n",
      "175 4294967295\t176 4294967295\t177 4294967295\t178 4294967295\t179 4294967295\t180 4294967295\t181 4294967295\t\n",
      "182 4294967295\t183 4294967295\t184 4294967295\t185 4294967295\t186 4294967295\t187 4294967295\t188 4294967295\t\n",
      "189 4294967295\t190 4294967295\t191 4294967295\t192 4294967295\t193 4294967295\t194 4294967295\t195 4294967295\t\n",
      "196 4294967295\t197 4294967295\t198 4294967295\t199 4294967295\t200 4294967295\t201 4294967295\t202 4294967295\t\n",
      "203 4294967295\t204 4294967295\t205 4294967295\t206 4294967295\t207 4294967295\t208 4294967295\t209 4294967295\t\n",
      "210 4294967295\t211 4294967295\t212 4294967295\t213 4294967295\t214 4294967295\t215 4294967295\t216 4294967295\t\n",
      "217 4294967295\t218 4294967295\t219 4294967295\t220 4294967295\t221 4294967295\t222 4294967295\t223 4294967295\t\n",
      "224 4294967295\t225 4294967295\t226 4294967295\t227 4294967295\t228 4294967295\t229 4294967295\t230 4294967295\t\n",
      "231 4294967295\t232 4294967295\t233 4294967295\t234 4294967295\t235 4294967295\t236 4294967295\t237 4294967295\t\n",
      "238 4294967295\t239 4294967295\t240 4294967295\t241 4294967295\t242 4294967295\t243 4294967295\t244 4294967295\t\n",
      "245 4294967295\t246 4294967295\t247 4294967295\t248 4294967295\t249 4294967295\t250 4294967295\t251 4294967295\t\n",
      "252 4294967295\t253 4294967295\t254 4294967295\t255 4294967295\t256 4294967295\t257 3\t258 3\t\n",
      "259 3\t260 3\t261 3\t262 3\t263 3\t264 3\t265 3\t\n",
      "266 3\t267 3\t268 3\t269 3\t270 3\t271 3\t272 3\t\n",
      "273 3\t274 3\t275 3\t276 3\t277 3\t278 3\t279 3\t\n",
      "280 3\t281 3\t282 3\t283 3\t284 3\t285 3\t286 3\t\n",
      "287 3\t288 3\t289 3\t290 3\t291 3\t292 3\t293 3\t\n",
      "294 3\t295 3\t296 3\t297 3\t298 3\t299 3\t300 3\t\n",
      "301 3\t302 3\t303 3\t304 3\t305 3\t306 3\t307 3\t\n",
      "308 3\t309 3\t310 3\t311 3\t312 3\t313 3\t314 3\t\n",
      "315 3\t316 3\t317 3\t318 3\t319 3\t320 3\t321 3\t\n",
      "322 3\t323 3\t324 3\t325 3\t326 3\t327 3\t328 3\t\n",
      "329 3\t330 3\t331 3\t332 3\t333 3\t334 3\t335 3\t\n",
      "336 3\t337 3\t338 3\t339 3\t340 3\t341 3\t342 3\t\n",
      "343 3\t344 3\t345 3\t346 3\t347 3\t348 3\t349 3\t\n",
      "350 3\t351 3\t352 3\t353 3\t354 3\t355 3\t356 3\t\n",
      "357 3\t358 3\t359 3\t360 3\t361 3\t362 3\t363 3\t\n",
      "364 3\t365 3\t366 3\t367 3\t368 3\t369 3\t370 3\t\n",
      "371 3\t372 3\t373 3\t374 3\t375 3\t376 3\t377 3\t\n",
      "378 3\t379 3\t380 3\t381 3\t382 3\t383 3\t384 3\t\n",
      "385 3\t386 3\t387 3\t388 3\t389 3\t390 3\t391 3\t\n",
      "392 3\t393 3\t394 3\t395 3\t396 3\t397 3\t398 3\t\n",
      "399 3\t400 3\t401 3\t402 3\t403 3\t404 3\t405 3\t\n",
      "406 3\t407 3\t408 3\t409 3\t410 3\t411 3\t412 3\t\n",
      "413 3\t414 3\t415 3\t416 3\t417 3\t418 3\t419 3\t\n",
      "420 3\t421 3\t422 3\t423 3\t424 3\t425 3\t426 3\t\n",
      "427 3\t428 3\t429 3\t430 3\t431 3\t432 3\t433 3\t\n",
      "434 3\t435 3\t436 3\t437 3\t438 3\t439 3\t440 3\t\n",
      "441 3\t442 3\t443 3\t444 3\t445 3\t446 3\t447 3\t\n",
      "448 3\t449 3\t450 3\t451 3\t452 3\t453 3\t454 3\t\n",
      "455 3\t456 3\t457 3\t458 3\t459 3\t460 3\t461 3\t\n",
      "462 3\t463 3\t464 3\t465 3\t466 3\t467 3\t468 3\t\n",
      "469 3\t470 3\t471 3\t472 3\t473 3\t474 3\t475 3\t\n",
      "476 3\t477 3\t478 3\t479 3\t480 3\t481 3\t482 3\t\n",
      "483 3\t484 3\t485 3\t486 3\t487 3\t488 3\t489 3\t\n",
      "490 3\t491 3\t492 3\t493 3\t494 3\t495 3\t496 3\t\n",
      "497 3\t498 3\t499 3\t"
     ]
    }
   ],
   "source": [
    "for i in range(500):\n",
    "    if i % 7 == 0:\n",
    "        print()\n",
    "    print(i, sys.getrefcount(i), end=\"\\t\")"
   ]
  },
  {
   "cell_type": "code",
   "execution_count": 14,
   "metadata": {},
   "outputs": [
    {
     "name": "stdout",
     "output_type": "stream",
     "text": [
      "RandomJunkBlahBlah 4294967295\n",
      "python 4294967295\n",
      "version 4294967295\n",
      "error 4294967295\n",
      "Guido 4294967295\n"
     ]
    }
   ],
   "source": [
    "for w in [\"RandomJunkBlahBlah\", \"python\", \"version\", \"error\", \"Guido\"]:\n",
    "    print(w, sys.getrefcount(w))"
   ]
  },
  {
   "cell_type": "code",
   "execution_count": 15,
   "metadata": {},
   "outputs": [
    {
     "name": "stdout",
     "output_type": "stream",
     "text": [
      "sys.getsizeof(num1)= 36\n"
     ]
    }
   ],
   "source": [
    "num1 = 888888888888888888888\n",
    "print(\"sys.getsizeof(num1)=\", sys.getsizeof(num1))\n",
    "# Only the memory consumption directly attributed to the object\n",
    "# is accounted for, not the memory consumption of objects it refers to."
   ]
  },
  {
   "cell_type": "code",
   "execution_count": 16,
   "metadata": {},
   "outputs": [],
   "source": [
    "# print(\"sys.getwindowsversion()=\", sys.getwindowsversion())"
   ]
  },
  {
   "cell_type": "code",
   "execution_count": 17,
   "metadata": {},
   "outputs": [
    {
     "data": {
      "text/plain": [
       "sys.hash_info(width=64, modulus=2305843009213693951, inf=314159, nan=0, imag=1000003, algorithm='siphash13', hash_bits=64, seed_bits=128, cutoff=0)"
      ]
     },
     "execution_count": 17,
     "metadata": {},
     "output_type": "execute_result"
    }
   ],
   "source": [
    "sys.hash_info"
   ]
  },
  {
   "cell_type": "code",
   "execution_count": 18,
   "metadata": {},
   "outputs": [
    {
     "name": "stdout",
     "output_type": "stream",
     "text": [
      "9\n",
      "507285462027014153\n",
      "1\n",
      "4238894112\n",
      "-1629317308285799975\n",
      "-374089322017822008\n"
     ]
    }
   ],
   "source": [
    "print(hash(9))\n",
    "print(hash(9.22))\n",
    "print(hash(True))\n",
    "print(hash(None))\n",
    "print(hash((12, 2, 3, 23)))\n",
    "print(hash(frozenset({12, 23, 4})))\n",
    "\n",
    "# unhashables\n",
    "# print(hash([12, 2,3,23]))\n",
    "# print(hash({12, 2,3,23}))\n",
    "# print(hash({'a':1, 'b':2}))"
   ]
  },
  {
   "cell_type": "code",
   "execution_count": 19,
   "metadata": {},
   "outputs": [
    {
     "name": "stdout",
     "output_type": "stream",
     "text": [
      "sys.hexversion             = 51118576\n",
      "0xd\n"
     ]
    }
   ],
   "source": [
    "print(\"sys.hexversion             =\", sys.hexversion)\n",
    "print(hex(13))"
   ]
  },
  {
   "cell_type": "code",
   "execution_count": 20,
   "metadata": {},
   "outputs": [
    {
     "data": {
      "text/plain": [
       "namespace(name='cpython',\n",
       "          cache_tag='cpython-312',\n",
       "          version=sys.version_info(major=3, minor=12, micro=1, releaselevel='final', serial=0),\n",
       "          hexversion=51118576,\n",
       "          _multiarch='x86_64-linux-gnu')"
      ]
     },
     "execution_count": 20,
     "metadata": {},
     "output_type": "execute_result"
    }
   ],
   "source": [
    "sys.implementation"
   ]
  },
  {
   "cell_type": "code",
   "execution_count": 21,
   "metadata": {},
   "outputs": [
    {
     "name": "stdout",
     "output_type": "stream",
     "text": [
      "sys.int_info               = sys.int_info(bits_per_digit=30, sizeof_digit=4, default_max_str_digits=4300, str_digits_check_threshold=640)\n"
     ]
    }
   ],
   "source": [
    "print(\"sys.int_info               =\", sys.int_info)"
   ]
  },
  {
   "cell_type": "code",
   "execution_count": 22,
   "metadata": {},
   "outputs": [
    {
     "name": "stdout",
     "output_type": "stream",
     "text": [
      "sys.__interactivehook__()  = None\n"
     ]
    }
   ],
   "source": [
    "print(\"sys.__interactivehook__()  =\", sys.__interactivehook__())"
   ]
  },
  {
   "cell_type": "code",
   "execution_count": 23,
   "metadata": {},
   "outputs": [
    {
     "name": "stdout",
     "output_type": "stream",
     "text": [
      "sys.maxsize                = 9223372036854775807\n"
     ]
    }
   ],
   "source": [
    "print(\"sys.maxsize                =\", sys.maxsize)"
   ]
  },
  {
   "cell_type": "code",
   "execution_count": 24,
   "metadata": {},
   "outputs": [
    {
     "name": "stdout",
     "output_type": "stream",
     "text": [
      "sys.maxunicode             = 1114111\n"
     ]
    }
   ],
   "source": [
    "print(\"sys.maxunicode             =\", sys.maxunicode)"
   ]
  },
  {
   "cell_type": "code",
   "execution_count": 25,
   "metadata": {},
   "outputs": [
    {
     "data": {
      "text/plain": [
       "'o'"
      ]
     },
     "execution_count": 25,
     "metadata": {},
     "output_type": "execute_result"
    }
   ],
   "source": [
    "chr(111)"
   ]
  },
  {
   "cell_type": "code",
   "execution_count": 26,
   "metadata": {},
   "outputs": [
    {
     "data": {
      "text/plain": [
       "'\\U0010ffff'"
      ]
     },
     "execution_count": 26,
     "metadata": {},
     "output_type": "execute_result"
    }
   ],
   "source": [
    "chr(1114111)"
   ]
  },
  {
   "cell_type": "code",
   "execution_count": 27,
   "metadata": {},
   "outputs": [
    {
     "name": "stdout",
     "output_type": "stream",
     "text": [
      "chr() arg not in range(0x110000)\n"
     ]
    }
   ],
   "source": [
    "try:\n",
    "    chr(1114111 + 1)\n",
    "except ValueError as ve:\n",
    "    print(ve)"
   ]
  },
  {
   "cell_type": "code",
   "execution_count": 28,
   "metadata": {},
   "outputs": [
    {
     "data": {
      "text/plain": [
       "('_abc',\n",
       " '_ast',\n",
       " '_codecs',\n",
       " '_collections',\n",
       " '_functools',\n",
       " '_imp',\n",
       " '_io',\n",
       " '_locale',\n",
       " '_operator',\n",
       " '_signal',\n",
       " '_sre',\n",
       " '_stat',\n",
       " '_string',\n",
       " '_symtable',\n",
       " '_thread',\n",
       " '_tokenize',\n",
       " '_tracemalloc',\n",
       " '_typing',\n",
       " '_warnings',\n",
       " '_weakref',\n",
       " 'atexit',\n",
       " 'builtins',\n",
       " 'errno',\n",
       " 'faulthandler',\n",
       " 'gc',\n",
       " 'itertools',\n",
       " 'marshal',\n",
       " 'posix',\n",
       " 'pwd',\n",
       " 'sys',\n",
       " 'time')"
      ]
     },
     "execution_count": 28,
     "metadata": {},
     "output_type": "execute_result"
    }
   ],
   "source": [
    "sys.builtin_module_names"
   ]
  },
  {
   "cell_type": "code",
   "execution_count": 29,
   "metadata": {},
   "outputs": [
    {
     "data": {
      "text/plain": [
       "dict_keys(['sys', 'builtins', '_frozen_importlib', '_imp', '_thread', '_warnings', '_weakref', '_io', 'marshal', 'posix', '_frozen_importlib_external', 'time', 'zipimport', '_codecs', 'codecs', 'encodings.aliases', 'encodings', 'encodings.utf_8', '_signal', '_abc', 'abc', 'io', '__main__', '_stat', 'stat', '_collections_abc', 'genericpath', 'posixpath', 'os.path', 'os', '_sitebuiltins', '_distutils_hack', 'site', 'importlib._bootstrap', 'importlib._bootstrap_external', 'warnings', 'importlib', 'importlib.machinery', 'importlib._abc', 'types', 'importlib.util', 'runpy', '_operator', 'operator', 'itertools', 'keyword', 'reprlib', '_collections', 'collections', '_functools', 'functools', 'enum', '_sre', 're._constants', 're._parser', 're._casefix', 're._compiler', 'copyreg', 're', 'fnmatch', 'ntpath', 'errno', 'urllib', 'math', 'ipaddress', 'urllib.parse', 'pathlib', 'collections.abc', 'contextlib', '_typing', 'typing.io', 'typing.re', 'typing', 'ipykernel._version', '__future__', '_json', 'json.scanner', 'json.decoder', 'json.encoder', 'json', '_locale', 'locale', 'signal', '_weakrefset', 'threading', 'fcntl', '_posixsubprocess', 'select', 'selectors', 'subprocess', 'jupyter_client._version', 'platform', 'zmq.backend.select', 'cython_runtime', '_cython_3_0_11', 'weakref', 'zmq.constants', 'zmq.error', 'zmq.backend.cython._zmq', 'zmq.backend.cython', 'zmq.backend', 'atexit', 'zmq._typing', 'zmq.utils', 'zmq.utils.interop', 'zmq.sugar.attrsettr', '_struct', 'struct', '_compat_pickle', '_pickle', 'pickle', '_bisect', 'bisect', '_random', '_sha2', 'random', 'zmq.utils.jsonapi', 'zmq.sugar.poll', 'zmq.sugar.socket', 'zmq.sugar.context', 'zmq.sugar.frame', 'zmq.sugar.tracker', 'zmq.sugar.version', 'zmq.sugar.stopwatch', 'zmq.sugar', 'zmq', 'concurrent', 'token', '_tokenize', 'tokenize', 'linecache', 'textwrap', 'traceback', '_string', 'string', 'logging', 'concurrent.futures._base', 'concurrent.futures', '_heapq', 'heapq', '_socket', 'array', 'socket', '_ssl', 'binascii', 'base64', 'ssl', 'asyncio.constants', '_ast', 'ast', '_opcode', 'opcode', 'dis', 'inspect', 'asyncio.coroutines', '_contextvars', 'contextvars', 'asyncio.format_helpers', 'asyncio.base_futures', 'asyncio.exceptions', 'asyncio.base_tasks', '_asyncio', 'asyncio.events', 'asyncio.futures', 'asyncio.protocols', 'asyncio.transports', 'asyncio.log', 'asyncio.sslproto', 'asyncio.mixins', 'asyncio.locks', 'asyncio.timeouts', 'asyncio.tasks', 'asyncio.staggered', 'asyncio.trsock', 'asyncio.base_events', 'asyncio.runners', 'asyncio.queues', 'asyncio.streams', 'asyncio.subprocess', 'asyncio.taskgroups', 'asyncio.threads', 'asyncio.base_subprocess', 'asyncio.selector_events', 'asyncio.unix_events', 'asyncio', 'zmq._future', 'zmq.asyncio', 'traitlets.utils', 'traitlets.utils.bunch', 'traitlets.utils.descriptions', 'traitlets.utils.getargspec', 'traitlets.utils.importstring', 'traitlets.utils.sentinel', 'traitlets.utils.warnings', 'traitlets.traitlets', 'traitlets._version', 'copy', 'traitlets.utils.decorators', 'traitlets', '_queue', 'queue', 'jupyter_core.version', 'jupyter_core', 'jupyter_core.utils', 'jupyter_client.channelsabc', '_hashlib', '_blake2', 'hashlib', 'hmac', 'dataclasses', 'pprint', '_datetime', 'datetime', 'tornado', 'numbers', 'logging.handlers', 'html.entities', 'html', 'zlib', 'tornado.speedups', 'tornado.util', 'tornado.escape', 'colorama.ansi', '_ctypes', 'ctypes._endian', 'ctypes', 'colorama.win32', 'colorama.winterm', 'colorama.ansitowin32', 'colorama.initialise', 'colorama', '_curses', 'curses', 'tornado.log', 'tornado.concurrent', 'tornado.ioloop', 'socketserver', 'logging.config', 'traitlets.utils.text', 'gettext', 'argparse', 'traitlets.config.loader', 'traitlets.config.configurable', 'traitlets.utils.nested_update', 'traitlets.config.application', 'traitlets.config', 'traitlets.log', 'zmq.eventloop', 'zmq.eventloop.zmqstream', 'jupyter_client.adapter', 'dateutil._version', 'dateutil', 'calendar', 'six', '_decimal', 'decimal', 'dateutil._common', 'dateutil.relativedelta', 'six.moves', 'dateutil.tz._common', 'dateutil.tz._factories', 'dateutil.tz.tz', 'dateutil.tz', 'dateutil.parser._parser', 'dateutil.parser.isoparser', 'dateutil.parser', '_strptime', 'jupyter_client.jsonutil', 'jupyter_client.session', 'jupyter_client.channels', 'termios', 'getpass', 'jupyter_client.clientabc', 'glob', '_compression', '_bz2', 'bz2', '_lzma', 'lzma', 'shutil', 'tempfile', 'platformdirs.api', 'platformdirs.version', 'configparser', 'platformdirs.unix', 'platformdirs', 'jupyter_core.paths', 'jupyter_client.localinterfaces', 'jupyter_client.utils', 'jupyter_client.connect', 'jupyter_client.client', 'jupyter_client.asynchronous.client', 'jupyter_client.asynchronous', 'jupyter_client.blocking.client', 'jupyter_client.blocking', 'jupyter_client.launcher', '_uuid', 'uuid', '_csv', 'csv', 'email', 'zipfile._path.glob', 'zipfile._path', 'zipfile', 'quopri', 'email._parseaddr', 'email.base64mime', 'email.quoprimime', 'email.errors', 'email.encoders', 'email.charset', 'email.utils', 'email.header', 'email._policybase', 'email._encoded_words', 'email.iterators', 'email.message', 'importlib.metadata._functools', 'importlib.metadata._text', 'importlib.metadata._adapters', 'importlib.metadata._meta', 'importlib.metadata._collections', 'importlib.metadata._itertools', 'importlib.resources.abc', 'importlib.resources._adapters', 'importlib.resources._common', 'importlib.resources._legacy', 'importlib.resources', 'importlib.abc', 'importlib.metadata', 'jupyter_client.provisioning.provisioner_base', 'jupyter_client.provisioning.factory', 'jupyter_client.provisioning.local_provisioner', 'jupyter_client.provisioning', 'jupyter_client.kernelspec', 'jupyter_client.managerabc', 'jupyter_client.manager', 'jupyter_client.multikernelmanager', 'jupyter_client', 'ipykernel.connect', 'ipykernel', 'IPython.core', 'IPython.core.getipython', 'IPython.core.release', 'pkgutil', 'sysconfig', '_sysconfigdata__linux_x86_64-linux-gnu', 'pydoc', 'executing._exceptions', 'executing._position_node_finder', 'executing.executing', 'executing.version', 'executing', 'asttokens.line_numbers', 'asttokens.util', 'asttokens.asttokens', 'asttokens', 'fractions', 'pure_eval.utils', 'pure_eval.my_getattr_static', 'pure_eval.core', 'pure_eval.version', 'pure_eval', 'stack_data.utils', 'stack_data.core', 'stack_data.formatting', 'stack_data.serializing', 'stack_data.version', 'stack_data', 'pygments', 'pygments.formatters._mapping', 'pygments.plugin', 'pygments.util', 'pygments.formatters', 'pygments.styles._mapping', 'pygments.styles', 'pygments.formatter', 'pygments.console', 'pygments.token', 'pygments.style', 'pygments.formatters.terminal256', 'IPython.utils', 'IPython.utils.colorable', 'IPython.utils.ipstruct', 'IPython.utils.coloransi', 'IPython.core.excolors', 'IPython.utils.PyColorize', 'IPython.utils.encoding', 'IPython.utils.py3compat', 'cmd', 'bdb', 'codeop', 'code', 'pdb', 'IPython.core.debugger', 'IPython.core.display_trap', 'shlex', 'IPython.utils._process_common', 'IPython.utils._process_posix', 'IPython.utils.process', 'IPython.utils.path', 'IPython.utils.terminal', 'IPython.core.ultratb', 'IPython.utils._sysinfo', 'IPython.utils.sysinfo', 'IPython.core.crashhandler', 'IPython.utils.importstring', 'IPython.paths', 'IPython.core.profiledir', 'IPython.core.application', 'IPython.terminal', 'IPython.core.compilerop', 'IPython.core.error', 'IPython.utils.docs', 'IPython.utils.decorators', 'IPython.utils.text', 'IPython.core.magic_arguments', 'getopt', 'IPython.core.display_functions', 'mimetypes', 'IPython.testing', 'IPython.testing.skipdoctest', 'IPython.core.display', 'IPython.lib', 'IPython.lib.display', 'IPython.display', 'IPython.utils.data', 'IPython.core.page', 'IPython.lib.pretty', 'IPython.utils.openpy', 'IPython.utils.dir2', 'IPython.utils.wildcard', 'pygments.lexers._mapping', 'pygments.modeline', 'pygments.lexers', 'pygments.filter', 'pygments.filters', 'pygments.regexopt', 'pygments.lexer', 'pygments.unistring', 'pygments.lexers.python', 'pygments.formatters.html', 'IPython.core.oinspect', 'IPython.utils.tokenutil', 'IPython.core.inputtransformer2', 'IPython.core.magic', 'IPython.core.hooks', 'IPython.core.autocall', 'IPython.core.macro', 'IPython.core.splitinput', 'IPython.core.prefilter', 'IPython.core.alias', 'IPython.core.builtin_trap', 'IPython.core.displayhook', 'IPython.core.displaypub', 'IPython.core.events', 'IPython.core.extensions', 'decorator', 'IPython.utils.sentinel', 'IPython.core.formatters', '_sqlite3', 'sqlite3.dbapi2', 'sqlite3', 'IPython.core.history', 'IPython.core.logger', 'IPython.core.payload', 'IPython.core.usage', 'IPython.utils.capture', 'IPython.utils.io', 'IPython.utils.strdispatch', 'IPython.utils.syspathcontext', 'IPython.core.async_helpers', 'IPython.core.interactiveshell', 'prompt_toolkit.application.current', 'prompt_toolkit.eventloop.utils', 'prompt_toolkit.eventloop.async_generator', 'prompt_toolkit.eventloop.inputhook', 'prompt_toolkit.eventloop', 'prompt_toolkit.application.run_in_terminal', 'prompt_toolkit.selection', 'prompt_toolkit.clipboard.base', 'prompt_toolkit.clipboard.in_memory', 'prompt_toolkit.clipboard', 'prompt_toolkit.cache', 'prompt_toolkit.enums', 'prompt_toolkit.filters.base', 'prompt_toolkit.filters.app', 'prompt_toolkit.filters.cli', 'prompt_toolkit.filters.utils', 'prompt_toolkit.filters', 'prompt_toolkit.document', 'prompt_toolkit.auto_suggest', 'prompt_toolkit.keys', 'prompt_toolkit.key_binding.key_bindings', 'wcwidth.table_vs16', 'wcwidth.table_wide', 'wcwidth.table_zero', 'wcwidth.unicode_versions', 'wcwidth.wcwidth', 'wcwidth', 'prompt_toolkit.utils', 'prompt_toolkit.key_binding.key_processor', 'prompt_toolkit.key_binding', 'prompt_toolkit.key_binding.vi_state', 'prompt_toolkit.cursor_shapes', 'prompt_toolkit.data_structures', 'prompt_toolkit.styles.base', 'prompt_toolkit.styles.named_colors', 'prompt_toolkit.styles.style', 'prompt_toolkit.styles.defaults', 'prompt_toolkit.styles.pygments', 'colorsys', 'prompt_toolkit.styles.style_transformation', 'prompt_toolkit.styles', 'prompt_toolkit.output.color_depth', 'prompt_toolkit.output.base', 'prompt_toolkit.output.flush_stdout', 'prompt_toolkit.output.plain_text', 'prompt_toolkit.output.defaults', 'prompt_toolkit.output', 'prompt_toolkit.output.vt100', 'prompt_toolkit.mouse_events', 'prompt_toolkit.formatted_text.base', 'prompt_toolkit.formatted_text.ansi', 'xml', 'xml.dom.domreg', 'xml.dom', 'xml.dom.minicompat', 'xml.dom.NodeFilter', 'xml.dom.xmlbuilder', 'xml.dom.minidom', 'prompt_toolkit.formatted_text.html', 'prompt_toolkit.formatted_text.pygments', 'prompt_toolkit.formatted_text.utils', 'prompt_toolkit.formatted_text', 'prompt_toolkit.completion.base', 'prompt_toolkit.completion.deduplicate', 'prompt_toolkit.completion.filesystem', 'prompt_toolkit.completion.word_completer', 'prompt_toolkit.completion.fuzzy_completer', 'prompt_toolkit.completion.nested', 'prompt_toolkit.completion', 'prompt_toolkit.history', 'prompt_toolkit.search', 'prompt_toolkit.validation', 'prompt_toolkit.buffer', 'prompt_toolkit.input.base', 'prompt_toolkit.input.defaults', 'prompt_toolkit.input', 'prompt_toolkit.input.typeahead', 'prompt_toolkit.key_binding.bindings', 'prompt_toolkit.key_binding.bindings.scroll', 'prompt_toolkit.key_binding.bindings.page_navigation', 'prompt_toolkit.lexers.base', 'prompt_toolkit.lexers.pygments', 'prompt_toolkit.lexers', 'prompt_toolkit.layout.utils', 'prompt_toolkit.layout.processors', 'prompt_toolkit.layout.controls', 'prompt_toolkit.layout.dimension', 'prompt_toolkit.layout.margins', 'prompt_toolkit.layout.mouse_handlers', 'prompt_toolkit.layout.screen', 'prompt_toolkit.layout.containers', 'prompt_toolkit.layout.layout', 'prompt_toolkit.layout.menus', 'prompt_toolkit.layout.scrollable_pane', 'prompt_toolkit.layout', 'prompt_toolkit.key_binding.bindings.completion', 'prompt_toolkit.key_binding.bindings.named_commands', 'prompt_toolkit.key_binding.bindings.basic', 'prompt_toolkit.key_binding.bindings.cpr', 'prompt_toolkit.key_binding.bindings.emacs', 'prompt_toolkit.key_binding.bindings.mouse', 'prompt_toolkit.input.ansi_escape_sequences', 'prompt_toolkit.input.vt100_parser', 'prompt_toolkit.key_binding.digraphs', 'prompt_toolkit.key_binding.bindings.vi', 'prompt_toolkit.key_binding.defaults', 'prompt_toolkit.key_binding.emacs_state', 'prompt_toolkit.layout.dummy', 'prompt_toolkit.renderer', 'prompt_toolkit.application.application', 'prompt_toolkit.application.dummy', 'prompt_toolkit.application', 'prompt_toolkit.key_binding.bindings.focus', 'prompt_toolkit.widgets.toolbars', 'prompt_toolkit.widgets.base', 'prompt_toolkit.widgets.dialogs', 'prompt_toolkit.widgets.menus', 'prompt_toolkit.widgets', 'prompt_toolkit.shortcuts.dialogs', 'xml.parsers', 'pyexpat.errors', 'pyexpat.model', 'pyexpat', 'xml.parsers.expat.model', 'xml.parsers.expat.errors', 'xml.parsers.expat', 'xml.dom.expatbuilder', 'prompt_toolkit.shortcuts.progress_bar.formatters', 'prompt_toolkit.shortcuts.progress_bar.base', 'prompt_toolkit.shortcuts.progress_bar', 'prompt_toolkit.key_binding.bindings.auto_suggest', 'prompt_toolkit.key_binding.bindings.open_in_editor', 'prompt_toolkit.shortcuts.prompt', 'prompt_toolkit.shortcuts.utils', 'prompt_toolkit.shortcuts', 'prompt_toolkit', 'prompt_toolkit.patch_stdout', 'unicodedata', 'IPython.core.guarded_eval', 'IPython.core.latex_symbols', 'IPython.utils.generics', 'parso.utils', 'parso.tree', 'parso.python', 'parso.python.token', 'parso.python.tokenize', 'parso.pgen2.grammar_parser', 'parso.pgen2.generator', 'parso.pgen2', 'parso.parser', 'parso._compatibility', 'difflib', 'parso.python.prefix', 'parso.python.tree', 'parso.python.parser', 'parso.python.diff', 'gc', 'parso.cache', 'parso.normalizer', 'parso.python.errors', 'parso.python.pep8', 'parso.file_io', 'parso.grammar', 'parso', 'jedi.parser_utils', 'jedi.debug', 'jedi.settings', 'jedi.cache', 'jedi.file_io', 'jedi.inference.cache', 'jedi.inference.helpers', 'jedi.inference.utils', 'jedi.inference.base_value', 'jedi.inference.sys_path', 'jedi.inference.recursion', 'jedi.inference.flow_analysis', 'jedi.common', 'jedi.inference.lazy_value', 'jedi.inference.docstrings', 'jedi.plugins', 'jedi.inference.names', 'jedi.inference.filters', 'jedi.inference.compiled.getattr_static', 'jedi.inference.compiled.access', 'jedi.inference.signature', 'jedi.inference.context', 'jedi.inference.compiled.value', 'jedi.inference.compiled', 'jedi.inference.analysis', 'jedi.inference.gradual', 'jedi.inference.value.module', 'jedi.inference.value.dynamic_arrays', 'jedi.inference.value.iterable', 'jedi.inference.arguments', 'jedi.inference.parser_cache', 'jedi.inference.gradual.generics', 'jedi.inference.value.function', 'jedi.inference.value.klass', 'jedi.inference.value.instance', 'jedi.inference.value', 'jedi.inference.gradual.base', 'jedi.inference.gradual.type_var', 'jedi.inference.gradual.typing', 'jedi.inference.gradual.stub_value', 'jedi.inference.gradual.typeshed', 'jedi._compatibility', 'jedi.inference.compiled.subprocess.functions', 'jedi.api.exceptions', 'jedi.inference.compiled.subprocess', 'jedi.inference.imports', 'jedi.inference.param', 'jedi.inference.gradual.annotation', 'jedi.inference.value.decorator', 'jedi.inference.syntax_tree', 'jedi.inference', 'jedi.inference.gradual.conversion', 'jedi.inference.compiled.mixed', 'pydoc_data', 'pydoc_data.topics', 'jedi.api.keywords', 'jedi.api.completion_cache', 'jedi.api.helpers', 'jedi.api.classes', 'jedi.api.interpreter', 'jedi.api.strings', 'jedi.api.file_name', 'jedi.inference.docstring_utils', 'jedi.api.completion', 'filecmp', 'jedi.api.environment', 'jedi.inference.references', 'jedi.api.project', 'jedi.api.errors', 'jedi.inference.value.namespace', 'jedi.api.refactoring', 'jedi.api.refactoring.extract', 'jedi.inference.gradual.utils', 'jedi.api', 'jedi.plugins.stdlib', 'jedi.plugins.flask', 'jedi.plugins.pytest', 'jedi.plugins.django', 'jedi.plugins.registry', 'jedi', 'IPython.core.completer', 'IPython.terminal.ptutils', 'IPython.terminal.shortcuts.auto_match', 'IPython.terminal.shortcuts.filters', 'IPython.terminal.shortcuts.auto_suggest', 'IPython.terminal.shortcuts', 'concurrent.futures.thread', 'IPython.terminal.debugger', 'IPython.lib.clipboard', 'IPython.terminal.magics', 'IPython.terminal.pt_inputhooks', 'IPython.terminal.prompts', 'IPython.terminal.interactiveshell', 'IPython.core.magics.auto', 'IPython.core.magics.basic', 'http', 'email.feedparser', 'email.parser', 'http.client', 'urllib.response', 'urllib.error', 'urllib.request', 'IPython.utils.contexts', 'IPython.core.magics.code', 'IPython.core.magics.config', 'IPython.core.magics.display', '_lsprof', 'profile', 'cProfile', 'pstats', 'timeit', 'IPython.utils.module_paths', 'resource', 'IPython.utils.timing', 'IPython.core.magics.ast_mod', 'IPython.core.magics.execution', 'IPython.core.magics.extension', 'IPython.core.magics.history', 'IPython.core.magics.logging', 'IPython.core.magics.namespace', 'IPython.core.magics.osm', 'IPython.core.magics.packaging', 'IPython.core.magics.pylab', 'IPython.core.magics.script', 'IPython.core.magics', 'IPython.core.shellapp', 'IPython.extensions', 'IPython.extensions.storemagic', 'IPython.terminal.ipapp', 'IPython.terminal.embed', 'IPython.utils.frame', 'IPython', 'ipykernel.control', 'ipykernel.heartbeat', 'ipykernel.iostream', 'comm.base_comm', 'comm', 'ipykernel.jsonutil', 'pwd', 'psutil._common', 'psutil._compat', 'psutil._psposix', 'psutil._psutil_linux', 'psutil._psutil_posix', 'psutil._pslinux', 'psutil', 'tornado.gen', 'tornado.locks', 'tornado.queues', 'ipykernel.kernelbase', 'ipykernel.comm.comm', 'ipykernel.comm.manager', 'ipykernel.comm', 'ipykernel.compiler', 'packaging', 'packaging._structures', 'packaging.version', 'ipykernel.eventloops', 'IPython.core.payloadpage', 'ipykernel.displayhook', 'ipykernel.zmqshell', 'ipykernel.ipkernel', 'ipykernel.parentpoller', 'ipykernel.kernelapp', 'tornado.platform', 'tornado.platform.asyncio', 'faulthandler', 'debugpy._version', 'debugpy.public_api', 'debugpy', 'debugpy._vendored._util', 'debugpy._vendored', '_pydevd_bundle', 'encodings.ascii', 'encodings.latin_1', 'stringprep', 'encodings.idna', '_pydevd_bundle.pydevd_vm_type', '_pydev_bundle', 'xmlrpc', 'gzip', 'xmlrpc.client', 'http.server', 'xmlrpc.server', '_pydev_bundle._pydev_saved_modules', '_pydevd_bundle.pydevd_constants', '_pydev_runfiles', '_pydevd_frame_eval', 'pydev_ipython', 'pydevd_plugins', '_pydev_bundle.pydev_log', '_pydev_bundle._pydev_filesystem_encoding', '_pydevd_bundle.pydevd_comm_constants', 'pydevd_file_utils', '_pydev_bundle._pydev_execfile', '_pydevd_bundle.pydevd_exec2', '_pydev_bundle.pydev_imports', '_pydev_bundle.pydev_is_thread_alive', '_pydev_bundle.pydev_override', 'pydevd_plugins.extensions', '_pydevd_bundle.pydevd_extension_utils', '_pydevd_bundle.pydevd_frame_utils', '_pydevd_bundle.pydevd_filtering', '_pydevd_bundle.pydevd_io', '_pydevd_bundle.pydevd_defaults', '_pydevd_bundle.pydevd_utils', '_pydevd_bundle.pydevd_runpy', '_pydev_bundle._pydev_tipper_common', '_pydev_bundle._pydev_imports_tipper', '_pydev_bundle._pydev_calltip_util', '_pydevd_bundle.pydevd_safe_repr', '_pydevd_bundle.pydevd_resolver', '_pydevd_bundle.pydevd_extension_api', '_pydevd_bundle.pydevd_xml', '_pydevd_bundle.pydevd_dont_trace', '_pydevd_frame_eval.vendored', '_pydevd_frame_eval.vendored.bytecode.flags', '_pydevd_frame_eval.vendored.bytecode.instr', '_pydevd_frame_eval.vendored.bytecode.bytecode', '_pydevd_frame_eval.vendored.bytecode.concrete', '_pydevd_frame_eval.vendored.bytecode.cfg', '_pydevd_frame_eval.vendored.bytecode', '_pydevd_bundle.pydevd_bytecode_utils', '_pydevd_bundle.pydevd_frame', '_pydevd_bundle.pydevd_additional_thread_info_regular', '_pydevd_bundle.pydevd_additional_thread_info', '_pydevd_bundle.pydevd_thread_lifecycle', '_pydevd_bundle.pydevd_save_locals', '_pydev_bundle.pydev_monkey', 'pydevd_tracing', '_pydevd_bundle.pydevd_collect_bytecode_info', '_pydevd_bundle.pydevd_daemon_thread', '_pydevd_bundle.pydevd_timeout', '_pydevd_bundle.pydevd_vars', '_pydev_bundle.pydev_console_utils', '_pydevd_bundle.pydevd_import_class', '_pydevd_bundle.pydevd_breakpoints', '_pydevd_bundle.pydevd_custom_frames', '_pydevd_bundle.pydevd_dont_trace_files', '_pydevd_bundle.pydevd_net_command', '_pydevd_bundle.pydevconsole_code', '_pydev_bundle.pydev_umd', 'pydevconsole', '_pydev_bundle._pydev_completer', '_pydevd_bundle.pydevd_net_command_factory_xml', '_pydevd_bundle.pydevd_trace_dispatch_regular', '_pydevd_bundle.pydevd_trace_dispatch', '_pydevd_frame_eval.pydevd_frame_eval_main', '_pydevd_bundle.pydevd_source_mapping', '_pydevd_bundle.pydevd_concurrency_analyser', '_pydevd_bundle.pydevd_concurrency_analyser.pydevd_thread_wrappers', '_pydevd_bundle.pydevd_concurrency_analyser.pydevd_concurrency_logger', '_pydevd_bundle._debug_adapter', '_pydevd_bundle._debug_adapter.pydevd_schema_log', '_pydevd_bundle._debug_adapter.pydevd_base_schema', '_pydevd_bundle._debug_adapter.pydevd_schema', '_pydevd_bundle.pydevd_reload', '_pydev_bundle.fsnotify', '_pydevd_bundle.pydevd_console', '_pydevd_bundle.pydevd_comm', '_pydevd_bundle.pydevd_net_command_factory_json', '_pydevd_bundle.pydevd_api', '_pydevd_bundle.pydevd_json_debug_options', '_pydevd_bundle.pydevd_process_net_command_json', '_pydevd_bundle.pydevd_traceproperty', '_pydevd_bundle.pydevd_process_net_command', '_pydevd_bundle.pydevd_suspended_frames', '_pydevd_bundle.pydevd_trace_api', 'pydevd_plugins.pydevd_line_validation', 'pydevd_plugins.django_debug', 'pydevd_plugins.jinja2_debug', '_pydevd_bundle.pydevd_plugin_utils', 'pydevd_plugins.extensions.types', 'pydevd_plugins.extensions.types.pydevd_helpers', 'pydevd_plugins.extensions.types.pydevd_plugin_numpy_types', 'pydevd_plugins.extensions.types.pydevd_plugin_pandas_types', 'pydevd_plugins.extensions.types.pydevd_plugins_django_form_str', 'pydevd', 'debugpy._vendored.force_pydevd', 'debugpy.server', 'debugpy.adapter', 'debugpy.common', 'debugpy.common.json', 'debugpy.common.timestamp', 'debugpy.common.util', 'debugpy.common.log', 'debugpy.common.sockets', 'debugpy.server.api', 'ipykernel.debugger', 'IPython.core.completerlib', 'vscode', 'pygments.styles.default', 'readline', 'rlcompleter'])"
      ]
     },
     "execution_count": 29,
     "metadata": {},
     "output_type": "execute_result"
    }
   ],
   "source": [
    "sys.modules.keys()"
   ]
  },
  {
   "cell_type": "code",
   "execution_count": 31,
   "metadata": {},
   "outputs": [
    {
     "name": "stdout",
     "output_type": "stream",
     "text": [
      "sys.version                = 3.12.1 (main, Aug 20 2024, 19:28:58) [GCC 9.4.0]\n",
      "sys.api_version            = 1013\n",
      "sys.version_info           = sys.version_info(major=3, minor=12, micro=1, releaselevel='final', serial=0)\n",
      "\n"
     ]
    }
   ],
   "source": [
    "print(\"sys.version                =\", sys.version)\n",
    "print(\n",
    "    \"sys.api_version            =\", sys.api_version\n",
    ")  # C API version for this interpreter\n",
    "print(\"sys.version_info           =\", sys.version_info)\n",
    "print(\n",
    "    # \"sys.winver                 =\", sys.winver\n",
    ")  # version number used to form registry keys on Windows platforms"
   ]
  },
  {
   "cell_type": "code",
   "execution_count": 32,
   "metadata": {},
   "outputs": [
    {
     "name": "stdout",
     "output_type": "stream",
     "text": [
      "sys.getrecursionlimit() 3000\n"
     ]
    }
   ],
   "source": [
    "print(\"sys.getrecursionlimit()\", sys.getrecursionlimit())"
   ]
  },
  {
   "cell_type": "code",
   "execution_count": 33,
   "metadata": {},
   "outputs": [],
   "source": [
    "sys.setrecursionlimit = 150"
   ]
  },
  {
   "cell_type": "code",
   "execution_count": 34,
   "metadata": {},
   "outputs": [
    {
     "name": "stdout",
     "output_type": "stream",
     "text": [
      "sys.getrecursionlimit() 3000\n"
     ]
    }
   ],
   "source": [
    "print(\"sys.getrecursionlimit()\", sys.getrecursionlimit())"
   ]
  },
  {
   "cell_type": "code",
   "execution_count": 35,
   "metadata": {},
   "outputs": [
    {
     "name": "stdout",
     "output_type": "stream",
     "text": [
      "Hello world!\n",
      "Hello world!\n"
     ]
    },
    {
     "name": "stderr",
     "output_type": "stream",
     "text": [
      "Hello world!\n"
     ]
    },
    {
     "data": {
      "text/plain": [
       "13"
      ]
     },
     "execution_count": 35,
     "metadata": {},
     "output_type": "execute_result"
    }
   ],
   "source": [
    "print(\"Hello world!\")\n",
    "sys.stdout.write(\"Hello world!\\n\")\n",
    "sys.stderr.write(\"Hello world!\\n\")"
   ]
  },
  {
   "cell_type": "code",
   "execution_count": 36,
   "metadata": {},
   "outputs": [
    {
     "name": "stdout",
     "output_type": "stream",
     "text": [
      "<_io.TextIOWrapper name='<stdin>' mode='r' encoding='utf-8'>\n",
      "<ipykernel.iostream.OutStream object at 0x730359c4c8e0>\n",
      "<ipykernel.iostream.OutStream object at 0x73035985dae0>\n"
     ]
    }
   ],
   "source": [
    "for i in (sys.stdin, sys.stdout, sys.stderr):\n",
    "    print(i)"
   ]
  },
  {
   "cell_type": "code",
   "execution_count": 37,
   "metadata": {},
   "outputs": [
    {
     "name": "stdout",
     "output_type": "stream",
     "text": [
      "/home/codespace/.python/current/lib/python312.zip\n",
      "/home/codespace/.python/current/lib/python3.12\n",
      "/home/codespace/.python/current/lib/python3.12/lib-dynload\n",
      "\n",
      "/home/codespace/.local/lib/python3.12/site-packages\n",
      "/home/codespace/.python/current/lib/python3.12/site-packages\n"
     ]
    }
   ],
   "source": [
    "for each_path in sys.path:\n",
    "    print(each_path)"
   ]
  },
  {
   "cell_type": "code",
   "execution_count": 38,
   "metadata": {},
   "outputs": [
    {
     "data": {
      "text/plain": [
       "'linux'"
      ]
     },
     "execution_count": 38,
     "metadata": {},
     "output_type": "execute_result"
    }
   ],
   "source": [
    "sys.platform"
   ]
  },
  {
   "cell_type": "markdown",
   "metadata": {},
   "source": [
    "__NOTE:__ Irrespective of your system architecture, its value is the same for both 64 bit and 32 bits windows"
   ]
  },
  {
   "cell_type": "code",
   "execution_count": 39,
   "metadata": {},
   "outputs": [
    {
     "name": "stdout",
     "output_type": "stream",
     "text": [
      "you are in debian/ubuntu like OS\n"
     ]
    }
   ],
   "source": [
    "if sys.platform == \"win32\":\n",
    "    print(\"you are in windows OS\")\n",
    "elif sys.platform == \"linux\":\n",
    "    print(\"you are in debian/ubuntu like OS\")\n",
    "elif sys.platform == \"linux2\":\n",
    "    print(\"you are in centos/redhat/fedora like OS\")\n",
    "elif sys.platform == \"darwin\":\n",
    "    print(\"you are in MAC like OS\")\n",
    "elif sys.platform == \"cygwin\":\n",
    "    print(\"you are in Windows/Cygwin OS\")"
   ]
  },
  {
   "cell_type": "code",
   "execution_count": 40,
   "metadata": {},
   "outputs": [
    {
     "name": "stdout",
     "output_type": "stream",
     "text": [
      "Help on built-in module sys:\n",
      "\n",
      "NAME\n",
      "    sys\n",
      "\n",
      "MODULE REFERENCE\n",
      "    https://docs.python.org/3.12/library/sys.html\n",
      "\n",
      "    The following documentation is automatically generated from the Python\n",
      "    source files.  It may be incomplete, incorrect or include features that\n",
      "    are considered implementation detail and may vary between Python\n",
      "    implementations.  When in doubt, consult the module reference at the\n",
      "    location listed above.\n",
      "\n",
      "DESCRIPTION\n",
      "    This module provides access to some objects used or maintained by the\n",
      "    interpreter and to functions that interact strongly with the interpreter.\n",
      "\n",
      "    Dynamic objects:\n",
      "\n",
      "    argv -- command line arguments; argv[0] is the script pathname if known\n",
      "    path -- module search path; path[0] is the script directory, else ''\n",
      "    modules -- dictionary of loaded modules\n",
      "\n",
      "    displayhook -- called to show results in an interactive session\n",
      "    excepthook -- called to handle any uncaught exception other than SystemExit\n",
      "      To customize printing in an interactive session or to install a custom\n",
      "      top-level exception handler, assign other functions to replace these.\n",
      "\n",
      "    stdin -- standard input file object; used by input()\n",
      "    stdout -- standard output file object; used by print()\n",
      "    stderr -- standard error object; used for error messages\n",
      "      By assigning other file objects (or objects that behave like files)\n",
      "      to these, it is possible to redirect all of the interpreter's I/O.\n",
      "\n",
      "    last_exc - the last uncaught exception\n",
      "      Only available in an interactive session after a\n",
      "      traceback has been printed.\n",
      "    last_type -- type of last uncaught exception\n",
      "    last_value -- value of last uncaught exception\n",
      "    last_traceback -- traceback of last uncaught exception\n",
      "      These three are the (deprecated) legacy representation of last_exc.\n",
      "\n",
      "    Static objects:\n",
      "\n",
      "    builtin_module_names -- tuple of module names built into this interpreter\n",
      "    copyright -- copyright notice pertaining to this interpreter\n",
      "    exec_prefix -- prefix used to find the machine-specific Python library\n",
      "    executable -- absolute path of the executable binary of the Python interpreter\n",
      "    float_info -- a named tuple with information about the float implementation.\n",
      "    float_repr_style -- string indicating the style of repr() output for floats\n",
      "    hash_info -- a named tuple with information about the hash algorithm.\n",
      "    hexversion -- version information encoded as a single integer\n",
      "    implementation -- Python implementation information.\n",
      "    int_info -- a named tuple with information about the int implementation.\n",
      "    maxsize -- the largest supported length of containers.\n",
      "    maxunicode -- the value of the largest Unicode code point\n",
      "    platform -- platform identifier\n",
      "    prefix -- prefix used to find the Python library\n",
      "    thread_info -- a named tuple with information about the thread implementation.\n",
      "    version -- the version of this interpreter as a string\n",
      "    version_info -- version information as a named tuple\n",
      "    __stdin__ -- the original stdin; don't touch!\n",
      "    __stdout__ -- the original stdout; don't touch!\n",
      "    __stderr__ -- the original stderr; don't touch!\n",
      "    __displayhook__ -- the original displayhook; don't touch!\n",
      "    __excepthook__ -- the original excepthook; don't touch!\n",
      "\n",
      "    Functions:\n",
      "\n",
      "    displayhook() -- print an object to the screen, and save it in builtins._\n",
      "    excepthook() -- print an exception and its traceback to sys.stderr\n",
      "    exception() -- return the current thread's active exception\n",
      "    exc_info() -- return information about the current thread's active exception\n",
      "    exit() -- exit the interpreter by raising SystemExit\n",
      "    getdlopenflags() -- returns flags to be used for dlopen() calls\n",
      "    getprofile() -- get the global profiling function\n",
      "    getrefcount() -- return the reference count for an object (plus one :-)\n",
      "    getrecursionlimit() -- return the max recursion depth for the interpreter\n",
      "    getsizeof() -- return the size of an object in bytes\n",
      "    gettrace() -- get the global debug tracing function\n",
      "    setdlopenflags() -- set the flags to be used for dlopen() calls\n",
      "    setprofile() -- set the global profiling function\n",
      "    setrecursionlimit() -- set the max recursion depth for the interpreter\n",
      "    settrace() -- set the global debug tracing function\n",
      "\n",
      "SUBMODULES\n",
      "    monitoring\n",
      "\n",
      "FUNCTIONS\n",
      "    __breakpointhook__ = breakpointhook(...)\n",
      "        breakpointhook(*args, **kws)\n",
      "\n",
      "        This hook function is called by built-in breakpoint().\n",
      "\n",
      "    __displayhook__ = displayhook(object, /)\n",
      "        Print an object to sys.stdout and also save it in builtins._\n",
      "\n",
      "    __excepthook__ = excepthook(exctype, value, traceback, /)\n",
      "        Handle an exception by displaying it with a traceback on sys.stderr.\n",
      "\n",
      "    __unraisablehook__ = unraisablehook(unraisable, /)\n",
      "        Handle an unraisable exception.\n",
      "\n",
      "        The unraisable argument has the following attributes:\n",
      "\n",
      "        * exc_type: Exception type.\n",
      "        * exc_value: Exception value, can be None.\n",
      "        * exc_traceback: Exception traceback, can be None.\n",
      "        * err_msg: Error message, can be None.\n",
      "        * object: Object causing the exception, can be None.\n",
      "\n",
      "    activate_stack_trampoline(backend, /)\n",
      "        Activate stack profiler trampoline *backend*.\n",
      "\n",
      "    addaudithook(hook)\n",
      "        Adds a new audit hook callback.\n",
      "\n",
      "    audit(...)\n",
      "        audit(event, *args)\n",
      "\n",
      "        Passes the event to any audit hooks that are attached.\n",
      "\n",
      "    call_tracing(func, args, /)\n",
      "        Call func(*args), while tracing is enabled.\n",
      "\n",
      "        The tracing state is saved, and restored afterwards.  This is intended\n",
      "        to be called from a debugger from a checkpoint, to recursively debug\n",
      "        some other code.\n",
      "\n",
      "    deactivate_stack_trampoline()\n",
      "        Deactivate the current stack profiler trampoline backend.\n",
      "\n",
      "        If no stack profiler is activated, this function has no effect.\n",
      "\n",
      "    exc_info()\n",
      "        Return current exception information: (type, value, traceback).\n",
      "\n",
      "        Return information about the most recent exception caught by an except\n",
      "        clause in the current stack frame or in an older stack frame.\n",
      "\n",
      "    exception()\n",
      "        Return the current exception.\n",
      "\n",
      "        Return the most recent exception caught by an except clause\n",
      "        in the current stack frame or in an older stack frame, or None\n",
      "        if no such exception exists.\n",
      "\n",
      "    exit(status=None, /)\n",
      "        Exit the interpreter by raising SystemExit(status).\n",
      "\n",
      "        If the status is omitted or None, it defaults to zero (i.e., success).\n",
      "        If the status is an integer, it will be used as the system exit status.\n",
      "        If it is another kind of object, it will be printed and the system\n",
      "        exit status will be one (i.e., failure).\n",
      "\n",
      "    get_asyncgen_hooks()\n",
      "        Return the installed asynchronous generators hooks.\n",
      "\n",
      "        This returns a namedtuple of the form (firstiter, finalizer).\n",
      "\n",
      "    get_coroutine_origin_tracking_depth()\n",
      "        Check status of origin tracking for coroutine objects in this thread.\n",
      "\n",
      "    get_int_max_str_digits()\n",
      "        Return the maximum string digits limit for non-binary int<->str conversions.\n",
      "\n",
      "    getallocatedblocks()\n",
      "        Return the number of memory blocks currently allocated.\n",
      "\n",
      "    getdefaultencoding()\n",
      "        Return the current default encoding used by the Unicode implementation.\n",
      "\n",
      "    getdlopenflags()\n",
      "        Return the current value of the flags that are used for dlopen calls.\n",
      "\n",
      "        The flag constants are defined in the os module.\n",
      "\n",
      "    getfilesystemencodeerrors()\n",
      "        Return the error mode used Unicode to OS filename conversion.\n",
      "\n",
      "    getfilesystemencoding()\n",
      "        Return the encoding used to convert Unicode filenames to OS filenames.\n",
      "\n",
      "    getprofile()\n",
      "        Return the profiling function set with sys.setprofile.\n",
      "\n",
      "        See the profiler chapter in the library manual.\n",
      "\n",
      "    getrecursionlimit()\n",
      "        Return the current value of the recursion limit.\n",
      "\n",
      "        The recursion limit is the maximum depth of the Python interpreter\n",
      "        stack.  This limit prevents infinite recursion from causing an overflow\n",
      "        of the C stack and crashing Python.\n",
      "\n",
      "    getrefcount(object, /)\n",
      "        Return the reference count of object.\n",
      "\n",
      "        The count returned is generally one higher than you might expect,\n",
      "        because it includes the (temporary) reference as an argument to\n",
      "        getrefcount().\n",
      "\n",
      "    getsizeof(...)\n",
      "        getsizeof(object [, default]) -> int\n",
      "\n",
      "        Return the size of object in bytes.\n",
      "\n",
      "    getswitchinterval()\n",
      "        Return the current thread switch interval; see sys.setswitchinterval().\n",
      "\n",
      "    gettrace()\n",
      "        Return the global debug tracing function set with sys.settrace.\n",
      "\n",
      "        See the debugger chapter in the library manual.\n",
      "\n",
      "    getunicodeinternedsize()\n",
      "        Return the number of elements of the unicode interned dictionary\n",
      "\n",
      "    intern(string, /)\n",
      "        ``Intern'' the given string.\n",
      "\n",
      "        This enters the string in the (global) table of interned strings whose\n",
      "        purpose is to speed up dictionary lookups. Return the string itself or\n",
      "        the previously interned string object with the same value.\n",
      "\n",
      "    is_finalizing()\n",
      "        Return True if Python is exiting.\n",
      "\n",
      "    is_stack_trampoline_active()\n",
      "        Return *True* if a stack profiler trampoline is active.\n",
      "\n",
      "    set_asyncgen_hooks(...)\n",
      "        set_asyncgen_hooks(* [, firstiter] [, finalizer])\n",
      "\n",
      "        Set a finalizer for async generators objects.\n",
      "\n",
      "    set_coroutine_origin_tracking_depth(depth)\n",
      "        Enable or disable origin tracking for coroutine objects in this thread.\n",
      "\n",
      "        Coroutine objects will track 'depth' frames of traceback information\n",
      "        about where they came from, available in their cr_origin attribute.\n",
      "\n",
      "        Set a depth of 0 to disable.\n",
      "\n",
      "    set_int_max_str_digits(maxdigits)\n",
      "        Set the maximum string digits limit for non-binary int<->str conversions.\n",
      "\n",
      "    setdlopenflags(flags, /)\n",
      "        Set the flags used by the interpreter for dlopen calls.\n",
      "\n",
      "        This is used, for example, when the interpreter loads extension\n",
      "        modules. Among other things, this will enable a lazy resolving of\n",
      "        symbols when importing a module, if called as sys.setdlopenflags(0).\n",
      "        To share symbols across extension modules, call as\n",
      "        sys.setdlopenflags(os.RTLD_GLOBAL).  Symbolic names for the flag\n",
      "        modules can be found in the os module (RTLD_xxx constants, e.g.\n",
      "        os.RTLD_LAZY).\n",
      "\n",
      "    setprofile(...)\n",
      "        setprofile(function)\n",
      "\n",
      "        Set the profiling function.  It will be called on each function call\n",
      "        and return.  See the profiler chapter in the library manual.\n",
      "\n",
      "    setswitchinterval(interval, /)\n",
      "        Set the ideal thread switching delay inside the Python interpreter.\n",
      "\n",
      "        The actual frequency of switching threads can be lower if the\n",
      "        interpreter executes long sequences of uninterruptible code\n",
      "        (this is implementation-specific and workload-dependent).\n",
      "\n",
      "        The parameter must represent the desired switching delay in seconds\n",
      "        A typical value is 0.005 (5 milliseconds).\n",
      "\n",
      "    settrace(...)\n",
      "        settrace(function)\n",
      "\n",
      "        Set the global debug tracing function.  It will be called on each\n",
      "        function call.  See the debugger chapter in the library manual.\n",
      "\n",
      "    unraisablehook(unraisable, /)\n",
      "        Handle an unraisable exception.\n",
      "\n",
      "        The unraisable argument has the following attributes:\n",
      "\n",
      "        * exc_type: Exception type.\n",
      "        * exc_value: Exception value, can be None.\n",
      "        * exc_traceback: Exception traceback, can be None.\n",
      "        * err_msg: Error message, can be None.\n",
      "        * object: Object causing the exception, can be None.\n",
      "\n",
      "DATA\n",
      "    __stderr__ = <_io.TextIOWrapper name='<stderr>' mode='w' encoding='utf...\n",
      "    __stdin__ = <_io.TextIOWrapper name='<stdin>' mode='r' encoding='utf-8...\n",
      "    __stdout__ = <_io.TextIOWrapper name='<stdout>' mode='w' encoding='utf...\n",
      "    abiflags = ''\n",
      "    api_version = 1013\n",
      "    argv = ['/home/codespace/.local/lib/python3.12/site-packages/ipykernel...\n",
      "    base_exec_prefix = '/home/codespace/.python/current'\n",
      "    base_prefix = '/home/codespace/.python/current'\n",
      "    builtin_module_names = ('_abc', '_ast', '_codecs', '_collections', '_f...\n",
      "    byteorder = 'little'\n",
      "    copyright = 'Copyright (c) 2001-2023 Python Software Foundati...ematis...\n",
      "    displayhook = <ipykernel.displayhook.ZMQShellDisplayHook object>\n",
      "    dont_write_bytecode = False\n",
      "    exec_prefix = '/home/codespace/.python/current'\n",
      "    executable = '/home/codespace/.python/current/bin/python3'\n",
      "    flags = sys.flags(debug=0, inspect=0, interactive=0, opt...ding=0, saf...\n",
      "    float_info = sys.float_info(max=1.7976931348623157e+308, max_...epsilo...\n",
      "    float_repr_style = 'short'\n",
      "    hash_info = sys.hash_info(width=64, modulus=2305843009213693...iphash1...\n",
      "    hexversion = 51118576\n",
      "    implementation = namespace(name='cpython', cache_tag='cpython-312...xv...\n",
      "    int_info = sys.int_info(bits_per_digit=30, sizeof_digit=4, ..._str_dig...\n",
      "    last_value = AttributeError(\"module 'sys' has no attribute 'winver'\")\n",
      "    maxsize = 9223372036854775807\n",
      "    maxunicode = 1114111\n",
      "    meta_path = [<_distutils_hack.DistutilsMetaFinder object>, <class '_fr...\n",
      "    modules = {'IPython': <module 'IPython' from '/home/codespace/.local/l...\n",
      "    orig_argv = ['/home/codespace/.python/current/bin/python3', '-m', 'ipy...\n",
      "    path = ['/home/codespace/.python/current/lib/python312.zip', '/home/co...\n",
      "    path_hooks = [<class 'zipimport.zipimporter'>, <function FileFinder.pa...\n",
      "    path_importer_cache = {'/home/codespace/.local/lib/python3.12/site-pac...\n",
      "    platform = 'linux'\n",
      "    platlibdir = 'lib'\n",
      "    prefix = '/home/codespace/.python/current'\n",
      "    ps1 = 'In : '\n",
      "    ps2 = '...: '\n",
      "    ps3 = 'Out: '\n",
      "    pycache_prefix = None\n",
      "    setrecursionlimit = 150\n",
      "    stderr = <ipykernel.iostream.OutStream object>\n",
      "    stdin = <_io.TextIOWrapper name='<stdin>' mode='r' encoding='utf-8'>\n",
      "    stdlib_module_names = frozenset({'__future__', '_abc', '_aix_support',...\n",
      "    stdout = <ipykernel.iostream.OutStream object>\n",
      "    thread_info = sys.thread_info(name='pthread', lock='semaphore', versio...\n",
      "    version = '3.12.1 (main, Aug 20 2024, 19:28:58) [GCC 9.4.0]'\n",
      "    version_info = sys.version_info(major=3, minor=12, micro=1, releaselev...\n",
      "    warnoptions = []\n",
      "\n",
      "FILE\n",
      "    (built-in)\n",
      "\n",
      "\n"
     ]
    }
   ],
   "source": [
    "help(sys)"
   ]
  },
  {
   "cell_type": "code",
   "execution_count": 41,
   "metadata": {},
   "outputs": [],
   "source": [
    "import platform"
   ]
  },
  {
   "cell_type": "code",
   "execution_count": 42,
   "metadata": {},
   "outputs": [
    {
     "name": "stdout",
     "output_type": "stream",
     "text": [
      "['_Processor', '_WIN32_CLIENT_RELEASES', '_WIN32_SERVER_RELEASES', '__builtins__', '__cached__', '__copyright__', '__doc__', '__file__', '__loader__', '__name__', '__package__', '__spec__', '__version__', '_comparable_version', '_default_architecture', '_follow_symlinks', '_get_machine_win32', '_java_getprop', '_mac_ver_xml', '_node', '_norm_version', '_os_release_cache', '_os_release_candidates', '_parse_os_release', '_platform', '_platform_cache', '_sys_version', '_sys_version_cache', '_syscmd_file', '_syscmd_ver', '_uname_cache', '_unknown_as_blank', '_ver_stages', '_win32_ver', '_wmi_query', 'architecture', 'collections', 'freedesktop_os_release', 'functools', 'itertools', 'java_ver', 'libc_ver', 'mac_ver', 'machine', 'node', 'os', 'platform', 'processor', 'python_branch', 'python_build', 'python_compiler', 'python_implementation', 'python_revision', 'python_version', 'python_version_tuple', 're', 'release', 'sys', 'system', 'system_alias', 'uname', 'uname_result', 'version', 'win32_edition', 'win32_is_iot', 'win32_ver']\n"
     ]
    }
   ],
   "source": [
    "print(dir(platform))"
   ]
  },
  {
   "cell_type": "code",
   "execution_count": 43,
   "metadata": {},
   "outputs": [
    {
     "name": "stdout",
     "output_type": "stream",
     "text": [
      "Help on module platform:\n",
      "\n",
      "NAME\n",
      "    platform\n",
      "\n",
      "MODULE REFERENCE\n",
      "    https://docs.python.org/3.12/library/platform.html\n",
      "\n",
      "    The following documentation is automatically generated from the Python\n",
      "    source files.  It may be incomplete, incorrect or include features that\n",
      "    are considered implementation detail and may vary between Python\n",
      "    implementations.  When in doubt, consult the module reference at the\n",
      "    location listed above.\n",
      "\n",
      "DESCRIPTION\n",
      "    This module tries to retrieve as much platform-identifying data as\n",
      "    possible. It makes this information available via function APIs.\n",
      "\n",
      "    If called from the command line, it prints the platform\n",
      "    information concatenated as single string to stdout. The output\n",
      "    format is usable as part of a filename.\n",
      "\n",
      "CLASSES\n",
      "    uname_result_base(builtins.tuple)\n",
      "        uname_result\n",
      "\n",
      "    class uname_result(uname_result_base)\n",
      "     |  uname_result(system, node, release, version, machine)\n",
      "     |\n",
      "     |  A uname_result that's largely compatible with a\n",
      "     |  simple namedtuple except that 'processor' is\n",
      "     |  resolved late and cached to avoid calling \"uname\"\n",
      "     |  except when needed.\n",
      "     |\n",
      "     |  Method resolution order:\n",
      "     |      uname_result\n",
      "     |      uname_result_base\n",
      "     |      builtins.tuple\n",
      "     |      builtins.object\n",
      "     |\n",
      "     |  Methods defined here:\n",
      "     |\n",
      "     |  processor = <functools.cached_property object>\n",
      "     |  __getitem__(self, key)\n",
      "     |      Return self[key].\n",
      "     |\n",
      "     |  __iter__(self)\n",
      "     |      Implement iter(self).\n",
      "     |\n",
      "     |  __len__(self)\n",
      "     |      Return len(self).\n",
      "     |\n",
      "     |  __reduce__(self)\n",
      "     |      Helper for pickle.\n",
      "     |\n",
      "     |  ----------------------------------------------------------------------\n",
      "     |  Class methods defined here:\n",
      "     |\n",
      "     |  _make(iterable) from builtins.type\n",
      "     |      Make a new uname_result_base object from a sequence or iterable\n",
      "     |\n",
      "     |  ----------------------------------------------------------------------\n",
      "     |  Data descriptors defined here:\n",
      "     |\n",
      "     |  __dict__\n",
      "     |      dictionary for instance variables\n",
      "     |\n",
      "     |  ----------------------------------------------------------------------\n",
      "     |  Data and other attributes defined here:\n",
      "     |\n",
      "     |  _fields = ('system', 'node', 'release', 'version', 'machine', 'process...\n",
      "     |\n",
      "     |  ----------------------------------------------------------------------\n",
      "     |  Methods inherited from uname_result_base:\n",
      "     |\n",
      "     |  __getnewargs__(self)\n",
      "     |      Return self as a plain tuple.  Used by copy and pickle.\n",
      "     |\n",
      "     |  __repr__(self)\n",
      "     |      Return a nicely formatted representation string\n",
      "     |\n",
      "     |  _asdict(self)\n",
      "     |      Return a new dict which maps field names to their values.\n",
      "     |\n",
      "     |  _replace(self, /, **kwds)\n",
      "     |      Return a new uname_result_base object replacing specified fields with new values\n",
      "     |\n",
      "     |  ----------------------------------------------------------------------\n",
      "     |  Static methods inherited from uname_result_base:\n",
      "     |\n",
      "     |  __new__(_cls, system, node, release, version, machine)\n",
      "     |      Create new instance of uname_result_base(system, node, release, version, machine)\n",
      "     |\n",
      "     |  ----------------------------------------------------------------------\n",
      "     |  Data descriptors inherited from uname_result_base:\n",
      "     |\n",
      "     |  system\n",
      "     |      Alias for field number 0\n",
      "     |\n",
      "     |  node\n",
      "     |      Alias for field number 1\n",
      "     |\n",
      "     |  release\n",
      "     |      Alias for field number 2\n",
      "     |\n",
      "     |  version\n",
      "     |      Alias for field number 3\n",
      "     |\n",
      "     |  machine\n",
      "     |      Alias for field number 4\n",
      "     |\n",
      "     |  ----------------------------------------------------------------------\n",
      "     |  Data and other attributes inherited from uname_result_base:\n",
      "     |\n",
      "     |  __match_args__ = ('system', 'node', 'release', 'version', 'machine')\n",
      "     |\n",
      "     |  _field_defaults = {}\n",
      "     |\n",
      "     |  ----------------------------------------------------------------------\n",
      "     |  Methods inherited from builtins.tuple:\n",
      "     |\n",
      "     |  __add__(self, value, /)\n",
      "     |      Return self+value.\n",
      "     |\n",
      "     |  __contains__(self, key, /)\n",
      "     |      Return bool(key in self).\n",
      "     |\n",
      "     |  __eq__(self, value, /)\n",
      "     |      Return self==value.\n",
      "     |\n",
      "     |  __ge__(self, value, /)\n",
      "     |      Return self>=value.\n",
      "     |\n",
      "     |  __getattribute__(self, name, /)\n",
      "     |      Return getattr(self, name).\n",
      "     |\n",
      "     |  __gt__(self, value, /)\n",
      "     |      Return self>value.\n",
      "     |\n",
      "     |  __hash__(self, /)\n",
      "     |      Return hash(self).\n",
      "     |\n",
      "     |  __le__(self, value, /)\n",
      "     |      Return self<=value.\n",
      "     |\n",
      "     |  __lt__(self, value, /)\n",
      "     |      Return self<value.\n",
      "     |\n",
      "     |  __mul__(self, value, /)\n",
      "     |      Return self*value.\n",
      "     |\n",
      "     |  __ne__(self, value, /)\n",
      "     |      Return self!=value.\n",
      "     |\n",
      "     |  __rmul__(self, value, /)\n",
      "     |      Return value*self.\n",
      "     |\n",
      "     |  count(self, value, /)\n",
      "     |      Return number of occurrences of value.\n",
      "     |\n",
      "     |  index(self, value, start=0, stop=9223372036854775807, /)\n",
      "     |      Return first index of value.\n",
      "     |\n",
      "     |      Raises ValueError if the value is not present.\n",
      "     |\n",
      "     |  ----------------------------------------------------------------------\n",
      "     |  Class methods inherited from builtins.tuple:\n",
      "     |\n",
      "     |  __class_getitem__(...) from builtins.type\n",
      "     |      See PEP 585\n",
      "\n",
      "FUNCTIONS\n",
      "    architecture(executable='/home/codespace/.python/current/bin/python3', bits='', linkage='')\n",
      "        Queries the given executable (defaults to the Python interpreter\n",
      "        binary) for various architecture information.\n",
      "\n",
      "        Returns a tuple (bits, linkage) which contains information about\n",
      "        the bit architecture and the linkage format used for the\n",
      "        executable. Both values are returned as strings.\n",
      "\n",
      "        Values that cannot be determined are returned as given by the\n",
      "        parameter presets. If bits is given as '', the sizeof(pointer)\n",
      "        (or sizeof(long) on Python version < 1.5.2) is used as\n",
      "        indicator for the supported pointer size.\n",
      "\n",
      "        The function relies on the system's \"file\" command to do the\n",
      "        actual work. This is available on most if not all Unix\n",
      "        platforms. On some non-Unix platforms where the \"file\" command\n",
      "        does not exist and the executable is set to the Python interpreter\n",
      "        binary defaults from _default_architecture are used.\n",
      "\n",
      "    freedesktop_os_release()\n",
      "        Return operation system identification from freedesktop.org os-release\n",
      "\n",
      "    java_ver(release='', vendor='', vminfo=('', '', ''), osinfo=('', '', ''))\n",
      "        Version interface for Jython.\n",
      "\n",
      "        Returns a tuple (release, vendor, vminfo, osinfo) with vminfo being\n",
      "        a tuple (vm_name, vm_release, vm_vendor) and osinfo being a\n",
      "        tuple (os_name, os_version, os_arch).\n",
      "\n",
      "        Values which cannot be determined are set to the defaults\n",
      "        given as parameters (which all default to '').\n",
      "\n",
      "    libc_ver(executable=None, lib='', version='', chunksize=16384)\n",
      "        Tries to determine the libc version that the file executable\n",
      "        (which defaults to the Python interpreter) is linked against.\n",
      "\n",
      "        Returns a tuple of strings (lib,version) which default to the\n",
      "        given parameters in case the lookup fails.\n",
      "\n",
      "        Note that the function has intimate knowledge of how different\n",
      "        libc versions add symbols to the executable and thus is probably\n",
      "        only usable for executables compiled using gcc.\n",
      "\n",
      "        The file is read and scanned in chunks of chunksize bytes.\n",
      "\n",
      "    mac_ver(release='', versioninfo=('', '', ''), machine='')\n",
      "        Get macOS version information and return it as tuple (release,\n",
      "        versioninfo, machine) with versioninfo being a tuple (version,\n",
      "        dev_stage, non_release_version).\n",
      "\n",
      "        Entries which cannot be determined are set to the parameter values\n",
      "        which default to ''. All tuple entries are strings.\n",
      "\n",
      "    machine()\n",
      "        Returns the machine type, e.g. 'i386'\n",
      "\n",
      "        An empty string is returned if the value cannot be determined.\n",
      "\n",
      "    node()\n",
      "        Returns the computer's network name (which may not be fully\n",
      "        qualified)\n",
      "\n",
      "        An empty string is returned if the value cannot be determined.\n",
      "\n",
      "    platform(aliased=False, terse=False)\n",
      "        Returns a single string identifying the underlying platform\n",
      "        with as much useful information as possible (but no more :).\n",
      "\n",
      "        The output is intended to be human readable rather than\n",
      "        machine parseable. It may look different on different\n",
      "        platforms and this is intended.\n",
      "\n",
      "        If \"aliased\" is true, the function will use aliases for\n",
      "        various platforms that report system names which differ from\n",
      "        their common names, e.g. SunOS will be reported as\n",
      "        Solaris. The system_alias() function is used to implement\n",
      "        this.\n",
      "\n",
      "        Setting terse to true causes the function to return only the\n",
      "        absolute minimum information needed to identify the platform.\n",
      "\n",
      "    processor()\n",
      "        Returns the (true) processor name, e.g. 'amdk6'\n",
      "\n",
      "        An empty string is returned if the value cannot be\n",
      "        determined. Note that many platforms do not provide this\n",
      "        information or simply return the same value as for machine(),\n",
      "        e.g.  NetBSD does this.\n",
      "\n",
      "    python_branch()\n",
      "        Returns a string identifying the Python implementation\n",
      "        branch.\n",
      "\n",
      "        For CPython this is the SCM branch from which the\n",
      "        Python binary was built.\n",
      "\n",
      "        If not available, an empty string is returned.\n",
      "\n",
      "    python_build()\n",
      "        Returns a tuple (buildno, builddate) stating the Python\n",
      "        build number and date as strings.\n",
      "\n",
      "    python_compiler()\n",
      "        Returns a string identifying the compiler used for compiling\n",
      "        Python.\n",
      "\n",
      "    python_implementation()\n",
      "        Returns a string identifying the Python implementation.\n",
      "\n",
      "        Currently, the following implementations are identified:\n",
      "          'CPython' (C implementation of Python),\n",
      "          'Jython' (Java implementation of Python),\n",
      "          'PyPy' (Python implementation of Python).\n",
      "\n",
      "    python_revision()\n",
      "        Returns a string identifying the Python implementation\n",
      "        revision.\n",
      "\n",
      "        For CPython this is the SCM revision from which the\n",
      "        Python binary was built.\n",
      "\n",
      "        If not available, an empty string is returned.\n",
      "\n",
      "    python_version()\n",
      "        Returns the Python version as string 'major.minor.patchlevel'\n",
      "\n",
      "        Note that unlike the Python sys.version, the returned value\n",
      "        will always include the patchlevel (it defaults to 0).\n",
      "\n",
      "    python_version_tuple()\n",
      "        Returns the Python version as tuple (major, minor, patchlevel)\n",
      "        of strings.\n",
      "\n",
      "        Note that unlike the Python sys.version, the returned value\n",
      "        will always include the patchlevel (it defaults to 0).\n",
      "\n",
      "    release()\n",
      "        Returns the system's release, e.g. '2.2.0' or 'NT'\n",
      "\n",
      "        An empty string is returned if the value cannot be determined.\n",
      "\n",
      "    system()\n",
      "        Returns the system/OS name, e.g. 'Linux', 'Windows' or 'Java'.\n",
      "\n",
      "        An empty string is returned if the value cannot be determined.\n",
      "\n",
      "    system_alias(system, release, version)\n",
      "        Returns (system, release, version) aliased to common\n",
      "        marketing names used for some systems.\n",
      "\n",
      "        It also does some reordering of the information in some cases\n",
      "        where it would otherwise cause confusion.\n",
      "\n",
      "    uname()\n",
      "        Fairly portable uname interface. Returns a tuple\n",
      "        of strings (system, node, release, version, machine, processor)\n",
      "        identifying the underlying platform.\n",
      "\n",
      "        Note that unlike the os.uname function this also returns\n",
      "        possible processor information as an additional tuple entry.\n",
      "\n",
      "        Entries which cannot be determined are set to ''.\n",
      "\n",
      "    version()\n",
      "        Returns the system's release version, e.g. '#3 on degas'\n",
      "\n",
      "        An empty string is returned if the value cannot be determined.\n",
      "\n",
      "    win32_edition()\n",
      "\n",
      "    win32_is_iot()\n",
      "\n",
      "    win32_ver(release='', version='', csd='', ptype='')\n",
      "\n",
      "DATA\n",
      "    __copyright__ = '\\n    Copyright (c) 1999-2000, Marc-Andre Lemburg... ...\n",
      "\n",
      "VERSION\n",
      "    1.0.8\n",
      "\n",
      "FILE\n",
      "    /home/codespace/.python/current/lib/python3.12/platform.py\n",
      "\n",
      "\n"
     ]
    }
   ],
   "source": [
    "help(platform)"
   ]
  },
  {
   "cell_type": "code",
   "execution_count": 44,
   "metadata": {},
   "outputs": [
    {
     "data": {
      "text/plain": [
       "('64bit', 'ELF')"
      ]
     },
     "execution_count": 44,
     "metadata": {},
     "output_type": "execute_result"
    }
   ],
   "source": [
    "platform.architecture()"
   ]
  },
  {
   "cell_type": "code",
   "execution_count": 45,
   "metadata": {},
   "outputs": [
    {
     "data": {
      "text/plain": [
       "'x86_64'"
      ]
     },
     "execution_count": 45,
     "metadata": {},
     "output_type": "execute_result"
    }
   ],
   "source": [
    "platform.machine()"
   ]
  },
  {
   "cell_type": "code",
   "execution_count": 46,
   "metadata": {},
   "outputs": [
    {
     "data": {
      "text/plain": [
       "'codespaces-ed35e0'"
      ]
     },
     "execution_count": 46,
     "metadata": {},
     "output_type": "execute_result"
    }
   ],
   "source": [
    "platform.node()"
   ]
  },
  {
   "cell_type": "code",
   "execution_count": 47,
   "metadata": {},
   "outputs": [
    {
     "data": {
      "text/plain": [
       "'x86_64'"
      ]
     },
     "execution_count": 47,
     "metadata": {},
     "output_type": "execute_result"
    }
   ],
   "source": [
    "platform.processor()"
   ]
  },
  {
   "cell_type": "code",
   "execution_count": 48,
   "metadata": {},
   "outputs": [
    {
     "data": {
      "text/plain": [
       "''"
      ]
     },
     "execution_count": 48,
     "metadata": {},
     "output_type": "execute_result"
    }
   ],
   "source": [
    "platform.python_branch()"
   ]
  },
  {
   "cell_type": "code",
   "execution_count": 49,
   "metadata": {},
   "outputs": [
    {
     "data": {
      "text/plain": [
       "'GCC 9.4.0'"
      ]
     },
     "execution_count": 49,
     "metadata": {},
     "output_type": "execute_result"
    }
   ],
   "source": [
    "platform.python_compiler()"
   ]
  },
  {
   "cell_type": "code",
   "execution_count": 50,
   "metadata": {},
   "outputs": [
    {
     "data": {
      "text/plain": [
       "'CPython'"
      ]
     },
     "execution_count": 50,
     "metadata": {},
     "output_type": "execute_result"
    }
   ],
   "source": [
    "platform.python_implementation()"
   ]
  },
  {
   "cell_type": "markdown",
   "metadata": {},
   "source": [
    "```\n",
    " Currently, the following implementations are identified:\n",
    "          'CPython' (C implementation of Python),\n",
    "          'IronPython' (.NET implementation of Python),\n",
    "          'Jython' (Java implementation of Python),\n",
    "          'PyPy' (Python implementation of Python).\n",
    "```"
   ]
  },
  {
   "cell_type": "code",
   "execution_count": 51,
   "metadata": {},
   "outputs": [
    {
     "data": {
      "text/plain": [
       "''"
      ]
     },
     "execution_count": 51,
     "metadata": {},
     "output_type": "execute_result"
    }
   ],
   "source": [
    "platform.python_revision()"
   ]
  },
  {
   "cell_type": "code",
   "execution_count": 52,
   "metadata": {},
   "outputs": [
    {
     "data": {
      "text/plain": [
       "'Linux'"
      ]
     },
     "execution_count": 52,
     "metadata": {},
     "output_type": "execute_result"
    }
   ],
   "source": [
    "platform.system()"
   ]
  },
  {
   "cell_type": "code",
   "execution_count": 53,
   "metadata": {},
   "outputs": [
    {
     "data": {
      "text/plain": [
       "uname_result(system='Linux', node='codespaces-ed35e0', release='6.5.0-1025-azure', version='#26~22.04.1-Ubuntu SMP Thu Jul 11 22:33:04 UTC 2024', machine='x86_64')"
      ]
     },
     "execution_count": 53,
     "metadata": {},
     "output_type": "execute_result"
    }
   ],
   "source": [
    "platform.uname()"
   ]
  },
  {
   "cell_type": "markdown",
   "metadata": {},
   "source": [
    "## Passing Command-line arguments"
   ]
  },
  {
   "cell_type": "code",
   "execution_count": 54,
   "metadata": {},
   "outputs": [
    {
     "data": {
      "text/plain": [
       "['/home/codespace/.local/lib/python3.12/site-packages/ipykernel_launcher.py',\n",
       " '--f=/home/codespace/.local/share/jupyter/runtime/kernel-v3b8b0c974a38207df9739f43d795898594f82200c.json']"
      ]
     },
     "execution_count": 54,
     "metadata": {},
     "output_type": "execute_result"
    }
   ],
   "source": [
    "sys.argv"
   ]
  },
  {
   "cell_type": "code",
   "execution_count": 55,
   "metadata": {},
   "outputs": [
    {
     "ename": "NameError",
     "evalue": "name '__file__' is not defined",
     "output_type": "error",
     "traceback": [
      "\u001b[0;31m---------------------------------------------------------------------------\u001b[0m",
      "\u001b[0;31mNameError\u001b[0m                                 Traceback (most recent call last)",
      "Cell \u001b[0;32mIn[55], line 1\u001b[0m\n\u001b[0;32m----> 1\u001b[0m \u001b[38;5;18;43m__file__\u001b[39;49m\n",
      "\u001b[0;31mNameError\u001b[0m: name '__file__' is not defined"
     ]
    }
   ],
   "source": [
    "__file__"
   ]
  },
  {
   "cell_type": "markdown",
   "metadata": {},
   "source": [
    "__NOTE:__ Lets try these two above commands in script mode"
   ]
  }
 ],
 "metadata": {
  "kernelspec": {
   "display_name": "Python 3",
   "language": "python",
   "name": "python3"
  },
  "language_info": {
   "codemirror_mode": {
    "name": "ipython",
    "version": 3
   },
   "file_extension": ".py",
   "mimetype": "text/x-python",
   "name": "python",
   "nbconvert_exporter": "python",
   "pygments_lexer": "ipython3",
   "version": "3.12.1"
  }
 },
 "nbformat": 4,
 "nbformat_minor": 2
}
