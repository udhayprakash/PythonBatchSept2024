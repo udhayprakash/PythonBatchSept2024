{
 "cells": [
  {
   "cell_type": "markdown",
   "metadata": {},
   "source": [
    "# Protobuff\n",
    "\n",
    "    PROTOBUF (Protocol Buffers)\n",
    "\n",
    "    Google's Protocol Buffers are lightweight data interchange formats.\n",
    "\n",
    "    mostly used in GRPC communications\n"
   ]
  },
  {
   "cell_type": "code",
   "execution_count": null,
   "metadata": {},
   "outputs": [],
   "source": [
    "from google.protobuf import message\n",
    "from example_pb2 import ExampleMessage\n",
    "\n",
    "\n",
    "\n",
    "# 1. Create a Protobuf Message\n",
    "def create_protobuf_file(file_name):\n",
    "    message = ExampleMessage()\n",
    "    message.name = \"John Doe\"\n",
    "    message.id = 1234\n",
    "    message.email = \"johndoe@example.com\"\n",
    "\n",
    "    with open(file_name, 'wb') as f:\n",
    "        f.write(message.SerializeToString())\n",
    "\n",
    "# 2. Read Protobuf Message\n",
    "def read_protobuf_file(file_name):\n",
    "    message = ExampleMessage()\n",
    "    with open(file_name, 'rb') as f:\n",
    "        message.ParseFromString(f.read())\n",
    "    print(message)\n",
    "\n",
    "# Usage example\n",
    "file_name = \"example.pb\"\n",
    "create_protobuf_file(file_name)\n",
    "read_protobuf_file(file_name)\n"
   ]
  }
 ],
 "metadata": {
  "kernelspec": {
   "display_name": "Python 3",
   "language": "python",
   "name": "python3"
  },
  "language_info": {
   "name": "python",
   "version": "3.12.1"
  }
 },
 "nbformat": 4,
 "nbformat_minor": 2
}
