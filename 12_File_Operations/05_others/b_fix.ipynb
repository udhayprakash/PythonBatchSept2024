{
 "cells": [
  {
   "cell_type": "markdown",
   "metadata": {},
   "source": [
    "# FIX and FIXML\n",
    "\n",
    "    FIX (Financial Information eXchange) and FIXML (FIX Markup Language)\n",
    "    The FIX protocol is typically processed with specialized libraries, like fixorchestra.\n",
    "\n"
   ]
  },
  {
   "cell_type": "code",
   "execution_count": 1,
   "metadata": {},
   "outputs": [],
   "source": [
    "def create_fix_file(file_name):\n",
    "    with open(file_name, 'w') as f:\n",
    "        f.write(\"8=FIX.4.2|9=12|35=D|49=CLIENT|56=SERVER|34=3|10=185|\")\n",
    "\n",
    "\n",
    "create_fix_file('example.fix')"
   ]
  },
  {
   "cell_type": "code",
   "execution_count": 2,
   "metadata": {},
   "outputs": [
    {
     "name": "stdout",
     "output_type": "stream",
     "text": [
      "8=FIX.4.2|9=12|35=D|49=CLIENT|56=SERVER|34=3|10=185|"
     ]
    }
   ],
   "source": [
    "! cat example.fix"
   ]
  },
  {
   "cell_type": "code",
   "execution_count": 3,
   "metadata": {},
   "outputs": [
    {
     "name": "stdout",
     "output_type": "stream",
     "text": [
      "8=FIX.4.2\n",
      "9=12\n",
      "35=D\n",
      "49=CLIENT\n",
      "56=SERVER\n",
      "34=3\n",
      "10=185\n",
      "\n"
     ]
    }
   ],
   "source": [
    "def read_fix_file(file_name):\n",
    "    with open(file_name, 'r') as f:\n",
    "        message = f.read().replace(\"|\", \"\\n\")\n",
    "        print(message)\n",
    "\n",
    "\n",
    "\n",
    "read_fix_file('example.fix')\n",
    "  "
   ]
  },
  {
   "cell_type": "code",
   "execution_count": null,
   "metadata": {},
   "outputs": [],
   "source": [
    "# from fixorchestra import OrchestraParser\n",
    "# TODO \n"
   ]
  },
  {
   "cell_type": "markdown",
   "metadata": {},
   "source": [
    "```\n",
    "    \n",
    "    8=FIX.4.2|9=12|35=D|49=CLIENT|56=SERVER|34=3|10=185|\n",
    "\n",
    "\n",
    "    8=FIX.4.2       → Protocol version (FIX 4.2).\n",
    "    9=12            → Body length (12 bytes in this example).\n",
    "    35=D            → Message type (e.g., D stands for New Order - Single).\n",
    "    49=CLIENT       → Sender Comp ID (typically the ID of the client sending the message).\n",
    "    56=SERVER       → Target Comp ID (the server or counterparty receiving the message).\n",
    "    34=3            → Message sequence number.\n",
    "    10=185          → Checksum.\n",
    "\n",
    "\n",
    "\n",
    "```"
   ]
  }
 ],
 "metadata": {
  "kernelspec": {
   "display_name": "Python 3",
   "language": "python",
   "name": "python3"
  },
  "language_info": {
   "codemirror_mode": {
    "name": "ipython",
    "version": 3
   },
   "file_extension": ".py",
   "mimetype": "text/x-python",
   "name": "python",
   "nbconvert_exporter": "python",
   "pygments_lexer": "ipython3",
   "version": "3.12.1"
  }
 },
 "nbformat": 4,
 "nbformat_minor": 2
}
