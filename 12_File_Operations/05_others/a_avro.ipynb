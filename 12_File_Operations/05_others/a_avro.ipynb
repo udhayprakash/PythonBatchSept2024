{
 "cells": [
  {
   "cell_type": "markdown",
   "metadata": {},
   "source": [
    "# AVRO (Apache Avro)\n",
    "\n",
    "    Avro is a row-based storage format often used in big data environments.\n",
    "    \n",
    "    Stream processing with Apache kafka\n",
    "\n",
    "\n"
   ]
  },
  {
   "cell_type": "code",
   "execution_count": 2,
   "metadata": {},
   "outputs": [
    {
     "name": "stdout",
     "output_type": "stream",
     "text": [
      "Collecting fastavro\n",
      "  Downloading fastavro-1.9.7-cp312-cp312-manylinux_2_17_x86_64.manylinux2014_x86_64.whl.metadata (5.5 kB)\n",
      "Downloading fastavro-1.9.7-cp312-cp312-manylinux_2_17_x86_64.manylinux2014_x86_64.whl (3.3 MB)\n",
      "\u001b[2K   \u001b[90m━━━━━━━━━━━━━━━━━━━━━━━━━━━━━━━━━━━━━━━━\u001b[0m \u001b[32m3.3/3.3 MB\u001b[0m \u001b[31m13.4 MB/s\u001b[0m eta \u001b[36m0:00:00\u001b[0m \u001b[36m0:00:01\u001b[0m\n",
      "\u001b[?25hInstalling collected packages: fastavro\n",
      "Successfully installed fastavro-1.9.7\n"
     ]
    }
   ],
   "source": [
    "! pip install -U fastavro "
   ]
  },
  {
   "cell_type": "code",
   "execution_count": 3,
   "metadata": {},
   "outputs": [
    {
     "data": {
      "text/plain": [
       "['__all__',\n",
       " '__builtins__',\n",
       " '__cached__',\n",
       " '__doc__',\n",
       " '__file__',\n",
       " '__loader__',\n",
       " '__name__',\n",
       " '__package__',\n",
       " '__path__',\n",
       " '__spec__',\n",
       " '__version__',\n",
       " '__version_info__',\n",
       " '_logical_readers',\n",
       " '_logical_writers',\n",
       " '_read',\n",
       " '_read_common',\n",
       " '_read_py',\n",
       " '_schema',\n",
       " '_schema_common',\n",
       " '_validate_common',\n",
       " '_validation',\n",
       " '_write',\n",
       " '_write_common',\n",
       " '_write_py',\n",
       " 'block_reader',\n",
       " 'const',\n",
       " 'fastavro',\n",
       " 'io',\n",
       " 'is_avro',\n",
       " 'json_read',\n",
       " 'json_reader',\n",
       " 'json_write',\n",
       " 'json_writer',\n",
       " 'logical_readers',\n",
       " 'logical_writers',\n",
       " 'parse_schema',\n",
       " 'read',\n",
       " 'reader',\n",
       " 'repository',\n",
       " 'schema',\n",
       " 'schemaless_reader',\n",
       " 'schemaless_writer',\n",
       " 'types',\n",
       " 'validate',\n",
       " 'validation',\n",
       " 'write',\n",
       " 'writer']"
      ]
     },
     "execution_count": 3,
     "metadata": {},
     "output_type": "execute_result"
    }
   ],
   "source": [
    "import fastavro\n",
    "\n",
    "dir(fastavro)"
   ]
  },
  {
   "cell_type": "code",
   "execution_count": 4,
   "metadata": {},
   "outputs": [],
   "source": [
    "# Define Avro schema\n",
    "schema = {\n",
    "    \"type\": \"record\",\n",
    "    \"name\": \"User\",\n",
    "    \"fields\": [{\"name\": \"name\", \"type\": \"string\"}, {\"name\": \"age\", \"type\": \"int\"}]\n",
    "}\n",
    "\n",
    "\n",
    "\n",
    "data = [{\"name\": \"Alice\", \"age\": 25}, {\"name\": \"Bob\", \"age\": 30}]\n"
   ]
  },
  {
   "cell_type": "code",
   "execution_count": 5,
   "metadata": {},
   "outputs": [],
   "source": [
    "from fastavro import writer, parse_schema\n",
    "\n",
    "def create_avro_file(file_name):\n",
    "    with open(file_name, 'wb') as f:\n",
    "        writer(f, parse_schema(schema), data)\n",
    "\n",
    "\n",
    "file_name = \"user.avro\"\n",
    "create_avro_file(file_name)"
   ]
  },
  {
   "cell_type": "code",
   "execution_count": 6,
   "metadata": {},
   "outputs": [
    {
     "name": "stdout",
     "output_type": "stream",
     "text": [
      "Obj\u0001\u0004\u0014avro.codenull\u0016avro.schema�\u0001{\"type\": \"record\", \"name\": \"User\", \"fields\": [{\"name\": \"name\", \"type\": \"string\"}, {\"name\": \"age\", \"type\": \"int\"}]}\u0000�Ā�\t^]8�I!�\u001d���\u0004\u0018\n",
      "Alice2\u0006Bob<�Ā�\t^]8�I!�\u001d���"
     ]
    }
   ],
   "source": [
    "! cat user.avro"
   ]
  },
  {
   "cell_type": "code",
   "execution_count": 8,
   "metadata": {},
   "outputs": [
    {
     "name": "stdout",
     "output_type": "stream",
     "text": [
      "{'name': 'Alice', 'age': 25}\n",
      "{'name': 'Bob', 'age': 30}\n"
     ]
    }
   ],
   "source": [
    "from fastavro import reader \n",
    "\n",
    "def read_avro_file(file_name):\n",
    "    with open(file_name, 'rb') as f:\n",
    "        for record in reader(f):\n",
    "            print(record)\n",
    "\n",
    "\n",
    "read_avro_file(file_name)"
   ]
  },
  {
   "cell_type": "code",
   "execution_count": 11,
   "metadata": {},
   "outputs": [],
   "source": [
    "def update_avro_file(file_name, new_record):\n",
    "    with open(file_name, 'ab+') as f:\n",
    "        writer(f, parse_schema(schema), [new_record])\n",
    "\n",
    "\n",
    "update_avro_file(file_name, {\"name\": \"Charlie\", \"age\": 22})\n"
   ]
  },
  {
   "cell_type": "code",
   "execution_count": 12,
   "metadata": {},
   "outputs": [
    {
     "name": "stdout",
     "output_type": "stream",
     "text": [
      "Obj\u0001\u0004\u0014avro.codenull\u0016avro.schema�\u0001{\"type\": \"record\", \"name\": \"User\", \"fields\": [{\"name\": \"name\", \"type\": \"string\"}, {\"name\": \"age\", \"type\": \"int\"}]}\u0000�jx�\u0004���\u0001q\n",
      "g��\u0015\u0018\u0004\u0018\n",
      "Alice2\u0006Bob<�jx�\u0004���\u0001q\n",
      "g��\u0015\u0018\u0002\u0012\u000eCharlie,�jx�\u0004���\u0001q\n",
      "g��\u0015\u0018"
     ]
    }
   ],
   "source": [
    "! cat user.avro"
   ]
  },
  {
   "cell_type": "code",
   "execution_count": null,
   "metadata": {},
   "outputs": [],
   "source": []
  }
 ],
 "metadata": {
  "kernelspec": {
   "display_name": "Python 3",
   "language": "python",
   "name": "python3"
  },
  "language_info": {
   "codemirror_mode": {
    "name": "ipython",
    "version": 3
   },
   "file_extension": ".py",
   "mimetype": "text/x-python",
   "name": "python",
   "nbconvert_exporter": "python",
   "pygments_lexer": "ipython3",
   "version": "3.12.1"
  }
 },
 "nbformat": 4,
 "nbformat_minor": 2
}
