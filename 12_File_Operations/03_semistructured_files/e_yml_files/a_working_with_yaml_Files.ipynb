{
 "cells": [
  {
   "cell_type": "markdown",
   "metadata": {},
   "source": [
    "# YAML \n",
    "\n",
    "        - YAML Ain't Markup Language\n",
    "        - human-readable data-serialization language.\n",
    "        - commonly used for configuration files,\n",
    "        - also, in data storage (e.g. debugging output) or transmittion (e.g. document headers)\n",
    "\n",
    "        - natively supports three basic data types:\n",
    "            1. scalars (such as strings, integers, and floats),\n",
    "            2. lists, and\n",
    "            3. associative arrays.\n",
    "\n",
    "\n",
    "        Installation (before 3.12)\n",
    "            pip install pyyaml"
   ]
  },
  {
   "cell_type": "code",
   "execution_count": 1,
   "metadata": {},
   "outputs": [
    {
     "data": {
      "text/plain": [
       "['AliasEvent',\n",
       " 'AliasToken',\n",
       " 'AnchorToken',\n",
       " 'BaseDumper',\n",
       " 'BaseLoader',\n",
       " 'BlockEndToken',\n",
       " 'BlockEntryToken',\n",
       " 'BlockMappingStartToken',\n",
       " 'BlockSequenceStartToken',\n",
       " 'CBaseDumper',\n",
       " 'CBaseLoader',\n",
       " 'CDumper',\n",
       " 'CFullLoader',\n",
       " 'CLoader',\n",
       " 'CSafeDumper',\n",
       " 'CSafeLoader',\n",
       " 'CUnsafeLoader',\n",
       " 'CollectionEndEvent',\n",
       " 'CollectionNode',\n",
       " 'CollectionStartEvent',\n",
       " 'DirectiveToken',\n",
       " 'DocumentEndEvent',\n",
       " 'DocumentEndToken',\n",
       " 'DocumentStartEvent',\n",
       " 'DocumentStartToken',\n",
       " 'Dumper',\n",
       " 'Event',\n",
       " 'FlowEntryToken',\n",
       " 'FlowMappingEndToken',\n",
       " 'FlowMappingStartToken',\n",
       " 'FlowSequenceEndToken',\n",
       " 'FlowSequenceStartToken',\n",
       " 'FullLoader',\n",
       " 'KeyToken',\n",
       " 'Loader',\n",
       " 'MappingEndEvent',\n",
       " 'MappingNode',\n",
       " 'MappingStartEvent',\n",
       " 'Mark',\n",
       " 'MarkedYAMLError',\n",
       " 'Node',\n",
       " 'NodeEvent',\n",
       " 'SafeDumper',\n",
       " 'SafeLoader',\n",
       " 'ScalarEvent',\n",
       " 'ScalarNode',\n",
       " 'ScalarToken',\n",
       " 'SequenceEndEvent',\n",
       " 'SequenceNode',\n",
       " 'SequenceStartEvent',\n",
       " 'StreamEndEvent',\n",
       " 'StreamEndToken',\n",
       " 'StreamStartEvent',\n",
       " 'StreamStartToken',\n",
       " 'TagToken',\n",
       " 'Token',\n",
       " 'UnsafeLoader',\n",
       " 'ValueToken',\n",
       " 'YAMLError',\n",
       " 'YAMLObject',\n",
       " 'YAMLObjectMetaclass',\n",
       " '__builtins__',\n",
       " '__cached__',\n",
       " '__doc__',\n",
       " '__file__',\n",
       " '__loader__',\n",
       " '__name__',\n",
       " '__package__',\n",
       " '__path__',\n",
       " '__spec__',\n",
       " '__version__',\n",
       " '__with_libyaml__',\n",
       " '_yaml',\n",
       " 'add_constructor',\n",
       " 'add_implicit_resolver',\n",
       " 'add_multi_constructor',\n",
       " 'add_multi_representer',\n",
       " 'add_path_resolver',\n",
       " 'add_representer',\n",
       " 'compose',\n",
       " 'compose_all',\n",
       " 'composer',\n",
       " 'constructor',\n",
       " 'cyaml',\n",
       " 'dump',\n",
       " 'dump_all',\n",
       " 'dumper',\n",
       " 'emit',\n",
       " 'emitter',\n",
       " 'error',\n",
       " 'events',\n",
       " 'full_load',\n",
       " 'full_load_all',\n",
       " 'io',\n",
       " 'load',\n",
       " 'load_all',\n",
       " 'loader',\n",
       " 'nodes',\n",
       " 'parse',\n",
       " 'parser',\n",
       " 'reader',\n",
       " 'representer',\n",
       " 'resolver',\n",
       " 'safe_dump',\n",
       " 'safe_dump_all',\n",
       " 'safe_load',\n",
       " 'safe_load_all',\n",
       " 'scan',\n",
       " 'scanner',\n",
       " 'serialize',\n",
       " 'serialize_all',\n",
       " 'serializer',\n",
       " 'tokens',\n",
       " 'unsafe_load',\n",
       " 'unsafe_load_all',\n",
       " 'warnings']"
      ]
     },
     "execution_count": 1,
     "metadata": {},
     "output_type": "execute_result"
    }
   ],
   "source": [
    "import yaml\n",
    "\n",
    "dir(yaml)\n"
   ]
  },
  {
   "cell_type": "code",
   "execution_count": 2,
   "metadata": {},
   "outputs": [
    {
     "data": {
      "text/plain": [
       "{'raincoat': 1,\n",
       " 'coins': 5,\n",
       " 'books': 23,\n",
       " 'spectacles': 2,\n",
       " 'chairs': 12,\n",
       " 'pens': 6}"
      ]
     },
     "execution_count": 2,
     "metadata": {},
     "output_type": "execute_result"
    }
   ],
   "source": [
    "# scalar values to python dictionary\n",
    "with open(\"items.yaml\") as f:\n",
    "    data = yaml.load(f, Loader=yaml.SafeLoader)\n",
    "\n",
    "data"
   ]
  },
  {
   "cell_type": "code",
   "execution_count": 3,
   "metadata": {},
   "outputs": [
    {
     "name": "stdout",
     "output_type": "stream",
     "text": [
      "cities -> ['Bratislava', 'Kosice', 'Trnava', 'Moldava', 'Trencin']\n",
      "companies -> ['Eset', 'Slovnaft', 'Duslo Sala', 'Matador Puchov']\n"
     ]
    }
   ],
   "source": [
    "with open(\"data.yaml\") as f:\n",
    "    # Multiple YAML documents are read with load_all()\n",
    "    docs = yaml.load_all(f, Loader=yaml.FullLoader)\n",
    "\n",
    "    for doc in docs:\n",
    "        for k, v in doc.items():\n",
    "            print(k, \"->\", v)"
   ]
  },
  {
   "cell_type": "code",
   "execution_count": 4,
   "metadata": {},
   "outputs": [],
   "source": [
    "### writing  yaml file"
   ]
  },
  {
   "cell_type": "code",
   "execution_count": 5,
   "metadata": {},
   "outputs": [
    {
     "name": "stdout",
     "output_type": "stream",
     "text": [
      "- name: John Doe\n",
      "  occupation: gardener\n",
      "- name: Lucy Black\n",
      "  occupation: teacher\n",
      "\n"
     ]
    }
   ],
   "source": [
    "users = [\n",
    "    {\"name\": \"John Doe\", \"occupation\": \"gardener\"},\n",
    "    {\"name\": \"Lucy Black\", \"occupation\": \"teacher\"},\n",
    "]\n",
    "\n",
    "print(yaml.dump(users))"
   ]
  },
  {
   "cell_type": "code",
   "execution_count": 6,
   "metadata": {},
   "outputs": [
    {
     "name": "stdout",
     "output_type": "stream",
     "text": [
      "<class 'str'> a: 1\n",
      "b: true\n",
      "c: false\n",
      "d: null\n",
      "\n"
     ]
    }
   ],
   "source": [
    "my_dict = {\"a\": 1, \"b\": True, \"c\": False, \"d\": None}\n",
    "\n",
    "# python object to yaml\n",
    "yaml_string1 = yaml.dump(my_dict)\n",
    "print(type(yaml_string1), yaml_string1)"
   ]
  },
  {
   "cell_type": "code",
   "execution_count": 7,
   "metadata": {},
   "outputs": [
    {
     "name": "stdout",
     "output_type": "stream",
     "text": [
      "a: 1\n",
      "b: true\n",
      "c: false\n",
      "d: !!python/tuple\n",
      "- null\n",
      "e:\n",
      "  name: Gudo\n",
      "\n"
     ]
    }
   ],
   "source": [
    "my_dict = {\"a\": 1, \"b\": True, \"c\": False, \"d\": (None,), \"e\": {\"name\": \"Gudo\"}}\n",
    "\n",
    "# python object to yaml\n",
    "yaml_string1 = yaml.dump(my_dict)\n",
    "print(yaml_string1)"
   ]
  },
  {
   "cell_type": "code",
   "execution_count": 8,
   "metadata": {},
   "outputs": [],
   "source": [
    "### writing yamnl to file\n",
    "\n",
    "\n",
    "users = [\n",
    "    {\"name\": \"John Doe\", \"occupation\": \"gardener\"},\n",
    "    {\"name\": \"Lucy Black\", \"occupation\": \"teacher\"},\n",
    "]\n",
    "\n",
    "with open(\"users.yaml\", \"w\") as f:\n",
    "    yaml.dump(users, f)"
   ]
  },
  {
   "cell_type": "code",
   "execution_count": 10,
   "metadata": {},
   "outputs": [
    {
     "name": "stdout",
     "output_type": "stream",
     "text": [
      "- name: John Doe\n",
      "  occupation: gardener\n",
      "- name: Lucy Black\n",
      "  occupation: teacher\n"
     ]
    }
   ],
   "source": [
    "! cat users.yaml"
   ]
  },
  {
   "cell_type": "code",
   "execution_count": 11,
   "metadata": {},
   "outputs": [
    {
     "name": "stdout",
     "output_type": "stream",
     "text": [
      "{'raincoat': 1, 'coins': 5, 'books': 23, 'spectacles': 2, 'chairs': 12, 'pens': 6}\n",
      "books: 23\n",
      "chairs: 12\n",
      "coins: 5\n",
      "pens: 6\n",
      "raincoat: 1\n",
      "spectacles: 2\n",
      "\n"
     ]
    }
   ],
   "source": [
    "with open(\"items.yaml\") as f:\n",
    "    data = yaml.load(f, Loader=yaml.SafeLoader)\n",
    "    print(data)\n",
    "\n",
    "    sorted_values = yaml.dump(data, sort_keys=True)\n",
    "    print(sorted_values)"
   ]
  },
  {
   "cell_type": "code",
   "execution_count": null,
   "metadata": {},
   "outputs": [],
   "source": [
    "## json_to_yaml\n",
    "\n",
    "\n",
    "import json\n",
    "import sys\n",
    "\n",
    "import yaml\n",
    "\n",
    "\"\"\"\n",
    "Example usage:\n",
    "\n",
    "$ python json_to_yaml.py json_test.json\n",
    "\"\"\"\n",
    "\n",
    "if len(sys.argv) != 2:\n",
    "    print(len(sys.argv))\n",
    "    print(\"USAGE\\n$ python json_to_yaml.py json_test.json\")\n",
    "    sys.exit(1)\n",
    "\n",
    "# load json data\n",
    "json_data = json.loads(open(sys.argv[1]).read())\n",
    "\n",
    "# convert unicode to string\n",
    "converted_json_data = json.dumps(json_data)\n",
    "\n",
    "# output yaml\n",
    "print(\n",
    "    yaml.dump(\n",
    "        yaml.load(converted_json_data, Loader=yaml.SafeLoader), default_flow_style=False\n",
    "    )\n",
    ")"
   ]
  }
 ],
 "metadata": {
  "kernelspec": {
   "display_name": "Python 3",
   "language": "python",
   "name": "python3"
  },
  "language_info": {
   "codemirror_mode": {
    "name": "ipython",
    "version": 3
   },
   "file_extension": ".py",
   "mimetype": "text/x-python",
   "name": "python",
   "nbconvert_exporter": "python",
   "pygments_lexer": "ipython3",
   "version": "3.12.1"
  }
 },
 "nbformat": 4,
 "nbformat_minor": 2
}
