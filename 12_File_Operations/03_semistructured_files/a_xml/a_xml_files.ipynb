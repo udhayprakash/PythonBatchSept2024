{
 "cells": [
  {
   "cell_type": "markdown",
   "metadata": {},
   "source": [
    "# XML (Extensible Markup Language) \n",
    "\n",
    "    - Efficient for storage and transport\n",
    "    - easily readable by humans and machines\n",
    "    - Language egnostic\n",
    "\n",
    "\n",
    "\n",
    "    <?xml version=\"1.0\" encoding=\"UTF-8\"?>\n",
    "    <root>\n",
    "        <element attribute=\"value\">Content</element>\n",
    "    </root>\n",
    "\n",
    "\n",
    "    Key components:\n",
    "\n",
    "        1. Tags         : <element> (start tag), </element> (end tag)\n",
    "        2. Elements     : <element>Content</element> (includes tags and content)\n",
    "        3. Attributes   : attribute=\"value\" (provides additional information)\n",
    "        4. Content      : Text or other elements within an element\n",
    "\n",
    "\n",
    "\n",
    "    XML file extensions:\n",
    "\n",
    "    1. .xml\n",
    "    2. .xsl (XSLT stylesheet)\n",
    "    3. .xsd (XML Schema Definition)\n",
    "    4. .xhtml (XML-based HTML)\n"
   ]
  },
  {
   "cell_type": "code",
   "execution_count": 2,
   "metadata": {},
   "outputs": [],
   "source": [
    "from xml.etree.ElementTree import Element, SubElement, tostring"
   ]
  },
  {
   "cell_type": "code",
   "execution_count": 3,
   "metadata": {},
   "outputs": [
    {
     "data": {
      "text/plain": [
       "<Element 'root' at 0x76b0301a79c0>"
      ]
     },
     "execution_count": 3,
     "metadata": {},
     "output_type": "execute_result"
    }
   ],
   "source": [
    "root = Element(\"root\")\n",
    "root"
   ]
  },
  {
   "cell_type": "code",
   "execution_count": 4,
   "metadata": {},
   "outputs": [
    {
     "data": {
      "text/plain": [
       "<Element 'child' at 0x76b0305fef20>"
      ]
     },
     "execution_count": 4,
     "metadata": {},
     "output_type": "execute_result"
    }
   ],
   "source": [
    "child = SubElement(root, \"child\")\n",
    "child.text = \"I am a child\"\n",
    "\n",
    "child"
   ]
  },
  {
   "cell_type": "code",
   "execution_count": 5,
   "metadata": {},
   "outputs": [
    {
     "name": "stdout",
     "output_type": "stream",
     "text": [
      "b'<root><child>I am a child</child></root>'\n"
     ]
    }
   ],
   "source": [
    "# To a xml string\n",
    "print(tostring(root))"
   ]
  },
  {
   "cell_type": "code",
   "execution_count": 6,
   "metadata": {},
   "outputs": [
    {
     "name": "stdout",
     "output_type": "stream",
     "text": [
      "<root><child>I am a child</child></root>\n"
     ]
    }
   ],
   "source": [
    "result_str = tostring(root).decode(\"utf-8\")\n",
    "print(result_str)"
   ]
  },
  {
   "cell_type": "code",
   "execution_count": 7,
   "metadata": {},
   "outputs": [
    {
     "name": "stdout",
     "output_type": "stream",
     "text": [
      "<root><child>I am a child</child><child2 /></root>\n"
     ]
    }
   ],
   "source": [
    "child2 = SubElement(root, \"child2\")\n",
    "\n",
    "result_str = tostring(root).decode(\"utf-8\")\n",
    "print(result_str)"
   ]
  },
  {
   "cell_type": "code",
   "execution_count": 8,
   "metadata": {},
   "outputs": [],
   "source": [
    "#  To write an xml file\n",
    "with open(\"a_write_xml.xml\", \"w\") as f:\n",
    "    f.write(result_str)"
   ]
  },
  {
   "cell_type": "code",
   "execution_count": 9,
   "metadata": {},
   "outputs": [
    {
     "name": "stdout",
     "output_type": "stream",
     "text": [
      "<root><child>I am a child</child><child2 /></root>"
     ]
    }
   ],
   "source": [
    "! cat a_write_xml.xml"
   ]
  },
  {
   "cell_type": "code",
   "execution_count": 10,
   "metadata": {},
   "outputs": [
    {
     "data": {
      "text/plain": [
       "'<?xml version=\"1.0\" ?>\\n<root>\\n   <child>I am a child</child>\\n   <child2/>\\n</root>\\n'"
      ]
     },
     "execution_count": 10,
     "metadata": {},
     "output_type": "execute_result"
    }
   ],
   "source": [
    "from xml.dom import minidom\n",
    "\n",
    "\n",
    "xmlstr = minidom.parseString(tostring(root)).toprettyxml(indent=\"   \")\n",
    "xmlstr"
   ]
  },
  {
   "cell_type": "code",
   "execution_count": 11,
   "metadata": {},
   "outputs": [
    {
     "name": "stdout",
     "output_type": "stream",
     "text": [
      "<?xml version=\"1.0\" ?>\n",
      "<root>\n",
      "   <child>I am a child</child>\n",
      "   <child2/>\n",
      "</root>\n",
      "\n"
     ]
    }
   ],
   "source": [
    "print(xmlstr)"
   ]
  },
  {
   "cell_type": "code",
   "execution_count": 12,
   "metadata": {},
   "outputs": [],
   "source": [
    "with open(\"a_write_xml2.xml\", \"w\") as f:\n",
    "    f.write(xmlstr)"
   ]
  },
  {
   "cell_type": "code",
   "execution_count": 13,
   "metadata": {},
   "outputs": [
    {
     "name": "stdout",
     "output_type": "stream",
     "text": [
      "<?xml version=\"1.0\" ?>\n",
      "<root>\n",
      "   <child>I am a child</child>\n",
      "   <child2/>\n",
      "</root>\n"
     ]
    }
   ],
   "source": [
    "! cat a_write_xml2.xml"
   ]
  },
  {
   "cell_type": "markdown",
   "metadata": {},
   "source": [
    "```\n",
    "\n",
    "<?xml version=\"1.0\" encoding=\"UTF-8\"?>\n",
    "<employees>\n",
    "    <employee id=\"1\">\n",
    "        <name>John Doe</name>\n",
    "        <age>30</age>\n",
    "        <department>HR</department>\n",
    "    </employee>\n",
    "    <employee id=\"2\">\n",
    "        <name>Jane Smith</name>\n",
    "        <age>25</age>\n",
    "        <department>Marketing</department>\n",
    "    </employee>\n",
    "</employees>\n",
    "\n",
    "\n",
    "\n",
    "\n",
    "```"
   ]
  },
  {
   "cell_type": "code",
   "execution_count": 14,
   "metadata": {},
   "outputs": [],
   "source": [
    "import xml.etree.ElementTree as ET\n",
    "\n",
    "root = ET.parse('employees.xml')"
   ]
  },
  {
   "cell_type": "code",
   "execution_count": 15,
   "metadata": {},
   "outputs": [
    {
     "data": {
      "text/plain": [
       "<xml.etree.ElementTree.ElementTree at 0x76b03051dbb0>"
      ]
     },
     "execution_count": 15,
     "metadata": {},
     "output_type": "execute_result"
    }
   ],
   "source": [
    "root"
   ]
  },
  {
   "cell_type": "code",
   "execution_count": 16,
   "metadata": {},
   "outputs": [
    {
     "data": {
      "text/plain": [
       "[<Element 'employee' at 0x76b0301d97b0>,\n",
       " <Element 'employee' at 0x76b0301d98f0>]"
      ]
     },
     "execution_count": 16,
     "metadata": {},
     "output_type": "execute_result"
    }
   ],
   "source": [
    "root.findall('employee')"
   ]
  },
  {
   "cell_type": "code",
   "execution_count": 17,
   "metadata": {},
   "outputs": [
    {
     "name": "stdout",
     "output_type": "stream",
     "text": [
      "1\n",
      "2\n"
     ]
    }
   ],
   "source": [
    "for employee in root.findall('employee'):\n",
    "    print(employee.get('id'))"
   ]
  },
  {
   "cell_type": "code",
   "execution_count": 18,
   "metadata": {},
   "outputs": [
    {
     "name": "stdout",
     "output_type": "stream",
     "text": [
      "None\n",
      "None\n"
     ]
    }
   ],
   "source": [
    "for employee in root.findall('employee'):\n",
    "    print(employee.get('name'))"
   ]
  },
  {
   "cell_type": "code",
   "execution_count": 19,
   "metadata": {},
   "outputs": [
    {
     "name": "stdout",
     "output_type": "stream",
     "text": [
      "<Element 'name' at 0x76b0301d9800>\n",
      "<Element 'name' at 0x76b0301d9940>\n"
     ]
    }
   ],
   "source": [
    "for employee in root.findall('employee'):\n",
    "    print(employee.find('name'))"
   ]
  },
  {
   "cell_type": "code",
   "execution_count": 21,
   "metadata": {},
   "outputs": [
    {
     "name": "stdout",
     "output_type": "stream",
     "text": [
      "John Doe 30 HR\n",
      "Jane Smith 25 Marketing\n"
     ]
    }
   ],
   "source": [
    "for employee in root.findall('employee'):\n",
    "    print( employee.find('name').text,  \n",
    "          employee.find('age').text, \n",
    "          employee.find('department').text\n",
    "          )"
   ]
  },
  {
   "cell_type": "code",
   "execution_count": null,
   "metadata": {},
   "outputs": [],
   "source": []
  }
 ],
 "metadata": {
  "kernelspec": {
   "display_name": "Python 3",
   "language": "python",
   "name": "python3"
  },
  "language_info": {
   "codemirror_mode": {
    "name": "ipython",
    "version": 3
   },
   "file_extension": ".py",
   "mimetype": "text/x-python",
   "name": "python",
   "nbconvert_exporter": "python",
   "pygments_lexer": "ipython3",
   "version": "3.12.1"
  }
 },
 "nbformat": 4,
 "nbformat_minor": 2
}
