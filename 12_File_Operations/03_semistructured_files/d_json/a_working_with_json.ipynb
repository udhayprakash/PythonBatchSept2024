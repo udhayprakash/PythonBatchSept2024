{
 "cells": [
  {
   "cell_type": "markdown",
   "metadata": {},
   "source": [
    "# JSON \n",
    "\n",
    "    https://www.json.org/json-en.html\n",
    "    \n",
    "\n",
    "    # json to python object conversion pairs:\n",
    "      JSON\t        Python\n",
    "      ----------------------\n",
    "      object\t    dict\n",
    "      array\t        list\n",
    "      array\t        tuple\n",
    "      string\t    str\n",
    "      number(int)\tint\n",
    "      number(real)\tfloat\n",
    "      true\t        True\n",
    "      false\t        False\n",
    "      null\t        None"
   ]
  },
  {
   "cell_type": "code",
   "execution_count": 3,
   "metadata": {},
   "outputs": [],
   "source": [
    "import json"
   ]
  },
  {
   "cell_type": "code",
   "execution_count": 4,
   "metadata": {},
   "outputs": [
    {
     "data": {
      "text/plain": [
       "['JSONDecodeError',\n",
       " 'JSONDecoder',\n",
       " 'JSONEncoder',\n",
       " '__all__',\n",
       " '__author__',\n",
       " '__builtins__',\n",
       " '__cached__',\n",
       " '__doc__',\n",
       " '__file__',\n",
       " '__loader__',\n",
       " '__name__',\n",
       " '__package__',\n",
       " '__path__',\n",
       " '__spec__',\n",
       " '__version__',\n",
       " '_default_decoder',\n",
       " '_default_encoder',\n",
       " 'codecs',\n",
       " 'decoder',\n",
       " 'detect_encoding',\n",
       " 'dump',\n",
       " 'dumps',\n",
       " 'encoder',\n",
       " 'load',\n",
       " 'loads',\n",
       " 'scanner']"
      ]
     },
     "execution_count": 4,
     "metadata": {},
     "output_type": "execute_result"
    }
   ],
   "source": [
    "dir(json)"
   ]
  },
  {
   "cell_type": "code",
   "execution_count": 5,
   "metadata": {},
   "outputs": [
    {
     "data": {
      "text/plain": [
       "{'101': {'result': True, 'class': 'V', 'Name': 'Rohit', 'Roll_no': 7},\n",
       " '103': {'result': False,\n",
       "  'class': 'V',\n",
       "  'Name': 'Samiya',\n",
       "  'Roll_no': 12,\n",
       "  '102': {'result': True, 'class': 'V', 'Name': 'David', 'Roll_no': 8}}}"
      ]
     },
     "execution_count": 5,
     "metadata": {},
     "output_type": "execute_result"
    }
   ],
   "source": [
    "# dict\n",
    "student = {\n",
    "    \"101\": {\"result\": True, \"class\": \"V\", \"Name\": \"Rohit\", \"Roll_no\": 7},\n",
    "    \"103\": {\n",
    "        \"result\": False,\n",
    "        \"class\": \"V\",\n",
    "        \"Name\": \"Samiya\",\n",
    "        \"Roll_no\": 12,\n",
    "        \"102\": {\"result\": True, \"class\": \"V\", \"Name\": \"David\", \"Roll_no\": 8},\n",
    "    },\n",
    "}\n",
    "\n",
    "student"
   ]
  },
  {
   "cell_type": "code",
   "execution_count": 7,
   "metadata": {},
   "outputs": [
    {
     "data": {
      "text/plain": [
       "'{\"101\": {\"result\": true, \"class\": \"V\", \"Name\": \"Rohit\", \"Roll_no\": 7}, \"103\": {\"result\": false, \"class\": \"V\", \"Name\": \"Samiya\", \"Roll_no\": 12, \"102\": {\"result\": true, \"class\": \"V\", \"Name\": \"David\", \"Roll_no\": 8}}}'"
      ]
     },
     "execution_count": 7,
     "metadata": {},
     "output_type": "execute_result"
    }
   ],
   "source": [
    "json.dumps(student)"
   ]
  },
  {
   "cell_type": "code",
   "execution_count": 9,
   "metadata": {},
   "outputs": [
    {
     "data": {
      "text/plain": [
       "'{\"101\": {\"Name\": \"Rohit\", \"Roll_no\": 7, \"class\": \"V\", \"result\": true}, \"103\": {\"102\": {\"Name\": \"David\", \"Roll_no\": 8, \"class\": \"V\", \"result\": true}, \"Name\": \"Samiya\", \"Roll_no\": 12, \"class\": \"V\", \"result\": false}}'"
      ]
     },
     "execution_count": 9,
     "metadata": {},
     "output_type": "execute_result"
    }
   ],
   "source": [
    "# Python Dictionaries to JSON strings (sorted by key)\n",
    "json.dumps(student, sort_keys=True)"
   ]
  },
  {
   "cell_type": "code",
   "execution_count": 10,
   "metadata": {},
   "outputs": [
    {
     "name": "stdout",
     "output_type": "stream",
     "text": [
      "[\"Red\", \"Black\", \"White\"]\n"
     ]
    }
   ],
   "source": [
    "# Python tuple to JSON array\n",
    "\n",
    "\n",
    "tup1 = \"Red\", \"Black\", \"White\"\n",
    "print(json.dumps(tup1))"
   ]
  },
  {
   "cell_type": "code",
   "execution_count": 11,
   "metadata": {},
   "outputs": [
    {
     "name": "stdout",
     "output_type": "stream",
     "text": [
      "\"Python and JSON\"\n"
     ]
    }
   ],
   "source": [
    "# Python string to JSON string\n",
    "string1 = 'Python and JSON'\n",
    "print(json.dumps(string1))"
   ]
  },
  {
   "cell_type": "code",
   "execution_count": 12,
   "metadata": {},
   "outputs": [
    {
     "name": "stdout",
     "output_type": "stream",
     "text": [
      "\"Python and JSON\"\n"
     ]
    }
   ],
   "source": [
    "string1 = '''Python and JSON'''\n",
    "print(json.dumps(string1))"
   ]
  },
  {
   "cell_type": "code",
   "execution_count": 13,
   "metadata": {},
   "outputs": [
    {
     "name": "stdout",
     "output_type": "stream",
     "text": [
      "true\n"
     ]
    }
   ],
   "source": [
    "# Python Boolean values to JSON Boolean values\n",
    "x = True\n",
    "print((json.dumps(x)))"
   ]
  },
  {
   "cell_type": "code",
   "execution_count": 14,
   "metadata": {},
   "outputs": [
    {
     "name": "stdout",
     "output_type": "stream",
     "text": [
      "false\n"
     ]
    }
   ],
   "source": [
    "x = False\n",
    "print((json.dumps(x)))"
   ]
  },
  {
   "cell_type": "code",
   "execution_count": 15,
   "metadata": {},
   "outputs": [
    {
     "name": "stdout",
     "output_type": "stream",
     "text": [
      "-456\n",
      "-1.406\n",
      "2.12e-10\n"
     ]
    }
   ],
   "source": [
    "# Python int, float, int- & float-derived Enums to JSON number\n",
    "x = -456\n",
    "y = -1.406\n",
    "z = 2.12e-10\n",
    "print((json.dumps(x)))\n",
    "print((json.dumps(y)))\n",
    "print((json.dumps(z)))"
   ]
  },
  {
   "cell_type": "code",
   "execution_count": 16,
   "metadata": {},
   "outputs": [
    {
     "name": "stdout",
     "output_type": "stream",
     "text": [
      "{'103': {'class': 'V', 'Name': 'Samiya', 'Roll_n': 12}, '102': {'class': 'V', 'Name': 'David', 'Roll_no': 8}, '101': {'class': 'V', 'Name': 'Rohit', 'Roll_no': 7}}\n"
     ]
    }
   ],
   "source": [
    "# JSON strings to Python Dictionaries\n",
    "json_data = '{\"103\": {\"class\": \"V\", \"Name\": \"Samiya\", \"Roll_n\": 12}, \"102\": {\"class\": \"V\", \"Name\": \"David\", \"Roll_no\": 8}, \"101\": {\"class\": \"V\", \"Name\": \"Rohit\", \"Roll_no\": 7}}'\n",
    "print(json.loads(json_data))"
   ]
  },
  {
   "cell_type": "code",
   "execution_count": 18,
   "metadata": {},
   "outputs": [
    {
     "name": "stdout",
     "output_type": "stream",
     "text": [
      "['Red', 'Black', 'White']\n"
     ]
    }
   ],
   "source": [
    "# JSON array Python list\n",
    "Json_array = '[\"Red\", \"Black\", \"White\"]'\n",
    "print((json.loads(Json_array)))"
   ]
  },
  {
   "cell_type": "code",
   "execution_count": 19,
   "metadata": {},
   "outputs": [
    {
     "ename": "JSONDecodeError",
     "evalue": "Expecting value: line 1 column 1 (char 0)",
     "output_type": "error",
     "traceback": [
      "\u001b[0;31m---------------------------------------------------------------------------\u001b[0m",
      "\u001b[0;31mJSONDecodeError\u001b[0m                           Traceback (most recent call last)",
      "Cell \u001b[0;32mIn[19], line 3\u001b[0m\n\u001b[1;32m      1\u001b[0m \u001b[38;5;66;03m# JSON array Python list\u001b[39;00m\n\u001b[1;32m      2\u001b[0m Json_array \u001b[38;5;241m=\u001b[39m \u001b[38;5;124m'\u001b[39m\u001b[38;5;124m(\u001b[39m\u001b[38;5;124m\"\u001b[39m\u001b[38;5;124mRed\u001b[39m\u001b[38;5;124m\"\u001b[39m\u001b[38;5;124m, \u001b[39m\u001b[38;5;124m\"\u001b[39m\u001b[38;5;124mBlack\u001b[39m\u001b[38;5;124m\"\u001b[39m\u001b[38;5;124m, \u001b[39m\u001b[38;5;124m\"\u001b[39m\u001b[38;5;124mWhite\u001b[39m\u001b[38;5;124m\"\u001b[39m\u001b[38;5;124m)\u001b[39m\u001b[38;5;124m'\u001b[39m\n\u001b[0;32m----> 3\u001b[0m \u001b[38;5;28mprint\u001b[39m((\u001b[43mjson\u001b[49m\u001b[38;5;241;43m.\u001b[39;49m\u001b[43mloads\u001b[49m\u001b[43m(\u001b[49m\u001b[43mJson_array\u001b[49m\u001b[43m)\u001b[49m))\n",
      "File \u001b[0;32m~/.python/current/lib/python3.12/json/__init__.py:346\u001b[0m, in \u001b[0;36mloads\u001b[0;34m(s, cls, object_hook, parse_float, parse_int, parse_constant, object_pairs_hook, **kw)\u001b[0m\n\u001b[1;32m    341\u001b[0m     s \u001b[38;5;241m=\u001b[39m s\u001b[38;5;241m.\u001b[39mdecode(detect_encoding(s), \u001b[38;5;124m'\u001b[39m\u001b[38;5;124msurrogatepass\u001b[39m\u001b[38;5;124m'\u001b[39m)\n\u001b[1;32m    343\u001b[0m \u001b[38;5;28;01mif\u001b[39;00m (\u001b[38;5;28mcls\u001b[39m \u001b[38;5;129;01mis\u001b[39;00m \u001b[38;5;28;01mNone\u001b[39;00m \u001b[38;5;129;01mand\u001b[39;00m object_hook \u001b[38;5;129;01mis\u001b[39;00m \u001b[38;5;28;01mNone\u001b[39;00m \u001b[38;5;129;01mand\u001b[39;00m\n\u001b[1;32m    344\u001b[0m         parse_int \u001b[38;5;129;01mis\u001b[39;00m \u001b[38;5;28;01mNone\u001b[39;00m \u001b[38;5;129;01mand\u001b[39;00m parse_float \u001b[38;5;129;01mis\u001b[39;00m \u001b[38;5;28;01mNone\u001b[39;00m \u001b[38;5;129;01mand\u001b[39;00m\n\u001b[1;32m    345\u001b[0m         parse_constant \u001b[38;5;129;01mis\u001b[39;00m \u001b[38;5;28;01mNone\u001b[39;00m \u001b[38;5;129;01mand\u001b[39;00m object_pairs_hook \u001b[38;5;129;01mis\u001b[39;00m \u001b[38;5;28;01mNone\u001b[39;00m \u001b[38;5;129;01mand\u001b[39;00m \u001b[38;5;129;01mnot\u001b[39;00m kw):\n\u001b[0;32m--> 346\u001b[0m     \u001b[38;5;28;01mreturn\u001b[39;00m \u001b[43m_default_decoder\u001b[49m\u001b[38;5;241;43m.\u001b[39;49m\u001b[43mdecode\u001b[49m\u001b[43m(\u001b[49m\u001b[43ms\u001b[49m\u001b[43m)\u001b[49m\n\u001b[1;32m    347\u001b[0m \u001b[38;5;28;01mif\u001b[39;00m \u001b[38;5;28mcls\u001b[39m \u001b[38;5;129;01mis\u001b[39;00m \u001b[38;5;28;01mNone\u001b[39;00m:\n\u001b[1;32m    348\u001b[0m     \u001b[38;5;28mcls\u001b[39m \u001b[38;5;241m=\u001b[39m JSONDecoder\n",
      "File \u001b[0;32m~/.python/current/lib/python3.12/json/decoder.py:337\u001b[0m, in \u001b[0;36mJSONDecoder.decode\u001b[0;34m(self, s, _w)\u001b[0m\n\u001b[1;32m    332\u001b[0m \u001b[38;5;28;01mdef\u001b[39;00m \u001b[38;5;21mdecode\u001b[39m(\u001b[38;5;28mself\u001b[39m, s, _w\u001b[38;5;241m=\u001b[39mWHITESPACE\u001b[38;5;241m.\u001b[39mmatch):\n\u001b[1;32m    333\u001b[0m \u001b[38;5;250m    \u001b[39m\u001b[38;5;124;03m\"\"\"Return the Python representation of ``s`` (a ``str`` instance\u001b[39;00m\n\u001b[1;32m    334\u001b[0m \u001b[38;5;124;03m    containing a JSON document).\u001b[39;00m\n\u001b[1;32m    335\u001b[0m \n\u001b[1;32m    336\u001b[0m \u001b[38;5;124;03m    \"\"\"\u001b[39;00m\n\u001b[0;32m--> 337\u001b[0m     obj, end \u001b[38;5;241m=\u001b[39m \u001b[38;5;28;43mself\u001b[39;49m\u001b[38;5;241;43m.\u001b[39;49m\u001b[43mraw_decode\u001b[49m\u001b[43m(\u001b[49m\u001b[43ms\u001b[49m\u001b[43m,\u001b[49m\u001b[43m \u001b[49m\u001b[43midx\u001b[49m\u001b[38;5;241;43m=\u001b[39;49m\u001b[43m_w\u001b[49m\u001b[43m(\u001b[49m\u001b[43ms\u001b[49m\u001b[43m,\u001b[49m\u001b[43m \u001b[49m\u001b[38;5;241;43m0\u001b[39;49m\u001b[43m)\u001b[49m\u001b[38;5;241;43m.\u001b[39;49m\u001b[43mend\u001b[49m\u001b[43m(\u001b[49m\u001b[43m)\u001b[49m\u001b[43m)\u001b[49m\n\u001b[1;32m    338\u001b[0m     end \u001b[38;5;241m=\u001b[39m _w(s, end)\u001b[38;5;241m.\u001b[39mend()\n\u001b[1;32m    339\u001b[0m     \u001b[38;5;28;01mif\u001b[39;00m end \u001b[38;5;241m!=\u001b[39m \u001b[38;5;28mlen\u001b[39m(s):\n",
      "File \u001b[0;32m~/.python/current/lib/python3.12/json/decoder.py:355\u001b[0m, in \u001b[0;36mJSONDecoder.raw_decode\u001b[0;34m(self, s, idx)\u001b[0m\n\u001b[1;32m    353\u001b[0m     obj, end \u001b[38;5;241m=\u001b[39m \u001b[38;5;28mself\u001b[39m\u001b[38;5;241m.\u001b[39mscan_once(s, idx)\n\u001b[1;32m    354\u001b[0m \u001b[38;5;28;01mexcept\u001b[39;00m \u001b[38;5;167;01mStopIteration\u001b[39;00m \u001b[38;5;28;01mas\u001b[39;00m err:\n\u001b[0;32m--> 355\u001b[0m     \u001b[38;5;28;01mraise\u001b[39;00m JSONDecodeError(\u001b[38;5;124m\"\u001b[39m\u001b[38;5;124mExpecting value\u001b[39m\u001b[38;5;124m\"\u001b[39m, s, err\u001b[38;5;241m.\u001b[39mvalue) \u001b[38;5;28;01mfrom\u001b[39;00m \u001b[38;5;28;01mNone\u001b[39;00m\n\u001b[1;32m    356\u001b[0m \u001b[38;5;28;01mreturn\u001b[39;00m obj, end\n",
      "\u001b[0;31mJSONDecodeError\u001b[0m: Expecting value: line 1 column 1 (char 0)"
     ]
    }
   ],
   "source": [
    "# JSON array Python list\n",
    "Json_array = '(\"Red\", \"Black\", \"White\")'\n",
    "print((json.loads(Json_array)))"
   ]
  },
  {
   "cell_type": "code",
   "execution_count": 23,
   "metadata": {},
   "outputs": [
    {
     "data": {
      "text/plain": [
       "'{\"a\": 0, \"b\": 0, \"c\": 0}'"
      ]
     },
     "execution_count": 23,
     "metadata": {},
     "output_type": "execute_result"
    }
   ],
   "source": [
    "json.dumps({\"c\": 0, \"b\": 0, \"a\": 0}, sort_keys=True)"
   ]
  },
  {
   "cell_type": "code",
   "execution_count": 22,
   "metadata": {},
   "outputs": [
    {
     "data": {
      "text/plain": [
       "'[1,2,3,{\"4\":5,\"6\":7}]'"
      ]
     },
     "execution_count": 22,
     "metadata": {},
     "output_type": "execute_result"
    }
   ],
   "source": [
    "data = json.dumps([1, 2, 3, {\"4\": 5, \"6\": 7}], separators=(\",\", \":\"))\n",
    "data"
   ]
  },
  {
   "cell_type": "code",
   "execution_count": 24,
   "metadata": {},
   "outputs": [
    {
     "data": {
      "text/plain": [
       "'{\\n    \"6\": 7,\\n    \"44\": 5\\n}'"
      ]
     },
     "execution_count": 24,
     "metadata": {},
     "output_type": "execute_result"
    }
   ],
   "source": [
    "json.dumps({44: 5, 6: 7}, sort_keys=True, indent=4, separators=(\",\", \": \"))"
   ]
  },
  {
   "cell_type": "code",
   "execution_count": 25,
   "metadata": {},
   "outputs": [
    {
     "name": "stdout",
     "output_type": "stream",
     "text": [
      "{\n",
      "    \"6\": 7,\n",
      "    \"44\": 5\n",
      "}\n"
     ]
    }
   ],
   "source": [
    "print(json.dumps({44: 5, 6: 7}, sort_keys=True, indent=4, separators=(\",\", \": \")))"
   ]
  },
  {
   "cell_type": "code",
   "execution_count": 26,
   "metadata": {},
   "outputs": [],
   "source": [
    "## Use-case"
   ]
  },
  {
   "cell_type": "code",
   "execution_count": 27,
   "metadata": {},
   "outputs": [
    {
     "name": "stdout",
     "output_type": "stream",
     "text": [
      "\n",
      "book details :\n",
      " {'title': 'Python Programming Essentials', 'tags': ('Python', 'Programming'), 'published': True, 'comment_link': None, 'author': 'Udhay', 'id': 786}\n",
      "type(book) is  <class 'dict'>\n",
      "{'author': 'Udhay',\n",
      " 'comment_link': None,\n",
      " 'id': 786,\n",
      " 'published': True,\n",
      " 'tags': ('Python', 'Programming'),\n",
      " 'title': 'Python Programming Essentials'}\n"
     ]
    }
   ],
   "source": [
    "#!/usr/bin/python\n",
    "import json\n",
    "from pprint import pprint\n",
    "\n",
    "book = {}\n",
    "book[\"title\"] = \"Python Programming Essentials\"\n",
    "book[\"tags\"] = (\"Python\", \"Programming\")\n",
    "book[\"published\"] = True\n",
    "book[\"comment_link\"] = None\n",
    "book[\"author\"] = \"Udhay\"\n",
    "book[\"id\"] = 786\n",
    "\n",
    "print(\"\\nbook details :\\n\", book)\n",
    "print(\"type(book) is \", type(book))\n",
    "pprint(book)"
   ]
  },
  {
   "cell_type": "code",
   "execution_count": 28,
   "metadata": {},
   "outputs": [],
   "source": [
    "# Serilazation\n",
    "with open(\"ebook.json\", \"w\") as f:\n",
    "    json.dump(book, f)\n",
    "    f.close()"
   ]
  },
  {
   "cell_type": "code",
   "execution_count": 29,
   "metadata": {},
   "outputs": [
    {
     "name": "stdout",
     "output_type": "stream",
     "text": [
      "a_working_with_json.ipynb  ebook.json\n"
     ]
    }
   ],
   "source": [
    "! ls"
   ]
  },
  {
   "cell_type": "code",
   "execution_count": 30,
   "metadata": {},
   "outputs": [
    {
     "name": "stdout",
     "output_type": "stream",
     "text": [
      "{\"title\": \"Python Programming Essentials\", \"tags\": [\"Python\", \"Programming\"], \"published\": true, \"comment_link\": null, \"author\": \"Udhay\", \"id\": 786}"
     ]
    }
   ],
   "source": [
    "! cat ebook.json"
   ]
  },
  {
   "cell_type": "code",
   "execution_count": 32,
   "metadata": {},
   "outputs": [
    {
     "name": "stdout",
     "output_type": "stream",
     "text": [
      "\n",
      "deserializing the json data \n",
      "\n",
      "data =  {'title': 'Python Programming Essentials', 'tags': ['Python', 'Programming'], 'published': True, 'comment_link': None, 'author': 'Udhay', 'id': 786}\n"
     ]
    }
   ],
   "source": [
    "# De-serialization\n",
    "print(\"\\ndeserializing the json data \\n\")\n",
    "with open(\"ebook.json\", \"r\") as g:\n",
    "    data = json.load(g)\n",
    "    g.close()\n",
    "\n",
    "print(\"data = \", data)"
   ]
  },
  {
   "cell_type": "code",
   "execution_count": 33,
   "metadata": {},
   "outputs": [
    {
     "name": "stdout",
     "output_type": "stream",
     "text": [
      "\n",
      "printing using pretty print\n",
      "{'author': 'Udhay',\n",
      " 'comment_link': None,\n",
      " 'id': 786,\n",
      " 'published': True,\n",
      " 'tags': ['Python', 'Programming'],\n",
      " 'title': 'Python Programming Essentials'}\n",
      "{   'author': 'Udhay',\n",
      "    'comment_link': None,\n",
      "    'id': 786,\n",
      "    'published': True,\n",
      "    'tags': ['Python', 'Programming'],\n",
      "    'title': 'Python Programming Essentials'}\n"
     ]
    }
   ],
   "source": [
    "print(\"\\nprinting using pretty print\")\n",
    "pprint(data)\n",
    "pprint(data, indent=4)"
   ]
  },
  {
   "cell_type": "code",
   "execution_count": 34,
   "metadata": {},
   "outputs": [],
   "source": [
    "# Assignemnt ; try to work with json.load and json.dumps- json.loads"
   ]
  },
  {
   "cell_type": "code",
   "execution_count": 35,
   "metadata": {},
   "outputs": [],
   "source": [
    "### Issue with decoding"
   ]
  },
  {
   "cell_type": "code",
   "execution_count": 36,
   "metadata": {},
   "outputs": [],
   "source": [
    "\n",
    "# Default encoding scheme\n",
    "#     python 2 - ASCII\n",
    "#     python 3 - UTF-8\n"
   ]
  },
  {
   "cell_type": "code",
   "execution_count": 37,
   "metadata": {},
   "outputs": [
    {
     "name": "stdout",
     "output_type": "stream",
     "text": [
      "<module 'ast' from '/home/codespace/.python/current/lib/python3.12/ast.py'>\n"
     ]
    }
   ],
   "source": [
    "import ast\n",
    "\n",
    "\n",
    "print(ast)"
   ]
  },
  {
   "cell_type": "code",
   "execution_count": 38,
   "metadata": {},
   "outputs": [
    {
     "data": {
      "text/plain": [
       "['AST',\n",
       " 'Add',\n",
       " 'And',\n",
       " 'AnnAssign',\n",
       " 'Assert',\n",
       " 'Assign',\n",
       " 'AsyncFor',\n",
       " 'AsyncFunctionDef',\n",
       " 'AsyncWith',\n",
       " 'Attribute',\n",
       " 'AugAssign',\n",
       " 'AugLoad',\n",
       " 'AugStore',\n",
       " 'Await',\n",
       " 'BinOp',\n",
       " 'BitAnd',\n",
       " 'BitOr',\n",
       " 'BitXor',\n",
       " 'BoolOp',\n",
       " 'Break',\n",
       " 'Call',\n",
       " 'ClassDef',\n",
       " 'Compare',\n",
       " 'Constant',\n",
       " 'Continue',\n",
       " 'Del',\n",
       " 'Delete',\n",
       " 'Dict',\n",
       " 'DictComp',\n",
       " 'Div',\n",
       " 'Eq',\n",
       " 'ExceptHandler',\n",
       " 'Expr',\n",
       " 'Expression',\n",
       " 'ExtSlice',\n",
       " 'FloorDiv',\n",
       " 'For',\n",
       " 'FormattedValue',\n",
       " 'FunctionDef',\n",
       " 'FunctionType',\n",
       " 'GeneratorExp',\n",
       " 'Global',\n",
       " 'Gt',\n",
       " 'GtE',\n",
       " 'If',\n",
       " 'IfExp',\n",
       " 'Import',\n",
       " 'ImportFrom',\n",
       " 'In',\n",
       " 'Index',\n",
       " 'IntEnum',\n",
       " 'Interactive',\n",
       " 'Invert',\n",
       " 'Is',\n",
       " 'IsNot',\n",
       " 'JoinedStr',\n",
       " 'LShift',\n",
       " 'Lambda',\n",
       " 'List',\n",
       " 'ListComp',\n",
       " 'Load',\n",
       " 'Lt',\n",
       " 'LtE',\n",
       " 'MatMult',\n",
       " 'Match',\n",
       " 'MatchAs',\n",
       " 'MatchClass',\n",
       " 'MatchMapping',\n",
       " 'MatchOr',\n",
       " 'MatchSequence',\n",
       " 'MatchSingleton',\n",
       " 'MatchStar',\n",
       " 'MatchValue',\n",
       " 'Mod',\n",
       " 'Module',\n",
       " 'Mult',\n",
       " 'Name',\n",
       " 'NamedExpr',\n",
       " 'NodeTransformer',\n",
       " 'NodeVisitor',\n",
       " 'Nonlocal',\n",
       " 'Not',\n",
       " 'NotEq',\n",
       " 'NotIn',\n",
       " 'Or',\n",
       " 'Param',\n",
       " 'ParamSpec',\n",
       " 'Pass',\n",
       " 'Pow',\n",
       " 'PyCF_ALLOW_TOP_LEVEL_AWAIT',\n",
       " 'PyCF_ONLY_AST',\n",
       " 'PyCF_TYPE_COMMENTS',\n",
       " 'RShift',\n",
       " 'Raise',\n",
       " 'Return',\n",
       " 'Set',\n",
       " 'SetComp',\n",
       " 'Slice',\n",
       " 'Starred',\n",
       " 'Store',\n",
       " 'Sub',\n",
       " 'Subscript',\n",
       " 'Suite',\n",
       " 'Try',\n",
       " 'TryStar',\n",
       " 'Tuple',\n",
       " 'TypeAlias',\n",
       " 'TypeIgnore',\n",
       " 'TypeVar',\n",
       " 'TypeVarTuple',\n",
       " 'UAdd',\n",
       " 'USub',\n",
       " 'UnaryOp',\n",
       " 'While',\n",
       " 'With',\n",
       " 'Yield',\n",
       " 'YieldFrom',\n",
       " '_ABC',\n",
       " '_ALL_QUOTES',\n",
       " '_DEPRECATED_CLASS_MESSAGE',\n",
       " '_DEPRECATED_VALUE_ALIAS_MESSAGE',\n",
       " '_INFSTR',\n",
       " '_MULTI_QUOTES',\n",
       " '_Precedence',\n",
       " '_SINGLE_QUOTES',\n",
       " '_Unparser',\n",
       " '__builtins__',\n",
       " '__cached__',\n",
       " '__doc__',\n",
       " '__file__',\n",
       " '__getattr__',\n",
       " '__loader__',\n",
       " '__name__',\n",
       " '__package__',\n",
       " '__spec__',\n",
       " '_ast_Ellipsis',\n",
       " '_const_node_type_names',\n",
       " '_const_types',\n",
       " '_const_types_not',\n",
       " '_deprecated_globals',\n",
       " '_dims_getter',\n",
       " '_dims_setter',\n",
       " '_line_pattern',\n",
       " '_n_getter',\n",
       " '_n_setter',\n",
       " '_new',\n",
       " '_pad_whitespace',\n",
       " '_s_getter',\n",
       " '_s_setter',\n",
       " '_simple_enum',\n",
       " '_splitlines_no_ff',\n",
       " 'alias',\n",
       " 'arg',\n",
       " 'arguments',\n",
       " 'auto',\n",
       " 'boolop',\n",
       " 'cmpop',\n",
       " 'comprehension',\n",
       " 'contextmanager',\n",
       " 'copy_location',\n",
       " 'dump',\n",
       " 'excepthandler',\n",
       " 'expr',\n",
       " 'expr_context',\n",
       " 'fix_missing_locations',\n",
       " 'get_docstring',\n",
       " 'get_source_segment',\n",
       " 'increment_lineno',\n",
       " 'iter_child_nodes',\n",
       " 'iter_fields',\n",
       " 'keyword',\n",
       " 'literal_eval',\n",
       " 'main',\n",
       " 'match_case',\n",
       " 'mod',\n",
       " 'nullcontext',\n",
       " 'operator',\n",
       " 'parse',\n",
       " 'pattern',\n",
       " 're',\n",
       " 'slice',\n",
       " 'stmt',\n",
       " 'sys',\n",
       " 'type_ignore',\n",
       " 'type_param',\n",
       " 'unaryop',\n",
       " 'unparse',\n",
       " 'walk',\n",
       " 'withitem']"
      ]
     },
     "execution_count": 38,
     "metadata": {},
     "output_type": "execute_result"
    }
   ],
   "source": [
    "dir(ast)"
   ]
  },
  {
   "cell_type": "code",
   "execution_count": 39,
   "metadata": {},
   "outputs": [
    {
     "data": {
      "text/plain": [
       "\"{'name': 'Alice', 'age': 25, 'city': 'New York'}\""
      ]
     },
     "execution_count": 39,
     "metadata": {},
     "output_type": "execute_result"
    }
   ],
   "source": [
    "json_str = '''{'name': 'Alice', 'age': 25, 'city': 'New York'}'''\n",
    "\n",
    "json_str"
   ]
  },
  {
   "cell_type": "code",
   "execution_count": 40,
   "metadata": {},
   "outputs": [
    {
     "ename": "JSONDecodeError",
     "evalue": "Expecting property name enclosed in double quotes: line 1 column 2 (char 1)",
     "output_type": "error",
     "traceback": [
      "\u001b[0;31m---------------------------------------------------------------------------\u001b[0m",
      "\u001b[0;31mJSONDecodeError\u001b[0m                           Traceback (most recent call last)",
      "Cell \u001b[0;32mIn[40], line 1\u001b[0m\n\u001b[0;32m----> 1\u001b[0m \u001b[43mjson\u001b[49m\u001b[38;5;241;43m.\u001b[39;49m\u001b[43mloads\u001b[49m\u001b[43m(\u001b[49m\u001b[43mjson_str\u001b[49m\u001b[43m)\u001b[49m\n",
      "File \u001b[0;32m~/.python/current/lib/python3.12/json/__init__.py:346\u001b[0m, in \u001b[0;36mloads\u001b[0;34m(s, cls, object_hook, parse_float, parse_int, parse_constant, object_pairs_hook, **kw)\u001b[0m\n\u001b[1;32m    341\u001b[0m     s \u001b[38;5;241m=\u001b[39m s\u001b[38;5;241m.\u001b[39mdecode(detect_encoding(s), \u001b[38;5;124m'\u001b[39m\u001b[38;5;124msurrogatepass\u001b[39m\u001b[38;5;124m'\u001b[39m)\n\u001b[1;32m    343\u001b[0m \u001b[38;5;28;01mif\u001b[39;00m (\u001b[38;5;28mcls\u001b[39m \u001b[38;5;129;01mis\u001b[39;00m \u001b[38;5;28;01mNone\u001b[39;00m \u001b[38;5;129;01mand\u001b[39;00m object_hook \u001b[38;5;129;01mis\u001b[39;00m \u001b[38;5;28;01mNone\u001b[39;00m \u001b[38;5;129;01mand\u001b[39;00m\n\u001b[1;32m    344\u001b[0m         parse_int \u001b[38;5;129;01mis\u001b[39;00m \u001b[38;5;28;01mNone\u001b[39;00m \u001b[38;5;129;01mand\u001b[39;00m parse_float \u001b[38;5;129;01mis\u001b[39;00m \u001b[38;5;28;01mNone\u001b[39;00m \u001b[38;5;129;01mand\u001b[39;00m\n\u001b[1;32m    345\u001b[0m         parse_constant \u001b[38;5;129;01mis\u001b[39;00m \u001b[38;5;28;01mNone\u001b[39;00m \u001b[38;5;129;01mand\u001b[39;00m object_pairs_hook \u001b[38;5;129;01mis\u001b[39;00m \u001b[38;5;28;01mNone\u001b[39;00m \u001b[38;5;129;01mand\u001b[39;00m \u001b[38;5;129;01mnot\u001b[39;00m kw):\n\u001b[0;32m--> 346\u001b[0m     \u001b[38;5;28;01mreturn\u001b[39;00m \u001b[43m_default_decoder\u001b[49m\u001b[38;5;241;43m.\u001b[39;49m\u001b[43mdecode\u001b[49m\u001b[43m(\u001b[49m\u001b[43ms\u001b[49m\u001b[43m)\u001b[49m\n\u001b[1;32m    347\u001b[0m \u001b[38;5;28;01mif\u001b[39;00m \u001b[38;5;28mcls\u001b[39m \u001b[38;5;129;01mis\u001b[39;00m \u001b[38;5;28;01mNone\u001b[39;00m:\n\u001b[1;32m    348\u001b[0m     \u001b[38;5;28mcls\u001b[39m \u001b[38;5;241m=\u001b[39m JSONDecoder\n",
      "File \u001b[0;32m~/.python/current/lib/python3.12/json/decoder.py:337\u001b[0m, in \u001b[0;36mJSONDecoder.decode\u001b[0;34m(self, s, _w)\u001b[0m\n\u001b[1;32m    332\u001b[0m \u001b[38;5;28;01mdef\u001b[39;00m \u001b[38;5;21mdecode\u001b[39m(\u001b[38;5;28mself\u001b[39m, s, _w\u001b[38;5;241m=\u001b[39mWHITESPACE\u001b[38;5;241m.\u001b[39mmatch):\n\u001b[1;32m    333\u001b[0m \u001b[38;5;250m    \u001b[39m\u001b[38;5;124;03m\"\"\"Return the Python representation of ``s`` (a ``str`` instance\u001b[39;00m\n\u001b[1;32m    334\u001b[0m \u001b[38;5;124;03m    containing a JSON document).\u001b[39;00m\n\u001b[1;32m    335\u001b[0m \n\u001b[1;32m    336\u001b[0m \u001b[38;5;124;03m    \"\"\"\u001b[39;00m\n\u001b[0;32m--> 337\u001b[0m     obj, end \u001b[38;5;241m=\u001b[39m \u001b[38;5;28;43mself\u001b[39;49m\u001b[38;5;241;43m.\u001b[39;49m\u001b[43mraw_decode\u001b[49m\u001b[43m(\u001b[49m\u001b[43ms\u001b[49m\u001b[43m,\u001b[49m\u001b[43m \u001b[49m\u001b[43midx\u001b[49m\u001b[38;5;241;43m=\u001b[39;49m\u001b[43m_w\u001b[49m\u001b[43m(\u001b[49m\u001b[43ms\u001b[49m\u001b[43m,\u001b[49m\u001b[43m \u001b[49m\u001b[38;5;241;43m0\u001b[39;49m\u001b[43m)\u001b[49m\u001b[38;5;241;43m.\u001b[39;49m\u001b[43mend\u001b[49m\u001b[43m(\u001b[49m\u001b[43m)\u001b[49m\u001b[43m)\u001b[49m\n\u001b[1;32m    338\u001b[0m     end \u001b[38;5;241m=\u001b[39m _w(s, end)\u001b[38;5;241m.\u001b[39mend()\n\u001b[1;32m    339\u001b[0m     \u001b[38;5;28;01mif\u001b[39;00m end \u001b[38;5;241m!=\u001b[39m \u001b[38;5;28mlen\u001b[39m(s):\n",
      "File \u001b[0;32m~/.python/current/lib/python3.12/json/decoder.py:353\u001b[0m, in \u001b[0;36mJSONDecoder.raw_decode\u001b[0;34m(self, s, idx)\u001b[0m\n\u001b[1;32m    344\u001b[0m \u001b[38;5;250m\u001b[39m\u001b[38;5;124;03m\"\"\"Decode a JSON document from ``s`` (a ``str`` beginning with\u001b[39;00m\n\u001b[1;32m    345\u001b[0m \u001b[38;5;124;03ma JSON document) and return a 2-tuple of the Python\u001b[39;00m\n\u001b[1;32m    346\u001b[0m \u001b[38;5;124;03mrepresentation and the index in ``s`` where the document ended.\u001b[39;00m\n\u001b[0;32m   (...)\u001b[0m\n\u001b[1;32m    350\u001b[0m \n\u001b[1;32m    351\u001b[0m \u001b[38;5;124;03m\"\"\"\u001b[39;00m\n\u001b[1;32m    352\u001b[0m \u001b[38;5;28;01mtry\u001b[39;00m:\n\u001b[0;32m--> 353\u001b[0m     obj, end \u001b[38;5;241m=\u001b[39m \u001b[38;5;28;43mself\u001b[39;49m\u001b[38;5;241;43m.\u001b[39;49m\u001b[43mscan_once\u001b[49m\u001b[43m(\u001b[49m\u001b[43ms\u001b[49m\u001b[43m,\u001b[49m\u001b[43m \u001b[49m\u001b[43midx\u001b[49m\u001b[43m)\u001b[49m\n\u001b[1;32m    354\u001b[0m \u001b[38;5;28;01mexcept\u001b[39;00m \u001b[38;5;167;01mStopIteration\u001b[39;00m \u001b[38;5;28;01mas\u001b[39;00m err:\n\u001b[1;32m    355\u001b[0m     \u001b[38;5;28;01mraise\u001b[39;00m JSONDecodeError(\u001b[38;5;124m\"\u001b[39m\u001b[38;5;124mExpecting value\u001b[39m\u001b[38;5;124m\"\u001b[39m, s, err\u001b[38;5;241m.\u001b[39mvalue) \u001b[38;5;28;01mfrom\u001b[39;00m \u001b[38;5;28;01mNone\u001b[39;00m\n",
      "\u001b[0;31mJSONDecodeError\u001b[0m: Expecting property name enclosed in double quotes: line 1 column 2 (char 1)"
     ]
    }
   ],
   "source": [
    "json.loads(json_str)"
   ]
  },
  {
   "cell_type": "code",
   "execution_count": 41,
   "metadata": {},
   "outputs": [
    {
     "data": {
      "text/plain": [
       "{'name': 'Alice', 'age': 25, 'city': 'New York'}"
      ]
     },
     "execution_count": 41,
     "metadata": {},
     "output_type": "execute_result"
    }
   ],
   "source": [
    "ast.literal_eval(json_str)"
   ]
  },
  {
   "cell_type": "code",
   "execution_count": 42,
   "metadata": {},
   "outputs": [],
   "source": [
    "# NOTE: if there were single quotes in json_Str, ast.literal_eval can be helpful"
   ]
  },
  {
   "cell_type": "code",
   "execution_count": 43,
   "metadata": {},
   "outputs": [
    {
     "data": {
      "text/plain": [
       "\"{'name: 'Alice', 'age': 25, 'city': 'New York'}\""
      ]
     },
     "execution_count": 43,
     "metadata": {},
     "output_type": "execute_result"
    }
   ],
   "source": [
    "json_str = '''{'name: 'Alice', 'age': 25, 'city': 'New York'}'''\n",
    "\n",
    "json_str"
   ]
  },
  {
   "cell_type": "code",
   "execution_count": 44,
   "metadata": {},
   "outputs": [
    {
     "ename": "SyntaxError",
     "evalue": "unterminated string literal (detected at line 1) (<unknown>, line 1)",
     "output_type": "error",
     "traceback": [
      "Traceback \u001b[0;36m(most recent call last)\u001b[0m:\n",
      "\u001b[0m  File \u001b[1;32m~/.local/lib/python3.12/site-packages/IPython/core/interactiveshell.py:3577\u001b[0m in \u001b[1;35mrun_code\u001b[0m\n    exec(code_obj, self.user_global_ns, self.user_ns)\u001b[0m\n",
      "\u001b[0m  Cell \u001b[1;32mIn[44], line 1\u001b[0m\n    ast.literal_eval(json_str)\u001b[0m\n",
      "\u001b[0m  File \u001b[1;32m~/.python/current/lib/python3.12/ast.py:66\u001b[0m in \u001b[1;35mliteral_eval\u001b[0m\n    node_or_string = parse(node_or_string.lstrip(\" \\t\"), mode='eval')\u001b[0m\n",
      "\u001b[0;36m  File \u001b[0;32m~/.python/current/lib/python3.12/ast.py:52\u001b[0;36m in \u001b[0;35mparse\u001b[0;36m\n\u001b[0;31m    return compile(source, filename, mode, flags,\u001b[0;36m\n",
      "\u001b[0;36m  File \u001b[0;32m<unknown>:1\u001b[0;36m\u001b[0m\n\u001b[0;31m    {'name: 'Alice', 'age': 25, 'city': 'New York'}\u001b[0m\n\u001b[0m                                                 ^\u001b[0m\n\u001b[0;31mSyntaxError\u001b[0m\u001b[0;31m:\u001b[0m unterminated string literal (detected at line 1)\n"
     ]
    }
   ],
   "source": [
    "ast.literal_eval(json_str)"
   ]
  },
  {
   "cell_type": "code",
   "execution_count": null,
   "metadata": {},
   "outputs": [],
   "source": []
  }
 ],
 "metadata": {
  "kernelspec": {
   "display_name": "Python 3",
   "language": "python",
   "name": "python3"
  },
  "language_info": {
   "codemirror_mode": {
    "name": "ipython",
    "version": 3
   },
   "file_extension": ".py",
   "mimetype": "text/x-python",
   "name": "python",
   "nbconvert_exporter": "python",
   "pygments_lexer": "ipython3",
   "version": "3.12.1"
  }
 },
 "nbformat": 4,
 "nbformat_minor": 2
}
