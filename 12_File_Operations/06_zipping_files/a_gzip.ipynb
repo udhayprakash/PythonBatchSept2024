{
 "cells": [
  {
   "attachments": {},
   "cell_type": "markdown",
   "metadata": {},
   "source": [
    "## GZip File operations\n",
    "\n",
    "    - GZip application is used for compression and decompression of files.\n",
    "    - The gzip data compression algorithm itself is based on zlib module.\n",
    "    - Modes of file operation\n",
    "        binary mode: 'r', 'rb', 'a', 'ab', 'w', 'wb', 'x', 'xb'\n",
    "        text mode : 'rt', 'at', 'wt', or 'xt'"
   ]
  },
  {
   "cell_type": "code",
   "execution_count": 1,
   "metadata": {},
   "outputs": [
    {
     "name": "stdout",
     "output_type": "stream",
     "text": [
      "Functions that read and write gzipped files.\n",
      "\n",
      "The user of the file doesn't have to worry about the compression,\n",
      "but random access is not allowed.\n"
     ]
    }
   ],
   "source": [
    "import gzip\n",
    "\n",
    "print(gzip.__doc__)"
   ]
  },
  {
   "cell_type": "code",
   "execution_count": 2,
   "metadata": {},
   "outputs": [],
   "source": [
    "import os\n",
    "\n",
    "os.makedirs(\"files\", exist_ok=True)\n",
    "os.chdir(\"files\")"
   ]
  },
  {
   "attachments": {},
   "cell_type": "markdown",
   "metadata": {},
   "source": [
    "### Creating a Gzip File"
   ]
  },
  {
   "cell_type": "code",
   "execution_count": 3,
   "metadata": {},
   "outputs": [],
   "source": [
    "# Open the output file in write-binary mode and compress it with gzip\n",
    "with gzip.open(\"compressed_file.gz\", \"wb\") as f:\n",
    "    f.write(b\"This is the content of the file.\")"
   ]
  },
  {
   "cell_type": "code",
   "execution_count": 15,
   "metadata": {},
   "outputs": [
    {
     "name": "stdout",
     "output_type": "stream",
     "text": [
      "�! g\u0002�compressed_file\u0000\u000b��,V\u0000���T�����Լ\u0012��407-3'U\u000f\u0000�o� \u0000\u0000\u0000"
     ]
    }
   ],
   "source": [
    "! cat compressed_file.gz"
   ]
  },
  {
   "attachments": {},
   "cell_type": "markdown",
   "metadata": {},
   "source": [
    "### Extracting (Unzipping/Decompression) a Gzip File"
   ]
  },
  {
   "cell_type": "code",
   "execution_count": 16,
   "metadata": {},
   "outputs": [
    {
     "name": "stdout",
     "output_type": "stream",
     "text": [
      "This is the content of the file.\n"
     ]
    }
   ],
   "source": [
    "# Open the gzip file in read-binary mode and extract its contents\n",
    "with gzip.open(\"compressed_file.gz\", \"rb\") as f:\n",
    "    extracted_content = f.read().decode('utf-8')\n",
    "    print(extracted_content)"
   ]
  },
  {
   "attachments": {},
   "cell_type": "markdown",
   "metadata": {},
   "source": [
    "### Compressing a String and Writing to Gzip File"
   ]
  },
  {
   "cell_type": "code",
   "execution_count": 5,
   "metadata": {},
   "outputs": [],
   "source": [
    "string_data = \"This is the content of the string.\"\n",
    "\n",
    "# Open the output file in write-binary mode and compress the string\n",
    "with gzip.open(\"compressed_file.gz\", \"wb\") as f:\n",
    "    f.write(string_data.encode())"
   ]
  },
  {
   "attachments": {},
   "cell_type": "markdown",
   "metadata": {},
   "source": [
    "### Reading and Printing the Contents of a Gzip File Line by Line"
   ]
  },
  {
   "cell_type": "code",
   "execution_count": 6,
   "metadata": {},
   "outputs": [
    {
     "name": "stdout",
     "output_type": "stream",
     "text": [
      "This is the content of the string.\n"
     ]
    }
   ],
   "source": [
    "# Open the gzip file in read-binary mode and print its contents line by line\n",
    "with gzip.open(\"compressed_file.gz\", \"rb\") as f:\n",
    "    for line in f:\n",
    "        print(line.decode())"
   ]
  },
  {
   "attachments": {},
   "cell_type": "markdown",
   "metadata": {},
   "source": [
    "### Appending to an Existing Gzip File"
   ]
  },
  {
   "cell_type": "code",
   "execution_count": 7,
   "metadata": {},
   "outputs": [],
   "source": [
    "# Open the gzip file in append mode and write additional content to it\n",
    "with gzip.open(\"compressed_file.gz\", \"ab\") as f:\n",
    "    f.write(b\"This is additional content.\")"
   ]
  },
  {
   "cell_type": "markdown",
   "metadata": {},
   "source": [
    "### Handling FileNotFoundError When Extracting a Non-existent Gzip File"
   ]
  },
  {
   "cell_type": "code",
   "execution_count": 8,
   "metadata": {},
   "outputs": [
    {
     "name": "stdout",
     "output_type": "stream",
     "text": [
      "File not found.\n"
     ]
    }
   ],
   "source": [
    "try:\n",
    "    with gzip.open(\"nonexistent_file.gz\", \"rb\") as f:\n",
    "        extracted_content = f.read()\n",
    "        print(extracted_content)\n",
    "except FileNotFoundError:\n",
    "    print(\"File not found.\")"
   ]
  },
  {
   "cell_type": "markdown",
   "metadata": {},
   "source": [
    "### Handling GzipFileChecksumError When Reading a Corrupted Gzip File"
   ]
  },
  {
   "cell_type": "code",
   "execution_count": 9,
   "metadata": {},
   "outputs": [
    {
     "name": "stdout",
     "output_type": "stream",
     "text": [
      "file not found.\n"
     ]
    }
   ],
   "source": [
    "import gzip\n",
    "import zlib\n",
    "\n",
    "try:\n",
    "    with gzip.open(\"corrupted_file.gz\", \"rb\") as f:\n",
    "        extracted_content = f.read()\n",
    "        print(extracted_content)\n",
    "except zlib.error:\n",
    "    print(\"Gzip file is corrupted or has an incorrect checksum.\")\n",
    "except FileNotFoundError:\n",
    "    print(\"file not found.\")"
   ]
  },
  {
   "cell_type": "markdown",
   "metadata": {},
   "source": [
    "### Handling OSError When Writing to a Directory with Insufficient Permissions"
   ]
  },
  {
   "cell_type": "code",
   "execution_count": 10,
   "metadata": {},
   "outputs": [
    {
     "name": "stdout",
     "output_type": "stream",
     "text": [
      "Unable to write to the directory. Check permissions.\n"
     ]
    }
   ],
   "source": [
    "try:\n",
    "    with gzip.open(\"/path/to/unwritable_directory/compressed_file.gz\", \"wb\") as f:\n",
    "        f.write(b\"This is the content of the file.\")\n",
    "except OSError:\n",
    "    print(\"Unable to write to the directory. Check permissions.\")"
   ]
  },
  {
   "attachments": {},
   "cell_type": "markdown",
   "metadata": {},
   "source": [
    "### Specifying the Compression Level When Creating a Gzip File"
   ]
  },
  {
   "cell_type": "code",
   "execution_count": 11,
   "metadata": {},
   "outputs": [],
   "source": [
    "# Open the output file in write-binary mode and specify the compression level (0-9)\n",
    "with gzip.open(\"compressed_file.gz\", \"wb\", compresslevel=9) as f:\n",
    "    f.write(b\"This is the content of the file.\")"
   ]
  },
  {
   "attachments": {},
   "cell_type": "markdown",
   "metadata": {},
   "source": [
    "### Reading and Writing Large Files in Chunks"
   ]
  },
  {
   "cell_type": "code",
   "execution_count": 12,
   "metadata": {},
   "outputs": [
    {
     "ename": "FileNotFoundError",
     "evalue": "[Errno 2] No such file or directory: 'large_file.txt'",
     "output_type": "error",
     "traceback": [
      "\u001b[0;31m---------------------------------------------------------------------------\u001b[0m",
      "\u001b[0;31mFileNotFoundError\u001b[0m                         Traceback (most recent call last)",
      "Cell \u001b[0;32mIn[12], line 4\u001b[0m\n\u001b[1;32m      1\u001b[0m chunk_size \u001b[38;5;241m=\u001b[39m \u001b[38;5;241m1024\u001b[39m  \u001b[38;5;66;03m# Chunk size in bytes\u001b[39;00m\n\u001b[1;32m      3\u001b[0m \u001b[38;5;66;03m# Read the input file in chunks and write to the output gzip file\u001b[39;00m\n\u001b[0;32m----> 4\u001b[0m \u001b[38;5;28;01mwith\u001b[39;00m \u001b[38;5;28;43mopen\u001b[39;49m\u001b[43m(\u001b[49m\u001b[38;5;124;43m\"\u001b[39;49m\u001b[38;5;124;43mlarge_file.txt\u001b[39;49m\u001b[38;5;124;43m\"\u001b[39;49m\u001b[43m,\u001b[49m\u001b[43m \u001b[49m\u001b[38;5;124;43m\"\u001b[39;49m\u001b[38;5;124;43mrb\u001b[39;49m\u001b[38;5;124;43m\"\u001b[39;49m\u001b[43m)\u001b[49m \u001b[38;5;28;01mas\u001b[39;00m input_file, gzip\u001b[38;5;241m.\u001b[39mopen(\n\u001b[1;32m      5\u001b[0m     \u001b[38;5;124m\"\u001b[39m\u001b[38;5;124mcompressed_file.gz\u001b[39m\u001b[38;5;124m\"\u001b[39m, \u001b[38;5;124m\"\u001b[39m\u001b[38;5;124mwb\u001b[39m\u001b[38;5;124m\"\u001b[39m\n\u001b[1;32m      6\u001b[0m ) \u001b[38;5;28;01mas\u001b[39;00m output_file:\n\u001b[1;32m      7\u001b[0m     \u001b[38;5;28;01mwhile\u001b[39;00m \u001b[38;5;28;01mTrue\u001b[39;00m:\n\u001b[1;32m      8\u001b[0m         chunk \u001b[38;5;241m=\u001b[39m input_file\u001b[38;5;241m.\u001b[39mread(chunk_size)\n",
      "File \u001b[0;32m~/.local/lib/python3.12/site-packages/IPython/core/interactiveshell.py:324\u001b[0m, in \u001b[0;36m_modified_open\u001b[0;34m(file, *args, **kwargs)\u001b[0m\n\u001b[1;32m    317\u001b[0m \u001b[38;5;28;01mif\u001b[39;00m file \u001b[38;5;129;01min\u001b[39;00m {\u001b[38;5;241m0\u001b[39m, \u001b[38;5;241m1\u001b[39m, \u001b[38;5;241m2\u001b[39m}:\n\u001b[1;32m    318\u001b[0m     \u001b[38;5;28;01mraise\u001b[39;00m \u001b[38;5;167;01mValueError\u001b[39;00m(\n\u001b[1;32m    319\u001b[0m         \u001b[38;5;124mf\u001b[39m\u001b[38;5;124m\"\u001b[39m\u001b[38;5;124mIPython won\u001b[39m\u001b[38;5;124m'\u001b[39m\u001b[38;5;124mt let you open fd=\u001b[39m\u001b[38;5;132;01m{\u001b[39;00mfile\u001b[38;5;132;01m}\u001b[39;00m\u001b[38;5;124m by default \u001b[39m\u001b[38;5;124m\"\u001b[39m\n\u001b[1;32m    320\u001b[0m         \u001b[38;5;124m\"\u001b[39m\u001b[38;5;124mas it is likely to crash IPython. If you know what you are doing, \u001b[39m\u001b[38;5;124m\"\u001b[39m\n\u001b[1;32m    321\u001b[0m         \u001b[38;5;124m\"\u001b[39m\u001b[38;5;124myou can use builtins\u001b[39m\u001b[38;5;124m'\u001b[39m\u001b[38;5;124m open.\u001b[39m\u001b[38;5;124m\"\u001b[39m\n\u001b[1;32m    322\u001b[0m     )\n\u001b[0;32m--> 324\u001b[0m \u001b[38;5;28;01mreturn\u001b[39;00m \u001b[43mio_open\u001b[49m\u001b[43m(\u001b[49m\u001b[43mfile\u001b[49m\u001b[43m,\u001b[49m\u001b[43m \u001b[49m\u001b[38;5;241;43m*\u001b[39;49m\u001b[43margs\u001b[49m\u001b[43m,\u001b[49m\u001b[43m \u001b[49m\u001b[38;5;241;43m*\u001b[39;49m\u001b[38;5;241;43m*\u001b[39;49m\u001b[43mkwargs\u001b[49m\u001b[43m)\u001b[49m\n",
      "\u001b[0;31mFileNotFoundError\u001b[0m: [Errno 2] No such file or directory: 'large_file.txt'"
     ]
    }
   ],
   "source": [
    "chunk_size = 1024  # Chunk size in bytes\n",
    "\n",
    "# Read the input file in chunks and write to the output gzip file\n",
    "with open(\"large_file.txt\", \"rb\") as input_file, gzip.open(\n",
    "    \"compressed_file.gz\", \"wb\"\n",
    ") as output_file:\n",
    "    while True:\n",
    "        chunk = input_file.read(chunk_size)\n",
    "        if not chunk:\n",
    "            break\n",
    "        output_file.write(chunk)"
   ]
  }
 ],
 "metadata": {
  "kernelspec": {
   "display_name": "Python 3",
   "language": "python",
   "name": "python3"
  },
  "language_info": {
   "codemirror_mode": {
    "name": "ipython",
    "version": 3
   },
   "file_extension": ".py",
   "mimetype": "text/x-python",
   "name": "python",
   "nbconvert_exporter": "python",
   "pygments_lexer": "ipython3",
   "version": "3.12.1"
  },
  "orig_nbformat": 4
 },
 "nbformat": 4,
 "nbformat_minor": 2
}
