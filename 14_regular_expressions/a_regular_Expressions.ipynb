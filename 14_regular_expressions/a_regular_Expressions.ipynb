{
 "cells": [
  {
   "cell_type": "markdown",
   "metadata": {},
   "source": [
    "# Regular Expression"
   ]
  },
  {
   "cell_type": "code",
   "execution_count": 1,
   "metadata": {},
   "outputs": [],
   "source": [
    "import re"
   ]
  },
  {
   "cell_type": "code",
   "execution_count": 2,
   "metadata": {},
   "outputs": [
    {
     "data": {
      "text/plain": [
       "<module 're' from '/usr/local/python/3.12.1/lib/python3.12/re/__init__.py'>"
      ]
     },
     "execution_count": 2,
     "metadata": {},
     "output_type": "execute_result"
    }
   ],
   "source": [
    "re"
   ]
  },
  {
   "cell_type": "code",
   "execution_count": 3,
   "metadata": {},
   "outputs": [
    {
     "data": {
      "text/plain": [
       "['A',\n",
       " 'ASCII',\n",
       " 'DEBUG',\n",
       " 'DOTALL',\n",
       " 'I',\n",
       " 'IGNORECASE',\n",
       " 'L',\n",
       " 'LOCALE',\n",
       " 'M',\n",
       " 'MULTILINE',\n",
       " 'Match',\n",
       " 'NOFLAG',\n",
       " 'Pattern',\n",
       " 'RegexFlag',\n",
       " 'S',\n",
       " 'Scanner',\n",
       " 'T',\n",
       " 'TEMPLATE',\n",
       " 'U',\n",
       " 'UNICODE',\n",
       " 'VERBOSE',\n",
       " 'X',\n",
       " '_MAXCACHE',\n",
       " '_MAXCACHE2',\n",
       " '__all__',\n",
       " '__builtins__',\n",
       " '__cached__',\n",
       " '__doc__',\n",
       " '__file__',\n",
       " '__loader__',\n",
       " '__name__',\n",
       " '__package__',\n",
       " '__path__',\n",
       " '__spec__',\n",
       " '__version__',\n",
       " '_cache',\n",
       " '_cache2',\n",
       " '_casefix',\n",
       " '_compile',\n",
       " '_compile_template',\n",
       " '_compiler',\n",
       " '_constants',\n",
       " '_parser',\n",
       " '_pickle',\n",
       " '_special_chars_map',\n",
       " '_sre',\n",
       " 'compile',\n",
       " 'copyreg',\n",
       " 'enum',\n",
       " 'error',\n",
       " 'escape',\n",
       " 'findall',\n",
       " 'finditer',\n",
       " 'fullmatch',\n",
       " 'functools',\n",
       " 'match',\n",
       " 'purge',\n",
       " 'search',\n",
       " 'split',\n",
       " 'sub',\n",
       " 'subn',\n",
       " 'template']"
      ]
     },
     "execution_count": 3,
     "metadata": {},
     "output_type": "execute_result"
    }
   ],
   "source": [
    "dir(re)"
   ]
  },
  {
   "cell_type": "markdown",
   "metadata": {},
   "source": [
    "###     Using re.match\n",
    "        - It helps to identify patterns at the starting of string\n",
    "        - By default, it is case-sensitive"
   ]
  },
  {
   "cell_type": "code",
   "execution_count": 4,
   "metadata": {},
   "outputs": [
    {
     "name": "stdout",
     "output_type": "stream",
     "text": [
      "target_string.find(search_string) =-1\n",
      "search_string in target_string    =False\n"
     ]
    }
   ],
   "source": [
    "target_string = \"Python Programming is good for health\"\n",
    "search_string = \"python\"\n",
    "\n",
    "print(f\"{target_string.find(search_string) =}\")\n",
    "print(f\"{search_string in target_string    =}\")"
   ]
  },
  {
   "cell_type": "code",
   "execution_count": 5,
   "metadata": {},
   "outputs": [
    {
     "name": "stdout",
     "output_type": "stream",
     "text": [
      "target_string.find(search_string) =0\n",
      "search_string in target_string    =True\n"
     ]
    }
   ],
   "source": [
    "target_string = \"Python Programming is good for health\"\n",
    "search_string = \"Python\"\n",
    "\n",
    "print(f\"{target_string.find(search_string) =}\")\n",
    "print(f\"{search_string in target_string    =}\")"
   ]
  },
  {
   "cell_type": "code",
   "execution_count": null,
   "metadata": {},
   "outputs": [
    {
     "name": "stdout",
     "output_type": "stream",
     "text": [
      "target_string.find(search_string) =0\n",
      "search_string in target_string    =True\n"
     ]
    }
   ],
   "source": [
    "target_string = \"Python Programming is good for health\"\n",
    "search_string = \"Python\"\n",
    "\n",
    "target_string = target_string.lower()\n",
    "search_string = search_string.lower()\n",
    "\n",
    "print(f\"{target_string.find(search_string) =}\")\n",
    "print(f\"{search_string in target_string    =}\")"
   ]
  },
  {
   "cell_type": "code",
   "execution_count": 7,
   "metadata": {},
   "outputs": [
    {
     "name": "stdout",
     "output_type": "stream",
     "text": [
      "re.compile('python') <class 're.Pattern'>\n"
     ]
    }
   ],
   "source": [
    "reg_obj = re.compile(search_string)\n",
    "print(reg_obj, type(reg_obj))"
   ]
  },
  {
   "cell_type": "code",
   "execution_count": 8,
   "metadata": {},
   "outputs": [
    {
     "name": "stdout",
     "output_type": "stream",
     "text": [
      "result =<re.Match object; span=(0, 6), match='python'>\n"
     ]
    }
   ],
   "source": [
    "\n",
    "result = reg_obj.match(target_string)\n",
    "print(f\"{result =}\")"
   ]
  },
  {
   "cell_type": "code",
   "execution_count": 9,
   "metadata": {},
   "outputs": [
    {
     "name": "stdout",
     "output_type": "stream",
     "text": [
      "result.group():python\n",
      "result.span() :(0, 6)\n",
      "result.start():0\n",
      "result.end()  :6\n"
     ]
    }
   ],
   "source": [
    "if result:\n",
    "    print(f\"result.group():{result.group()}\")\n",
    "    print(f\"result.span() :{result.span()}\")\n",
    "    print(f\"result.start():{result.start()}\")\n",
    "    print(f\"result.end()  :{result.end()}\")\n",
    "else:\n",
    "    print(\"NO match found\")"
   ]
  },
  {
   "cell_type": "code",
   "execution_count": 10,
   "metadata": {},
   "outputs": [
    {
     "name": "stdout",
     "output_type": "stream",
     "text": [
      "target_string.find(search_string) =-1\n",
      "search_string in target_string    =False\n"
     ]
    }
   ],
   "source": [
    "target_string = \"Python Programming is good for health\"\n",
    "search_string = \"python\"\n",
    "\n",
    "print(f\"{target_string.find(search_string) =}\")\n",
    "print(f\"{search_string in target_string    =}\")"
   ]
  },
  {
   "cell_type": "code",
   "execution_count": 11,
   "metadata": {},
   "outputs": [
    {
     "name": "stdout",
     "output_type": "stream",
     "text": [
      "re.compile('python') <class 're.Pattern'>\n",
      "result =None\n",
      "NO match found\n"
     ]
    }
   ],
   "source": [
    "reg_obj = re.compile(search_string)\n",
    "print(reg_obj, type(reg_obj))\n",
    "\n",
    "result = reg_obj.match(target_string)\n",
    "print(f\"{result =}\")\n",
    "\n",
    "if result:\n",
    "    print(f\"result.group():{result.group()}\")\n",
    "    print(f\"result.span() :{result.span()}\")\n",
    "    print(f\"result.start():{result.start()}\")\n",
    "    print(f\"result.end()  :{result.end()}\")\n",
    "else:\n",
    "    print(\"NO match found\")"
   ]
  },
  {
   "cell_type": "code",
   "execution_count": 14,
   "metadata": {},
   "outputs": [
    {
     "name": "stdout",
     "output_type": "stream",
     "text": [
      "\n",
      "search_string = python\n",
      "target_string.lower().find(search_string.lower()) =0\n",
      "search_string.lower() in target_string.lower()    =True\n",
      "re.compile('python', re.IGNORECASE) <class 're.Pattern'>\n",
      "result =<re.Match object; span=(0, 6), match='Python'>\n",
      "result.group():Python\n",
      "result.span() :(0, 6)\n",
      "result.start():0\n",
      "result.end()  :6\n",
      "\n",
      "search_string = Python\n",
      "target_string.lower().find(search_string.lower()) =0\n",
      "search_string.lower() in target_string.lower()    =True\n",
      "re.compile('Python', re.IGNORECASE) <class 're.Pattern'>\n",
      "result =<re.Match object; span=(0, 6), match='Python'>\n",
      "result.group():Python\n",
      "result.span() :(0, 6)\n",
      "result.start():0\n",
      "result.end()  :6\n",
      "\n",
      "search_string = PYTHON\n",
      "target_string.lower().find(search_string.lower()) =0\n",
      "search_string.lower() in target_string.lower()    =True\n",
      "re.compile('PYTHON', re.IGNORECASE) <class 're.Pattern'>\n",
      "result =<re.Match object; span=(0, 6), match='Python'>\n",
      "result.group():Python\n",
      "result.span() :(0, 6)\n",
      "result.start():0\n",
      "result.end()  :6\n",
      "\n",
      "search_string = PYThon\n",
      "target_string.lower().find(search_string.lower()) =0\n",
      "search_string.lower() in target_string.lower()    =True\n",
      "re.compile('PYThon', re.IGNORECASE) <class 're.Pattern'>\n",
      "result =<re.Match object; span=(0, 6), match='Python'>\n",
      "result.group():Python\n",
      "result.span() :(0, 6)\n",
      "result.start():0\n",
      "result.end()  :6\n"
     ]
    }
   ],
   "source": [
    "\n",
    "for search_string in (\"python\", \"Python\", \"PYTHON\", \"PYThon\"):\n",
    "    print(\"\\nsearch_string =\", search_string)\n",
    "    \n",
    "    # print(f\"{target_string.find(search_string) =}\")\n",
    "    # print(f\"{search_string in target_string    =}\")\n",
    "    print(f\"{target_string.lower().find(search_string.lower()) =}\")\n",
    "    print(f\"{search_string.lower() in target_string.lower()    =}\")\n",
    "    \n",
    "    reg_obj = re.compile(search_string, re.I)  # re.IGNORECASE\n",
    "    print(reg_obj, type(reg_obj))\n",
    "\n",
    "    result = reg_obj.match(target_string)\n",
    "    print(f\"{result =}\")\n",
    "\n",
    "    if result:\n",
    "        print(f\"result.group():{result.group()}\")\n",
    "        print(f\"result.span() :{result.span()}\")\n",
    "        print(f\"result.start():{result.start()}\")\n",
    "        print(f\"result.end()  :{result.end()}\")\n",
    "    else:\n",
    "        print(\"NO match found\")\n"
   ]
  },
  {
   "cell_type": "markdown",
   "metadata": {},
   "source": [
    "###     Using re.search\n",
    "        - It helps to identify patterns at the ANYWHERE of string\n",
    "\n",
    "    Using re.match\n",
    "        - It helps to identify patterns at the starting of string"
   ]
  },
  {
   "cell_type": "code",
   "execution_count": 19,
   "metadata": {},
   "outputs": [
    {
     "name": "stdout",
     "output_type": "stream",
     "text": [
      "re.compile('Programming', re.IGNORECASE) <class 're.Pattern'>\n",
      "result =None\n",
      "NO match found\n"
     ]
    }
   ],
   "source": [
    "target_string = \"Python Programming is good for health\"\n",
    "search_string = \"Programming\"   #\"python\"\n",
    "\n",
    "\n",
    "reg_obj = re.compile(search_string, re.I)\n",
    "print(reg_obj, type(reg_obj))\n",
    "\n",
    "result = reg_obj.match(target_string)\n",
    "print(f\"{result =}\")\n",
    "\n",
    "if result:\n",
    "    print(f\"result.group():{result.group()}\")\n",
    "    print(f\"result.span() :{result.span()}\")\n",
    "    print(f\"result.start():{result.start()}\")\n",
    "    print(f\"result.end()  :{result.end()}\")\n",
    "else:\n",
    "    print(\"NO match found\")"
   ]
  },
  {
   "cell_type": "code",
   "execution_count": 20,
   "metadata": {},
   "outputs": [
    {
     "name": "stdout",
     "output_type": "stream",
     "text": [
      "re.compile('Programming', re.IGNORECASE) <class 're.Pattern'>\n",
      "result =<re.Match object; span=(7, 18), match='Programming'>\n",
      "result.group():Programming\n",
      "result.span() :(7, 18)\n",
      "result.start():7\n",
      "result.end()  :18\n"
     ]
    }
   ],
   "source": [
    "target_string = \"Python Programming is good for health\"\n",
    "search_string = \"Programming\"   #\"python\"\n",
    "\n",
    "\n",
    "reg_obj = re.compile(search_string, re.I)\n",
    "print(reg_obj, type(reg_obj))\n",
    "\n",
    "result = reg_obj.search(target_string) # reg_obj.match(target_string)\n",
    "print(f\"{result =}\")\n",
    "\n",
    "if result:\n",
    "    print(f\"result.group():{result.group()}\")\n",
    "    print(f\"result.span() :{result.span()}\")\n",
    "    print(f\"result.start():{result.start()}\")\n",
    "    print(f\"result.end()  :{result.end()}\")\n",
    "else:\n",
    "    print(\"NO match found\")"
   ]
  },
  {
   "cell_type": "code",
   "execution_count": 21,
   "metadata": {},
   "outputs": [
    {
     "name": "stdout",
     "output_type": "stream",
     "text": [
      "re.compile('python', re.IGNORECASE) <class 're.Pattern'>\n",
      "result =<re.Match object; span=(0, 6), match='Python'>\n",
      "result.group():Python\n",
      "result.span() :(0, 6)\n",
      "result.start():0\n",
      "result.end()  :6\n"
     ]
    }
   ],
   "source": [
    "target_string = \"Python Programming is good for health\"\n",
    "search_string = \"python\" # \"Programming\" \n",
    "\n",
    "\n",
    "reg_obj = re.compile(search_string, re.I)\n",
    "print(reg_obj, type(reg_obj))\n",
    "\n",
    "result = reg_obj.search(target_string) # reg_obj.match(target_string)\n",
    "print(f\"{result =}\")\n",
    "\n",
    "if result:\n",
    "    print(f\"result.group():{result.group()}\")\n",
    "    print(f\"result.span() :{result.span()}\")\n",
    "    print(f\"result.start():{result.start()}\")\n",
    "    print(f\"result.end()  :{result.end()}\")\n",
    "else:\n",
    "    print(\"NO match found\")"
   ]
  },
  {
   "cell_type": "code",
   "execution_count": 22,
   "metadata": {},
   "outputs": [
    {
     "name": "stdout",
     "output_type": "stream",
     "text": [
      "re.compile('health', re.IGNORECASE) <class 're.Pattern'>\n",
      "result =<re.Match object; span=(31, 37), match='health'>\n",
      "result.group():health\n",
      "result.span() :(31, 37)\n",
      "result.start():31\n",
      "result.end()  :37\n"
     ]
    }
   ],
   "source": [
    "target_string = \"Python Programming is good for health\"\n",
    "search_string = \"health\" # \"python\" # \"Programming\" \n",
    "\n",
    "\n",
    "reg_obj = re.compile(search_string, re.I)\n",
    "print(reg_obj, type(reg_obj))\n",
    "\n",
    "result = reg_obj.search(target_string) # reg_obj.match(target_string)\n",
    "print(f\"{result =}\")\n",
    "\n",
    "if result:\n",
    "    print(f\"result.group():{result.group()}\")\n",
    "    print(f\"result.span() :{result.span()}\")\n",
    "    print(f\"result.start():{result.start()}\")\n",
    "    print(f\"result.end()  :{result.end()}\")\n",
    "else:\n",
    "    print(\"NO match found\")"
   ]
  },
  {
   "cell_type": "markdown",
   "metadata": {},
   "source": [
    "###    Two ways of writing Regular Expressions\n"
   ]
  },
  {
   "cell_type": "code",
   "execution_count": 23,
   "metadata": {},
   "outputs": [
    {
     "name": "stdout",
     "output_type": "stream",
     "text": [
      "re.compile('pyTHoN', re.IGNORECASE) <class 're.Pattern'>\n",
      "result =<re.Match object; span=(23, 29), match='PyTHOn'>\n",
      "result.group():PyTHOn\n",
      "result.span() :(23, 29)\n",
      "result.start():23\n",
      "result.end()  :29\n"
     ]
    }
   ],
   "source": [
    "target_string = \"Programming is good in PyTHOn\"\n",
    "search_string = \"pyTHoN\"\n",
    "\n",
    "\n",
    "# METHOD 1\n",
    "reg_obj = re.compile(search_string, re.I)  # re.IGNORECASE\n",
    "print(reg_obj, type(reg_obj))\n",
    "result = reg_obj.search(target_string)\n",
    "\n",
    "\n",
    "print(f\"{result =}\")\n",
    "\n",
    "\n",
    "if result:\n",
    "    print(f\"result.group():{result.group()}\")\n",
    "    print(f\"result.span() :{result.span()}\")\n",
    "    print(f\"result.start():{result.start()}\")\n",
    "    print(f\"result.end()  :{result.end()}\")\n",
    "else:\n",
    "    print(\"NO match found\")"
   ]
  },
  {
   "cell_type": "code",
   "execution_count": 24,
   "metadata": {},
   "outputs": [
    {
     "name": "stdout",
     "output_type": "stream",
     "text": [
      "result =<re.Match object; span=(23, 29), match='PyTHOn'>\n",
      "result.group():PyTHOn\n",
      "result.span() :(23, 29)\n",
      "result.start():23\n",
      "result.end()  :29\n"
     ]
    }
   ],
   "source": [
    "target_string = \"Programming is good in PyTHOn\"\n",
    "search_string = \"pyTHoN\"\n",
    "\n",
    "\n",
    "# METHOD 1\n",
    "# reg_obj = re.compile(search_string, re.I)  # re.IGNORECASE\n",
    "# result = reg_obj.search(target_string)\n",
    "\n",
    "result = re.search(search_string, target_string,  re.I )  # re.IGNORECASE\n",
    "print(f\"{result =}\")\n",
    "\n",
    "\n",
    "if result:\n",
    "    print(f\"result.group():{result.group()}\")\n",
    "    print(f\"result.span() :{result.span()}\")\n",
    "    print(f\"result.start():{result.start()}\")\n",
    "    print(f\"result.end()  :{result.end()}\")\n",
    "else:\n",
    "    print(\"NO match found\")"
   ]
  },
  {
   "cell_type": "code",
   "execution_count": 25,
   "metadata": {},
   "outputs": [
    {
     "data": {
      "text/plain": [
       "<re.Match object; span=(23, 29), match='PyTHOn'>"
      ]
     },
     "execution_count": 25,
     "metadata": {},
     "output_type": "execute_result"
    }
   ],
   "source": [
    "re.search(\"pyTHoN\", \"Programming is good in PyTHOn\",  re.I )  # re.IGNORECASE\n"
   ]
  },
  {
   "cell_type": "markdown",
   "metadata": {},
   "source": [
    "###  Question: How to make re.search() to work like re.match ? \n",
    "\n",
    "\n",
    "    pattern\n",
    "        ^   To make to check at the start of string\n",
    "        $   To make to check at the end of string"
   ]
  },
  {
   "cell_type": "code",
   "execution_count": 26,
   "metadata": {},
   "outputs": [
    {
     "data": {
      "text/plain": [
       "<re.Match object; span=(23, 29), match='PYThon'>"
      ]
     },
     "execution_count": 26,
     "metadata": {},
     "output_type": "execute_result"
    }
   ],
   "source": [
    "re.search(\"pyTHon\", \"Programming is good in PYThon\", re.I)"
   ]
  },
  {
   "cell_type": "code",
   "execution_count": 27,
   "metadata": {},
   "outputs": [
    {
     "data": {
      "text/plain": [
       "<re.Match object; span=(23, 29), match='PYThon'>"
      ]
     },
     "execution_count": 27,
     "metadata": {},
     "output_type": "execute_result"
    }
   ],
   "source": [
    "# TO Enforce to search at the end\n",
    "re.search(\"pyTHon$\", \"Programming is good in PYThon\", re.I)"
   ]
  },
  {
   "cell_type": "code",
   "execution_count": 28,
   "metadata": {},
   "outputs": [],
   "source": [
    "re.search(\"pyTHon$\", \"Programming is good in PYThon 123\", re.I)"
   ]
  },
  {
   "cell_type": "code",
   "execution_count": 31,
   "metadata": {},
   "outputs": [
    {
     "name": "stdout",
     "output_type": "stream",
     "text": [
      "\n",
      "result:None\n"
     ]
    }
   ],
   "source": [
    "# TO Enforce to search at the start\n",
    "result = re.search(\"^pyTHon\", \"Programming is good in PYThon\", re.I)\n",
    "print(f\"\\nresult:{result}\")"
   ]
  },
  {
   "cell_type": "code",
   "execution_count": 32,
   "metadata": {},
   "outputs": [
    {
     "name": "stdout",
     "output_type": "stream",
     "text": [
      "\n",
      "result:<re.Match object; span=(0, 6), match='PYThon'>\n"
     ]
    }
   ],
   "source": [
    "result = re.search(\"^pyTHon\", \"PYThon Programming is good\", re.I)\n",
    "print(f\"\\nresult:{result}\")"
   ]
  },
  {
   "cell_type": "code",
   "execution_count": 33,
   "metadata": {},
   "outputs": [
    {
     "name": "stdout",
     "output_type": "stream",
     "text": [
      "\n",
      "result:<re.Match object; span=(0, 6), match='PYThon'>\n"
     ]
    }
   ],
   "source": [
    "result = re.match(\"pyTHon\", \"PYThon Programming is good\", re.I)\n",
    "print(f\"\\nresult:{result}\")"
   ]
  },
  {
   "cell_type": "code",
   "execution_count": 34,
   "metadata": {},
   "outputs": [
    {
     "name": "stdout",
     "output_type": "stream",
     "text": [
      "\n",
      "result:None\n"
     ]
    }
   ],
   "source": [
    "result = re.match(\"^pyTHon$\", \"PYThon Programming is good\", re.I)\n",
    "print(f\"\\nresult:{result}\")"
   ]
  },
  {
   "cell_type": "code",
   "execution_count": 35,
   "metadata": {},
   "outputs": [
    {
     "name": "stdout",
     "output_type": "stream",
     "text": [
      "\n",
      "result:<re.Match object; span=(0, 6), match='PYThon'>\n"
     ]
    }
   ],
   "source": [
    "result = re.match(\"^pyTHon$\", \"PYThon\", re.I)\n",
    "print(f\"\\nresult:{result}\")"
   ]
  },
  {
   "cell_type": "markdown",
   "metadata": {},
   "source": [
    "### Question: How to make re.search() to find at the end of string only\n",
    "\n",
    "    pattern\n",
    "        ^   To make to check at the start of string\n",
    "        $   To make to check at the end of string\n",
    "\n",
    "        \\A | Matches the expression to its right at the absolute start of a string whether in single or multi-line mode.\n",
    "        \\Z | Matches the expression to its left at the absolute end of a string whether in single or multi-line mode.\n"
   ]
  },
  {
   "cell_type": "code",
   "execution_count": 36,
   "metadata": {},
   "outputs": [],
   "source": [
    "re.search(\"abc$\", \"ABC123abcd\", re.I)"
   ]
  },
  {
   "cell_type": "code",
   "execution_count": 37,
   "metadata": {},
   "outputs": [
    {
     "data": {
      "text/plain": [
       "<re.Match object; span=(6, 9), match='abc'>"
      ]
     },
     "execution_count": 37,
     "metadata": {},
     "output_type": "execute_result"
    }
   ],
   "source": [
    "re.search(\"abc$\", \"ABC123abc\", re.I)"
   ]
  },
  {
   "cell_type": "code",
   "execution_count": 38,
   "metadata": {},
   "outputs": [
    {
     "name": "stdout",
     "output_type": "stream",
     "text": [
      "\n",
      "result:<re.Match object; span=(6, 9), match='abc'>\n",
      "result.group():abc\n"
     ]
    }
   ],
   "source": [
    "result = re.search(\"abc$\", \"ABC123abc\", re.I)\n",
    "print(f\"\\nresult:{result}\")\n",
    "if result:\n",
    "    print(f\"result.group():{result.group()}\")  # abc"
   ]
  },
  {
   "cell_type": "code",
   "execution_count": 39,
   "metadata": {},
   "outputs": [
    {
     "name": "stdout",
     "output_type": "stream",
     "text": [
      "\n",
      "result:<re.Match object; span=(0, 3), match='ABC'>\n",
      "result.group():ABC\n"
     ]
    }
   ],
   "source": [
    "result = re.search(\"^abc\", \"ABC123abc\", re.I)\n",
    "print(f\"\\nresult:{result}\")\n",
    "if result:\n",
    "    print(f\"result.group():{result.group()}\")"
   ]
  },
  {
   "cell_type": "code",
   "execution_count": 40,
   "metadata": {},
   "outputs": [
    {
     "name": "stdout",
     "output_type": "stream",
     "text": [
      "\n",
      "result:<re.Match object; span=(6, 9), match='abc'>\n",
      "result.group():abc\n",
      "\n",
      "result:<re.Match object; span=(0, 3), match='ABC'>\n",
      "result.group():ABC\n"
     ]
    },
    {
     "name": "stderr",
     "output_type": "stream",
     "text": [
      "<>:2: SyntaxWarning: invalid escape sequence '\\Z'\n",
      "<>:7: SyntaxWarning: invalid escape sequence '\\A'\n",
      "<>:2: SyntaxWarning: invalid escape sequence '\\Z'\n",
      "<>:7: SyntaxWarning: invalid escape sequence '\\A'\n",
      "/tmp/ipykernel_6159/3802364902.py:2: SyntaxWarning: invalid escape sequence '\\Z'\n",
      "  result = re.search(\"abc\\Z\", \"ABC123abc\", re.I)\n",
      "/tmp/ipykernel_6159/3802364902.py:7: SyntaxWarning: invalid escape sequence '\\A'\n",
      "  result = re.search(\"\\Aabc\", \"ABC123abc\", re.I)\n"
     ]
    }
   ],
   "source": [
    "# Method 2 - using \\A and \\Z\n",
    "result = re.search(\"abc\\Z\", \"ABC123abc\", re.I)\n",
    "print(f\"\\nresult:{result}\")\n",
    "if result:\n",
    "    print(f\"result.group():{result.group()}\")  # abc\n",
    "\n",
    "result = re.search(\"\\Aabc\", \"ABC123abc\", re.I)\n",
    "print(f\"\\nresult:{result}\")\n",
    "if result:\n",
    "    print(f\"result.group():{result.group()}\")  # ABC"
   ]
  },
  {
   "cell_type": "code",
   "execution_count": 41,
   "metadata": {},
   "outputs": [
    {
     "name": "stdout",
     "output_type": "stream",
     "text": [
      "\n",
      "result:<re.Match object; span=(6, 9), match='abc'>\n",
      "result.group():abc\n",
      "\n",
      "result:<re.Match object; span=(0, 3), match='ABC'>\n",
      "result.group():ABC\n"
     ]
    }
   ],
   "source": [
    "# Method 2 - using \\A and \\Z\n",
    "result = re.search(r\"abc\\Z\", \"ABC123abc\", re.I)\n",
    "print(f\"\\nresult:{result}\")\n",
    "if result:\n",
    "    print(f\"result.group():{result.group()}\")  # abc\n",
    "\n",
    "result = re.search(r\"\\Aabc\", \"ABC123abc\", re.I)\n",
    "print(f\"\\nresult:{result}\")\n",
    "if result:\n",
    "    print(f\"result.group():{result.group()}\")  # ABC"
   ]
  },
  {
   "cell_type": "markdown",
   "metadata": {},
   "source": [
    "__NOTE:__ every pattern startong with \\ should be enclosed with raw representation string "
   ]
  },
  {
   "cell_type": "markdown",
   "metadata": {},
   "source": [
    "### Question: How to get specific no. of characters from target string\n",
    "\n",
    "\n",
    "    pattern\n",
    "        ^   To make to check at the start of string\n",
    "        $   To make to check at the end of string\n",
    "        .   To get any character, except the newline(\\n) character"
   ]
  },
  {
   "cell_type": "code",
   "execution_count": 42,
   "metadata": {},
   "outputs": [
    {
     "name": "stdout",
     "output_type": "stream",
     "text": [
      "result.group():PyTHO\n"
     ]
    }
   ],
   "source": [
    "# To get 5 characters, ( default is from start of string)\n",
    "result = re.search(\".....\", \"PyTHOn Programming is good\", re.I)\n",
    "if result:\n",
    "    print(f\"result.group():{result.group()}\")"
   ]
  },
  {
   "cell_type": "code",
   "execution_count": 43,
   "metadata": {},
   "outputs": [
    {
     "name": "stdout",
     "output_type": "stream",
     "text": [
      "result.group():PyTHO\n"
     ]
    }
   ],
   "source": [
    "# To get 5 characters, from start of string\n",
    "result = re.search(\"^.....\", \"PyTHOn Programming is good\", re.I)\n",
    "if result:\n",
    "    print(f\"result.group():{result.group()}\")"
   ]
  },
  {
   "cell_type": "code",
   "execution_count": 44,
   "metadata": {},
   "outputs": [
    {
     "name": "stdout",
     "output_type": "stream",
     "text": [
      "result.group(): good\n"
     ]
    }
   ],
   "source": [
    "# To get 5 characters, from end of string\n",
    "result = re.search(\".....$\", \"PyTHOn Programming is good\", re.I)\n",
    "if result:\n",
    "    print(f\"result.group():{result.group()}\")\n"
   ]
  },
  {
   "cell_type": "code",
   "execution_count": 45,
   "metadata": {},
   "outputs": [
    {
     "name": "stdout",
     "output_type": "stream",
     "text": [
      "result:None\n"
     ]
    }
   ],
   "source": [
    "# To get the target string with 5 characters only\n",
    "result = re.search(\"^.....$\", \"PyTHOn Programming is good\", re.I)\n",
    "print(f\"result:{result}\")  # None"
   ]
  },
  {
   "cell_type": "code",
   "execution_count": 46,
   "metadata": {},
   "outputs": [
    {
     "name": "stdout",
     "output_type": "stream",
     "text": [
      "result:None\n"
     ]
    }
   ],
   "source": [
    "# To get the target string with 4 characters only\n",
    "result = re.search(\"^....$\", \"PyTHOn Programming is good\", re.I)\n",
    "print(f\"result:{result}\")  # None"
   ]
  },
  {
   "cell_type": "code",
   "execution_count": 47,
   "metadata": {},
   "outputs": [
    {
     "name": "stdout",
     "output_type": "stream",
     "text": [
      "result:<re.Match object; span=(0, 5), match='udhay'>\n"
     ]
    }
   ],
   "source": [
    "# To get the target string with 5 characters only\n",
    "result = re.search(\"^.....$\", \"udhay\", re.I)\n",
    "print(f\"result:{result}\")"
   ]
  },
  {
   "cell_type": "code",
   "execution_count": 48,
   "metadata": {},
   "outputs": [
    {
     "name": "stdout",
     "output_type": "stream",
     "text": [
      "result:<re.Match object; span=(0, 5), match='udhay'>\n"
     ]
    },
    {
     "name": "stderr",
     "output_type": "stream",
     "text": [
      "<>:2: SyntaxWarning: invalid escape sequence '\\A'\n",
      "<>:2: SyntaxWarning: invalid escape sequence '\\A'\n",
      "/tmp/ipykernel_6159/1703137062.py:2: SyntaxWarning: invalid escape sequence '\\A'\n",
      "  result = re.search(\"\\A.....\\Z\", \"udhay\", re.I)\n"
     ]
    }
   ],
   "source": [
    "# To get the target string with 5 characters only\n",
    "result = re.search(\"\\A.....\\Z\", \"udhay\", re.I)\n",
    "print(f\"result:{result}\")"
   ]
  },
  {
   "cell_type": "code",
   "execution_count": 49,
   "metadata": {},
   "outputs": [
    {
     "name": "stdout",
     "output_type": "stream",
     "text": [
      "result:<re.Match object; span=(0, 5), match='udhay'>\n"
     ]
    }
   ],
   "source": [
    "# To get the target string with 5 characters only\n",
    "result = re.search(r\"\\A.....\\Z\", \"udhay\", re.I)\n",
    "print(f\"result:{result}\")"
   ]
  },
  {
   "cell_type": "code",
   "execution_count": 50,
   "metadata": {},
   "outputs": [
    {
     "name": "stdout",
     "output_type": "stream",
     "text": [
      "result:None\n"
     ]
    }
   ],
   "source": [
    "# To get the target string with 5 characters only\n",
    "result = re.search(\"^.....$\", \"udhaya\", re.I)\n",
    "print(f\"result:{result}\")  # None"
   ]
  },
  {
   "cell_type": "code",
   "execution_count": 51,
   "metadata": {},
   "outputs": [
    {
     "name": "stdout",
     "output_type": "stream",
     "text": [
      "result:None\n"
     ]
    },
    {
     "name": "stderr",
     "output_type": "stream",
     "text": [
      "<>:2: SyntaxWarning: invalid escape sequence '\\A'\n",
      "<>:2: SyntaxWarning: invalid escape sequence '\\A'\n",
      "/tmp/ipykernel_6159/3231040517.py:2: SyntaxWarning: invalid escape sequence '\\A'\n",
      "  result = re.search(\"\\A.....\\Z\", \"udhaya\", re.I)\n"
     ]
    }
   ],
   "source": [
    "# To get the target string with 5 characters only\n",
    "result = re.search(\"\\A.....\\Z\", \"udhaya\", re.I)\n",
    "print(f\"result:{result}\")  # None"
   ]
  },
  {
   "cell_type": "markdown",
   "metadata": {},
   "source": [
    "### Greedy Patterns\n",
    "\n",
    "\n",
    "    patterns\n",
    "        *  previous character can occur 0 or more times\n",
    "        +  previous character can occur 1 or more times\n"
   ]
  },
  {
   "cell_type": "code",
   "execution_count": 52,
   "metadata": {},
   "outputs": [
    {
     "name": "stdout",
     "output_type": "stream",
     "text": [
      "ab\n",
      "ab\n"
     ]
    }
   ],
   "source": [
    "print(re.match(\"ab\", \"ab\").group())\n",
    "print(re.search(\"ab\", \"ab\").group())"
   ]
  },
  {
   "cell_type": "code",
   "execution_count": 53,
   "metadata": {},
   "outputs": [
    {
     "name": "stdout",
     "output_type": "stream",
     "text": [
      "a\n"
     ]
    }
   ],
   "source": [
    "print(re.search(\"ab*\", \"a\").group())        # b is occurring 0 times"
   ]
  },
  {
   "cell_type": "code",
   "execution_count": 54,
   "metadata": {},
   "outputs": [
    {
     "name": "stdout",
     "output_type": "stream",
     "text": [
      "ab\n"
     ]
    }
   ],
   "source": [
    "print(re.search(\"ab*\", \"ab\").group())       # b is occurring 1 times"
   ]
  },
  {
   "cell_type": "code",
   "execution_count": 55,
   "metadata": {},
   "outputs": [
    {
     "name": "stdout",
     "output_type": "stream",
     "text": [
      "abb\n"
     ]
    }
   ],
   "source": [
    "print(re.search(\"ab*\", \"abb\").group())      # b is occurring 2 times"
   ]
  },
  {
   "cell_type": "code",
   "execution_count": 56,
   "metadata": {},
   "outputs": [
    {
     "name": "stdout",
     "output_type": "stream",
     "text": [
      "abb\n"
     ]
    }
   ],
   "source": [
    "print(re.search(\"ab*\", \"abb~bbbb\").group())  # b is occurring 6 times"
   ]
  },
  {
   "cell_type": "code",
   "execution_count": 57,
   "metadata": {},
   "outputs": [
    {
     "ename": "AttributeError",
     "evalue": "'NoneType' object has no attribute 'group'",
     "output_type": "error",
     "traceback": [
      "\u001b[0;31m---------------------------------------------------------------------------\u001b[0m",
      "\u001b[0;31mAttributeError\u001b[0m                            Traceback (most recent call last)",
      "Cell \u001b[0;32mIn[57], line 1\u001b[0m\n\u001b[0;32m----> 1\u001b[0m \u001b[38;5;28mprint\u001b[39m(\u001b[43mre\u001b[49m\u001b[38;5;241;43m.\u001b[39;49m\u001b[43msearch\u001b[49m\u001b[43m(\u001b[49m\u001b[38;5;124;43m'\u001b[39;49m\u001b[38;5;124;43mab*\u001b[39;49m\u001b[38;5;124;43m'\u001b[39;49m\u001b[43m,\u001b[49m\u001b[43m \u001b[49m\u001b[38;5;124;43m'\u001b[39;49m\u001b[38;5;124;43mbbbbbb\u001b[39;49m\u001b[38;5;124;43m'\u001b[39;49m\u001b[43m)\u001b[49m\u001b[38;5;241;43m.\u001b[39;49m\u001b[43mgroup\u001b[49m())\n",
      "\u001b[0;31mAttributeError\u001b[0m: 'NoneType' object has no attribute 'group'"
     ]
    }
   ],
   "source": [
    "print(re.search('ab*', 'bbbbbb').group())"
   ]
  },
  {
   "cell_type": "code",
   "execution_count": 58,
   "metadata": {},
   "outputs": [
    {
     "name": "stdout",
     "output_type": "stream",
     "text": [
      "bbbbbb\n"
     ]
    }
   ],
   "source": [
    "print(re.search(\"a*b*\", \"bbbbbb\").group())  # b is occurring 6 times; a - 0 times"
   ]
  },
  {
   "cell_type": "code",
   "execution_count": 59,
   "metadata": {},
   "outputs": [
    {
     "name": "stdout",
     "output_type": "stream",
     "text": [
      "aaaaabbbbbb\n"
     ]
    }
   ],
   "source": [
    "print(re.search(\"a*b*\", \"aaaaabbbbbb\").group())  # b is occurring 6 times; a - 0 times"
   ]
  },
  {
   "cell_type": "code",
   "execution_count": 60,
   "metadata": {},
   "outputs": [
    {
     "ename": "AttributeError",
     "evalue": "'NoneType' object has no attribute 'group'",
     "output_type": "error",
     "traceback": [
      "\u001b[0;31m---------------------------------------------------------------------------\u001b[0m",
      "\u001b[0;31mAttributeError\u001b[0m                            Traceback (most recent call last)",
      "Cell \u001b[0;32mIn[60], line 1\u001b[0m\n\u001b[0;32m----> 1\u001b[0m \u001b[38;5;28mprint\u001b[39m(\u001b[43mre\u001b[49m\u001b[38;5;241;43m.\u001b[39;49m\u001b[43msearch\u001b[49m\u001b[43m(\u001b[49m\u001b[38;5;124;43m'\u001b[39;49m\u001b[38;5;124;43mab+\u001b[39;49m\u001b[38;5;124;43m'\u001b[39;49m\u001b[43m,\u001b[49m\u001b[43m \u001b[49m\u001b[38;5;124;43m'\u001b[39;49m\u001b[38;5;124;43ma\u001b[39;49m\u001b[38;5;124;43m'\u001b[39;49m\u001b[43m)\u001b[49m\u001b[38;5;241;43m.\u001b[39;49m\u001b[43mgroup\u001b[49m())      \u001b[38;5;66;03m# b is occurring 0 times\u001b[39;00m\n",
      "\u001b[0;31mAttributeError\u001b[0m: 'NoneType' object has no attribute 'group'"
     ]
    }
   ],
   "source": [
    "print(re.search('ab+', 'a').group())      # b is occurring 0 times"
   ]
  },
  {
   "cell_type": "code",
   "execution_count": 61,
   "metadata": {},
   "outputs": [
    {
     "name": "stdout",
     "output_type": "stream",
     "text": [
      "ab\n",
      "abb\n",
      "abbbbbb\n"
     ]
    }
   ],
   "source": [
    "print(re.search(\"ab+\", \"ab\").group())       # b is occurring 1 times\n",
    "print(re.search(\"ab+\", \"abb\").group())      # b is occurring 2 times\n",
    "print(re.search(\"ab+\", \"abbbbbb\").group())  # b is occurring 6 times"
   ]
  },
  {
   "cell_type": "code",
   "execution_count": 66,
   "metadata": {},
   "outputs": [
    {
     "ename": "AttributeError",
     "evalue": "'NoneType' object has no attribute 'group'",
     "output_type": "error",
     "traceback": [
      "\u001b[0;31m---------------------------------------------------------------------------\u001b[0m",
      "\u001b[0;31mAttributeError\u001b[0m                            Traceback (most recent call last)",
      "Cell \u001b[0;32mIn[66], line 2\u001b[0m\n\u001b[1;32m      1\u001b[0m \u001b[38;5;66;03m# DOT (.) means any character\u001b[39;00m\n\u001b[0;32m----> 2\u001b[0m \u001b[38;5;28mprint\u001b[39m(\u001b[43mre\u001b[49m\u001b[38;5;241;43m.\u001b[39;49m\u001b[43msearch\u001b[49m\u001b[43m(\u001b[49m\u001b[38;5;124;43m\"\u001b[39;49m\u001b[38;5;124;43mab.\u001b[39;49m\u001b[38;5;124;43m\"\u001b[39;49m\u001b[43m,\u001b[49m\u001b[43m \u001b[49m\u001b[38;5;124;43m\"\u001b[39;49m\u001b[38;5;124;43ma\u001b[39;49m\u001b[38;5;124;43m\"\u001b[39;49m\u001b[43m)\u001b[49m\u001b[38;5;241;43m.\u001b[39;49m\u001b[43mgroup\u001b[49m())         \u001b[38;5;66;03m# b should present min 1 time          \u001b[39;00m\n",
      "\u001b[0;31mAttributeError\u001b[0m: 'NoneType' object has no attribute 'group'"
     ]
    }
   ],
   "source": [
    "# DOT (.) means any character\n",
    "print(re.search(\"ab.\", \"a\").group())         # b should present min 1 time          \n"
   ]
  },
  {
   "cell_type": "code",
   "execution_count": 68,
   "metadata": {},
   "outputs": [
    {
     "name": "stdout",
     "output_type": "stream",
     "text": [
      "abb\n"
     ]
    }
   ],
   "source": [
    "print(re.search(\"ab.\", \"abb\").group())               \n"
   ]
  },
  {
   "cell_type": "code",
   "execution_count": 69,
   "metadata": {},
   "outputs": [
    {
     "name": "stdout",
     "output_type": "stream",
     "text": [
      "ab\n"
     ]
    }
   ],
   "source": [
    "print(re.search(\"..\", \"abb\").group())               \n"
   ]
  },
  {
   "cell_type": "code",
   "execution_count": 73,
   "metadata": {},
   "outputs": [
    {
     "name": "stdout",
     "output_type": "stream",
     "text": [
      "abbbbbbbbbbbbbbbbbb\n"
     ]
    }
   ],
   "source": [
    "print(re.search(\"ab*\", \"abbbbbbbbbbbbbbbbbbcccccccc\").group())               \n"
   ]
  },
  {
   "cell_type": "code",
   "execution_count": 74,
   "metadata": {},
   "outputs": [
    {
     "name": "stdout",
     "output_type": "stream",
     "text": [
      "abbbbbbbbbbbbbbbbbbcccccccc\n"
     ]
    }
   ],
   "source": [
    "print(re.search(\"a.*\", \"abbbbbbbbbbbbbbbbbbcccccccc\").group())               \n"
   ]
  },
  {
   "cell_type": "code",
   "execution_count": 75,
   "metadata": {},
   "outputs": [
    {
     "name": "stdout",
     "output_type": "stream",
     "text": [
      "abbbbbbbbbbbbbbbbbbcccccccc\n"
     ]
    }
   ],
   "source": [
    "print(re.search(\".*\", \"abbbbbbbbbbbbbbbbbbcccccccc\").group())               \n"
   ]
  },
  {
   "cell_type": "code",
   "execution_count": 76,
   "metadata": {},
   "outputs": [
    {
     "name": "stdout",
     "output_type": "stream",
     "text": [
      "abbbbbbbbbbbbbbbbbbccc  sdmnbfkjsdbfjbdK JGKJHKWE JF87A687DI gdjhjhmd askugdi sdhsak jdgaslkjdg jsagdccccc\n"
     ]
    }
   ],
   "source": [
    "print(re.search(\".*\", \"abbbbbbbbbbbbbbbbbbccc  sdmnbfkjsdbfjbdK JGKJHKWE JF87A687DI gdjhjhmd askugdi sdhsak jdgaslkjdg jsagdccccc\").group())               \n"
   ]
  },
  {
   "cell_type": "markdown",
   "metadata": {},
   "source": [
    "### Non-Greedy Patterns\n",
    "\n",
    "        ?  previous character can occur 0 or 1 time only"
   ]
  },
  {
   "cell_type": "code",
   "execution_count": 63,
   "metadata": {},
   "outputs": [
    {
     "name": "stdout",
     "output_type": "stream",
     "text": [
      "a\n",
      "ab\n",
      "ab\n",
      "ab\n",
      "ab\n"
     ]
    }
   ],
   "source": [
    "print(re.search(\"ab?\", \"a\").group())                # b is occurring 0 times\n",
    "print(re.search(\"ab?\", \"ab\").group())               # b is occurring 1 times\n",
    "print(re.search(\"ab?\", \"abb\").group())              # b is occurring 2 times\n",
    "print(re.search(\"ab?\", \"abbbbbb\").group())          # b is occurring 6 times\n",
    "print(re.search(\"ab?\", \"abbbbbbbbbbbbbbbbbbbbbbbbbb\").group())"
   ]
  },
  {
   "cell_type": "code",
   "execution_count": 64,
   "metadata": {},
   "outputs": [
    {
     "name": "stdout",
     "output_type": "stream",
     "text": [
      "b\n"
     ]
    }
   ],
   "source": [
    "# print(re.search('ab?', 'bbbbbb').group())  # b is occurring 6 times\n",
    "print(re.search(\"a?b?\", \"bbbbbb\").group())  # b is occurring 6 times; a - 0 times"
   ]
  },
  {
   "cell_type": "code",
   "execution_count": null,
   "metadata": {},
   "outputs": [
    {
     "ename": "AttributeError",
     "evalue": "'NoneType' object has no attribute 'group'",
     "output_type": "error",
     "traceback": [
      "\u001b[0;31m---------------------------------------------------------------------------\u001b[0m",
      "\u001b[0;31mAttributeError\u001b[0m                            Traceback (most recent call last)",
      "Cell \u001b[0;32mIn[65], line 1\u001b[0m\n\u001b[0;32m----> 1\u001b[0m \u001b[38;5;28mprint\u001b[39m(\u001b[43mre\u001b[49m\u001b[38;5;241;43m.\u001b[39;49m\u001b[43msearch\u001b[49m\u001b[43m(\u001b[49m\u001b[38;5;124;43m\"\u001b[39;49m\u001b[38;5;124;43mab.\u001b[39;49m\u001b[38;5;124;43m\"\u001b[39;49m\u001b[43m,\u001b[49m\u001b[43m \u001b[49m\u001b[38;5;124;43m\"\u001b[39;49m\u001b[38;5;124;43ma\u001b[39;49m\u001b[38;5;124;43m\"\u001b[39;49m\u001b[43m)\u001b[49m\u001b[38;5;241;43m.\u001b[39;49m\u001b[43mgroup\u001b[49m())                \u001b[38;5;66;03m# b is occurring 0 times\u001b[39;00m\n\u001b[1;32m      2\u001b[0m \u001b[38;5;28mprint\u001b[39m(re\u001b[38;5;241m.\u001b[39msearch(\u001b[38;5;124m\"\u001b[39m\u001b[38;5;124mab.\u001b[39m\u001b[38;5;124m\"\u001b[39m, \u001b[38;5;124m\"\u001b[39m\u001b[38;5;124mab\u001b[39m\u001b[38;5;124m\"\u001b[39m)\u001b[38;5;241m.\u001b[39mgroup())               \u001b[38;5;66;03m# b is occurring 1 times\u001b[39;00m\n\u001b[1;32m      3\u001b[0m \u001b[38;5;28mprint\u001b[39m(re\u001b[38;5;241m.\u001b[39msearch(\u001b[38;5;124m\"\u001b[39m\u001b[38;5;124mab.\u001b[39m\u001b[38;5;124m\"\u001b[39m, \u001b[38;5;124m\"\u001b[39m\u001b[38;5;124mabb\u001b[39m\u001b[38;5;124m\"\u001b[39m)\u001b[38;5;241m.\u001b[39mgroup())              \u001b[38;5;66;03m# b is occurring 2 times\u001b[39;00m\n",
      "\u001b[0;31mAttributeError\u001b[0m: 'NoneType' object has no attribute 'group'"
     ]
    }
   ],
   "source": []
  },
  {
   "cell_type": "code",
   "execution_count": 79,
   "metadata": {},
   "outputs": [
    {
     "name": "stdout",
     "output_type": "stream",
     "text": [
      "a\n",
      "ab\n",
      "ab\n",
      "ab\n"
     ]
    }
   ],
   "source": [
    "# .? Any character( except newline) can occur  0 or 1 time only\n",
    "print(re.search(\"a.?\", \"a\").group())  # b is occurring 0 times\n",
    "print(re.search(\"a.?\", \"ab\").group())  # b is occurring 1 times\n",
    "print(re.search(\"a.?\", \"abb\").group())  # b is occurring 2 times\n",
    "print(re.search(\"a.?\", \"abbbbbbbbbbbbbbbbbbbbbbbbb\").group())  # b is occurring many times\n"
   ]
  },
  {
   "cell_type": "code",
   "execution_count": 80,
   "metadata": {},
   "outputs": [
    {
     "name": "stdout",
     "output_type": "stream",
     "text": [
      "a\n",
      "ar\n",
      "am\n",
      "an\n"
     ]
    }
   ],
   "source": [
    "\n",
    "print(re.search(\"a.?\", \"a\").group())\n",
    "print(re.search(\"a.?\", \"ar\").group())  # r is occurring 1 times\n",
    "print(re.search(\"a.?\", \"amm\").group())\n",
    "print(re.search(\"a.?\", \"ank\").group())"
   ]
  },
  {
   "cell_type": "code",
   "execution_count": 81,
   "metadata": {},
   "outputs": [
    {
     "name": "stdout",
     "output_type": "stream",
     "text": [
      "b\n"
     ]
    }
   ],
   "source": [
    "# print(re.search('a.?', 'bbbbbbb').group())     # a is occurring 0 times\n",
    "print(re.search(\"a?.?\", \"bbbbbbb\").group())  # a is occurring 0 times"
   ]
  },
  {
   "cell_type": "markdown",
   "metadata": {},
   "source": [
    "### Greedy Patterns\n",
    "\n",
    "     .+  Any character( except newline) can occur  1 or any no. of time\n",
    "     .*  Any character( except newline) can occur  0 or any no. of time"
   ]
  },
  {
   "cell_type": "code",
   "execution_count": 82,
   "metadata": {},
   "outputs": [
    {
     "name": "stdout",
     "output_type": "stream",
     "text": [
      "a\n",
      "ab\n",
      "abb\n",
      "abbb\n",
      "abbbc\n"
     ]
    }
   ],
   "source": [
    "res = re.search(\"a.*\", \"a\")\n",
    "if res:\n",
    "    res.group()\n",
    "\n",
    "print(re.search(\"a.*\", \"a\").group())  # b is occurring 0 times\n",
    "print(re.search(\"a.*\", \"ab\").group())  # b is occurring 1 times\n",
    "print(re.search(\"a.*\", \"abb\").group())  # b is occurring 2 times\n",
    "print(re.search(\"a.*\", \"abbb\").group())  # b is occurring 3 times\n",
    "print(re.search(\"a.*\", \"abbbc\").group())  # b is occurring 3 times"
   ]
  },
  {
   "cell_type": "code",
   "execution_count": 83,
   "metadata": {},
   "outputs": [
    {
     "name": "stdout",
     "output_type": "stream",
     "text": [
      "bbbbbbb\n"
     ]
    }
   ],
   "source": [
    "# print(re.search('a.*', 'bbbbbbb').group())     # a is occurring 0 times\n",
    "print(re.search(\"a*.*\", \"bbbbbbb\").group())  # a is occurring 0 times"
   ]
  },
  {
   "cell_type": "code",
   "execution_count": 84,
   "metadata": {},
   "outputs": [
    {
     "name": "stdout",
     "output_type": "stream",
     "text": [
      "\n",
      "aS\n",
      "ASDASDSADS\n",
      "ASDASDSADS 3444 *&(*&(_)_.dfaderrrerq\n",
      "ASDASDSADS 34\n"
     ]
    }
   ],
   "source": [
    "# Question\n",
    "print(re.search(\".*\", \"\").group())  # '' - empty string is resulted\n",
    "print(re.search(\".*\", \"aS\").group())\n",
    "print(re.search(\".*\", \"ASDASDSADS\").group())\n",
    "print(re.search(\".*\", \"ASDASDSADS 3444 *&(*&(_)_.dfaderrrerq\").group())\n",
    "print(re.search(\".*\", \"ASDASDSADS 34\\n44 *&(*&(_)_.dfaderrrerq\").group())"
   ]
  },
  {
   "cell_type": "code",
   "execution_count": 85,
   "metadata": {},
   "outputs": [
    {
     "name": "stdout",
     "output_type": "stream",
     "text": [
      "\n"
     ]
    }
   ],
   "source": [
    "print(re.search(\".*\", \"\").group())  # any char occurred 0 times\n",
    "# print(re.search(\".+\", \"\").group())  # any char occurred 0 times\n"
   ]
  },
  {
   "cell_type": "code",
   "execution_count": 87,
   "metadata": {},
   "outputs": [
    {
     "name": "stdout",
     "output_type": "stream",
     "text": [
      "c\n"
     ]
    }
   ],
   "source": [
    "print(re.search(\".+\", \"c\").group())  # any char occurred 1 times"
   ]
  },
  {
   "cell_type": "code",
   "execution_count": 88,
   "metadata": {},
   "outputs": [
    {
     "name": "stdout",
     "output_type": "stream",
     "text": [
      "Non-Greedy Pattern\n",
      "\n",
      "c\n",
      "\n",
      "ccccccc\n",
      "ccccccc\n",
      "c\n"
     ]
    }
   ],
   "source": [
    "print(\"Non-Greedy Pattern\")\n",
    "print(re.search(\".?\", \"\").group())  # any char occurred 1 times\n",
    "print(re.search(\".?\", \"c\").group())  # any char occurred 1 times\n",
    "print()\n",
    "print(re.search(\".*\", \"ccccccc\").group())  # any char occurred 7 times\n",
    "print(re.search(\".+\", \"ccccccc\").group())  # any char occurred 7 times\n",
    "print(\n",
    "    re.search(\".?\", \"ccccccc\").group()\n",
    ")  # any char occurred 7 times; only 1 time taken"
   ]
  },
  {
   "cell_type": "markdown",
   "metadata": {},
   "source": [
    "##### Real example"
   ]
  },
  {
   "cell_type": "code",
   "execution_count": 90,
   "metadata": {},
   "outputs": [
    {
     "name": "stdout",
     "output_type": "stream",
     "text": [
      "\n"
     ]
    }
   ],
   "source": [
    "print(re.search(\"\", \"<h1>name</h1>\").group())"
   ]
  },
  {
   "cell_type": "code",
   "execution_count": 93,
   "metadata": {},
   "outputs": [
    {
     "name": "stdout",
     "output_type": "stream",
     "text": [
      "<h1>\n",
      "<h1>\n"
     ]
    }
   ],
   "source": [
    "print(re.search(\"<h1>\", \"<h1>name</h1>\").group())  # <h1>\n",
    "print(re.search(\"<..>\", \"<h1>name</h1>\").group())  # <h1>"
   ]
  },
  {
   "cell_type": "code",
   "execution_count": 94,
   "metadata": {},
   "outputs": [
    {
     "name": "stdout",
     "output_type": "stream",
     "text": [
      "<h1>name</h1>\n",
      "<h1>name</h1>\n"
     ]
    }
   ],
   "source": [
    "# greedy pattern\n",
    "print(re.search(\"<.+>\", \"<h1>name</h1>\").group())  # <h1>name</h1>\n",
    "print(re.search(\"<.*>\", \"<h1>name</h1>\").group())  # <h1>name</h1>"
   ]
  },
  {
   "cell_type": "code",
   "execution_count": 95,
   "metadata": {},
   "outputs": [
    {
     "name": "stdout",
     "output_type": "stream",
     "text": [
      "<h1>\n",
      "<h1>\n"
     ]
    }
   ],
   "source": [
    "# non greedy pattern\n",
    "print(re.search(\"<.+?>\", \"<h1>name</h1>\").group())  # <h1>\n",
    "print(re.search(\"<.*?>\", \"<h1>name</h1>\").group())  # <h1>"
   ]
  },
  {
   "cell_type": "markdown",
   "metadata": {},
   "source": [
    "#### pattern for numbers \n",
    "\n",
    "    /d \n",
    "    [0-9]\n",
    "    [345]"
   ]
  },
  {
   "cell_type": "code",
   "execution_count": null,
   "metadata": {},
   "outputs": [
    {
     "name": "stdout",
     "output_type": "stream",
     "text": [
      "1\n",
      "150\n",
      "150\n",
      "1\n"
     ]
    }
   ],
   "source": [
    "print(re.search(r\"\\d\", \"150\").group())   # 1\n",
    "print(re.search(r\"\\d*\", \"150\").group())  # 150\n",
    "print(re.search(r\"\\d+\", \"150\").group())  # 150\n",
    "print(re.search(r\"\\d?\", \"150\").group())  # 1"
   ]
  },
  {
   "cell_type": "code",
   "execution_count": 98,
   "metadata": {},
   "outputs": [
    {
     "name": "stdout",
     "output_type": "stream",
     "text": [
      "1\n",
      "\n",
      "150\n",
      "\n"
     ]
    }
   ],
   "source": [
    "print(re.search(r\"\\d\", \"cost of apples is $150 per basket\").group())  # 1\n",
    "print(re.search(r\"\\d*\", \"cost of apples is $150 per basket\").group())  # 150\n",
    "print(re.search(r\"\\d+\", \"cost of apples is $150 per basket\").group())  # 150\n",
    "print(re.search(r\"\\d?\", \"cost of apples is $150 per basket\").group())  # 1"
   ]
  },
  {
   "cell_type": "code",
   "execution_count": 99,
   "metadata": {},
   "outputs": [
    {
     "name": "stdout",
     "output_type": "stream",
     "text": [
      "\n"
     ]
    }
   ],
   "source": [
    "print(re.search(r\"$\\d*\", \"cost of apples is $150 per basket\").group())  # 150\n"
   ]
  },
  {
   "cell_type": "code",
   "execution_count": null,
   "metadata": {},
   "outputs": [
    {
     "name": "stdout",
     "output_type": "stream",
     "text": [
      "$150\n"
     ]
    }
   ],
   "source": [
    "# espacing the regex operatro characters\n",
    "print(re.search(r\"\\$\\d*\", \"cost of apples is $150 per basket\").group())  # 150"
   ]
  },
  {
   "cell_type": "markdown",
   "metadata": {},
   "source": [
    "##### Consolidated patterns\n",
    "\n",
    "\n",
    "    .  any character, except newline\n",
    "    \\d - presence of any digit 0-9\n",
    "    \\D - absence of any digit\n",
    "\n",
    "    \\w - presence of any alphanumeric a-z A-Z 0-9\n",
    "    \\W - absence of any alphanumeric a-z A-Z 0-9\n",
    "\n",
    "    \\s  -presence of  white space AND \\n\n",
    "    \\S  - absence of white space and \\n\n",
    "\n",
    "    \\A | Matches the expression to its right at the absolute start of a string whether in single or multi-line mode.\n",
    "    \\Z | Matches the expression to its left at the absolute end of a string whether in single or multi-line mode.\n",
    "\n",
    "    \\b | Matches the boundary (or empty string) at the start and end of a word, that is, between \\w and \\W.\n",
    "    \\B | Matches where \\b does not, that is, the boundary of \\w characters."
   ]
  },
  {
   "cell_type": "markdown",
   "metadata": {},
   "source": [
    "### re.findall\n",
    "\n",
    "\n",
    "    # re.match()    -> to get a pattern at first of search string\n",
    "    # re.search()   -> to get a pattern at any place in search string\n",
    "\n",
    "    # re.findall()  -> to get all the patterns within the search string\n"
   ]
  },
  {
   "cell_type": "code",
   "execution_count": 101,
   "metadata": {},
   "outputs": [
    {
     "name": "stdout",
     "output_type": "stream",
     "text": [
      "PYTHON\n",
      "PYTHON\n"
     ]
    }
   ],
   "source": [
    "print(re.match(\"python\", \"PYTHON python PYTHon pYTHon43454\", re.I).group())\n",
    "print(re.search(\"python\", \"PYTHON python PYTHon pYTHon43454\", re.I).group())"
   ]
  },
  {
   "cell_type": "code",
   "execution_count": 102,
   "metadata": {},
   "outputs": [
    {
     "name": "stdout",
     "output_type": "stream",
     "text": [
      "['python']\n"
     ]
    }
   ],
   "source": [
    "print(re.findall(\"python\", \"PYTHON python PYTHon pYTHon43454\"))"
   ]
  },
  {
   "cell_type": "code",
   "execution_count": 103,
   "metadata": {},
   "outputs": [
    {
     "name": "stdout",
     "output_type": "stream",
     "text": [
      "['PYTHON', 'python', 'PYTHon', 'pYTHon']\n"
     ]
    }
   ],
   "source": [
    "print(re.findall(\"python\", \"PYTHON python PYTHon pYTHon43454\", re.I))"
   ]
  },
  {
   "cell_type": "code",
   "execution_count": 104,
   "metadata": {},
   "outputs": [
    {
     "name": "stdout",
     "output_type": "stream",
     "text": [
      "['2', '2', '2', '2', '2']\n"
     ]
    }
   ],
   "source": [
    "target_string = \"\"\"\n",
    "Hi everyone!\n",
    "The PARTY is on 23rd of May 2020, at xyz place. at time 7.30 pm IST\n",
    "And the RECEPTION is on 30th of May, 2020 at xxx place.\n",
    "Thanks\n",
    "\"\"\"\n",
    "print(re.findall(\"2\", target_string, re.I))"
   ]
  },
  {
   "cell_type": "code",
   "execution_count": 105,
   "metadata": {},
   "outputs": [
    {
     "name": "stdout",
     "output_type": "stream",
     "text": [
      "['2020', '2020']\n"
     ]
    }
   ],
   "source": [
    "print(re.findall(\"2020\", target_string, re.I))"
   ]
  },
  {
   "cell_type": "code",
   "execution_count": 106,
   "metadata": {},
   "outputs": [
    {
     "name": "stdout",
     "output_type": "stream",
     "text": [
      "['2', '3', '2', '0', '2', '0', '7', '3', '0', '3', '0', '2', '0', '2', '0']\n"
     ]
    }
   ],
   "source": [
    "print(re.findall(r\"\\d\", target_string))"
   ]
  },
  {
   "cell_type": "code",
   "execution_count": 108,
   "metadata": {},
   "outputs": [
    {
     "name": "stdout",
     "output_type": "stream",
     "text": [
      "['23', '2020', '7', '30', '30', '2020']\n"
     ]
    }
   ],
   "source": [
    "# print(re.findall(r'\\d*', target_string))\n",
    "print(re.findall(r\"\\d+\", target_string))"
   ]
  },
  {
   "cell_type": "code",
   "execution_count": 109,
   "metadata": {},
   "outputs": [
    {
     "name": "stdout",
     "output_type": "stream",
     "text": [
      "['2', '3', '2', '0', '2', '0', '7', '3', '0', '3', '0', '2', '0', '2', '0']\n",
      "['23', '2020', '7', '30', '30', '2020']\n"
     ]
    }
   ],
   "source": [
    "print(re.findall(\"[0-9]\", target_string))\n",
    "print(re.findall(\"[0-9]+\", target_string))"
   ]
  },
  {
   "cell_type": "code",
   "execution_count": 110,
   "metadata": {},
   "outputs": [
    {
     "name": "stdout",
     "output_type": "stream",
     "text": [
      "['2', '3', '2', '2', '3', '3', '2', '2']\n",
      "['23', '2', '2', '3', '3', '2', '2']\n",
      "['3', '7', '3', '3']\n"
     ]
    }
   ],
   "source": [
    "print(re.findall(\"[1-5]\", target_string))\n",
    "print(re.findall(\"[1-5]+\", target_string))\n",
    "print(re.findall(\"[357]+\", target_string))"
   ]
  },
  {
   "cell_type": "code",
   "execution_count": 111,
   "metadata": {},
   "outputs": [
    {
     "name": "stdout",
     "output_type": "stream",
     "text": [
      "['H', 'i', 'e', 'v', 'e', 'r', 'y', 'o', 'n', 'e', 'T', 'h', 'e', 'P', 'A', 'R', 'T', 'Y', 'i', 's', 'o', 'n', '2', '3', 'r', 'd', 'o', 'f', 'M', 'a', 'y', '2', '0', '2', '0', 'a', 't', 'x', 'y', 'z', 'p', 'l', 'a', 'c', 'e', 'a', 't', 't', 'i', 'm', 'e', '7', '3', '0', 'p', 'm', 'I', 'S', 'T', 'A', 'n', 'd', 't', 'h', 'e', 'R', 'E', 'C', 'E', 'P', 'T', 'I', 'O', 'N', 'i', 's', 'o', 'n', '3', '0', 't', 'h', 'o', 'f', 'M', 'a', 'y', '2', '0', '2', '0', 'a', 't', 'x', 'x', 'x', 'p', 'l', 'a', 'c', 'e', 'T', 'h', 'a', 'n', 'k', 's']\n",
      "['Hi', 'everyone', 'The', 'PARTY', 'is', 'on', '23rd', 'of', 'May', '2020', 'at', 'xyz', 'place', 'at', 'time', '7', '30', 'pm', 'IST', 'And', 'the', 'RECEPTION', 'is', 'on', '30th', 'of', 'May', '2020', 'at', 'xxx', 'place', 'Thanks']\n"
     ]
    }
   ],
   "source": [
    "print(re.findall(r\"\\w\", target_string))\n",
    "print(re.findall(r\"\\w+\", target_string))"
   ]
  },
  {
   "cell_type": "code",
   "execution_count": 112,
   "metadata": {},
   "outputs": [
    {
     "name": "stdout",
     "output_type": "stream",
     "text": [
      "['H', 'i', 'e', 'v', 'e', 'r', 'y', 'o', 'n', 'e', 'T', 'h', 'e', 'P', 'A', 'R', 'T', 'Y', 'i', 's', 'o', 'n', '2', '3', 'r', 'd', 'o', 'f', 'M', 'a', 'y', '2', '0', '2', '0', 'a', 't', 'x', 'y', 'z', 'p', 'l', 'a', 'c', 'e', 'a', 't', 't', 'i', 'm', 'e', '7', '3', '0', 'p', 'm', 'I', 'S', 'T', 'A', 'n', 'd', 't', 'h', 'e', 'R', 'E', 'C', 'E', 'P', 'T', 'I', 'O', 'N', 'i', 's', 'o', 'n', '3', '0', 't', 'h', 'o', 'f', 'M', 'a', 'y', '2', '0', '2', '0', 'a', 't', 'x', 'x', 'x', 'p', 'l', 'a', 'c', 'e', 'T', 'h', 'a', 'n', 'k', 's']\n",
      "['Hi', 'everyone', 'The', 'PARTY', 'is', 'on', '23rd', 'of', 'May', '2020', 'at', 'xyz', 'place', 'at', 'time', '7', '30', 'pm', 'IST', 'And', 'the', 'RECEPTION', 'is', 'on', '30th', 'of', 'May', '2020', 'at', 'xxx', 'place', 'Thanks']\n"
     ]
    }
   ],
   "source": [
    "print(re.findall(\"[a-zA-Z0-9]\", target_string))\n",
    "print(re.findall(\"[a-zA-Z0-9]+\", target_string))"
   ]
  },
  {
   "cell_type": "code",
   "execution_count": 113,
   "metadata": {},
   "outputs": [
    {
     "name": "stdout",
     "output_type": "stream",
     "text": [
      "['i', 'e', 'v', 'e', 'r', 'y', 'o', 'n', 'e', 'h', 'e', 'i', 's', 'o', 'n', 'r', 'd', 'o', 'f', 'a', 'y', 'a', 't', 'x', 'y', 'z', 'p', 'l', 'a', 'c', 'e', 'a', 't', 't', 'i', 'm', 'e', 'p', 'm', 'n', 'd', 't', 'h', 'e', 'i', 's', 'o', 'n', 't', 'h', 'o', 'f', 'a', 'y', 'a', 't', 'x', 'x', 'x', 'p', 'l', 'a', 'c', 'e', 'h', 'a', 'n', 'k', 's']\n",
      "['i', 'everyone', 'he', 'is', 'on', 'rd', 'of', 'ay', 'at', 'xyz', 'place', 'at', 'time', 'pm', 'nd', 'the', 'is', 'on', 'th', 'of', 'ay', 'at', 'xxx', 'place', 'hanks']\n"
     ]
    }
   ],
   "source": [
    "print(re.findall(\"[a-z]\", target_string))\n",
    "print(re.findall(\"[a-z]+\", target_string))"
   ]
  },
  {
   "cell_type": "code",
   "execution_count": 114,
   "metadata": {},
   "outputs": [
    {
     "name": "stdout",
     "output_type": "stream",
     "text": [
      "['i', 'e', 'e', 'o', 'e', 'e', 'A', 'i', 'o', 'o', 'a', 'a', 'a', 'e', 'a', 'i', 'e', 'I', 'A', 'e', 'E', 'E', 'I', 'O', 'i', 'o', 'o', 'a', 'a', 'a', 'e', 'a']\n",
      "['Hi', 'everyone', 'The', 'PARTY', 'is', 'on', 'rd', 'of', 'May', 'at', 'xyz', 'place', 'at', 'time', 'pm', 'IST', 'And', 'the', 'RECEPTION', 'is', 'on', 'th', 'of', 'May', 'at', 'xxx', 'place', 'Thanks']\n"
     ]
    }
   ],
   "source": [
    "print(re.findall(\"[aeiou]\", target_string, re.I))\n",
    "print(re.findall(\"[a-zA-Z]+\", target_string))"
   ]
  },
  {
   "cell_type": "code",
   "execution_count": 115,
   "metadata": {},
   "outputs": [
    {
     "name": "stdout",
     "output_type": "stream",
     "text": [
      "['\\n', ' ', '\\n', ' ', ' ', ' ', ' ', ' ', ' ', ' ', ' ', ' ', ' ', ' ', ' ', ' ', ' ', ' ', '\\n', ' ', ' ', ' ', ' ', ' ', ' ', ' ', ' ', ' ', ' ', ' ', '\\n', '\\n']\n",
      "['Hi', 'everyone!', 'The', 'PARTY', 'is', 'on', '23rd', 'of', 'May', '2020,', 'at', 'xyz', 'place.', 'at', 'time', '7.30', 'pm', 'IST', 'And', 'the', 'RECEPTION', 'is', 'on', '30th', 'of', 'May,', '2020', 'at', 'xxx', 'place.', 'Thanks']\n"
     ]
    }
   ],
   "source": [
    "print(re.findall(r\"\\s+\", target_string))\n",
    "print(re.findall(r\"\\S+\", target_string))"
   ]
  },
  {
   "cell_type": "code",
   "execution_count": 116,
   "metadata": {},
   "outputs": [
    {
     "name": "stdout",
     "output_type": "stream",
     "text": [
      "['Hi', 'everyone', 'The', 'PARTY', 'is', 'on', '23rd', 'of', 'May', '2020', 'at', 'xyz', 'place', 'at', 'time', '7', '30', 'pm', 'IST', 'And', 'the', 'RECEPTION', 'is', 'on', '30th', 'of', 'May', '2020', 'at', 'xxx', 'place', 'Thanks']\n",
      "['\\n', ' ', '!\\n', ' ', ' ', ' ', ' ', ' ', ' ', ' ', ', ', ' ', ' ', '. ', ' ', ' ', '.', ' ', ' ', '\\n', ' ', ' ', ' ', ' ', ' ', ' ', ' ', ', ', ' ', ' ', ' ', '.\\n', '\\n']\n"
     ]
    }
   ],
   "source": [
    "print(re.findall(r\"\\w+\", target_string))\n",
    "print(re.findall(r\"\\W+\", target_string))"
   ]
  },
  {
   "cell_type": "code",
   "execution_count": 117,
   "metadata": {},
   "outputs": [
    {
     "data": {
      "text/plain": [
       "<re.Match object; span=(0, 2), match='My'>"
      ]
     },
     "execution_count": 117,
     "metadata": {},
     "output_type": "execute_result"
    }
   ],
   "source": [
    "re.search(\"My\", \"My name is Ethan\")"
   ]
  },
  {
   "cell_type": "code",
   "execution_count": 118,
   "metadata": {},
   "outputs": [
    {
     "data": {
      "text/plain": [
       "<re.Match object; span=(0, 2), match='My'>"
      ]
     },
     "execution_count": 118,
     "metadata": {},
     "output_type": "execute_result"
    }
   ],
   "source": [
    "re.search(\"My\", \"My name is Mythili\")"
   ]
  },
  {
   "cell_type": "code",
   "execution_count": 119,
   "metadata": {},
   "outputs": [
    {
     "data": {
      "text/plain": [
       "['My', 'My']"
      ]
     },
     "execution_count": 119,
     "metadata": {},
     "output_type": "execute_result"
    }
   ],
   "source": [
    "re.findall(\"My\", \"My name is Mythili\")"
   ]
  },
  {
   "cell_type": "code",
   "execution_count": 120,
   "metadata": {},
   "outputs": [
    {
     "data": {
      "text/plain": [
       "[]"
      ]
     },
     "execution_count": 120,
     "metadata": {},
     "output_type": "execute_result"
    }
   ],
   "source": [
    "re.findall(\"\\bMy\\b\", \"My name is Mythili\")"
   ]
  },
  {
   "cell_type": "code",
   "execution_count": 121,
   "metadata": {},
   "outputs": [
    {
     "data": {
      "text/plain": [
       "['My']"
      ]
     },
     "execution_count": 121,
     "metadata": {},
     "output_type": "execute_result"
    }
   ],
   "source": [
    "re.findall(r\"\\bMy\\b\", \"My name is Mythili\")"
   ]
  },
  {
   "cell_type": "code",
   "execution_count": 122,
   "metadata": {},
   "outputs": [
    {
     "data": {
      "text/plain": [
       "['My']"
      ]
     },
     "execution_count": 122,
     "metadata": {},
     "output_type": "execute_result"
    }
   ],
   "source": [
    "re.findall(r\"\\bMy\\B\", \"My name is Mythili\")"
   ]
  },
  {
   "cell_type": "code",
   "execution_count": 123,
   "metadata": {},
   "outputs": [
    {
     "data": {
      "text/plain": [
       "[]"
      ]
     },
     "execution_count": 123,
     "metadata": {},
     "output_type": "execute_result"
    }
   ],
   "source": [
    "re.findall(r\"\\BMy\\B\", \"My name is Mythili\")"
   ]
  },
  {
   "cell_type": "code",
   "execution_count": 124,
   "metadata": {},
   "outputs": [
    {
     "data": {
      "text/plain": [
       "['thil']"
      ]
     },
     "execution_count": 124,
     "metadata": {},
     "output_type": "execute_result"
    }
   ],
   "source": [
    "re.findall(r\"\\Bthil\\B\", \"My name is Mythili thilly\")"
   ]
  },
  {
   "cell_type": "code",
   "execution_count": 125,
   "metadata": {},
   "outputs": [
    {
     "name": "stdout",
     "output_type": "stream",
     "text": [
      "['\\\\']\n",
      "['\\\\', '\\\\']\n"
     ]
    }
   ],
   "source": [
    "print(re.findall(r\"\\\\\", \"x\\\\y\"))  # ['\\\\']\n",
    "print(re.findall(r\"\\\\\", r\"x\\\\y\"))  # ['\\\\', '\\\\']"
   ]
  },
  {
   "cell_type": "code",
   "execution_count": 126,
   "metadata": {},
   "outputs": [
    {
     "name": "stdout",
     "output_type": "stream",
     "text": [
      "error('bad escape (end of pattern) at position 0')\n"
     ]
    }
   ],
   "source": [
    "\n",
    "try:\n",
    "    re.findall(\"\\\\\", r\"x\\\\y\")\n",
    "except Exception as ex:\n",
    "    print(repr(ex))"
   ]
  },
  {
   "cell_type": "code",
   "execution_count": 127,
   "metadata": {},
   "outputs": [
    {
     "name": "stdout",
     "output_type": "stream",
     "text": [
      "['\\\\', '\\\\']\n"
     ]
    }
   ],
   "source": [
    "print(re.findall(\"\\\\\\\\\", r\"x\\\\y\"))  #  ['\\\\', '\\\\']"
   ]
  },
  {
   "cell_type": "markdown",
   "metadata": {},
   "source": [
    "##### Regular Expression Escape operators\n",
    "\n",
    "    \\\n",
    "    []"
   ]
  },
  {
   "cell_type": "code",
   "execution_count": 129,
   "metadata": {},
   "outputs": [
    {
     "name": "stdout",
     "output_type": "stream",
     "text": [
      "['12', '21323', '3', '23432', '234', '23', '234324', '0', '000003243']\n"
     ]
    }
   ],
   "source": [
    "# identify decimal number\n",
    "print(re.findall(r\"\\d+\", \"12 21323.3 23432.234 23.234324 -0.000003243\"))"
   ]
  },
  {
   "cell_type": "code",
   "execution_count": 130,
   "metadata": {},
   "outputs": [
    {
     "name": "stdout",
     "output_type": "stream",
     "text": [
      "['12 ', '21323.', '3 ', '23432.', '234 ', '23.', '234324 ', '0.', '000003243']\n"
     ]
    }
   ],
   "source": [
    "# only floating point values\n",
    "print(re.findall(r\"\\d+.\", \"12 21323.3 23432.234 23.234324 -0.000003243\"))"
   ]
  },
  {
   "cell_type": "code",
   "execution_count": 131,
   "metadata": {},
   "outputs": [
    {
     "name": "stdout",
     "output_type": "stream",
     "text": [
      "['21323.', '23432.', '23.', '0.']\n"
     ]
    }
   ],
   "source": [
    "print(re.findall(r\"\\d+\\.\", \"12 21323.3 23432.234 23.234324 -0.000003243\"))"
   ]
  },
  {
   "cell_type": "code",
   "execution_count": 132,
   "metadata": {},
   "outputs": [
    {
     "name": "stdout",
     "output_type": "stream",
     "text": [
      "['21323.3', '23432.2', '23.2', '0.0']\n"
     ]
    }
   ],
   "source": [
    "print(re.findall(r\"\\d+\\.\\d\", \"12 21323.3 23432.234 23.234324 -0.000003243\"))"
   ]
  },
  {
   "cell_type": "code",
   "execution_count": null,
   "metadata": {},
   "outputs": [
    {
     "name": "stdout",
     "output_type": "stream",
     "text": [
      "['21323.3', '23432.234', '23.234324', '0.000003243']\n"
     ]
    }
   ],
   "source": [
    "print(re.findall(r\"\\d+\\.\\d+\", \"12 21323.3 23432.234 23.234324 -0.000003243\"))  # escaping regex operator"
   ]
  },
  {
   "cell_type": "code",
   "execution_count": null,
   "metadata": {},
   "outputs": [
    {
     "name": "stdout",
     "output_type": "stream",
     "text": [
      "['3.3', '2.234', '3.234324', '0.000003243']\n"
     ]
    }
   ],
   "source": [
    "print(re.findall(r\"\\d[.]\\d+\", \"12 21323.3 23432.234 23.234324 -0.000003243\")) # escaping regex operator"
   ]
  },
  {
   "cell_type": "code",
   "execution_count": 135,
   "metadata": {},
   "outputs": [
    {
     "name": "stdout",
     "output_type": "stream",
     "text": [
      "['12', '21323.3', '23432.234', '23.234324', '0.000003243']\n",
      "['12', '21323.3', '23432.234', '23.234324', '0.000003243']\n"
     ]
    }
   ],
   "source": [
    "# both integer and floating point values\n",
    "print(re.findall(r\"\\d+\\.?\\d+\", \"12 21323.3 23432.234 23.234324 -0.000003243\"))\n",
    "print(re.findall(r\"\\d+[.]?\\d+\", \"12 21323.3 23432.234 23.234324 -0.000003243\"))"
   ]
  },
  {
   "cell_type": "code",
   "execution_count": null,
   "metadata": {},
   "outputs": [
    {
     "name": "stdout",
     "output_type": "stream",
     "text": [
      "['-0.000003243']\n"
     ]
    }
   ],
   "source": [
    "# negative floating point\n",
    "print(re.findall(r\"-\\d+[.]?\\d+\", \"12 21323.3 23432.234 23.234324 -0.000003243\"))"
   ]
  },
  {
   "cell_type": "code",
   "execution_count": null,
   "metadata": {},
   "outputs": [
    {
     "name": "stdout",
     "output_type": "stream",
     "text": [
      "['12', '21323.3', '23432.234', '23.234324', '-0.000003243']\n"
     ]
    }
   ],
   "source": [
    "# all number types\n",
    "print(re.findall(r\"-?\\d+[.]?\\d+\", \"12 21323.3 23432.234 23.234324 -0.000003243\"))"
   ]
  },
  {
   "cell_type": "markdown",
   "metadata": {},
   "source": [
    "#### Email Validation"
   ]
  },
  {
   "cell_type": "code",
   "execution_count": 139,
   "metadata": {},
   "outputs": [],
   "source": [
    "\n",
    "email_ids = r\"\"\"\n",
    "Edit the Expression & Text to see matches. Roll over matches or the expression for details. Und\n",
    "python@programm.com\n",
    "Sample text for testing:\n",
    "abcdefghijklmnopqrstuvwxyz ABCDEFGHIJKLMNOPQRSTUVWXYZ\n",
    "0123456789 _+-.,!@#$%^&*();\\/|<>\"'python@gmail.com\n",
    "12345 -98.7 3.141 .6180 9,000 +42\n",
    "555.123.4567 +1-(800)-555-2468\n",
    "foo@demo.net bar.ba@test.co.uk\n",
    "www.demo.com http://foo.co.uk/\n",
    "http://regexr.com/foo.html?q=bar\n",
    "https://mediatemple.net\n",
    "mediatepmple@outlook.com\n",
    "mubeen.tom@hacker.com\n",
    "1%453&harini_new@in.com\n",
    "SUPPORT@microsoft.com\n",
    "\"\"\""
   ]
  },
  {
   "cell_type": "code",
   "execution_count": 141,
   "metadata": {},
   "outputs": [
    {
     "data": {
      "text/plain": [
       "['@', '@', '@', '@', '@', '@', '@', '@', '@']"
      ]
     },
     "execution_count": 141,
     "metadata": {},
     "output_type": "execute_result"
    }
   ],
   "source": [
    "re.findall('@', email_ids)"
   ]
  },
  {
   "cell_type": "code",
   "execution_count": 143,
   "metadata": {},
   "outputs": [
    {
     "data": {
      "text/plain": [
       "['python@programm',\n",
       " 'python@gmail',\n",
       " 'foo@demo',\n",
       " 'ba@test',\n",
       " 'mediatepmple@outlook',\n",
       " 'tom@hacker',\n",
       " 'harini_new@in',\n",
       " 'SUPPORT@microsoft']"
      ]
     },
     "execution_count": 143,
     "metadata": {},
     "output_type": "execute_result"
    }
   ],
   "source": [
    "re.findall(r'\\w+@\\w+', email_ids)"
   ]
  },
  {
   "cell_type": "code",
   "execution_count": 145,
   "metadata": {},
   "outputs": [
    {
     "data": {
      "text/plain": [
       "['python@programm.com',\n",
       " 'python@gmail.com',\n",
       " 'foo@demo.net',\n",
       " 'ba@test.co',\n",
       " 'mediatepmple@outlook.com',\n",
       " 'tom@hacker.com',\n",
       " 'harini_new@in.com',\n",
       " 'SUPPORT@microsoft.com']"
      ]
     },
     "execution_count": 145,
     "metadata": {},
     "output_type": "execute_result"
    }
   ],
   "source": [
    "re.findall(r'\\w+@\\w+\\.\\w+', email_ids)"
   ]
  },
  {
   "cell_type": "code",
   "execution_count": 146,
   "metadata": {},
   "outputs": [
    {
     "data": {
      "text/plain": [
       "['python@programm.com',\n",
       " 'python@gmail.com',\n",
       " 'foo@demo.net',\n",
       " 'ba@test.co.uk',\n",
       " 'mediatepmple@outlook.com',\n",
       " 'tom@hacker.com',\n",
       " 'harini_new@in.com',\n",
       " 'SUPPORT@microsoft.com']"
      ]
     },
     "execution_count": 146,
     "metadata": {},
     "output_type": "execute_result"
    }
   ],
   "source": [
    "re.findall(r'\\w+@\\w+\\.\\w+\\.?\\w+', email_ids)"
   ]
  },
  {
   "cell_type": "code",
   "execution_count": 147,
   "metadata": {},
   "outputs": [
    {
     "data": {
      "text/plain": [
       "['python@programm.com',\n",
       " 'python@gmail.com',\n",
       " 'foo@demo.net',\n",
       " 'bar.ba@test.co.uk',\n",
       " 'mediatepmple@outlook.com',\n",
       " 'mubeen.tom@hacker.com',\n",
       " 'new@in.com',\n",
       " 'SUPPORT@microsoft.com']"
      ]
     },
     "execution_count": 147,
     "metadata": {},
     "output_type": "execute_result"
    }
   ],
   "source": [
    "re.findall(r'[a-zA-Z0-9.]+@[a-zA-Z0-9.]+\\.[a-zA-Z0-9]+\\.?[a-zA-Z0-9.]+', email_ids)"
   ]
  },
  {
   "cell_type": "code",
   "execution_count": 148,
   "metadata": {},
   "outputs": [
    {
     "data": {
      "text/plain": [
       "['python@programm.com',\n",
       " 'python@gmail.com',\n",
       " 'foo@demo.net',\n",
       " 'bar.ba@test.co.uk',\n",
       " 'mediatepmple@outlook.com',\n",
       " 'mubeen.tom@hacker.com',\n",
       " 'harini_new@in.com',\n",
       " 'SUPPORT@microsoft.com']"
      ]
     },
     "execution_count": 148,
     "metadata": {},
     "output_type": "execute_result"
    }
   ],
   "source": [
    "re.findall(r'[a-zA-Z0-9._]+@[a-zA-Z0-9._]+\\.[a-zA-Z0-9_]+\\.?[a-zA-Z0-9._]+', email_ids)"
   ]
  },
  {
   "cell_type": "code",
   "execution_count": 149,
   "metadata": {},
   "outputs": [],
   "source": [
    "# Assignment:\n",
    "# 1. FInd all the valid Phone numbers in the given target string"
   ]
  },
  {
   "cell_type": "code",
   "execution_count": 151,
   "metadata": {},
   "outputs": [
    {
     "name": "stdout",
     "output_type": "stream",
     "text": [
      "/workspaces/PythonBatchSept2024/11_Logging/a_builtin_logging/logs\n",
      "[]\n",
      "[]\n"
     ]
    }
   ],
   "source": [
    "\"\"\"\n",
    "Purpose: Log Analyses using regular expressions\n",
    "\n",
    "To get all CRITICAL level log lines in log file\n",
    "\"\"\"\n",
    "\n",
    "import os\n",
    "import re\n",
    "\n",
    "os.chdir(\"/workspaces/PythonBatchSept2024/11_Logging/a_builtin_logging/logs/\")\n",
    "print(os.getcwd())\n",
    "\n",
    "# Method 1 - traditional\n",
    "with open(\"07_logging.log\", \"r\") as f:\n",
    "    file_content = f.readlines()\n",
    "    critical_logs = []\n",
    "    for each_line in file_content:\n",
    "        if \"CRITICAL\" in each_line:\n",
    "            critical_logs.append(each_line)\n",
    "    f.close()\n",
    "\n",
    "print(critical_logs)\n",
    "\n",
    "# Method 2 - using re\n",
    "with open(\"07_logging.log\", \"r\") as f:\n",
    "    file_content = f.read()\n",
    "    critical_logs = re.findall(\".*CRITICAL.*\", file_content)\n",
    "    f.close()\n",
    "\n",
    "critical_event_times = []\n",
    "for each_log in critical_logs:\n",
    "    # print(each_log)\n",
    "    log_time = re.match(r\"\\d+-\\d+-\\d+\\s\\d+:\\d+:\\d+,\\d+\", each_log).group()\n",
    "    critical_event_times.append(critical_event_times)\n",
    "\n",
    "print(critical_event_times)"
   ]
  },
  {
   "cell_type": "markdown",
   "metadata": {},
   "source": [
    "### Pattern repetition\n",
    "\n",
    "    {}  specifies the number of times, the previous character should present\n",
    "\n",
    "Mid-way between greedy and non-greedy patterns"
   ]
  },
  {
   "cell_type": "code",
   "execution_count": 152,
   "metadata": {},
   "outputs": [
    {
     "name": "stdout",
     "output_type": "stream",
     "text": [
      "['a', 'a', 'a', 'a', 'a', 'a']\n",
      "['abb', 'abb', 'abb', 'abb']\n",
      "['abbbbb', 'abbbbb']\n"
     ]
    }
   ],
   "source": [
    "print(re.findall(\"ab{0}\", \"a ab abb abbbb abbbbbbb abbbbbbbbbb\"))\n",
    "print(re.findall(\"ab{2}\", \"a ab abb abbbb abbbbbbb abbbbbbbbbb\"))\n",
    "print(re.findall(\"ab{5}\", \"a ab abb abbbb abbbbbbb abbbbbbbbbb\"))"
   ]
  },
  {
   "cell_type": "code",
   "execution_count": 153,
   "metadata": {},
   "outputs": [
    {
     "name": "stdout",
     "output_type": "stream",
     "text": [
      "['abb', 'abbbb', 'abbbbb', 'abbbbb']\n"
     ]
    }
   ],
   "source": [
    "# range of repetition\n",
    "print(re.findall(\"ab{2,5}\", \"a ab abb abbbb abbbbbbb abbbbbbbbbb\"))"
   ]
  },
  {
   "cell_type": "code",
   "execution_count": 154,
   "metadata": {},
   "outputs": [
    {
     "name": "stdout",
     "output_type": "stream",
     "text": [
      "aashique\n",
      "aashique\n"
     ]
    }
   ],
   "source": [
    "print(re.match(\"a{1,2}?shique\", \"aashique\").group())\n",
    "print(re.search(\"a{1,2}?shique\", \"aashique\").group())"
   ]
  },
  {
   "cell_type": "code",
   "execution_count": 155,
   "metadata": {},
   "outputs": [
    {
     "name": "stdout",
     "output_type": "stream",
     "text": [
      "ashique\n",
      "ashique\n"
     ]
    }
   ],
   "source": [
    "print(re.match( \"a{1,2}?shique\", \"ashique\").group())\n",
    "print(re.search(\"a{1,2}?shique\", \"ashique\").group())\n"
   ]
  },
  {
   "cell_type": "code",
   "execution_count": 156,
   "metadata": {},
   "outputs": [
    {
     "name": "stdout",
     "output_type": "stream",
     "text": [
      "aashique\n"
     ]
    }
   ],
   "source": [
    "print(re.search(\"a{1,2}?shique\", \"aaaaashique\").group())"
   ]
  },
  {
   "cell_type": "code",
   "execution_count": 157,
   "metadata": {},
   "outputs": [
    {
     "name": "stdout",
     "output_type": "stream",
     "text": [
      "a\n",
      "aa\n"
     ]
    }
   ],
   "source": [
    "\n",
    "print(re.search(\"a{1,2}?\", \"aaaaa\").group())\n",
    "print(re.search(\"a{1,2}\", \"aaaaa\").group())"
   ]
  },
  {
   "cell_type": "markdown",
   "metadata": {},
   "source": [
    "#### re.DOTALL"
   ]
  },
  {
   "cell_type": "code",
   "execution_count": 159,
   "metadata": {},
   "outputs": [],
   "source": [
    "string = \"Today is Friday.\\n Tomorrow is morning\"\n"
   ]
  },
  {
   "cell_type": "code",
   "execution_count": 160,
   "metadata": {},
   "outputs": [
    {
     "data": {
      "text/plain": [
       "['Today is Friday.', '', ' Tomorrow is morning', '']"
      ]
     },
     "execution_count": 160,
     "metadata": {},
     "output_type": "execute_result"
    }
   ],
   "source": [
    "re.findall(\".*\", string)"
   ]
  },
  {
   "cell_type": "code",
   "execution_count": 161,
   "metadata": {},
   "outputs": [
    {
     "name": "stdout",
     "output_type": "stream",
     "text": [
      "Today is Friday.\n"
     ]
    }
   ],
   "source": [
    "print(re.search(\".*\", string).group())"
   ]
  },
  {
   "cell_type": "code",
   "execution_count": 163,
   "metadata": {},
   "outputs": [
    {
     "data": {
      "text/plain": [
       "'Today is Friday.\\n Tomorrow is morning'"
      ]
     },
     "execution_count": 163,
     "metadata": {},
     "output_type": "execute_result"
    }
   ],
   "source": [
    "re.search(\".*\", string, re.DOTALL).group()  # re.S"
   ]
  },
  {
   "cell_type": "code",
   "execution_count": 164,
   "metadata": {},
   "outputs": [
    {
     "data": {
      "text/plain": [
       "'Today is Friday.\\n Tomorrow is morning'"
      ]
     },
     "execution_count": 164,
     "metadata": {},
     "output_type": "execute_result"
    }
   ],
   "source": [
    "re.search(\".*\", string, re.S).group()"
   ]
  },
  {
   "cell_type": "code",
   "execution_count": 165,
   "metadata": {},
   "outputs": [
    {
     "name": "stdout",
     "output_type": "stream",
     "text": [
      "Today is Friday.\n"
     ]
    }
   ],
   "source": [
    "# print(re.search('today.*', string, re.S).group())\n",
    "print(re.search(\"today.*\", string, re.I).group())"
   ]
  },
  {
   "cell_type": "code",
   "execution_count": 166,
   "metadata": {},
   "outputs": [
    {
     "name": "stdout",
     "output_type": "stream",
     "text": [
      "Today is Friday.\n",
      " Tomorrow is morning\n"
     ]
    }
   ],
   "source": [
    "# applying more than one flag\n",
    "print(re.search(\"today.*\", string, re.I | re.S).group())"
   ]
  },
  {
   "cell_type": "markdown",
   "metadata": {},
   "source": [
    "#### ASCII, UNICODE, LOCALE flags"
   ]
  },
  {
   "cell_type": "code",
   "execution_count": 167,
   "metadata": {},
   "outputs": [
    {
     "name": "stdout",
     "output_type": "stream",
     "text": [
      "['fox', 'αλεπού']\n"
     ]
    }
   ],
   "source": [
    "print(re.findall(r\"\\w+\", \"fox:αλεπού\"))"
   ]
  },
  {
   "cell_type": "code",
   "execution_count": 168,
   "metadata": {},
   "outputs": [
    {
     "name": "stdout",
     "output_type": "stream",
     "text": [
      "['fox']\n"
     ]
    }
   ],
   "source": [
    "print(re.findall(r\"\\w+\", \"fox:αλεπού\", flags=re.A))  # ASCII only~"
   ]
  },
  {
   "cell_type": "code",
   "execution_count": 169,
   "metadata": {},
   "outputs": [
    {
     "name": "stdout",
     "output_type": "stream",
     "text": [
      "['fox']\n"
     ]
    }
   ],
   "source": [
    "print(re.findall(r\"[a-zA-Z0-9_]+\", \"fox:αλεπού\"))"
   ]
  },
  {
   "cell_type": "code",
   "execution_count": 170,
   "metadata": {},
   "outputs": [
    {
     "name": "stdout",
     "output_type": "stream",
     "text": [
      "None\n"
     ]
    }
   ],
   "source": [
    "print(re.search(r\"[a-zA-Z]\", \"İıſK\"))  # False\n"
   ]
  },
  {
   "cell_type": "code",
   "execution_count": 171,
   "metadata": {},
   "outputs": [
    {
     "name": "stdout",
     "output_type": "stream",
     "text": [
      "İıſK\n"
     ]
    }
   ],
   "source": [
    "print(re.search(r\"[a-z]+\", \"İıſK\", flags=re.I)[0])"
   ]
  },
  {
   "cell_type": "code",
   "execution_count": 172,
   "metadata": {},
   "outputs": [
    {
     "name": "stdout",
     "output_type": "stream",
     "text": [
      "None\n"
     ]
    }
   ],
   "source": [
    "print(re.search(r\"[a-z]\", \"İıſK\", flags=re.I | re.A))  # False"
   ]
  },
  {
   "cell_type": "code",
   "execution_count": 173,
   "metadata": {},
   "outputs": [
    {
     "name": "stdout",
     "output_type": "stream",
     "text": [
      "['0x66', '0x6f', '0x78']\n",
      "[b'\\\\u03b1', b'\\\\u03bb', b'\\\\u03b5', b'\\\\u03c0', b'\\\\u03bf', b'\\\\u03cd']\n",
      "[b'\\\\u0130', b'\\\\u0131', b'\\\\u017f', b'\\\\u212a']\n",
      "['fox', 'eagle']\n"
     ]
    }
   ],
   "source": [
    "print([hex(ord(c)) for c in \"fox\"])\n",
    "print([c.encode(\"unicode_escape\") for c in \"αλεπού\"])\n",
    "print([c.encode(\"unicode_escape\") for c in \"İıſK\"])\n",
    "print(re.findall(r\"[\\u0061-\\u007a]+\", \"fox:αλεπού,eagle:αετός\"))"
   ]
  },
  {
   "cell_type": "code",
   "execution_count": 174,
   "metadata": {},
   "outputs": [
    {
     "name": "stdout",
     "output_type": "stream",
     "text": [
      "b'\\xce\\xb1\\xce\\xb2\\xce\\xb3'\n",
      "<re.Match object; span=(1, 4), match='αβγ'> \n",
      "\n"
     ]
    }
   ],
   "source": [
    "\n",
    "x1 = re.search(r\"\\w+\", \"♥αβγ!\", re.U)\n",
    "x2 = re.search(r\"\\w+\", \"♥αβγ!\")\n",
    "\n",
    "if x1:\n",
    "    print(x1.group().encode(\"utf-8\"))  # → 「αβγ」\n",
    "else:\n",
    "    print(\"no match\")\n",
    "\n",
    "print(x2, \"\\n\")\n"
   ]
  },
  {
   "cell_type": "code",
   "execution_count": 175,
   "metadata": {},
   "outputs": [
    {
     "name": "stdout",
     "output_type": "stream",
     "text": [
      "['hand', 'hand\\\\.y', 'ha\\\\$nd\\\\+ful', 'a\\\\^b']\n"
     ]
    }
   ],
   "source": [
    "d = {\"hand\": 1, \"hand.y\": 2, \"ha$nd+ful\": 3, \"a^b\": 4}\n",
    "words = [re.escape(k) for k in d.keys()]\n",
    "print(words)"
   ]
  },
  {
   "cell_type": "code",
   "execution_count": 176,
   "metadata": {},
   "outputs": [
    {
     "data": {
      "text/plain": [
       "'asjhdgas\\\\$hagjshdg\\\\.\\\\[\\\\]jhgjyg\\\\^jgjhgas\\\\&561276358712389730918\\\\-3!£\\\\$\\\\$%£\\\\^%\\\\$\\\\&%\\\\*\\\\(\\\\&\\\\(\\\\)\\\\*\\\\)\\\\(\\\\*\\\\#\\\\)'"
      ]
     },
     "execution_count": 176,
     "metadata": {},
     "output_type": "execute_result"
    }
   ],
   "source": [
    "re.escape('asjhdgas$hagjshdg.[]jhgjyg^jgjhgas&561276358712389730918-3!£$$%£^%$&%*(&()*)(*#)')"
   ]
  },
  {
   "cell_type": "markdown",
   "metadata": {},
   "source": [
    "#### search_groups"
   ]
  },
  {
   "cell_type": "code",
   "execution_count": 177,
   "metadata": {},
   "outputs": [
    {
     "name": "stdout",
     "output_type": "stream",
     "text": [
      "dhay\n",
      "Udhay\n",
      "Udhay\n"
     ]
    }
   ],
   "source": [
    "print(re.search(\"[a-z]+\", \"Udhay Prakash\").group())\n",
    "print(re.search(\"[a-zA-Z0-9]+\", \"Udhay Prakash\").group())\n",
    "print(re.search(r\"\\w+\", \"Udhay Prakash\").group())"
   ]
  },
  {
   "cell_type": "code",
   "execution_count": 178,
   "metadata": {},
   "outputs": [
    {
     "name": "stdout",
     "output_type": "stream",
     "text": [
      "Udhay P\n",
      "Udhay Prakash\n",
      "Udhay Prakash\n"
     ]
    }
   ],
   "source": [
    "print(re.search(r\"\\w+\\W\\w\", \"Udhay Prakash\").group())\n",
    "print(re.search(r\"\\w+\\W\\w+\", \"Udhay Prakash\").group())\n",
    "print(re.search(r\"\\w+\\s\\w+\", \"Udhay Prakash\").group())"
   ]
  },
  {
   "cell_type": "code",
   "execution_count": null,
   "metadata": {},
   "outputs": [
    {
     "name": "stdout",
     "output_type": "stream",
     "text": [
      "Udhay Prakash\n",
      "Udhay Prakash\n"
     ]
    }
   ],
   "source": [
    "# Grouping in regular expressions\n",
    "print(re.search(r\"(\\w+)\\s(\\w+)\", \"Udhay Prakash\").group())\n",
    "print(re.search(r\"(\\w+)\\s(\\w+)\", \"Udhay Prakash\").group(0))\n",
    "#                  1       2\n"
   ]
  },
  {
   "cell_type": "code",
   "execution_count": 180,
   "metadata": {},
   "outputs": [
    {
     "name": "stdout",
     "output_type": "stream",
     "text": [
      "Udhay\n",
      "Prakash\n"
     ]
    }
   ],
   "source": [
    "print(re.search(r\"(\\w+)\\s(\\w+)\", \"Udhay Prakash\").group(1))  # Udhay\n",
    "print(re.search(r\"(\\w+)\\s(\\w+)\", \"Udhay Prakash\").group(2))  # Prakash"
   ]
  },
  {
   "cell_type": "code",
   "execution_count": 181,
   "metadata": {},
   "outputs": [
    {
     "name": "stdout",
     "output_type": "stream",
     "text": [
      "('Udhay', 'Prakash')\n"
     ]
    }
   ],
   "source": [
    "print(re.search(r\"(\\w+)\\W(\\w+)\", \"Udhay Prakash\").groups())"
   ]
  },
  {
   "cell_type": "code",
   "execution_count": 182,
   "metadata": {},
   "outputs": [
    {
     "name": "stdout",
     "output_type": "stream",
     "text": [
      "udhay prakash\n",
      "udhay prakash\n"
     ]
    }
   ],
   "source": [
    "print(re.search(r\"(\\w*) (\\w*)\", \"udhay prakash\").group())\n",
    "print(re.search(r\"(\\w*) (\\w*)\", \"udhay prakash\").group(0))\n",
    "# group index      1      2"
   ]
  },
  {
   "cell_type": "markdown",
   "metadata": {},
   "source": [
    "#### Perl compatoble regex"
   ]
  },
  {
   "cell_type": "code",
   "execution_count": 183,
   "metadata": {},
   "outputs": [
    {
     "name": "stdout",
     "output_type": "stream",
     "text": [
      "udhay prakash\n"
     ]
    }
   ],
   "source": [
    "# ?P<LABEL>\n",
    "\n",
    "print(re.search(r\"(?P<first>\\w*) (?P<last>\\w*)\", \"udhay prakash\").group())\n"
   ]
  },
  {
   "cell_type": "code",
   "execution_count": 184,
   "metadata": {},
   "outputs": [
    {
     "name": "stdout",
     "output_type": "stream",
     "text": [
      "udhay prakash\n",
      "udhay\n",
      "prakash\n"
     ]
    }
   ],
   "source": [
    "print(re.search(r\"(?P<first>\\w*) (?P<last>\\w*)\", \"udhay prakash\").group(0))\n",
    "print(re.search(r\"(?P<first>\\w*) (?P<last>\\w*)\", \"udhay prakash\").group(1))\n",
    "print(re.search(r\"(?P<first>\\w*) (?P<last>\\w*)\", \"udhay prakash\").group(2))\n"
   ]
  },
  {
   "cell_type": "code",
   "execution_count": 185,
   "metadata": {},
   "outputs": [
    {
     "name": "stdout",
     "output_type": "stream",
     "text": [
      "('udhay', 'prakash')\n"
     ]
    }
   ],
   "source": [
    "print(re.search(r\"(?P<first>\\w*) (?P<last>\\w*)\", \"udhay prakash\").groups())"
   ]
  },
  {
   "cell_type": "code",
   "execution_count": 186,
   "metadata": {},
   "outputs": [
    {
     "name": "stdout",
     "output_type": "stream",
     "text": [
      "{'first': 'udhay', 'last': 'prakash'}\n"
     ]
    }
   ],
   "source": [
    "print(re.search(r\"(?P<first>\\w*) (?P<last>\\w*)\", \"udhay prakash\").groupdict())"
   ]
  },
  {
   "cell_type": "markdown",
   "metadata": {},
   "source": [
    "###   re.split"
   ]
  },
  {
   "cell_type": "code",
   "execution_count": 187,
   "metadata": {},
   "outputs": [
    {
     "name": "stdout",
     "output_type": "stream",
     "text": [
      "['2', '4', '4', '.', '2', '5', '5', '.', '1', '9', '0', '.', '2', '3']\n"
     ]
    }
   ],
   "source": [
    "print(re.findall(\".\", \"244.255.190.23\"))"
   ]
  },
  {
   "cell_type": "code",
   "execution_count": 189,
   "metadata": {},
   "outputs": [
    {
     "name": "stdout",
     "output_type": "stream",
     "text": [
      "['.', '.', '.']\n"
     ]
    }
   ],
   "source": [
    "print(re.findall(r\"\\.\", \"244.255.190.23\"))\n"
   ]
  },
  {
   "cell_type": "code",
   "execution_count": 190,
   "metadata": {},
   "outputs": [
    {
     "name": "stdout",
     "output_type": "stream",
     "text": [
      "['.', '.', '.']\n"
     ]
    }
   ],
   "source": [
    "print(re.findall(\"[.]\", \"244.255.190.23\"))\n"
   ]
  },
  {
   "cell_type": "code",
   "execution_count": 192,
   "metadata": {},
   "outputs": [
    {
     "name": "stdout",
     "output_type": "stream",
     "text": [
      "['244', '255', '190', '23']\n",
      "['244', '255', '190', '23']\n"
     ]
    }
   ],
   "source": [
    "print(re.split(r\"\\.\", \"244.255.190.23\"))\n",
    "print(re.split(\"[.]\", \"244.255.190.23\"))"
   ]
  },
  {
   "cell_type": "code",
   "execution_count": 193,
   "metadata": {},
   "outputs": [
    {
     "name": "stdout",
     "output_type": "stream",
     "text": [
      "['244', '255', '190', '23']\n",
      "['244', '255.190.23']\n",
      "['244', '255', '190.23']\n"
     ]
    }
   ],
   "source": [
    "print(re.split(\"[.]\", \"244.255.190.23\", 0))           # ['244', '255', '190', '23']\n",
    "print(re.split(\"[.]\", \"244.255.190.23\", maxsplit=1))  # ['244', '255.190.23']\n",
    "print(re.split(\"[.]\", \"244.255.190.23\", maxsplit=2))  # ['244', '255', '190.23']"
   ]
  },
  {
   "cell_type": "code",
   "execution_count": 194,
   "metadata": {},
   "outputs": [
    {
     "name": "stdout",
     "output_type": "stream",
     "text": [
      "['244', '255', '190', '23']\n",
      "['244', '255', '190', '23']\n",
      "['244', '255', '190', '23']\n"
     ]
    }
   ],
   "source": [
    "print(re.split(\"[.]\", \"244.255.190.23\", 3))  # ['244', '255', '190', '23']\n",
    "print(re.split(\"[.]\", \"244.255.190.23\", 4))  # ['244', '255', '190', '23']\n",
    "print(re.split(\"[.]\", \"244.255.190.23\", 5))  # ['244', '255', '190', '23']"
   ]
  },
  {
   "cell_type": "code",
   "execution_count": 195,
   "metadata": {},
   "outputs": [
    {
     "name": "stdout",
     "output_type": "stream",
     "text": [
      "['Hello', 'World!', 'This', 'is', 'a', 'sentence.']\n"
     ]
    }
   ],
   "source": [
    "print(re.split(r\"\\s\", \"Hello World! This is a sentence.\"))\n"
   ]
  },
  {
   "cell_type": "code",
   "execution_count": 196,
   "metadata": {},
   "outputs": [
    {
     "name": "stdout",
     "output_type": "stream",
     "text": [
      "['apple', 'banana', 'orange', 'grape']\n",
      "['apple', ',', 'banana', ',', 'orange', ',', 'grape']\n"
     ]
    }
   ],
   "source": [
    "print(re.split(r\",\", \"apple,banana,orange,grape\"))\n",
    "print(re.split(r\"(,)\", \"apple,banana,orange,grape\"))  # retains , too"
   ]
  },
  {
   "cell_type": "code",
   "execution_count": null,
   "metadata": {},
   "outputs": [
    {
     "name": "stdout",
     "output_type": "stream",
     "text": [
      "\n",
      " Splitting and excluding the delimiter\n",
      "['apple,', 'banana,', 'orange,', 'grape']\n"
     ]
    }
   ],
   "source": [
    "print(\"\\n Splitting and excluding the delimiter\")\n",
    "print(re.split(r\"(?<=,)\", \"apple,banana,orange,grape\")) "
   ]
  },
  {
   "cell_type": "code",
   "execution_count": 198,
   "metadata": {},
   "outputs": [
    {
     "name": "stdout",
     "output_type": "stream",
     "text": [
      "\n",
      " Splitting by multiple delimiters\n",
      "['apple', '', 'banana', '', 'orange', '', '', 'grape']\n",
      "['apple, banana; orange - grape']\n"
     ]
    }
   ],
   "source": [
    "print(\"\\n Splitting by multiple delimiters\")\n",
    "print(re.split(r\"[,\\s;-]\", \"apple, banana; orange - grape\"))\n",
    "print(re.split(r\"\\d+\", \"apple, banana; orange - grape\"))"
   ]
  },
  {
   "cell_type": "markdown",
   "metadata": {},
   "source": [
    "### ?iLmsux\n",
    "\n",
    "\n",
    "        i: tells the searching engine to ignore case\n",
    "        L: makes \\w, \\b, and \\s locale dependent\n",
    "        m: enables multiline expression\n",
    "        s: the dotall flag; it makes the dot match all characters, including newline character\n",
    "        u: makes \\w, \\b, \\d, and \\s unicode dependent\n",
    "        x: makes the expression verbose i.e. ignores unescaped whitespace as well as text after # sign i.e. it treats text after # as comments.\n"
   ]
  },
  {
   "cell_type": "code",
   "execution_count": 199,
   "metadata": {},
   "outputs": [
    {
     "name": "stdout",
     "output_type": "stream",
     "text": [
      "\n",
      "(?i)\n",
      "['Hello']\n",
      "['Hello']\n"
     ]
    }
   ],
   "source": [
    "print(\"\\n(?i)\")\n",
    "print(re.findall(\"hello\", \"Hello World\", flags=re.IGNORECASE))\n",
    "print(re.findall(\"(?i)hello\", \"Hello World\"))"
   ]
  },
  {
   "cell_type": "code",
   "execution_count": 200,
   "metadata": {},
   "outputs": [
    {
     "name": "stdout",
     "output_type": "stream",
     "text": [
      "\n",
      "(?s)\n",
      "None\n",
      "<re.Match object; span=(0, 3), match='Hi\\n'>\n",
      "<re.Match object; span=(0, 3), match='Hi\\n'>\n"
     ]
    }
   ],
   "source": [
    "print(\"\\n(?s)\")\n",
    "print(re.search(\"...\", \"Hi\\n\"))  # does not match\n",
    "\n",
    "print(re.search(\"...\", \"Hi\\n\", re.S))  #  matches\n",
    "print(re.search(\"(?s)...\", \"Hi\\n\"))  # matches"
   ]
  },
  {
   "cell_type": "code",
   "execution_count": 203,
   "metadata": {},
   "outputs": [
    {
     "name": "stdout",
     "output_type": "stream",
     "text": [
      "\n",
      "(?m)\n",
      "['Line 1', 'Line 2', 'Line 3']\n",
      "['Line 1', 'Line 2', 'Line 3']\n"
     ]
    }
   ],
   "source": [
    "print(\"\\n(?m)\")\n",
    "\n",
    "text = \"\"\"\n",
    "Line 1\n",
    "Line 2\n",
    "Line 3\n",
    "\"\"\"\n",
    "print(re.findall(r\"^Line \\d+$\", text, flags=re.MULTILINE))\n",
    "print(re.findall(r\"(?m)^Line \\d+$\", text))"
   ]
  },
  {
   "cell_type": "markdown",
   "metadata": {},
   "source": [
    "#### Look assertion\n",
    "\n",
    "                = Positive\n",
    "                ! Negative\n",
    "\n",
    "        1) Positive Lookahead   (?=pattern)\n",
    "            - Matches if the pattern inside the lookahead assertion is present ahead.\n",
    "            - Ex: apple(?= pie) matches \"apple\" only if it is followed by the word \"pie\".\n",
    "\n",
    "        2) Negative Lookahead   (?!pattern)\n",
    "            - Matches if the pattern inside the lookahead assertion is not present ahead.\n",
    "            - Ex: apple(?! pie) matches \"apple\" only if it is not followed by the word \"pie\".\n",
    "\n",
    "        3) Positive Lookbehind   (?<=pattern)\n",
    "            - Matches if the pattern inside the lookbehind assertion is present behind.\n",
    "            - Ex: (?<=good )morning matches \"morning\" only if it is preceded by the word \"good\".\n",
    "\n",
    "        4) Negative Lookbehind   (?<=pattern)\n",
    "            - Matches if the pattern inside the lookbehind assertion is not present behind.\n",
    "            - Ex: (?<!not )good morning matches \"good morning\" only if it is not preceded by the word \"not\"."
   ]
  },
  {
   "cell_type": "code",
   "execution_count": 204,
   "metadata": {},
   "outputs": [
    {
     "name": "stdout",
     "output_type": "stream",
     "text": [
      "['apple', 'apple', 'apple']\n"
     ]
    }
   ],
   "source": [
    "print(re.findall(\"apple\", \"I love apple pie, but not apple juice or apple cider.\"))"
   ]
  },
  {
   "cell_type": "code",
   "execution_count": 205,
   "metadata": {},
   "outputs": [
    {
     "name": "stdout",
     "output_type": "stream",
     "text": [
      "\n",
      "Positive LookAhead\n",
      "['apple']\n"
     ]
    }
   ],
   "source": [
    "print(\"\\nPositive LookAhead\")\n",
    "print(\n",
    "    re.findall(\n",
    "        r\"apple(?=\\s+pie)\",  # 'apple' followed by one or more whitespaces, then 'pie'\n",
    "        \"I love apple pie, but not apple juice or apple cider.\",\n",
    "    )\n",
    ")"
   ]
  },
  {
   "cell_type": "code",
   "execution_count": 207,
   "metadata": {},
   "outputs": [
    {
     "name": "stdout",
     "output_type": "stream",
     "text": [
      "['apple12', 'ball', 'cat4']\n"
     ]
    }
   ],
   "source": [
    "print(\n",
    "    re.findall(\n",
    "        r\"\\w+(?=\\d+)\",\n",
    "        \"apple apple123 ball ball3 cat45.5 dog\",\n",
    "    )\n",
    ")"
   ]
  },
  {
   "cell_type": "code",
   "execution_count": 208,
   "metadata": {},
   "outputs": [
    {
     "name": "stdout",
     "output_type": "stream",
     "text": [
      "\n",
      "Negative LookAhead\n",
      "['apple', 'apple']\n",
      "['apple', 'apple123', 'ball', 'ball3', 'cat45', '5', 'dog']\n"
     ]
    }
   ],
   "source": [
    "print(\"\\nNegative LookAhead\")\n",
    "print(\n",
    "    re.findall(\n",
    "        r\"apple(?!.*pie)\",  # 'apple' NOT followed by 'pie'\n",
    "        \"I love apple pie, but not apple juice or apple cider.\",\n",
    "    )\n",
    ")\n",
    "print(\n",
    "    re.findall(\n",
    "        r\"\\w+(?!\\d+)\",\n",
    "        \"apple apple123 ball ball3 cat45.5 dog\",\n",
    "    )\n",
    ")"
   ]
  },
  {
   "cell_type": "code",
   "execution_count": 209,
   "metadata": {},
   "outputs": [
    {
     "name": "stdout",
     "output_type": "stream",
     "text": [
      "\n",
      "Lookahead with Capturing Group\n",
      "['Hello', 'Fine']\n"
     ]
    }
   ],
   "source": [
    "\n",
    "print(\"\\nLookahead with Capturing Group\")\n",
    "print(\n",
    "    re.findall(\n",
    "        r\"(\\w+)(?=!)\",  # captures words followed by !, but gets only words\n",
    "        \"Hello! How are you? Fine!\",\n",
    "    )\n",
    ")\n"
   ]
  },
  {
   "cell_type": "code",
   "execution_count": 210,
   "metadata": {},
   "outputs": [
    {
     "name": "stdout",
     "output_type": "stream",
     "text": [
      "['gmail', 'yahoo', 'hotmail']\n"
     ]
    }
   ],
   "source": [
    "emails = [\"example1@gmail.com\", \"example2@yahoo.com\", \"example3@hotmail.com\"]\n",
    "pattern = r\"@(\\w+)(?=\\.\\w+$)\"\n",
    "domains = [re.search(pattern, email).group(1) for email in emails]\n",
    "print(domains)\n"
   ]
  },
  {
   "cell_type": "code",
   "execution_count": 211,
   "metadata": {},
   "outputs": [
    {
     "name": "stdout",
     "output_type": "stream",
     "text": [
      "['12', '09', '21']\n"
     ]
    }
   ],
   "source": [
    "timestamps = [\"12:34:56\", \"09:45:23\", \"21:15:10\"]\n",
    "pattern = r\"(\\d+)(?=:)\"\n",
    "hours = [re.search(pattern, timestamp).group(1) for timestamp in timestamps]\n",
    "print(hours)"
   ]
  },
  {
   "cell_type": "code",
   "execution_count": 212,
   "metadata": {},
   "outputs": [
    {
     "name": "stdout",
     "output_type": "stream",
     "text": [
      "['/www.example.com', '/www.example.com', '/www.example.com']\n"
     ]
    }
   ],
   "source": [
    "urls = [\n",
    "    \"https://www.example.com/home\",\n",
    "    \"https://www.example.com/products\",\n",
    "    \"https://www.example.com/about\",\n",
    "]\n",
    "pattern = r\"(/[^/]+)(?=\\b|$)\"\n",
    "paths = [re.search(pattern, url).group(1) for url in urls]\n",
    "print(paths)"
   ]
  },
  {
   "cell_type": "code",
   "execution_count": 213,
   "metadata": {},
   "outputs": [
    {
     "name": "stdout",
     "output_type": "stream",
     "text": [
      "\n",
      "Positive lookbehind assertion (?<=...)\n",
      "['Python']\n"
     ]
    }
   ],
   "source": [
    "print(\"\\nPositive lookbehind assertion (?<=...)\")\n",
    "result = re.findall(r\"(?<=I love )\\w+\", \"I love Python\")\n",
    "print(result)\n"
   ]
  },
  {
   "cell_type": "code",
   "execution_count": 214,
   "metadata": {},
   "outputs": [
    {
     "name": "stdout",
     "output_type": "stream",
     "text": [
      "\n",
      "Negative lookbehind assertion (?<!...)\n",
      "['I', 'love', 'Python', 'but', 'not']\n"
     ]
    }
   ],
   "source": [
    "print(\"\\nNegative lookbehind assertion (?<!...)\")\n",
    "result = re.findall(r\"\\b(?<!not )\\w+\\b\", \"I love Python, but not Java\")\n",
    "print(result)"
   ]
  },
  {
   "cell_type": "code",
   "execution_count": 215,
   "metadata": {},
   "outputs": [
    {
     "name": "stdout",
     "output_type": "stream",
     "text": [
      "['apple']\n",
      "['Hello', 'World']\n",
      "['192.168.0.2', '10.0.0.1']\n"
     ]
    }
   ],
   "source": [
    "# Matching the same text as a named group (?P=name):\n",
    "\n",
    "print(re.findall(r\"(?P<word>\\w+)\\s(?P=word)\", \"apple apple apple\"))\n",
    "print(re.findall(r\"(?P<word>\\w+)\\s(?P=word)\", \"Hello Hello World World\"))\n",
    "\n",
    "text = \"\"\"\n",
    "    Server IP: 192.168.0.1, Client IP: 10.0.0.1\n",
    "    Server IP: 192.168.0.2, Client IP: 192.168.0.2\n",
    "    Server IP: 10.0.0.1, Client IP: 10.0.0.1\n",
    "\"\"\"\n",
    "pattern = r\"Server IP: (?P<server_ip>\\d{1,3}\\.\\d{1,3}\\.\\d{1,3}\\.\\d{1,3}), Client IP: (?P=server_ip)\"\n",
    "results = re.findall(pattern, text)\n",
    "print(results)"
   ]
  },
  {
   "cell_type": "markdown",
   "metadata": {},
   "source": [
    "```\n",
    "\n",
    "    Popular Regular expression Generators:\n",
    "    ========================================\n",
    "        1. http://regexr.com/\n",
    "        2. https://regex101.com/#python\n",
    "        3. http://www.regular-expressions.info/python.html\n",
    "        4. https://www.rexegg.com/\n",
    "\n",
    "    Popular Regular Expression Visualizers :\n",
    "    =======================================\n",
    "    1. https://regexper.com\n",
    "    2. https://www.debuggex.com/\n",
    "    3. https://blog.robertelder.org/regular-expression-visualizer/\n",
    "\n",
    "    Popular RegEx creating Tools:\n",
    "    =============================\n",
    "    1. kodos (http://kodos.sourceforge.net/home.html)\n",
    "        • Tool for computing and practicing regular expressions.\n",
    "    2. pythex(https://pythex.org/)\n",
    "        • regex generator created in python.\n",
    "\n",
    "```"
   ]
  },
  {
   "cell_type": "markdown",
   "metadata": {},
   "source": [
    "```\n",
    "\n",
    "############# CONTROL CHARACTERS ############\n",
    "# All characters except the following 14 characters match themselves. The following 14 characters are control characters, with special meaning below. If you want to match any literal version of control characters, prefix it with a backslash.\n",
    "*   : matches 0 or more repetitions of the preceding expression greedily\n",
    "+   : matches 1 or more repetitions of the preceding expression greedily\n",
    "?   : matches 0 or 1 occurrence of the preceding expression non-greedily\n",
    ".   : matches any character except for \\n\n",
    "^   : matches beginning of a string respectively. /A\n",
    "$   : matches ending of a string respectively. /Z\n",
    "|   : matches either of the expressions around the | symbol\n",
    "[ ] : matches any of the characters listed inside []; a hyphen (-) denotes alphanumeric ranges; ^ right after opening square bracket makes it match any character except for the listed ones.\n",
    "( ) : used to capture portions of an expression; also used to denote precedence especially in complex expressions; (?:...) makes represents the non-grouping version of ().\n",
    "{ } : {m,n} matches m to n repetitions of the preceding expression\n",
    "\\   : used to escape control characters or signal a control sequence (e.g. \\w, \\W etc.) or special characters such as \\n, \\t etc.\n",
    "\n",
    "############## PYTHON SPECIFIC EXTENSIONS ?P DISCUSSED IN THIS ARTICLE ################\n",
    "(?P<name>...) The substring matched by the group is accessible by name.\n",
    "(?P=name)     Matches the text matched earlier by the group named name.\n",
    "\n",
    "############## FLAGS IN PYTHON SPECIFIC EXTENSIONS ?P ################\n",
    "i: tells the searching engine to ignore case\n",
    "L: makes \\w, \\b, and \\s locale dependent\n",
    "m: enables multiline expression\n",
    "s: the dotall flag; it makes the dot match all characters, including newline character\n",
    "u: makes \\w, \\b, \\d, and \\s unicode dependent\n",
    "x: makes the expression verbose i.e. ignores unescaped whitespace as well as text after # sign i.e. it treats text after # as comments.\n",
    "\n",
    "############# VALID VALUES FOR OPTIONAL ARGUMENT flag IN FUNCTIONS OF re MODULE ###############\n",
    "A  also re.ASCII        Makes \\w, \\W, \\b, \\B, \\d, \\D match the corresponding ASCII character categories\n",
    "                        (rather than the whole Unicode categories, which is the default) for string patterns.\n",
    "I  also re.IGNORECASE   Enables case-insensitive matching.\n",
    "L  also re.LOCALE       Makes \\w, \\W, \\b, \\B dependent on the current locale.\n",
    "M  also re.MULTILINE    Makes \"^\" match the beginning of lines (after a newline) as well as the string.\n",
    "                        \"$\" matches the end of lines (before a newline) as well as the end of the string.\n",
    "S  also re.DOTALL       Makes \".\" match any character at all, including the newline.\n",
    "X  also re.VERBOSE      Asks Regex Engine to ignore whitespace and comments.\n",
    "U  also re.UNICODE      Asks the Regex Engine to use the Unicode character set for substitution, which is default for string patterns.\n",
    "\n",
    "############### CONTROL SEQUENCES ###############\n",
    "\\d       matches numerals or digits; is equivalent to the character class [0-9]\n",
    "\\D       matches non-numeral or non-digit characters; equivalent to [^0-9]\n",
    "\\s       matches whitespace characters such as \\t (tab), \\n (linefeed), \\r (carriage return), \\v (vertical tab), \\f (formfeed) etc.\n",
    "\\S       matches non-whitespace character; equivalent to [^\\t\\n\\r\\v\\f]\n",
    "\\w       matches alphanumeric characters; equivalent to [a-zA-Z0-9_]\n",
    "\\W       matches non-alphanumeric characters; equivalent to [^a-zA-Z0-9_]\n",
    "\\number  matches the contents captured by the group denoted by the same number; we will discuss groups shortly.\n",
    "\\A       matches only at the start of the original string.\n",
    "\\Z       matches only at the end of the original string.\n",
    "\\b       matches an empty string at word boundaries; \\b is defined as the boundary between a \\w & \\W character or between \\w and the two ends of a string; note that you will need to write your regex containing \\b sequences with raw string notation i.e. r'patternContaining\\bSequences', since \\b in regular string notation denotes the backspace character. Alternatively, you can use two backslashes to mean the same i.e. 'patternContaining\\\\bSequences'.\n",
    "\\B       matches an empty string not at word boundaries i.e. re.search('\\Bam\\B', 'name') will get return a match whereas '\\Bn' will not, since there is a word boundary right before the letter n;\n",
    "# In order to match a literal backslash, use the raw string notation, i.e. re.search(r'\\\\', 'x\\\\y'). Alternatively, you can escape both the backslashes by prefixing each of them with another backslash i.e. re.search('\\\\\\\\', 'x\\\\y')\n",
    "\n",
    "######### FUNCTIONS OF re MODULE DISCUSSED IN THIS ARTICLE ############\n",
    "* match(pattern, stringSource, flags=0) applies the pattern at the beginning of the string and returns a match object if a match is found, and if no match is found, returns None\n",
    "* search(pattern, stringSource, flags=0) applies the pattern in the entire of the string and returns a match object if a match is found, and if no match is found, returns None\n",
    "* compile(pattern, flags=0) compiles a pattern to return a pattern object, making it convenient for us in case we need to apply the same pattern to different strings.\n",
    "* fullmatch(pattern, string, flags=0) performs an anchored search like match(), but returns a match object only if the expression matches the entire string OR the expression matches a portion of string denoted by span indexes specified in optional 2nd and 3rd arguments.\n",
    "* sub(pattern, replacement, stringSource) function replaces the occurrences of pattern in stringSource by replacement, and returns the modified string (if no substitutions are made, it returns the original string). The pattern may be either a simple string or a regular expression. The replacement may be either a string or a function.\n",
    "* subn(pattern, replacement, stringSource) performs the same function as sub(), except for the fact that it returns a 2-element tuple, consisting of the new string after the replacement(s) and number of substitutions made.\n",
    "* split(pattern, stringSource, maxsplit = 0, flags = 0) splits the stringSource on the basis of occurrences of the pattern, returning a list of resulting substrings.\n",
    "* findall(pattern, stringSource, flags = 0) returns a list of all matches (including empty ones) in the stringSource. If capturing groups exist in the pattern, the list of tuples of matches of these groups is returned.\n",
    "* finditer(pattern, stringSource, flags = 0) performs the same way as findall(), except for the fact that it returns an iterator of match objects in case there are no capturing groups, instead of a list. If there are groups in the expression, then an iterator of tuples of matches of these groups is returned.\n",
    "* escape(pattern) asks the regular expression engine to escape all the characters in pattern except letters, numbers & underscore(_).\n",
    "* purge()function clears the regular expression caches.\n",
    "\n",
    "############ FUNCTIONS OF MATCH OBJECT DISCUSSED IN THIS ARTICLE ############\n",
    "* end(): returns index of the original string where the match ended.\n",
    "* groups(): returns a tuple of groups of the matched string.\n",
    "* groupdict(): returns a dictionary of named groups of the matched string.\n",
    "* group(): returns a specific group of the matches string.\n",
    "* re: attribute storing the regular expression object whose search()/match() produced this match object.\n",
    "* span(): returns a 2-element tuple denoting the indexes of the original string where the match starts and ends.\n",
    "* start(): returns index of the original string where the match started.\n",
    "* string: attribute which stores the original string.\n",
    "\n",
    "\n",
    "## Exercises\n",
    "=============\n",
    "    1) Make a regular expression that matches an 'a' followed by 4 'b's in a string.\n",
    "    Solution: ab{4}\n",
    "    2) Make a regular expression which matches sequences of a single uppercase letter followed by one or more lowercase letters.\n",
    "    Solution: [A-Z][a-z]*\n",
    "    3) Compose a regular expression that matches a word at the end of a string, ending with an optional punctuation mark.\n",
    "    Solution: \\w+\\S*$\n",
    "    4) Write a Python script to remove leading zeroes from parts of an IP address.\n",
    "    Solution: re.sub('\\.[0]*', '.', '192.168.01.01')\n",
    "    5) Write a Python program to convert camelCase words to underscore_separated_lowercase words.\n",
    "    Solution: re.sub('([a-z]+)([A-Z])', r'\\1_\\2', 'randomCamelCaseVariableOne randomCamelCaseVariableTwo').lower()\n",
    "    6) Write a Python script to convert a date of dd-mm-yyyy format to yyyy-mm-dd format.\n",
    "    Solution: re.sub('(\\d{1,2})-(\\d{1,2})-(\\d{4})', r'\\3-\\2-\\1', '13-02-2017')\n",
    "    7) Make a regular expression to extract all words from a string starting with a, d or s.\n",
    "    Solution: re.findall(r'\\b[ads]\\w+\\b', 'apple ball cat dog eagle sea sort')\n",
    "    8) Write a Python script to replace any occurrence of underscore, comma, or period with an at-the-rate symbol.\n",
    "    Solution: re.sub('[_,\\.]', '@', '_,._,.')\n",
    "    9) Write a Python script to find all 4 characters long words in a string.\n",
    "    Solution: re.findall(r'\\b\\w{4}\\b', 'two three four five six seven')\n",
    "    10) Write a Python script to find all words in a string which are either 2-letter long, 3-letter long or 4-letter long.\n",
    "    Solution: re.findall(r'\\b\\w{2,4}\\b', 'on two three four five six seven')\n",
    "    11) Write a Python script to obtain a list of numbers from a string containing alphanumeric characters.\n",
    "    Solution: re.split('[a-zA-Z]+', '1a2b3c4de5f6')\n",
    "    12) Write a Python script to extract the contents lying between a paragraph tag with an id 'para'.\n",
    "    Solution: matchObject = re.search('<p id\\s*=\\s*\\'para\\'>(.*?)</p>', '<p id = \\'para\\'>Contents of paragraph</p>'); print(matchObject.group(1)) # 'Contents of paragraph'\n",
    "    13) Write a regular expression that matches two of a kind characters from a string containing characters other than a newline e.g. 'abc123abc'.\n",
    "    Solution: matchObject = re.search(r'.*?(.).*?\\1', 'abc123abc'); matchObject.groups(). For clarity, try it out on https://regex101.com/.\n",
    "    14) Write a regular expression that matches three of a kind characters from a string containing characters other than a newline e.g. 'abc123abc'.\n",
    "    Solution: matchObject = re.search(r'.*?(.).*?\\1.*?\\1', 'abc123abc123abc'); matchObject.groups(). For clarity, try it out on https://regex101.com/.\n",
    "    15) Write a Python script to remove excessive spacing from a string.\n",
    "    Solution: re.sub('\\s+', ' ', 'this is a    string     with excessive     spacing.')\n",
    "\n",
    "Assignment\n",
    "============\n",
    "Your task is to write a regular expression that matches only and exactly strings of form:\n",
    ", where each variable  can be any single character except the newline.\n",
    "\n",
    "    postive\n",
    "        123.456.abc.def\n",
    "        asd.asd.asd.asd\n",
    "        `!@.#$%.^&*.()_\n",
    "\n",
    "    negative\n",
    "        1123.456.abc.def\n",
    "        123.123.123.132.123.123\n",
    "\n",
    "    Your task is to match the pattern  xxXxxXxxxx\n",
    "    Here x denotes a digit character, and X denotes a non-digit character.\n",
    "    positive\n",
    "        06-11-2015\n",
    "        10a10.2015452254\n",
    "\n",
    "Write a regex which can match all the occurences of digit which are immediately preceded by odd digit.\n",
    "positive\n",
    "    123Go!\n",
    "    \n",
    "```"
   ]
  }
 ],
 "metadata": {
  "kernelspec": {
   "display_name": "Python 3",
   "language": "python",
   "name": "python3"
  },
  "language_info": {
   "codemirror_mode": {
    "name": "ipython",
    "version": 3
   },
   "file_extension": ".py",
   "mimetype": "text/x-python",
   "name": "python",
   "nbconvert_exporter": "python",
   "pygments_lexer": "ipython3",
   "version": "3.12.1"
  }
 },
 "nbformat": 4,
 "nbformat_minor": 2
}
