{
 "cells": [
  {
   "cell_type": "markdown",
   "metadata": {},
   "source": [
    "# comprehensions\n",
    "\n",
    "    Alternative way of iterating the collections\n",
    "            - types\n",
    "                1. list comprehensions\n",
    "                2. Generator Expression\n",
    "                3. Set comprehensions\n",
    "                4. Dictionary comprehensions"
   ]
  },
  {
   "cell_type": "code",
   "execution_count": 20,
   "metadata": {},
   "outputs": [
    {
     "name": "stdout",
     "output_type": "stream",
     "text": [
      "[2, 3, 4, 5, 6, 7, 8]\n"
     ]
    }
   ],
   "source": [
    "# Traditional\n",
    "new_list = []\n",
    "for i in range(2, 9):\n",
    "    new_list.append(i)\n",
    "print(new_list)  # [2, 3, 4, 5, 6, 7, 8]"
   ]
  },
  {
   "cell_type": "code",
   "execution_count": 21,
   "metadata": {},
   "outputs": [
    {
     "data": {
      "text/plain": [
       "[2, 3, 4, 5, 6, 7, 8]"
      ]
     },
     "execution_count": 21,
     "metadata": {},
     "output_type": "execute_result"
    }
   ],
   "source": [
    "# List comprehension\n",
    "[i for i in range(2, 9)]"
   ]
  },
  {
   "cell_type": "code",
   "execution_count": 22,
   "metadata": {},
   "outputs": [
    {
     "name": "stdout",
     "output_type": "stream",
     "text": [
      "[2, 3, 4, 5, 6, 7, 8]\n"
     ]
    }
   ],
   "source": [
    "other_list = [i for i in range(2, 9)]\n",
    "print(other_list)"
   ]
  },
  {
   "cell_type": "code",
   "execution_count": 23,
   "metadata": {},
   "outputs": [
    {
     "name": "stdout",
     "output_type": "stream",
     "text": [
      "[2, 4, 6, 8]\n"
     ]
    }
   ],
   "source": [
    "# ---- comprehensions with conditions\n",
    "even_list = []\n",
    "for i in range(2, 9):\n",
    "    if i % 2 == 0:\n",
    "        even_list.append(i)\n",
    "print(even_list)"
   ]
  },
  {
   "cell_type": "code",
   "execution_count": 24,
   "metadata": {},
   "outputs": [
    {
     "name": "stdout",
     "output_type": "stream",
     "text": [
      "[2, 4, 6, 8]\n"
     ]
    }
   ],
   "source": [
    "even_list2 = [ i  for i in range(2, 9)  if i % 2 == 0]\n",
    "print(even_list2)"
   ]
  },
  {
   "cell_type": "code",
   "execution_count": 25,
   "metadata": {},
   "outputs": [
    {
     "name": "stdout",
     "output_type": "stream",
     "text": [
      "[4, 16, 36, 64]\n"
     ]
    }
   ],
   "source": [
    "# ---- comprehensions with conditions, and getting squares\n",
    "event_squares = []\n",
    "for i in range(2, 9):\n",
    "    if i % 2 == 0:\n",
    "        event_squares.append(i**2)\n",
    "print(event_squares)  # [4, 16, 36, 64]"
   ]
  },
  {
   "cell_type": "code",
   "execution_count": 26,
   "metadata": {},
   "outputs": [
    {
     "data": {
      "text/plain": [
       "[4, 16, 36, 64]"
      ]
     },
     "execution_count": 26,
     "metadata": {},
     "output_type": "execute_result"
    }
   ],
   "source": [
    "event_squares2 = [ i**2  for i in range(2, 9) if i % 2 == 0]\n",
    "\n",
    "event_squares2"
   ]
  },
  {
   "cell_type": "code",
   "execution_count": 27,
   "metadata": {},
   "outputs": [
    {
     "name": "stdout",
     "output_type": "stream",
     "text": [
      "['even', 'odd', 'even', 'odd', 'even', 'odd', 'even']\n"
     ]
    }
   ],
   "source": [
    "# ---- comprehensions with if and else\n",
    "even_or_odd = []\n",
    "for i in range(2, 9):\n",
    "    if i % 2 == 0:\n",
    "        even_or_odd.append(\"even\")\n",
    "    else:\n",
    "        even_or_odd.append(\"odd\")\n",
    "print(even_or_odd) "
   ]
  },
  {
   "cell_type": "code",
   "execution_count": 28,
   "metadata": {},
   "outputs": [
    {
     "ename": "SyntaxError",
     "evalue": "invalid syntax (2729795921.py, line 1)",
     "output_type": "error",
     "traceback": [
      "\u001b[0;36m  Cell \u001b[0;32mIn[28], line 1\u001b[0;36m\u001b[0m\n\u001b[0;31m    even_or_odd2 = [ \"even\" for i in range(2, 9) if i % 2 == 0  else  \"odd\"]\u001b[0m\n\u001b[0m                                                                ^\u001b[0m\n\u001b[0;31mSyntaxError\u001b[0m\u001b[0;31m:\u001b[0m invalid syntax\n"
     ]
    }
   ],
   "source": [
    "even_or_odd2 = [ \"even\" for i in range(2, 9) if i % 2 == 0  else  \"odd\"]"
   ]
  },
  {
   "cell_type": "code",
   "execution_count": 5,
   "metadata": {},
   "outputs": [
    {
     "data": {
      "text/plain": [
       "'odd'"
      ]
     },
     "execution_count": 5,
     "metadata": {},
     "output_type": "execute_result"
    }
   ],
   "source": [
    "# Duck-typing\n",
    "# Ternary operation   \n",
    "#       condition: truecase: falsecase\n",
    "\n",
    "\n",
    "\"odd\" if True else \"even\""
   ]
  },
  {
   "cell_type": "code",
   "execution_count": 6,
   "metadata": {},
   "outputs": [
    {
     "name": "stdout",
     "output_type": "stream",
     "text": [
      "even\n"
     ]
    }
   ],
   "source": [
    "print(\"odd\" if not True else \"even\")"
   ]
  },
  {
   "cell_type": "code",
   "execution_count": 7,
   "metadata": {},
   "outputs": [
    {
     "name": "stdout",
     "output_type": "stream",
     "text": [
      "odd\n"
     ]
    }
   ],
   "source": [
    "print(\"odd\" if not False else \"even\")\n"
   ]
  },
  {
   "cell_type": "code",
   "execution_count": 8,
   "metadata": {},
   "outputs": [
    {
     "name": "stdout",
     "output_type": "stream",
     "text": [
      "not correct\n"
     ]
    }
   ],
   "source": [
    "print(\"correct\" if 23 % 2 == 0 else \"not correct\")\n"
   ]
  },
  {
   "cell_type": "code",
   "execution_count": 19,
   "metadata": {},
   "outputs": [
    {
     "name": "stdout",
     "output_type": "stream",
     "text": [
      "[2, 3, 4, 5, 6, 7, 8]\n",
      "[True, False, True, False, True, False, True]\n"
     ]
    }
   ],
   "source": [
    "print([i                             for i in range(2, 9)])\n",
    "print([i % 2 == 0                    for i in range(2, 9)])\n"
   ]
  },
  {
   "cell_type": "code",
   "execution_count": 29,
   "metadata": {},
   "outputs": [
    {
     "name": "stdout",
     "output_type": "stream",
     "text": [
      "[True, False, True, False, True, False, True]\n",
      "['even', 'odd', 'even', 'odd', 'even', 'odd', 'even']\n"
     ]
    }
   ],
   "source": [
    "print([True   if i % 2 == 0 else False for i in range(2, 9)])\n",
    "print([\"even\" if i % 2 == 0 else \"odd\" for i in range(2, 9)])"
   ]
  },
  {
   "cell_type": "code",
   "execution_count": 30,
   "metadata": {},
   "outputs": [],
   "source": [
    "even_or_odd2 = [\"even\" if i % 2 == 0 else \"odd\" for i in range(2, 9)]\n",
    "assert even_or_odd == even_or_odd2"
   ]
  },
  {
   "cell_type": "code",
   "execution_count": 31,
   "metadata": {},
   "outputs": [
    {
     "name": "stdout",
     "output_type": "stream",
     "text": [
      "[('P', '1'), ('P', '2'), ('P', '3'), ('P', '4'), ('y', '1'), ('y', '2'), ('y', '3'), ('y', '4'), ('t', '1'), ('t', '2'), ('t', '3'), ('t', '4'), ('h', '1'), ('h', '2'), ('h', '3'), ('h', '4'), ('o', '1'), ('o', '2'), ('o', '3'), ('o', '4'), ('n', '1'), ('n', '2'), ('n', '3'), ('n', '4')]\n"
     ]
    }
   ],
   "source": [
    "pairs = []\n",
    "for ch1 in \"Python\":\n",
    "    for num in \"1234\":\n",
    "        pairs.append((ch1, num))\n",
    "\n",
    "print(pairs)"
   ]
  },
  {
   "cell_type": "code",
   "execution_count": 32,
   "metadata": {},
   "outputs": [
    {
     "name": "stdout",
     "output_type": "stream",
     "text": [
      "[('P', '1'), ('P', '2'), ('P', '3'), ('P', '4'), ('y', '1'), ('y', '2'), ('y', '3'), ('y', '4'), ('t', '1'), ('t', '2'), ('t', '3'), ('t', '4'), ('h', '1'), ('h', '2'), ('h', '3'), ('h', '4'), ('o', '1'), ('o', '2'), ('o', '3'), ('o', '4'), ('n', '1'), ('n', '2'), ('n', '3'), ('n', '4')]\n"
     ]
    }
   ],
   "source": [
    "pairs2 = [(ch1, num) for ch1 in \"Python\" for num in \"1234\"]\n",
    "print(pairs2)"
   ]
  },
  {
   "cell_type": "code",
   "execution_count": 33,
   "metadata": {},
   "outputs": [
    {
     "name": "stdout",
     "output_type": "stream",
     "text": [
      "{('t', '2'), ('h', '1'), ('y', '1'), ('o', '1'), ('P', '2'), ('n', '4'), ('t', '3'), ('h', '2'), ('y', '2'), ('o', '2'), ('P', '3'), ('n', '1'), ('h', '3'), ('y', '3'), ('t', '4'), ('o', '3'), ('n', '2'), ('P', '4'), ('t', '1'), ('y', '4'), ('h', '4'), ('o', '4'), ('n', '3'), ('P', '1')}\n",
      "{('t', '2'), ('h', '1'), ('y', '1'), ('o', '1'), ('P', '2'), ('n', '4'), ('t', '3'), ('h', '2'), ('y', '2'), ('o', '2'), ('P', '3'), ('n', '1'), ('h', '3'), ('y', '3'), ('t', '4'), ('o', '3'), ('n', '2'), ('P', '4'), ('t', '1'), ('y', '4'), ('h', '4'), ('o', '4'), ('n', '3'), ('P', '1')}\n"
     ]
    }
   ],
   "source": [
    "pairs = set()\n",
    "for ch1 in \"Python\":\n",
    "    for num in \"1234\":\n",
    "        pairs.add((ch1, num))\n",
    "\n",
    "print(pairs)\n",
    "\n",
    "pairs2 = {(ch1, num) for ch1 in \"Python\" for num in \"1234\"}\n",
    "print(pairs2)"
   ]
  },
  {
   "cell_type": "code",
   "execution_count": 34,
   "metadata": {},
   "outputs": [
    {
     "name": "stdout",
     "output_type": "stream",
     "text": [
      "{('h', '3'), ('t', '3'), ('y', '3'), ('o', '3'), ('P', '3'), ('n', '3')}\n",
      "{('h', '3'), ('t', '3'), ('y', '3'), ('o', '3'), ('P', '3'), ('n', '3')}\n"
     ]
    }
   ],
   "source": [
    "pairs = set()\n",
    "for ch1 in \"Python\":\n",
    "    for num in \"1234\":\n",
    "        if num == \"3\":\n",
    "            pairs.add((ch1, num))\n",
    "\n",
    "print(pairs)\n",
    "\n",
    "pairs2 = {(ch1, num) for ch1 in \"Python\" for num in \"1234\" if num == \"3\"}\n",
    "print(pairs2)\n"
   ]
  },
  {
   "cell_type": "code",
   "execution_count": 35,
   "metadata": {},
   "outputs": [
    {
     "name": "stdout",
     "output_type": "stream",
     "text": [
      "<class 'list'> ['M', 'a', 'n', 'g', 'a', 'l', 'y', 'a', 'n']\n",
      "<class 'generator'> <generator object <genexpr> at 0x7b2af4174dc0>\n",
      "<class 'set'> {'g', 'y', 'M', 'n', 'l', 'a'}\n",
      "<class 'dict'> {'M': 77, 'a': 97, 'n': 110, 'g': 103, 'l': 108, 'y': 121}\n"
     ]
    }
   ],
   "source": [
    "my_variable = [ch for ch in \"Mangalyan\"]\n",
    "print(type(my_variable), my_variable)\n",
    "\n",
    "my_variable = (ch for ch in \"Mangalyan\")\n",
    "print(type(my_variable), my_variable)\n",
    "\n",
    "my_variable = {ch for ch in \"Mangalyan\"}\n",
    "print(type(my_variable), my_variable)\n",
    "\n",
    "my_variable = {ch: ord(ch) for ch in \"Mangalyan\"}\n",
    "print(type(my_variable), my_variable)"
   ]
  },
  {
   "cell_type": "code",
   "execution_count": 36,
   "metadata": {},
   "outputs": [
    {
     "name": "stdout",
     "output_type": "stream",
     "text": [
      "chr(77)  M\n",
      "ord('M') 77\n"
     ]
    }
   ],
   "source": [
    "\n",
    "# Assignment\n",
    "# chr(), ord()\n",
    "print(\"chr(77) \", chr(77))\n",
    "print(\"ord('M')\", ord(\"M\"))\n",
    "# caesar cipher\n",
    "# a b c d e f ......\n",
    "# 0 1 2 3 4 5 .......\n",
    "# +3\n",
    "# bad -> edg\n",
    "# ex: attack is planned to happen on next sunday\n",
    "\n",
    "# HINT : % operation, chr(), ord(), list comprehension"
   ]
  },
  {
   "cell_type": "code",
   "execution_count": null,
   "metadata": {},
   "outputs": [],
   "source": []
  }
 ],
 "metadata": {
  "kernelspec": {
   "display_name": "Python 3",
   "language": "python",
   "name": "python3"
  },
  "language_info": {
   "codemirror_mode": {
    "name": "ipython",
    "version": 3
   },
   "file_extension": ".py",
   "mimetype": "text/x-python",
   "name": "python",
   "nbconvert_exporter": "python",
   "pygments_lexer": "ipython3",
   "version": "3.12.1"
  }
 },
 "nbformat": 4,
 "nbformat_minor": 2
}
