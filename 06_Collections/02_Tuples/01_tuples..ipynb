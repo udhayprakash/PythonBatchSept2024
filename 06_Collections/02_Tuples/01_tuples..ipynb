{
 "cells": [
  {
   "cell_type": "code",
   "execution_count": 1,
   "metadata": {},
   "outputs": [
    {
     "name": "stdout",
     "output_type": "stream",
     "text": [
      "type(mylist) <class 'list'>\n",
      "len(mylist) 5\n"
     ]
    }
   ],
   "source": [
    "mylist = [12, 34.8, 500000, [6, 8], (5,)]\n",
    "\n",
    "\n",
    "print(\"type(mylist)\", type(mylist))\n",
    "print(\"len(mylist)\", len(mylist))"
   ]
  },
  {
   "cell_type": "code",
   "execution_count": 2,
   "metadata": {},
   "outputs": [
    {
     "name": "stdout",
     "output_type": "stream",
     "text": [
      "\n",
      "type(mytuple) <class 'tuple'>\n",
      "len(mytuple) 5\n",
      "(12, 34.8, 500000, [6, 8], (5,))\n"
     ]
    }
   ],
   "source": [
    "mytuple = (12, 34.8, 500000, [6, 8], (5,))\n",
    "\n",
    "\n",
    "print(\"\\ntype(mytuple)\", type(mytuple))\n",
    "print(\"len(mytuple)\", len(mytuple))\n",
    "print(mytuple)"
   ]
  },
  {
   "cell_type": "code",
   "execution_count": 3,
   "metadata": {},
   "outputs": [
    {
     "name": "stdout",
     "output_type": "stream",
     "text": [
      "type(another_tuple) <class 'int'>\n"
     ]
    },
    {
     "ename": "TypeError",
     "evalue": "object of type 'int' has no len()",
     "output_type": "error",
     "traceback": [
      "\u001b[0;31m---------------------------------------------------------------------------\u001b[0m",
      "\u001b[0;31mTypeError\u001b[0m                                 Traceback (most recent call last)",
      "Cell \u001b[0;32mIn[3], line 4\u001b[0m\n\u001b[1;32m      1\u001b[0m another_tuple \u001b[38;5;241m=\u001b[39m (\u001b[38;5;241m99\u001b[39m)\n\u001b[1;32m      3\u001b[0m \u001b[38;5;28mprint\u001b[39m(\u001b[38;5;124m\"\u001b[39m\u001b[38;5;124mtype(another_tuple)\u001b[39m\u001b[38;5;124m\"\u001b[39m, \u001b[38;5;28mtype\u001b[39m(another_tuple))\n\u001b[0;32m----> 4\u001b[0m \u001b[38;5;28mprint\u001b[39m(\u001b[38;5;124m\"\u001b[39m\u001b[38;5;124mlen(another_tuple) \u001b[39m\u001b[38;5;124m\"\u001b[39m, \u001b[38;5;28;43mlen\u001b[39;49m\u001b[43m(\u001b[49m\u001b[43manother_tuple\u001b[49m\u001b[43m)\u001b[49m)\n",
      "\u001b[0;31mTypeError\u001b[0m: object of type 'int' has no len()"
     ]
    }
   ],
   "source": [
    "another_tuple = (99)\n",
    "\n",
    "print(\"type(another_tuple)\", type(another_tuple))\n",
    "print(\"len(another_tuple) \", len(another_tuple))"
   ]
  },
  {
   "cell_type": "code",
   "execution_count": 4,
   "metadata": {},
   "outputs": [
    {
     "name": "stdout",
     "output_type": "stream",
     "text": [
      "type(another_tuple) <class 'tuple'>\n",
      "len(another_tuple)  1\n"
     ]
    }
   ],
   "source": [
    "another_tuple = (99,)\n",
    "\n",
    "print(\"type(another_tuple)\", type(another_tuple))\n",
    "print(\"len(another_tuple) \", len(another_tuple))"
   ]
  },
  {
   "cell_type": "code",
   "execution_count": 5,
   "metadata": {},
   "outputs": [],
   "source": [
    "# NOTE: For tuple with single element, place comma at the end\n",
    "# to recognize it as tuple; else recognizes as individual element\n"
   ]
  },
  {
   "cell_type": "code",
   "execution_count": 6,
   "metadata": {},
   "outputs": [
    {
     "name": "stdout",
     "output_type": "stream",
     "text": [
      "type(empty_tuple): <class 'tuple'>\n",
      "len(empty_tuple) : 0\n"
     ]
    }
   ],
   "source": [
    "empty_tuple = ()  # tuple()\n",
    "print(\"type(empty_tuple):\", type(empty_tuple))\n",
    "print(\"len(empty_tuple) :\", len(empty_tuple))"
   ]
  },
  {
   "cell_type": "code",
   "execution_count": 7,
   "metadata": {},
   "outputs": [
    {
     "name": "stdout",
     "output_type": "stream",
     "text": [
      "type(mytuple)    : <class 'tuple'>\n",
      "len(mytuple)     : 3\n",
      "(1, 2, 3)\n"
     ]
    }
   ],
   "source": [
    "mytuple = 1, 2, 3\n",
    "print(\"type(mytuple)    :\", type(mytuple))\n",
    "print(\"len(mytuple)     :\", len(mytuple))\n",
    "print(mytuple)"
   ]
  },
  {
   "cell_type": "code",
   "execution_count": 8,
   "metadata": {},
   "outputs": [
    {
     "name": "stdout",
     "output_type": "stream",
     "text": [
      "type(mytuple)    : <class 'tuple'>\n",
      "len(mytuple)     : 1\n",
      "(1,)\n"
     ]
    }
   ],
   "source": [
    "mytuple = (1,)\n",
    "print(\"type(mytuple)    :\", type(mytuple))\n",
    "print(\"len(mytuple)     :\", len(mytuple))\n",
    "print(mytuple)"
   ]
  },
  {
   "cell_type": "code",
   "execution_count": 9,
   "metadata": {},
   "outputs": [
    {
     "name": "stdout",
     "output_type": "stream",
     "text": [
      "type(mytuple)    : <class 'tuple'>\n",
      "len(mytuple)     : 1\n",
      "(1,)\n"
     ]
    }
   ],
   "source": [
    "mytuple = ((1,))\n",
    "print(\"type(mytuple)    :\", type(mytuple))\n",
    "print(\"len(mytuple)     :\", len(mytuple))\n",
    "print(mytuple)"
   ]
  },
  {
   "cell_type": "code",
   "execution_count": 10,
   "metadata": {},
   "outputs": [
    {
     "name": "stdout",
     "output_type": "stream",
     "text": [
      "type(mytuple)    : <class 'tuple'>\n",
      "len(mytuple)     : 1\n",
      "((1,),)\n"
     ]
    }
   ],
   "source": [
    "mytuple = ((1,),)\n",
    "print(\"type(mytuple)    :\", type(mytuple))\n",
    "print(\"len(mytuple)     :\", len(mytuple))\n",
    "print(mytuple)"
   ]
  },
  {
   "cell_type": "markdown",
   "metadata": {},
   "source": [
    "###  Tuple attributes"
   ]
  },
  {
   "cell_type": "code",
   "execution_count": 11,
   "metadata": {},
   "outputs": [
    {
     "name": "stdout",
     "output_type": "stream",
     "text": [
      "['__add__', '__class__', '__class_getitem__', '__contains__', '__delattr__', '__dir__', '__doc__', '__eq__', '__format__', '__ge__', '__getattribute__', '__getitem__', '__getnewargs__', '__getstate__', '__gt__', '__hash__', '__init__', '__init_subclass__', '__iter__', '__le__', '__len__', '__lt__', '__mul__', '__ne__', '__new__', '__reduce__', '__reduce_ex__', '__repr__', '__rmul__', '__setattr__', '__sizeof__', '__str__', '__subclasshook__', 'count', 'index']\n"
     ]
    }
   ],
   "source": [
    "mytuple = (12, 5, 6, 8, (5,))\n",
    "print(dir(mytuple))"
   ]
  },
  {
   "cell_type": "code",
   "execution_count": 13,
   "metadata": {},
   "outputs": [
    {
     "name": "stdout",
     "output_type": "stream",
     "text": [
      "count, index, "
     ]
    }
   ],
   "source": [
    "for attrib in dir(mytuple):\n",
    "    if not attrib.startswith('__'):\n",
    "        print(attrib, end = ', ')"
   ]
  },
  {
   "cell_type": "code",
   "execution_count": 14,
   "metadata": {},
   "outputs": [
    {
     "name": "stdout",
     "output_type": "stream",
     "text": [
      "len(mytuple)           = 5\n",
      "mytuple.__len__()      = 5\n"
     ]
    }
   ],
   "source": [
    "print(\"len(mytuple)           =\", len(mytuple))\n",
    "print(\"mytuple.__len__()      =\", mytuple.__len__())\n",
    "assert len(mytuple) == mytuple.__len__()"
   ]
  },
  {
   "cell_type": "code",
   "execution_count": 15,
   "metadata": {},
   "outputs": [
    {
     "name": "stdout",
     "output_type": "stream",
     "text": [
      "str(mytuple)           = (12, 5, 6, 8, (5,))\n",
      "type(str(mytuple))     = <class 'str'>\n",
      "mytuple.__str__()      = (12, 5, 6, 8, (5,))\n",
      "type(mytuple.__str__())= <class 'str'>\n"
     ]
    }
   ],
   "source": [
    "print(\"str(mytuple)           =\", str(mytuple))\n",
    "print(\"type(str(mytuple))     =\", type(str(mytuple)))\n",
    "print(\"mytuple.__str__()      =\", mytuple.__str__())\n",
    "print(\"type(mytuple.__str__())=\", type(mytuple.__str__()))\n",
    "assert str(mytuple) == mytuple.__str__()"
   ]
  },
  {
   "cell_type": "code",
   "execution_count": 16,
   "metadata": {},
   "outputs": [
    {
     "name": "stdout",
     "output_type": "stream",
     "text": [
      "\n",
      "mytuple * 3            = (12, 5, 6, 8, (5,), 12, 5, 6, 8, (5,), 12, 5, 6, 8, (5,))\n",
      "mytuple                = (12, 5, 6, 8, (5,))\n",
      "mytuple.__mul__(3)     = (12, 5, 6, 8, (5,), 12, 5, 6, 8, (5,), 12, 5, 6, 8, (5,))\n",
      "mytuple                = (12, 5, 6, 8, (5,))\n"
     ]
    }
   ],
   "source": [
    "# Tuple repetition operation - original object not modified\n",
    "print()\n",
    "print(\"mytuple * 3            =\", mytuple * 3)\n",
    "print(\"mytuple                =\", mytuple)\n",
    "print(\"mytuple.__mul__(3)     =\", mytuple.__mul__(3))\n",
    "print(\"mytuple                =\", mytuple)"
   ]
  },
  {
   "cell_type": "code",
   "execution_count": 17,
   "metadata": {},
   "outputs": [
    {
     "name": "stdout",
     "output_type": "stream",
     "text": [
      "mytuple                = (12, 5, 6, 8, (5,))\n",
      "mytuple.count(5)       = 1\n"
     ]
    }
   ],
   "source": [
    "print(\"mytuple                =\", mytuple)\n",
    "print(\"mytuple.count(5)       =\", mytuple.count(5))"
   ]
  },
  {
   "cell_type": "code",
   "execution_count": 18,
   "metadata": {},
   "outputs": [
    {
     "name": "stdout",
     "output_type": "stream",
     "text": [
      "mytuple                = (12, 5, 6, 8, 5)\n",
      "mytuple.count(5)       = 2\n"
     ]
    }
   ],
   "source": [
    "mytuple = (12, 5, 6, 8, (5))\n",
    "#          0   1  2  3   4\n",
    "print(\"mytuple                =\", mytuple)\n",
    "print(\"mytuple.count(5)       =\", mytuple.count(5))"
   ]
  },
  {
   "cell_type": "code",
   "execution_count": 19,
   "metadata": {},
   "outputs": [
    {
     "name": "stdout",
     "output_type": "stream",
     "text": [
      "mytuple.index(8)       = 3\n",
      "mytuple.index(5)       = 1\n"
     ]
    }
   ],
   "source": [
    "print(\"mytuple.index(8)       =\", mytuple.index(8))\n",
    "print(\"mytuple.index(5)       =\", mytuple.index(5))"
   ]
  },
  {
   "cell_type": "code",
   "execution_count": 20,
   "metadata": {},
   "outputs": [
    {
     "name": "stdout",
     "output_type": "stream",
     "text": [
      "tuple.index(x): x not in tuple\n"
     ]
    }
   ],
   "source": [
    "try:\n",
    "    print(\"mytuple.index(55)      =\", mytuple.index(55))\n",
    "except ValueError as ex:\n",
    "    print(ex)"
   ]
  },
  {
   "cell_type": "code",
   "execution_count": 21,
   "metadata": {},
   "outputs": [
    {
     "name": "stdout",
     "output_type": "stream",
     "text": [
      "result   : (9, 99, 99)\n"
     ]
    }
   ],
   "source": [
    "# Tuple concatenation\n",
    "\n",
    "\n",
    "# Python is strictly type language\n",
    "#   - operation is possible with same/similar types only\n",
    "result = (9, 99) + (99,)\n",
    "print(\"result   :\", result)"
   ]
  },
  {
   "cell_type": "code",
   "execution_count": 22,
   "metadata": {},
   "outputs": [
    {
     "name": "stdout",
     "output_type": "stream",
     "text": [
      "result   : ((9, 99, 99),)\n"
     ]
    }
   ],
   "source": [
    "result = ((9, 99) + (99,),)\n",
    "print(\"result   :\", result)"
   ]
  },
  {
   "cell_type": "code",
   "execution_count": 23,
   "metadata": {},
   "outputs": [
    {
     "ename": "SyntaxError",
     "evalue": "invalid syntax (3965477775.py, line 1)",
     "output_type": "error",
     "traceback": [
      "\u001b[0;36m  Cell \u001b[0;32mIn[23], line 1\u001b[0;36m\u001b[0m\n\u001b[0;31m    result = (9, 99) + (99,),,\u001b[0m\n\u001b[0m                             ^\u001b[0m\n\u001b[0;31mSyntaxError\u001b[0m\u001b[0;31m:\u001b[0m invalid syntax\n"
     ]
    }
   ],
   "source": [
    "result = (9, 99) + (99,),,"
   ]
  },
  {
   "cell_type": "code",
   "execution_count": 24,
   "metadata": {},
   "outputs": [
    {
     "name": "stdout",
     "output_type": "stream",
     "text": [
      "result   : ((9, 99, (99,)),)\n"
     ]
    }
   ],
   "source": [
    "result = ((9, 99) + ((99,),),)\n",
    "print(\"result   :\", result)"
   ]
  },
  {
   "cell_type": "code",
   "execution_count": 25,
   "metadata": {},
   "outputs": [
    {
     "name": "stdout",
     "output_type": "stream",
     "text": [
      "result   : (9, 99, 11, 1)\n"
     ]
    }
   ],
   "source": [
    "result = (9, 99) + (11, 1)\n",
    "print(\"result   :\", result)"
   ]
  },
  {
   "cell_type": "code",
   "execution_count": 26,
   "metadata": {},
   "outputs": [
    {
     "ename": "TypeError",
     "evalue": "can only concatenate tuple (not \"list\") to tuple",
     "output_type": "error",
     "traceback": [
      "\u001b[0;31m---------------------------------------------------------------------------\u001b[0m",
      "\u001b[0;31mTypeError\u001b[0m                                 Traceback (most recent call last)",
      "Cell \u001b[0;32mIn[26], line 1\u001b[0m\n\u001b[0;32m----> 1\u001b[0m result \u001b[38;5;241m=\u001b[39m \u001b[43m(\u001b[49m\u001b[38;5;241;43m9\u001b[39;49m\u001b[43m,\u001b[49m\u001b[43m \u001b[49m\u001b[38;5;241;43m99\u001b[39;49m\u001b[43m)\u001b[49m\u001b[43m \u001b[49m\u001b[38;5;241;43m+\u001b[39;49m\u001b[43m \u001b[49m\u001b[43m[\u001b[49m\u001b[38;5;241;43m11\u001b[39;49m\u001b[43m,\u001b[49m\u001b[43m \u001b[49m\u001b[38;5;241;43m1\u001b[39;49m\u001b[43m]\u001b[49m\n",
      "\u001b[0;31mTypeError\u001b[0m: can only concatenate tuple (not \"list\") to tuple"
     ]
    }
   ],
   "source": [
    "result = (9, 99) + [11, 1]"
   ]
  },
  {
   "cell_type": "code",
   "execution_count": 27,
   "metadata": {},
   "outputs": [
    {
     "name": "stdout",
     "output_type": "stream",
     "text": [
      "result   : (9, 99, 11, 1)\n",
      "result   : [9, 99, 11, 1]\n"
     ]
    }
   ],
   "source": [
    "result = (9, 99) + tuple([11, 1])\n",
    "print(\"result   :\", result)\n",
    "\n",
    "\n",
    "result = list((9, 99)) + [11, 1]\n",
    "print(\"result   :\", result)\n"
   ]
  },
  {
   "cell_type": "code",
   "execution_count": 28,
   "metadata": {},
   "outputs": [
    {
     "name": "stdout",
     "output_type": "stream",
     "text": [
      "list('Python')  =['P', 'y', 't', 'h', 'o', 'n']\n",
      "tuple('Python') =('P', 'y', 't', 'h', 'o', 'n')\n"
     ]
    }
   ],
   "source": [
    "# working on strings\n",
    "print(f\"{list('Python')  =}\")\n",
    "print(f\"{tuple('Python') =}\")"
   ]
  },
  {
   "cell_type": "code",
   "execution_count": 29,
   "metadata": {},
   "outputs": [
    {
     "name": "stdout",
     "output_type": "stream",
     "text": [
      "(1,) * 3      =(1, 1, 1)\n",
      "(1, 2) * 3    =(1, 2, 1, 2, 1, 2)\n",
      "(1, (2,)) * 3 =(1, (2,), 1, (2,), 1, (2,))\n"
     ]
    }
   ],
   "source": [
    "# Tuple repetition\n",
    "print(f\"{(1,) * 3      =}\")\n",
    "print(f\"{(1, 2) * 3    =}\")\n",
    "print(f\"{(1, (2,)) * 3 =}\")"
   ]
  },
  {
   "cell_type": "code",
   "execution_count": 30,
   "metadata": {},
   "outputs": [],
   "source": [
    "# Assignment\n",
    "# 1. Prove that tuple concatenation is not commutative: t1 + t2 != t2 + t1\n",
    "# 2. Prove that tuple repetition is commutative       : t1 * 3 == 3 * t1"
   ]
  },
  {
   "cell_type": "markdown",
   "metadata": {},
   "source": [
    "## Tuples are immutable"
   ]
  },
  {
   "cell_type": "code",
   "execution_count": 31,
   "metadata": {},
   "outputs": [
    {
     "name": "stdout",
     "output_type": "stream",
     "text": [
      "mytuple (1, 2, 3) 130668625464384\n"
     ]
    }
   ],
   "source": [
    "mytuple = (1, 2, 3)\n",
    "print(\"mytuple\", mytuple, id(mytuple))"
   ]
  },
  {
   "cell_type": "code",
   "execution_count": 32,
   "metadata": {},
   "outputs": [
    {
     "name": "stdout",
     "output_type": "stream",
     "text": [
      "mytuple[2] =3\n"
     ]
    }
   ],
   "source": [
    "#  Indexing\n",
    "print(f\"{mytuple[2] =}\")"
   ]
  },
  {
   "cell_type": "code",
   "execution_count": 33,
   "metadata": {},
   "outputs": [
    {
     "name": "stdout",
     "output_type": "stream",
     "text": [
      "'tuple' object does not support item assignment\n",
      "tuple objects are not editable\n"
     ]
    }
   ],
   "source": [
    "# updating an element in tuple\n",
    "try:\n",
    "    mytuple[2] = \"2.2222\"\n",
    "except TypeError as ex:\n",
    "    print(ex)\n",
    "    print(\"tuple objects are not editable\")"
   ]
  },
  {
   "cell_type": "code",
   "execution_count": 34,
   "metadata": {},
   "outputs": [
    {
     "name": "stdout",
     "output_type": "stream",
     "text": [
      "\n",
      "overwriting (re-assigning)\n",
      "mytuple (1, '2.2222', 3) 130668625634688\n"
     ]
    }
   ],
   "source": [
    "# Overwriting\n",
    "print(\"\\noverwriting (re-assigning)\")\n",
    "mytuple = (1, \"2.2222\", 3)\n",
    "print(\"mytuple\", mytuple, id(mytuple))"
   ]
  },
  {
   "cell_type": "markdown",
   "metadata": {},
   "source": [
    "### Unpacking\n",
    "\n",
    "    - works when same no. of variables and values\n",
    "      are present on both sides"
   ]
  },
  {
   "cell_type": "code",
   "execution_count": 35,
   "metadata": {},
   "outputs": [
    {
     "name": "stdout",
     "output_type": "stream",
     "text": [
      "num1 = 12  num2 = 34\n"
     ]
    }
   ],
   "source": [
    "num1 = 12\n",
    "num2 = 34\n",
    "print(f\"num1 = {num1}  num2 = {num2}\")"
   ]
  },
  {
   "cell_type": "code",
   "execution_count": 36,
   "metadata": {},
   "outputs": [
    {
     "name": "stdout",
     "output_type": "stream",
     "text": [
      "num1 = 12  num2 = 34\n"
     ]
    }
   ],
   "source": [
    "# unpacking\n",
    "num1, num2 = 12, 34\n",
    "print(f\"num1 = {num1}  num2 = {num2}\")"
   ]
  },
  {
   "cell_type": "code",
   "execution_count": 37,
   "metadata": {},
   "outputs": [
    {
     "name": "stdout",
     "output_type": "stream",
     "text": [
      "p1 = 99  p2 = 88 p3 = 66 p4 = 77 p5 = 44\n"
     ]
    }
   ],
   "source": [
    "p1, p2, p3, p4, p5 = 99, 88, 66, 77, 44\n",
    "print(f\"p1 = {p1}  p2 = {p2} p3 = {p3} p4 = {p4} p5 = {p5}\")"
   ]
  },
  {
   "cell_type": "code",
   "execution_count": 38,
   "metadata": {},
   "outputs": [
    {
     "name": "stdout",
     "output_type": "stream",
     "text": [
      "too many values to unpack (expected 4)\n"
     ]
    }
   ],
   "source": [
    "try:\n",
    "    p1, p2, p3, p4 = 99, 88, 66, 77, 44\n",
    "except ValueError as ex:\n",
    "    print(ex)"
   ]
  },
  {
   "cell_type": "code",
   "execution_count": 39,
   "metadata": {},
   "outputs": [
    {
     "name": "stdout",
     "output_type": "stream",
     "text": [
      "not enough values to unpack (expected 6, got 5)\n"
     ]
    }
   ],
   "source": [
    "try:\n",
    "    p1, p2, p3, p4, p5, p6 = 99, 88, 66, 77, 44\n",
    "except ValueError as ex:\n",
    "    print(ex)"
   ]
  },
  {
   "cell_type": "code",
   "execution_count": 40,
   "metadata": {},
   "outputs": [
    {
     "name": "stdout",
     "output_type": "stream",
     "text": [
      "p=(99, 88, 66, 77, 44) type(p)=<class 'tuple'>\n"
     ]
    }
   ],
   "source": [
    "p = 99, 88, 66, 77, 44\n",
    "print(f\"p={p} type(p)={type(p)}\")"
   ]
  },
  {
   "cell_type": "code",
   "execution_count": 41,
   "metadata": {},
   "outputs": [
    {
     "ename": "ValueError",
     "evalue": "too many values to unpack (expected 2)",
     "output_type": "error",
     "traceback": [
      "\u001b[0;31m---------------------------------------------------------------------------\u001b[0m",
      "\u001b[0;31mValueError\u001b[0m                                Traceback (most recent call last)",
      "Cell \u001b[0;32mIn[41], line 1\u001b[0m\n\u001b[0;32m----> 1\u001b[0m n1, n2 \u001b[38;5;241m=\u001b[39m \u001b[38;5;241m1\u001b[39m, \u001b[38;5;241m2\u001b[39m, \u001b[38;5;241m3\u001b[39m, \u001b[38;5;241m4\u001b[39m, \u001b[38;5;241m5\u001b[39m\n",
      "\u001b[0;31mValueError\u001b[0m: too many values to unpack (expected 2)"
     ]
    }
   ],
   "source": [
    "n1, n2 = 1, 2, 3, 4, 5"
   ]
  },
  {
   "cell_type": "code",
   "execution_count": 42,
   "metadata": {},
   "outputs": [
    {
     "name": "stdout",
     "output_type": "stream",
     "text": [
      "n1=1 \n",
      "n2=[2, 3, 4, 5]\n"
     ]
    }
   ],
   "source": [
    "n1, *n2 = 1, 2, 3, 4, 5\n",
    "print(f\"n1={n1} \\nn2={n2}\")"
   ]
  },
  {
   "cell_type": "code",
   "execution_count": 43,
   "metadata": {},
   "outputs": [
    {
     "name": "stdout",
     "output_type": "stream",
     "text": [
      "n1=1 \n",
      "n2=[2, 3, 4] \n",
      "n3=5\n"
     ]
    }
   ],
   "source": [
    "n1, *n2, n3 = 1, 2, 3, 4, 5\n",
    "print(f\"n1={n1} \\nn2={n2} \\nn3={n3}\")  # n2 is of type list"
   ]
  },
  {
   "cell_type": "code",
   "execution_count": 44,
   "metadata": {},
   "outputs": [
    {
     "name": "stdout",
     "output_type": "stream",
     "text": [
      "n1=1 \n",
      "n2=2 \n",
      "n3=[3, 4, 5]\n"
     ]
    }
   ],
   "source": [
    "n1, n2, *n3 = 1, 2, 3, 4, 5\n",
    "print(f\"n1={n1} \\nn2={n2} \\nn3={n3}\") "
   ]
  },
  {
   "cell_type": "code",
   "execution_count": null,
   "metadata": {},
   "outputs": [],
   "source": []
  }
 ],
 "metadata": {
  "kernelspec": {
   "display_name": "Python 3",
   "language": "python",
   "name": "python3"
  },
  "language_info": {
   "codemirror_mode": {
    "name": "ipython",
    "version": 3
   },
   "file_extension": ".py",
   "mimetype": "text/x-python",
   "name": "python",
   "nbconvert_exporter": "python",
   "pygments_lexer": "ipython3",
   "version": "3.12.1"
  }
 },
 "nbformat": 4,
 "nbformat_minor": 2
}
