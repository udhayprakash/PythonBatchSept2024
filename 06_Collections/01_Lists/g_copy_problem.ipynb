{
 "cells": [
  {
   "cell_type": "markdown",
   "metadata": {},
   "source": [
    "## COPy Problem\n",
    "\n",
    "\n",
    "    assignment vs Shallow copy vs deep copy\n",
    "\n",
    "Detailed Explanation: https://www.youtube.com/watch?v=yjYIyydmrc0"
   ]
  },
  {
   "cell_type": "code",
   "execution_count": 1,
   "metadata": {},
   "outputs": [
    {
     "name": "stdout",
     "output_type": "stream",
     "text": [
      "num1           123 <class 'int'> 95156447065832\n",
      "num2           123 <class 'int'> 95156447065832\n"
     ]
    }
   ],
   "source": [
    "# immutable object\n",
    "num1 = 123\n",
    "print(\"num1          \", num1, type(num1), id(num1))\n",
    "num2 = num1\n",
    "print(\"num2          \", num2, type(num2), id(num2))"
   ]
  },
  {
   "cell_type": "code",
   "execution_count": 2,
   "metadata": {},
   "outputs": [
    {
     "name": "stdout",
     "output_type": "stream",
     "text": [
      "num1           123 <class 'int'> 95156447065832\n",
      "num2           999 <class 'int'> 132355793891408\n"
     ]
    }
   ],
   "source": [
    "num2 = 999\n",
    "print(\"num1          \", num1, type(num1), id(num1))\n",
    "print(\"num2          \", num2, type(num2), id(num2))"
   ]
  },
  {
   "cell_type": "code",
   "execution_count": 3,
   "metadata": {},
   "outputs": [],
   "source": [
    "# Mutable objects - list, set, dict"
   ]
  },
  {
   "cell_type": "code",
   "execution_count": 5,
   "metadata": {},
   "outputs": [
    {
     "name": "stdout",
     "output_type": "stream",
     "text": [
      "132355792742272 par_list       = [11, 111, 1111]\n",
      "132355792742272 hard_copy_list = [11, 111, 1111]\n"
     ]
    }
   ],
   "source": [
    "# Mutable object\n",
    "par_list = [11, 111, 1111]\n",
    "#            0   1     2\n",
    "print(f\"{id(par_list)} {par_list       = }\")\n",
    "\n",
    "hard_copy_list = par_list                              # new object is not created; Both will refer to the same object\n",
    "print(f\"{id(hard_copy_list)} {hard_copy_list = }\")"
   ]
  },
  {
   "cell_type": "code",
   "execution_count": 6,
   "metadata": {},
   "outputs": [
    {
     "name": "stdout",
     "output_type": "stream",
     "text": [
      "par_list[2]    1111\n",
      "par_list[2]    3333\n"
     ]
    }
   ],
   "source": [
    "print(\"par_list[2]   \", par_list[2])\n",
    "\n",
    "par_list[2] = 3333                          # Substitution\n",
    "print(\"par_list[2]   \", par_list[2])\n"
   ]
  },
  {
   "cell_type": "code",
   "execution_count": 7,
   "metadata": {},
   "outputs": [
    {
     "name": "stdout",
     "output_type": "stream",
     "text": [
      "132355792742272 par_list       = [11, 111, 3333]\n",
      "132355792742272 hard_copy_list = [11, 111, 3333]\n"
     ]
    }
   ],
   "source": [
    "print(f\"{id(par_list)} {par_list       = }\")\n",
    "# leakage problem\n",
    "print(f\"{id(hard_copy_list)} {hard_copy_list = }\")"
   ]
  },
  {
   "cell_type": "code",
   "execution_count": 8,
   "metadata": {},
   "outputs": [
    {
     "name": "stdout",
     "output_type": "stream",
     "text": [
      "132355792875392 soft_copy_list = [11, 111, 3333]\n",
      "hard_copy_list[2] 3333\n",
      "\n",
      "132355792742272 par_list       = [11, 111, 'FOUR']\n",
      "132355792742272 hard_copy_list = [11, 111, 'FOUR']\n",
      "132355792875392 soft_copy_list = [11, 111, 3333]\n"
     ]
    }
   ],
   "source": [
    "import copy\n",
    "\n",
    "# shallow copy\n",
    "soft_copy_list = copy.copy(par_list)\n",
    "print(f\"{id(soft_copy_list)} {soft_copy_list = }\")\n",
    "\n",
    "print(\"hard_copy_list[2]\", hard_copy_list[2])\n",
    "\n",
    "hard_copy_list[2] = \"FOUR\"\n",
    "\n",
    "print()\n",
    "print(f\"{id(par_list)} {par_list       = }\")\n",
    "print(f\"{id(hard_copy_list)} {hard_copy_list = }\")\n",
    "print(f\"{id(soft_copy_list)} {soft_copy_list = }\")\n"
   ]
  },
  {
   "cell_type": "code",
   "execution_count": 9,
   "metadata": {},
   "outputs": [
    {
     "name": "stdout",
     "output_type": "stream",
     "text": [
      "soft_copy_list[0] 11\n",
      "\n",
      "132355792742272 par_list       = [11, 111, 'FOUR']\n",
      "132355792742272 hard_copy_list = [11, 111, 'FOUR']\n",
      "132355792875392 soft_copy_list = ['ZERO', 111, 3333]\n"
     ]
    }
   ],
   "source": [
    "print(\"soft_copy_list[0]\", soft_copy_list[0])\n",
    "\n",
    "soft_copy_list[0] = \"ZERO\"\n",
    "print()\n",
    "print(f\"{id(par_list)} {par_list       = }\")\n",
    "print(f\"{id(hard_copy_list)} {hard_copy_list = }\")\n",
    "print(f\"{id(soft_copy_list)} {soft_copy_list = }\")\n"
   ]
  },
  {
   "cell_type": "code",
   "execution_count": 10,
   "metadata": {},
   "outputs": [
    {
     "name": "stdout",
     "output_type": "stream",
     "text": [
      "132355792658368 new_list           = [90, 89, [78, 89, [4, 441, 6]]]\n",
      "132355792662016 new_softcopy_list  = [90, 89, [78, 89, [4, 441, 6]]]\n",
      "132355792895936 new_deepcopy_list  = [90, 89, [78, 89, [4, 441, 6]]]\n"
     ]
    }
   ],
   "source": [
    "new_list = [90, 89, [78, 89, [4, 441, 6]]]\n",
    "new_softcopy_list = copy.copy(new_list)                    # soft copy or shallow copy\n",
    "new_deepcopy_list = copy.deepcopy(new_list)\n",
    "\n",
    "print(f\"{id(new_list)} {new_list           = }\")\n",
    "print(f\"{id(new_softcopy_list)} {new_softcopy_list  = }\")\n",
    "print(f\"{id(new_deepcopy_list)} {new_deepcopy_list  = }\")"
   ]
  },
  {
   "cell_type": "code",
   "execution_count": 11,
   "metadata": {},
   "outputs": [
    {
     "name": "stdout",
     "output_type": "stream",
     "text": [
      "new_list[2][2][1] 441\n"
     ]
    }
   ],
   "source": [
    "print(\"new_list[2][2][1]\", new_list[2][2][1])"
   ]
  },
  {
   "cell_type": "code",
   "execution_count": 12,
   "metadata": {},
   "outputs": [
    {
     "name": "stdout",
     "output_type": "stream",
     "text": [
      "\n",
      "132355792658368 new_list           = [90, 89, [78, 89, [4, 'FFO', 6]]]\n",
      "132355792662016 new_softcopy_list  = [90, 89, [78, 89, [4, 'FFO', 6]]]\n",
      "132355792895936 new_deepcopy_list  = [90, 89, [78, 89, [4, 441, 6]]]\n"
     ]
    }
   ],
   "source": [
    "new_list[2][2][1] = \"FFO\"\n",
    "print()\n",
    "print(f\"{id(new_list)} {new_list           = }\")\n",
    "print(f\"{id(new_softcopy_list)} {new_softcopy_list  = }\")\n",
    "print(f\"{id(new_deepcopy_list)} {new_deepcopy_list  = }\")"
   ]
  },
  {
   "cell_type": "code",
   "execution_count": 13,
   "metadata": {},
   "outputs": [],
   "source": [
    "# NOTE:\n",
    "# 1. soft(shallow) copy is fast, but cant work more than one dimension\n",
    "# 2. deep copy is slow, but can work with objects of any number of dimensions"
   ]
  },
  {
   "cell_type": "code",
   "execution_count": 14,
   "metadata": {},
   "outputs": [],
   "source": [
    "## Another example"
   ]
  },
  {
   "cell_type": "code",
   "execution_count": 15,
   "metadata": {},
   "outputs": [],
   "source": [
    "l1 = [12, 34]"
   ]
  },
  {
   "cell_type": "code",
   "execution_count": 16,
   "metadata": {},
   "outputs": [],
   "source": [
    "l2 = l1[::]  # soft(shallow) copy"
   ]
  },
  {
   "cell_type": "code",
   "execution_count": 17,
   "metadata": {},
   "outputs": [
    {
     "data": {
      "text/plain": [
       "(132355792657600, 132355792679040)"
      ]
     },
     "execution_count": 17,
     "metadata": {},
     "output_type": "execute_result"
    }
   ],
   "source": [
    "id(l1), id(l2)"
   ]
  },
  {
   "cell_type": "code",
   "execution_count": 18,
   "metadata": {},
   "outputs": [],
   "source": [
    "l3 = [12, 34, [44, [55]]]\n",
    "\n",
    "l4 = l3[::]"
   ]
  },
  {
   "cell_type": "code",
   "execution_count": 19,
   "metadata": {},
   "outputs": [
    {
     "data": {
      "text/plain": [
       "(132355792888640, 132355792892096)"
      ]
     },
     "execution_count": 19,
     "metadata": {},
     "output_type": "execute_result"
    }
   ],
   "source": [
    "id(l3), id(l4)"
   ]
  },
  {
   "cell_type": "code",
   "execution_count": 20,
   "metadata": {},
   "outputs": [],
   "source": [
    "l3[2][1][0] = 'five'"
   ]
  },
  {
   "cell_type": "code",
   "execution_count": 21,
   "metadata": {},
   "outputs": [
    {
     "data": {
      "text/plain": [
       "[12, 34, [44, ['five']]]"
      ]
     },
     "execution_count": 21,
     "metadata": {},
     "output_type": "execute_result"
    }
   ],
   "source": [
    "l3"
   ]
  },
  {
   "cell_type": "code",
   "execution_count": 22,
   "metadata": {},
   "outputs": [
    {
     "data": {
      "text/plain": [
       "[12, 34, [44, ['five']]]"
      ]
     },
     "execution_count": 22,
     "metadata": {},
     "output_type": "execute_result"
    }
   ],
   "source": [
    "l4"
   ]
  },
  {
   "cell_type": "markdown",
   "metadata": {},
   "source": [
    "```\n",
    "\n",
    "            Assignment\n",
    "            ----------\n",
    "            1) implement the stack mechanism - LIFO\n",
    "            Take the values in run time\n",
    "            1. push   - add an element\n",
    "            2. pop    - delete last element\n",
    "            3. status - stack size\n",
    "\n",
    "            -       -\n",
    "            |       |\n",
    "            |       |\n",
    "            ---------\n",
    "            HINT: list.pop(), list.append(), len()\n",
    "\n",
    "            2) implement the queue mechanism - FIFO\n",
    "            Take the values in run time\n",
    "            1. push   - add an element\n",
    "            2. pop    - delete last element\n",
    "            3. status - queue size\n",
    "                --------\n",
    "            ->         ->\n",
    "                --------\n",
    "            HINT: list.insert(), list.pop(), len()\n",
    "\n",
    "```"
   ]
  },
  {
   "cell_type": "markdown",
   "metadata": {},
   "source": []
  }
 ],
 "metadata": {
  "kernelspec": {
   "display_name": "Python 3",
   "language": "python",
   "name": "python3"
  },
  "language_info": {
   "codemirror_mode": {
    "name": "ipython",
    "version": 3
   },
   "file_extension": ".py",
   "mimetype": "text/x-python",
   "name": "python",
   "nbconvert_exporter": "python",
   "pygments_lexer": "ipython3",
   "version": "3.12.1"
  }
 },
 "nbformat": 4,
 "nbformat_minor": 2
}
