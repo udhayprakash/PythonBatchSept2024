{
 "cells": [
  {
   "cell_type": "markdown",
   "metadata": {},
   "source": [
    "# Sets\n",
    "\n",
    "    Properties of sets\n",
    "        - creating using {} or set()\n",
    "        - can't store duplicates\n",
    "        - sets are unordered\n",
    "        - can't be indexed\n",
    "        - Empty sets need to be represented using set()\n",
    "        - stores only immutable object - basic types, tuple, string\n",
    "        - sets are mutable objects"
   ]
  },
  {
   "cell_type": "code",
   "execution_count": 1,
   "metadata": {},
   "outputs": [
    {
     "name": "stdout",
     "output_type": "stream",
     "text": [
      "type(running_ports) <class 'list'>\n",
      "len(running_ports)  6\n",
      "running_ports       [11, 22, 11, 44, 22, 11]\n"
     ]
    }
   ],
   "source": [
    "running_ports = [11, 22, 11, 44, 22, 11]\n",
    "print(\"type(running_ports)\", type(running_ports))\n",
    "print(\"len(running_ports) \", len(running_ports))\n",
    "print(\"running_ports      \", running_ports)"
   ]
  },
  {
   "cell_type": "code",
   "execution_count": 2,
   "metadata": {},
   "outputs": [
    {
     "name": "stdout",
     "output_type": "stream",
     "text": [
      "unique_ports      =[11, 22, 44]\n",
      "len(unique_ports) =3\n"
     ]
    }
   ],
   "source": [
    "# Method 1 - To remove duplicates in a list/tuple of elements\n",
    "unique_ports = []\n",
    "for each_port in running_ports:\n",
    "    if each_port in unique_ports:\n",
    "        continue \n",
    "    unique_ports.append(each_port)\n",
    "\n",
    "print(f'{unique_ports      =}')\n",
    "print(f'{len(unique_ports) =}')"
   ]
  },
  {
   "cell_type": "code",
   "execution_count": 3,
   "metadata": {},
   "outputs": [
    {
     "name": "stdout",
     "output_type": "stream",
     "text": [
      "unique_ports2      ={11, 44, 22}\n",
      "len(unique_ports2) =3\n"
     ]
    }
   ],
   "source": [
    "# Method 2 - using sets to remove duplicates (order is not gauranteed)\n",
    "unique_ports2 = {11, 22, 11, 44, 22, 11}\n",
    "\n",
    "print(f'{unique_ports2      =}')\n",
    "print(f'{len(unique_ports2) =}')"
   ]
  },
  {
   "cell_type": "code",
   "execution_count": 5,
   "metadata": {},
   "outputs": [
    {
     "name": "stdout",
     "output_type": "stream",
     "text": [
      "<class 'list'> []\n",
      "<class 'tuple'> ()\n",
      "<class 'set'> set()\n",
      "<class 'dict'> {}\n"
     ]
    }
   ],
   "source": [
    "empty_list = []   # list()\n",
    "print(f\"{type(empty_list)} {empty_list}\")\n",
    "\n",
    "empty_tuple = ()  # tuple()\n",
    "print(f\"{type(empty_tuple)} {empty_tuple}\")\n",
    "\n",
    "empty_set = set()\n",
    "print(f\"{type(empty_set)} {empty_set}\")\n",
    "\n",
    "empty_dict = {}  # dict()\n",
    "print(f\"{type(empty_dict)} {empty_dict}\")"
   ]
  },
  {
   "cell_type": "code",
   "execution_count": 6,
   "metadata": {},
   "outputs": [
    {
     "name": "stdout",
     "output_type": "stream",
     "text": [
      "\n",
      "Sets with single element \n",
      "<class 'set'> myset1 ={223}\n"
     ]
    }
   ],
   "source": [
    "print(\"\\nSets with single element \")\n",
    "\n",
    "myset1 = {223}\n",
    "print(f\"{type(myset1)} {myset1 =}\")"
   ]
  },
  {
   "cell_type": "code",
   "execution_count": 7,
   "metadata": {},
   "outputs": [
    {
     "name": "stdout",
     "output_type": "stream",
     "text": [
      "s1 ={1, 2, 3} - <class 'set'>\n",
      "s2 ={1, 2, 3} - <class 'set'>\n"
     ]
    }
   ],
   "source": [
    "# Defining sets with some values\n",
    "s1 = {1, 2, 3}\n",
    "s2 = set([1, 2, 3])\n",
    "\n",
    "print(f\"{s1 =} - {type(s1)}\")\n",
    "print(f\"{s2 =} - {type(s2)}\")\n",
    "assert s1 == s2"
   ]
  },
  {
   "cell_type": "code",
   "execution_count": 8,
   "metadata": {},
   "outputs": [
    {
     "name": "stdout",
     "output_type": "stream",
     "text": [
      "myset        : {33, 11, 44, 22}\n"
     ]
    }
   ],
   "source": [
    "# sets are unordered\n",
    "myset = {11, 22, 33, 44}\n",
    "print(\"myset        :\", myset)"
   ]
  },
  {
   "cell_type": "code",
   "execution_count": 9,
   "metadata": {},
   "outputs": [],
   "source": [
    "# sets cant be indexed\n",
    "# myset[2]  # TypeError: 'set' object is not subscriptable\n",
    "\n",
    "# sets cant be sliced too\n",
    "# myset[2:3] # TypeError: 'set' object is not subscriptable"
   ]
  },
  {
   "cell_type": "code",
   "execution_count": 11,
   "metadata": {},
   "outputs": [
    {
     "name": "stdout",
     "output_type": "stream",
     "text": [
      "['__and__', '__class__', '__class_getitem__', '__contains__', '__delattr__', '__dir__', '__doc__', '__eq__', '__format__', '__ge__', '__getattribute__', '__getstate__', '__gt__', '__hash__', '__iand__', '__init__', '__init_subclass__', '__ior__', '__isub__', '__iter__', '__ixor__', '__le__', '__len__', '__lt__', '__ne__', '__new__', '__or__', '__rand__', '__reduce__', '__reduce_ex__', '__repr__', '__ror__', '__rsub__', '__rxor__', '__setattr__', '__sizeof__', '__str__', '__sub__', '__subclasshook__', '__xor__', 'add', 'clear', 'copy', 'difference', 'difference_update', 'discard', 'intersection', 'intersection_update', 'isdisjoint', 'issubset', 'issuperset', 'pop', 'remove', 'symmetric_difference', 'symmetric_difference_update', 'union', 'update']\n"
     ]
    }
   ],
   "source": [
    "simple_set = {1, 2, 3}\n",
    "\n",
    "print(dir(simple_set))"
   ]
  },
  {
   "cell_type": "code",
   "execution_count": 12,
   "metadata": {},
   "outputs": [
    {
     "data": {
      "text/plain": [
       "['__and__',\n",
       " '__class__',\n",
       " '__class_getitem__',\n",
       " '__contains__',\n",
       " '__delattr__',\n",
       " '__dir__',\n",
       " '__doc__',\n",
       " '__eq__',\n",
       " '__format__',\n",
       " '__ge__',\n",
       " '__getattribute__',\n",
       " '__getstate__',\n",
       " '__gt__',\n",
       " '__hash__',\n",
       " '__iand__',\n",
       " '__init__',\n",
       " '__init_subclass__',\n",
       " '__ior__',\n",
       " '__isub__',\n",
       " '__iter__',\n",
       " '__ixor__',\n",
       " '__le__',\n",
       " '__len__',\n",
       " '__lt__',\n",
       " '__ne__',\n",
       " '__new__',\n",
       " '__or__',\n",
       " '__rand__',\n",
       " '__reduce__',\n",
       " '__reduce_ex__',\n",
       " '__repr__',\n",
       " '__ror__',\n",
       " '__rsub__',\n",
       " '__rxor__',\n",
       " '__setattr__',\n",
       " '__sizeof__',\n",
       " '__str__',\n",
       " '__sub__',\n",
       " '__subclasshook__',\n",
       " '__xor__',\n",
       " 'add',\n",
       " 'clear',\n",
       " 'copy',\n",
       " 'difference',\n",
       " 'difference_update',\n",
       " 'discard',\n",
       " 'intersection',\n",
       " 'intersection_update',\n",
       " 'isdisjoint',\n",
       " 'issubset',\n",
       " 'issuperset',\n",
       " 'pop',\n",
       " 'remove',\n",
       " 'symmetric_difference',\n",
       " 'symmetric_difference_update',\n",
       " 'union',\n",
       " 'update']"
      ]
     },
     "execution_count": 12,
     "metadata": {},
     "output_type": "execute_result"
    }
   ],
   "source": [
    "dir(simple_set)"
   ]
  },
  {
   "cell_type": "code",
   "execution_count": 13,
   "metadata": {},
   "outputs": [
    {
     "name": "stdout",
     "output_type": "stream",
     "text": [
      "6 in simple_set =False\n"
     ]
    }
   ],
   "source": [
    "assert simple_set.__contains__(2) == (2 in simple_set)\n",
    "assert simple_set.__contains__(6) == (6 in simple_set)\n",
    "\n",
    "print(f\"{6 in simple_set =}\")"
   ]
  },
  {
   "cell_type": "code",
   "execution_count": 14,
   "metadata": {},
   "outputs": [
    {
     "name": "stdout",
     "output_type": "stream",
     "text": [
      "\n",
      "simple_set.__sizeof__()   =200\n",
      "sys.getsizeof(simple_set) =216\n"
     ]
    }
   ],
   "source": [
    "import sys\n",
    "\n",
    "print(f\"\\n{simple_set.__sizeof__()   =}\")  # python object\n",
    "print(f\"{sys.getsizeof(simple_set) =}\")    # Along with c header"
   ]
  },
  {
   "cell_type": "code",
   "execution_count": 15,
   "metadata": {},
   "outputs": [
    {
     "name": "stdout",
     "output_type": "stream",
     "text": [
      "simple_set.__and__(1) =NotImplemented\n",
      "simple_set.__and__({1}) ={1}\n"
     ]
    }
   ],
   "source": [
    "print(f\"{simple_set.__and__(1) =}\")    # NotImplemented\n",
    "print(f\"{simple_set.__and__({1}) =}\")  # {1}"
   ]
  },
  {
   "cell_type": "code",
   "execution_count": 16,
   "metadata": {},
   "outputs": [
    {
     "name": "stdout",
     "output_type": "stream",
     "text": [
      "simple_set ={1, 2, 3}\n",
      "add\n",
      "clear\n",
      "copy\n",
      "difference\n",
      "difference_update\n",
      "discard\n",
      "intersection\n",
      "intersection_update\n",
      "isdisjoint\n",
      "issubset\n",
      "issuperset\n",
      "pop\n",
      "remove\n",
      "symmetric_difference\n",
      "symmetric_difference_update\n",
      "union\n",
      "update\n",
      "\n"
     ]
    }
   ],
   "source": [
    "# __add__ will not change the original set\n",
    "print(f\"{simple_set =}\")\n",
    "\n",
    "for each_attribute in dir(simple_set):\n",
    "    if not each_attribute.startswith(\"__\"):\n",
    "        print(each_attribute)\n",
    "print()"
   ]
  },
  {
   "cell_type": "code",
   "execution_count": 17,
   "metadata": {},
   "outputs": [
    {
     "name": "stdout",
     "output_type": "stream",
     "text": [
      "simple_set ={1, 2, 3}\n"
     ]
    }
   ],
   "source": [
    "# list.append/list.insert  <-> set.add\n",
    "#   :- takes both iterable & non-iterable items\n",
    "#   :- Can store only immutable objects\n",
    "print(f\"{simple_set =}\")"
   ]
  },
  {
   "cell_type": "code",
   "execution_count": 18,
   "metadata": {},
   "outputs": [
    {
     "name": "stdout",
     "output_type": "stream",
     "text": [
      "simple_set ={99, 1, 2, 3}\n"
     ]
    }
   ],
   "source": [
    "simple_set.add(99)\n",
    "print(f\"{simple_set =}\")"
   ]
  },
  {
   "cell_type": "code",
   "execution_count": 19,
   "metadata": {},
   "outputs": [
    {
     "name": "stdout",
     "output_type": "stream",
     "text": [
      "simple_set ={99, 1, 2, 3}\n"
     ]
    }
   ],
   "source": [
    "simple_set.add(99)\n",
    "print(f\"{simple_set =}\")\n"
   ]
  },
  {
   "cell_type": "code",
   "execution_count": 20,
   "metadata": {},
   "outputs": [
    {
     "name": "stdout",
     "output_type": "stream",
     "text": [
      "simple_set ={99, 1, 2, 3}\n"
     ]
    }
   ],
   "source": [
    "simple_set.add(99,)\n",
    "print(f\"{simple_set =}\")"
   ]
  },
  {
   "cell_type": "code",
   "execution_count": 21,
   "metadata": {},
   "outputs": [
    {
     "ename": "TypeError",
     "evalue": "set.add() takes exactly one argument (2 given)",
     "output_type": "error",
     "traceback": [
      "\u001b[0;31m---------------------------------------------------------------------------\u001b[0m",
      "\u001b[0;31mTypeError\u001b[0m                                 Traceback (most recent call last)",
      "Cell \u001b[0;32mIn[21], line 1\u001b[0m\n\u001b[0;32m----> 1\u001b[0m \u001b[43msimple_set\u001b[49m\u001b[38;5;241;43m.\u001b[39;49m\u001b[43madd\u001b[49m\u001b[43m(\u001b[49m\u001b[38;5;241;43m99\u001b[39;49m\u001b[43m,\u001b[49m\u001b[43m \u001b[49m\u001b[38;5;241;43m23\u001b[39;49m\u001b[43m)\u001b[49m\n\u001b[1;32m      2\u001b[0m \u001b[38;5;28mprint\u001b[39m(\u001b[38;5;124mf\u001b[39m\u001b[38;5;124m\"\u001b[39m\u001b[38;5;132;01m{\u001b[39;00msimple_set\u001b[38;5;250m \u001b[39m\u001b[38;5;132;01m=}\u001b[39;00m\u001b[38;5;124m\"\u001b[39m)\n",
      "\u001b[0;31mTypeError\u001b[0m: set.add() takes exactly one argument (2 given)"
     ]
    }
   ],
   "source": [
    "simple_set.add(99, 23)\n",
    "print(f\"{simple_set =}\")"
   ]
  },
  {
   "cell_type": "code",
   "execution_count": 22,
   "metadata": {},
   "outputs": [
    {
     "name": "stdout",
     "output_type": "stream",
     "text": [
      "simple_set ={1, 2, 99, 3, (99,)}\n"
     ]
    }
   ],
   "source": [
    "simple_set.add((99,))\n",
    "print(f\"{simple_set =}\")"
   ]
  },
  {
   "cell_type": "code",
   "execution_count": 23,
   "metadata": {},
   "outputs": [
    {
     "name": "stdout",
     "output_type": "stream",
     "text": [
      "mutable objects(list, set, dict) cant be stored in set\n"
     ]
    }
   ],
   "source": [
    "try:\n",
    "    simple_set.add([11, 22])\n",
    "except TypeError:\n",
    "    print(\"mutable objects(list, set, dict) cant be stored in set\")"
   ]
  },
  {
   "cell_type": "code",
   "execution_count": 24,
   "metadata": {},
   "outputs": [
    {
     "name": "stdout",
     "output_type": "stream",
     "text": [
      "mutable objects(list, set, dict) cant be stored in set\n"
     ]
    }
   ],
   "source": [
    "try:\n",
    "    simple_set.add({11, 22})\n",
    "except TypeError:\n",
    "    print(\"mutable objects(list, set, dict) cant be stored in set\")\n"
   ]
  },
  {
   "cell_type": "code",
   "execution_count": 26,
   "metadata": {},
   "outputs": [
    {
     "name": "stdout",
     "output_type": "stream",
     "text": [
      "simple_set ={1, 2, 99, 3, frozenset({11, 22}), (99,)}\n"
     ]
    }
   ],
   "source": [
    "simple_set.add(frozenset({11, 22}))\n",
    "\n",
    "print(f\"{simple_set =}\")"
   ]
  },
  {
   "cell_type": "code",
   "execution_count": 27,
   "metadata": {},
   "outputs": [
    {
     "name": "stdout",
     "output_type": "stream",
     "text": [
      "simple_set ={1, 2, 99, 3, 'Python', frozenset({11, 22}), (99,)}\n"
     ]
    }
   ],
   "source": [
    "simple_set.add(\"Python\")\n",
    "print(f\"{simple_set =}\")"
   ]
  },
  {
   "cell_type": "code",
   "execution_count": 28,
   "metadata": {},
   "outputs": [
    {
     "name": "stdout",
     "output_type": "stream",
     "text": [
      "\n"
     ]
    }
   ],
   "source": [
    "# list.extend  <-> set.update\n",
    "#   :- Only iterable objects are allowed\n",
    "#   :- will add to same dimension\n",
    "print()\n",
    "simple_set = {1, 2, 3}"
   ]
  },
  {
   "cell_type": "code",
   "execution_count": 29,
   "metadata": {},
   "outputs": [
    {
     "name": "stdout",
     "output_type": "stream",
     "text": [
      "Only iterable objects can be used with set.update\n"
     ]
    }
   ],
   "source": [
    "try:\n",
    "    simple_set.update(888)\n",
    "except TypeError:\n",
    "    print(\"Only iterable objects can be used with set.update\")\n"
   ]
  },
  {
   "cell_type": "code",
   "execution_count": 30,
   "metadata": {},
   "outputs": [
    {
     "name": "stdout",
     "output_type": "stream",
     "text": [
      "simple_set ={1, 2, 3, 8, 88}\n"
     ]
    }
   ],
   "source": [
    "simple_set.update((8, 88))\n",
    "print(f\"{simple_set =}\")"
   ]
  },
  {
   "cell_type": "code",
   "execution_count": 31,
   "metadata": {},
   "outputs": [
    {
     "name": "stdout",
     "output_type": "stream",
     "text": [
      "simple_set ={1, 2, 3, 7, 8, 88}\n"
     ]
    }
   ],
   "source": [
    "simple_set.update([8, 7])\n",
    "print(f\"{simple_set =}\")"
   ]
  },
  {
   "cell_type": "code",
   "execution_count": 32,
   "metadata": {},
   "outputs": [
    {
     "name": "stdout",
     "output_type": "stream",
     "text": [
      "simple_set ={1, 2, 3, 7, 8, (2, 3), 88, (9,)}\n"
     ]
    }
   ],
   "source": [
    "simple_set.update([8, 7, (2, 3), (9,)])\n",
    "print(f\"{simple_set =}\")"
   ]
  },
  {
   "cell_type": "code",
   "execution_count": 33,
   "metadata": {},
   "outputs": [
    {
     "name": "stdout",
     "output_type": "stream",
     "text": [
      "Inner element is a list\n",
      "simple_set ={1, 2, 3, 7, 8, (2, 3), 88, (9,)}\n"
     ]
    }
   ],
   "source": [
    "try:\n",
    "    simple_set.update([8, 7, [2, 3]])\n",
    "except TypeError:\n",
    "    print(\"Inner element is a list\")\n",
    "print(f\"{simple_set =}\")"
   ]
  },
  {
   "cell_type": "code",
   "execution_count": 34,
   "metadata": {},
   "outputs": [
    {
     "name": "stdout",
     "output_type": "stream",
     "text": [
      "Inner of inner dimension has a list\n"
     ]
    }
   ],
   "source": [
    "# Question\n",
    "try:\n",
    "    simple_set.update([9,  (8, 7,[9])])\n",
    "except TypeError:\n",
    "    print(\"Inner of inner dimension has a list\")\n"
   ]
  },
  {
   "cell_type": "code",
   "execution_count": 35,
   "metadata": {},
   "outputs": [],
   "source": [
    "# immutability and hashability"
   ]
  },
  {
   "cell_type": "code",
   "execution_count": 36,
   "metadata": {},
   "outputs": [],
   "source": [
    "# Q) How to remove elements from the set\n",
    "# Ans) set.pop, set.remove, set.discard"
   ]
  },
  {
   "cell_type": "code",
   "execution_count": 37,
   "metadata": {},
   "outputs": [
    {
     "data": {
      "text/plain": [
       "{(2, 3), (9,), 1, 2, 3, 7, 8, 88, 9}"
      ]
     },
     "execution_count": 37,
     "metadata": {},
     "output_type": "execute_result"
    }
   ],
   "source": [
    "simple_set"
   ]
  },
  {
   "cell_type": "code",
   "execution_count": 38,
   "metadata": {},
   "outputs": [
    {
     "name": "stdout",
     "output_type": "stream",
     "text": [
      "1\n",
      "After pop ->{2, 3, 7, 8, 9, (2, 3), 88, (9,)}\n"
     ]
    }
   ],
   "source": [
    "# set.pop() - remove a random value\n",
    "\n",
    "print(f\"{simple_set.pop()}\")\n",
    "print(f\"After pop ->{simple_set}\")"
   ]
  },
  {
   "cell_type": "code",
   "execution_count": 39,
   "metadata": {},
   "outputs": [
    {
     "name": "stdout",
     "output_type": "stream",
     "text": [
      "2\n",
      "After pop ->{3, 7, 8, 9, (2, 3), 88, (9,)}\n"
     ]
    }
   ],
   "source": [
    "print(f\"{simple_set.pop()}\")\n",
    "print(f\"After pop ->{simple_set}\")"
   ]
  },
  {
   "cell_type": "code",
   "execution_count": 40,
   "metadata": {},
   "outputs": [
    {
     "name": "stdout",
     "output_type": "stream",
     "text": [
      "3\n",
      "After pop ->{7, 8, 9, (2, 3), 88, (9,)}\n"
     ]
    }
   ],
   "source": [
    "print(f\"{simple_set.pop()}\")\n",
    "print(f\"After pop ->{simple_set}\")"
   ]
  },
  {
   "cell_type": "code",
   "execution_count": 41,
   "metadata": {},
   "outputs": [
    {
     "name": "stdout",
     "output_type": "stream",
     "text": [
      "7\n",
      "After pop ->{8, 9, (2, 3), 88, (9,)}\n"
     ]
    }
   ],
   "source": [
    "print(f\"{simple_set.pop()}\")\n",
    "print(f\"After pop ->{simple_set}\")"
   ]
  },
  {
   "cell_type": "code",
   "execution_count": 42,
   "metadata": {},
   "outputs": [
    {
     "name": "stdout",
     "output_type": "stream",
     "text": [
      "\n",
      "After remove->{9, (2, 3), 88, (9,)}\n"
     ]
    }
   ],
   "source": [
    "# set.remove\n",
    "#   - to remove a specific element\n",
    "#   - throws KeyError exception if that element is not present\n",
    "print()\n",
    "simple_set.remove(8)\n",
    "print(f\"After remove->{simple_set}\")"
   ]
  },
  {
   "cell_type": "code",
   "execution_count": 44,
   "metadata": {},
   "outputs": [
    {
     "ename": "KeyError",
     "evalue": "2",
     "output_type": "error",
     "traceback": [
      "\u001b[0;31m---------------------------------------------------------------------------\u001b[0m",
      "\u001b[0;31mKeyError\u001b[0m                                  Traceback (most recent call last)",
      "Cell \u001b[0;32mIn[44], line 1\u001b[0m\n\u001b[0;32m----> 1\u001b[0m \u001b[43msimple_set\u001b[49m\u001b[38;5;241;43m.\u001b[39;49m\u001b[43mremove\u001b[49m\u001b[43m(\u001b[49m\u001b[38;5;241;43m2\u001b[39;49m\u001b[43m)\u001b[49m\n\u001b[1;32m      2\u001b[0m \u001b[38;5;28mprint\u001b[39m(\u001b[38;5;124mf\u001b[39m\u001b[38;5;124m\"\u001b[39m\u001b[38;5;124mAfter remove->\u001b[39m\u001b[38;5;132;01m{\u001b[39;00msimple_set\u001b[38;5;132;01m}\u001b[39;00m\u001b[38;5;124m\"\u001b[39m)\n",
      "\u001b[0;31mKeyError\u001b[0m: 2"
     ]
    }
   ],
   "source": [
    "simple_set.remove(2)\n",
    "print(f\"After remove->{simple_set}\")"
   ]
  },
  {
   "cell_type": "code",
   "execution_count": 45,
   "metadata": {},
   "outputs": [
    {
     "name": "stdout",
     "output_type": "stream",
     "text": [
      "After remove->{9, 88, (9,)}\n"
     ]
    }
   ],
   "source": [
    "simple_set.remove((2, 3))\n",
    "print(f\"After remove->{simple_set}\")"
   ]
  },
  {
   "cell_type": "code",
   "execution_count": 46,
   "metadata": {},
   "outputs": [
    {
     "name": "stdout",
     "output_type": "stream",
     "text": [
      "That element is not present\n"
     ]
    }
   ],
   "source": [
    "try:\n",
    "    simple_set.remove(\"Q\")\n",
    "except KeyError:\n",
    "    print(\"That element is not present\")"
   ]
  },
  {
   "cell_type": "code",
   "execution_count": 47,
   "metadata": {},
   "outputs": [
    {
     "name": "stdout",
     "output_type": "stream",
     "text": [
      "\n",
      "After discard->{9, 88, (9,)}\n"
     ]
    }
   ],
   "source": [
    "# set.discard\n",
    "#   - to remove a specific element\n",
    "#   - No error is thrown when element is not present\n",
    "print()\n",
    "simple_set.discard(\"Q\")\n",
    "print(f\"After discard->{simple_set}\")"
   ]
  },
  {
   "cell_type": "code",
   "execution_count": 48,
   "metadata": {},
   "outputs": [
    {
     "name": "stdout",
     "output_type": "stream",
     "text": [
      "After discard->{9, (9,)}\n"
     ]
    }
   ],
   "source": [
    "simple_set.discard(88)\n",
    "print(f\"After discard->{simple_set}\")"
   ]
  },
  {
   "cell_type": "code",
   "execution_count": 49,
   "metadata": {},
   "outputs": [
    {
     "name": "stdout",
     "output_type": "stream",
     "text": [
      "After discard->{9}\n"
     ]
    }
   ],
   "source": [
    "simple_set.discard((9,))\n",
    "print(f\"After discard->{simple_set}\")"
   ]
  },
  {
   "cell_type": "code",
   "execution_count": 50,
   "metadata": {},
   "outputs": [
    {
     "name": "stdout",
     "output_type": "stream",
     "text": [
      "simple_set ={9} id(simple_set) =126401562148224\n",
      "new_set    ={9} id(new_set)    =126401085243904\n"
     ]
    }
   ],
   "source": [
    "new_set = simple_set.copy()   # shallow copy/ soft copy\n",
    "\n",
    "print(f\"{simple_set =} {id(simple_set) =}\")\n",
    "print(f\"{new_set    =} {id(new_set)    =}\")"
   ]
  },
  {
   "cell_type": "code",
   "execution_count": 51,
   "metadata": {},
   "outputs": [
    {
     "name": "stdout",
     "output_type": "stream",
     "text": [
      "\n",
      " After simple_set.clear()\n",
      "simple_set =set() id(simple_set) =126401562148224\n",
      "new_set    ={9} id(new_set)    =126401085243904\n"
     ]
    }
   ],
   "source": [
    "simple_set.clear()\n",
    "print(\"\\n After simple_set.clear()\")\n",
    "print(f\"{simple_set =} {id(simple_set) =}\")\n",
    "print(f\"{new_set    =} {id(new_set)    =}\")"
   ]
  },
  {
   "cell_type": "code",
   "execution_count": 52,
   "metadata": {},
   "outputs": [],
   "source": [
    "# Assignment\n",
    "#  1. Try adding a string to both set.add & set.update &\n",
    "#  observe the difference\n",
    "#  'tomoto'"
   ]
  },
  {
   "cell_type": "markdown",
   "metadata": {},
   "source": [
    "###  Set Operations\n",
    "    - Venn Diagrams"
   ]
  },
  {
   "cell_type": "code",
   "execution_count": 57,
   "metadata": {},
   "outputs": [
    {
     "name": "stdout",
     "output_type": "stream",
     "text": [
      "rainbow        ={'red', 'indigo', 'yellow', 'violet', 'blue', 'green', 'orange'}\n",
      "traffic_lights ={'red', 'white', 'green', 'yellow'}\n"
     ]
    }
   ],
   "source": [
    "rainbow = {\"red\", \"orange\", \"yellow\", \"green\", \"blue\", \"indigo\", \"violet\"}\n",
    "\n",
    "traffic_lights = {\"red\", \"yellow\", \"green\", \"white\"}\n",
    "\n",
    "print(f\"{rainbow        =}\")\n",
    "print(f\"{traffic_lights =}\")"
   ]
  },
  {
   "cell_type": "code",
   "execution_count": 58,
   "metadata": {},
   "outputs": [
    {
     "name": "stdout",
     "output_type": "stream",
     "text": [
      "traffic_lights.issubset(rainbow)   =False\n",
      "rainbow.issuperset(traffic_lights) =False\n"
     ]
    }
   ],
   "source": [
    "print(f\"{traffic_lights.issubset(rainbow)   =}\")\n",
    "print(f\"{rainbow.issuperset(traffic_lights) =}\")"
   ]
  },
  {
   "cell_type": "code",
   "execution_count": 60,
   "metadata": {},
   "outputs": [
    {
     "name": "stdout",
     "output_type": "stream",
     "text": [
      "rainbow        ={'red', 'indigo', 'yellow', 'violet', 'blue', 'green', 'orange'}\n",
      "traffic_lights ={'red', 'green', 'yellow'}\n",
      "traffic_lights.issubset(rainbow)   =True\n",
      "rainbow.issuperset(traffic_lights) =True\n"
     ]
    }
   ],
   "source": [
    "rainbow = {\"red\", \"orange\", \"yellow\", \"green\", \"blue\", \"indigo\", \"violet\"}\n",
    "\n",
    "traffic_lights = {\"red\", \"yellow\", \"green\"} # , \"white\"}\n",
    "\n",
    "print(f\"{rainbow        =}\")\n",
    "print(f\"{traffic_lights =}\")\n",
    "\n",
    "\n",
    "print(f\"{traffic_lights.issubset(rainbow)   =}\")\n",
    "print(f\"{rainbow.issuperset(traffic_lights) =}\")"
   ]
  },
  {
   "cell_type": "code",
   "execution_count": 61,
   "metadata": {},
   "outputs": [
    {
     "name": "stdout",
     "output_type": "stream",
     "text": [
      "\n",
      "alphabets.issubset(rainbow)   =False\n",
      "rainbow.issuperset(alphabets) =False\n"
     ]
    }
   ],
   "source": [
    "alphabets = {\"a\", \"b\", \"c\"}\n",
    "print(f\"\\n{alphabets.issubset(rainbow)   =}\")\n",
    "print(f\"{rainbow.issuperset(alphabets) =}\")"
   ]
  },
  {
   "cell_type": "code",
   "execution_count": 62,
   "metadata": {},
   "outputs": [
    {
     "name": "stdout",
     "output_type": "stream",
     "text": [
      "traffic_lights.isdisjoint(rainbow)   =False\n",
      "traffic_lights.intersection(rainbow) ={'red', 'green', 'yellow'}\n"
     ]
    }
   ],
   "source": [
    "print(f\"{traffic_lights.isdisjoint(rainbow)   =}\")  # False\n",
    "print(f\"{traffic_lights.intersection(rainbow) =}\")  # {'red', 'yellow', 'green'}"
   ]
  },
  {
   "cell_type": "code",
   "execution_count": 63,
   "metadata": {},
   "outputs": [
    {
     "name": "stdout",
     "output_type": "stream",
     "text": [
      "alphabets.isdisjoint(rainbow)        =True\n",
      "alphabets.intersection(rainbow)      =set()\n"
     ]
    }
   ],
   "source": [
    "print(f\"{alphabets.isdisjoint(rainbow)        =}\")  # True\n",
    "print(f\"{alphabets.intersection(rainbow)      =}\")  # set()"
   ]
  },
  {
   "cell_type": "code",
   "execution_count": 64,
   "metadata": {},
   "outputs": [
    {
     "ename": "TypeError",
     "evalue": "unsupported operand type(s) for +: 'set' and 'set'",
     "output_type": "error",
     "traceback": [
      "\u001b[0;31m---------------------------------------------------------------------------\u001b[0m",
      "\u001b[0;31mTypeError\u001b[0m                                 Traceback (most recent call last)",
      "Cell \u001b[0;32mIn[64], line 2\u001b[0m\n\u001b[1;32m      1\u001b[0m \u001b[38;5;66;03m# Set concatenation is not possible\u001b[39;00m\n\u001b[0;32m----> 2\u001b[0m \u001b[43mrainbow\u001b[49m\u001b[43m \u001b[49m\u001b[38;5;241;43m+\u001b[39;49m\u001b[43m \u001b[49m\u001b[43mtraffic_lights\u001b[49m \n",
      "\u001b[0;31mTypeError\u001b[0m: unsupported operand type(s) for +: 'set' and 'set'"
     ]
    }
   ],
   "source": [
    "# Set concatenation is not possible\n",
    "rainbow + traffic_lights "
   ]
  },
  {
   "cell_type": "code",
   "execution_count": 65,
   "metadata": {},
   "outputs": [
    {
     "name": "stdout",
     "output_type": "stream",
     "text": [
      "\n",
      "rainbow - traffic_lights ={'indigo', 'blue', 'orange', 'violet'}\n",
      "traffic_lights - rainbow =set()\n"
     ]
    }
   ],
   "source": [
    "# Set difference\n",
    "# - from first set, remove common elements between both sets\n",
    "print()\n",
    "print(f\"{rainbow - traffic_lights =}\")  # rainbow.difference(traffic_lights)\n",
    "print(f\"{traffic_lights - rainbow =}\")"
   ]
  },
  {
   "cell_type": "code",
   "execution_count": 66,
   "metadata": {},
   "outputs": [
    {
     "name": "stdout",
     "output_type": "stream",
     "text": [
      "\n",
      "rainbow.union(traffic_lights) ={'red', 'indigo', 'yellow', 'green', 'violet', 'blue', 'orange'}\n",
      "traffic_lights.union(rainbow) ={'red', 'indigo', 'yellow', 'green', 'violet', 'blue', 'orange'}\n"
     ]
    }
   ],
   "source": [
    "# To get the all elements between both sets\n",
    "print()\n",
    "print(f\"{rainbow.union(traffic_lights) =}\")\n",
    "print(f\"{traffic_lights.union(rainbow) =}\")"
   ]
  },
  {
   "cell_type": "code",
   "execution_count": 67,
   "metadata": {},
   "outputs": [
    {
     "name": "stdout",
     "output_type": "stream",
     "text": [
      "\n",
      "rainbow.intersection(traffic_lights) ={'red', 'green', 'yellow'}\n",
      "traffic_lights.intersection(rainbow) ={'red', 'green', 'yellow'}\n"
     ]
    }
   ],
   "source": [
    "# To get the common elements between both sets\n",
    "print()\n",
    "print(f\"{rainbow.intersection(traffic_lights) =}\")\n",
    "print(f\"{traffic_lights.intersection(rainbow) =}\")"
   ]
  },
  {
   "cell_type": "code",
   "execution_count": 68,
   "metadata": {},
   "outputs": [
    {
     "name": "stdout",
     "output_type": "stream",
     "text": [
      "\n",
      "rainbow.symmetric_difference(traffic_lights) ={'indigo', 'violet', 'blue', 'orange'}\n",
      "traffic_lights.symmetric_difference(rainbow) ={'indigo', 'violet', 'blue', 'orange'}\n"
     ]
    }
   ],
   "source": [
    "# Symmetric Difference\n",
    "#   - To get elements of both sets, which are not common\n",
    "#   - For sets A, B, symmetric_difference is (A U B) - (A intersection B)\n",
    "print()\n",
    "print(f\"{rainbow.symmetric_difference(traffic_lights) =}\")\n",
    "print(f\"{traffic_lights.symmetric_difference(rainbow) =}\")"
   ]
  },
  {
   "cell_type": "markdown",
   "metadata": {},
   "source": [
    "### Mutability"
   ]
  },
  {
   "cell_type": "code",
   "execution_count": 69,
   "metadata": {},
   "outputs": [
    {
     "name": "stdout",
     "output_type": "stream",
     "text": [
      "126401085246816 <class 'set'> {33, 11, 22}\n"
     ]
    }
   ],
   "source": [
    "ordinary_set = {11, 22, 33, 22}\n",
    "print(f\"{id(ordinary_set)} {type(ordinary_set)} {ordinary_set}\")\n"
   ]
  },
  {
   "cell_type": "code",
   "execution_count": 70,
   "metadata": {},
   "outputs": [],
   "source": [
    "# NOTE:  As indexing is not possible, same goes with  substitution\n"
   ]
  },
  {
   "cell_type": "code",
   "execution_count": 71,
   "metadata": {},
   "outputs": [
    {
     "name": "stdout",
     "output_type": "stream",
     "text": [
      "126401085246816 <class 'set'> {99, 33, 11, 22}\n"
     ]
    }
   ],
   "source": [
    "ordinary_set.add(99)\n",
    "print(f\"{id(ordinary_set)} {type(ordinary_set)} {ordinary_set}\")"
   ]
  },
  {
   "cell_type": "code",
   "execution_count": 72,
   "metadata": {},
   "outputs": [],
   "source": [
    "# NOTE: Conclusion - In object changes are possible - so, mutable object"
   ]
  },
  {
   "cell_type": "code",
   "execution_count": 73,
   "metadata": {},
   "outputs": [
    {
     "name": "stdout",
     "output_type": "stream",
     "text": [
      "\n",
      " Frozenset is immutable\n",
      "126401085249056 <class 'frozenset'> frozenset({33, 11, 22})\n"
     ]
    }
   ],
   "source": [
    "print(\"\\n Frozenset is immutable\")\n",
    "fz_set = frozenset({11, 22, 33, 22})\n",
    "print(f\"{id(fz_set)} {type(fz_set)} {fz_set}\")"
   ]
  },
  {
   "cell_type": "code",
   "execution_count": 74,
   "metadata": {},
   "outputs": [
    {
     "name": "stdout",
     "output_type": "stream",
     "text": [
      "frozenset dont have set editable attributes\n"
     ]
    }
   ],
   "source": [
    "try:\n",
    "    fz_set.add(99)\n",
    "except AttributeError:\n",
    "    print(\"frozenset dont have set editable attributes\")\n"
   ]
  },
  {
   "cell_type": "code",
   "execution_count": 75,
   "metadata": {},
   "outputs": [
    {
     "name": "stdout",
     "output_type": "stream",
     "text": [
      "['__and__', '__class__', '__class_getitem__', '__contains__', '__delattr__', '__dir__', '__doc__', '__eq__', '__format__', '__ge__', '__getattribute__', '__getstate__', '__gt__', '__hash__', '__iand__', '__init__', '__init_subclass__', '__ior__', '__isub__', '__iter__', '__ixor__', '__le__', '__len__', '__lt__', '__ne__', '__new__', '__or__', '__rand__', '__reduce__', '__reduce_ex__', '__repr__', '__ror__', '__rsub__', '__rxor__', '__setattr__', '__sizeof__', '__str__', '__sub__', '__subclasshook__', '__xor__', 'add', 'clear', 'copy', 'difference', 'difference_update', 'discard', 'intersection', 'intersection_update', 'isdisjoint', 'issubset', 'issuperset', 'pop', 'remove', 'symmetric_difference', 'symmetric_difference_update', 'union', 'update']\n",
      "\n",
      "['__and__', '__class__', '__class_getitem__', '__contains__', '__delattr__', '__dir__', '__doc__', '__eq__', '__format__', '__ge__', '__getattribute__', '__getstate__', '__gt__', '__hash__', '__init__', '__init_subclass__', '__iter__', '__le__', '__len__', '__lt__', '__ne__', '__new__', '__or__', '__rand__', '__reduce__', '__reduce_ex__', '__repr__', '__ror__', '__rsub__', '__rxor__', '__setattr__', '__sizeof__', '__str__', '__sub__', '__subclasshook__', '__xor__', 'copy', 'difference', 'intersection', 'isdisjoint', 'issubset', 'issuperset', 'symmetric_difference', 'union']\n"
     ]
    }
   ],
   "source": [
    "print(dir(ordinary_set))\n",
    "print()\n",
    "print(dir(fz_set))"
   ]
  },
  {
   "cell_type": "code",
   "execution_count": 76,
   "metadata": {},
   "outputs": [
    {
     "name": "stdout",
     "output_type": "stream",
     "text": [
      "sets cant be stored in sets - As sets are mutable \n",
      "new_set ={1, 2, frozenset({2, 3})}\n"
     ]
    }
   ],
   "source": [
    "\n",
    "try:\n",
    "    new_set = {1, 2, {2, 3}}\n",
    "except TypeError:\n",
    "    print(\"sets cant be stored in sets - As sets are mutable \")\n",
    "\n",
    "new_set = {1, 2, frozenset({2, 3})}\n",
    "print(f\"{new_set =}\")\n",
    "# NOTE: frozenset can be stored in sets - As frozenset is immutable"
   ]
  },
  {
   "cell_type": "markdown",
   "metadata": {},
   "source": [
    "#### Hashability\n",
    "\n",
    "\n",
    "      hash() function"
   ]
  },
  {
   "cell_type": "code",
   "execution_count": 77,
   "metadata": {},
   "outputs": [
    {
     "name": "stdout",
     "output_type": "stream",
     "text": [
      "hash(123) =123\n"
     ]
    }
   ],
   "source": [
    "print(f\"{hash(123) =}\")\n",
    "assert (123).__hash__() == hash(123)"
   ]
  },
  {
   "cell_type": "code",
   "execution_count": 78,
   "metadata": {},
   "outputs": [
    {
     "ename": "TypeError",
     "evalue": "unhashable type: 'list'",
     "output_type": "error",
     "traceback": [
      "\u001b[0;31m---------------------------------------------------------------------------\u001b[0m",
      "\u001b[0;31mTypeError\u001b[0m                                 Traceback (most recent call last)",
      "Cell \u001b[0;32mIn[78], line 1\u001b[0m\n\u001b[0;32m----> 1\u001b[0m my_set \u001b[38;5;241m=\u001b[39m {\u001b[38;5;241m1\u001b[39m, \u001b[38;5;241m2\u001b[39m, [\u001b[38;5;241m3\u001b[39m, \u001b[38;5;241m4\u001b[39m]} \n",
      "\u001b[0;31mTypeError\u001b[0m: unhashable type: 'list'"
     ]
    }
   ],
   "source": [
    "my_set = {1, 2, [3, 4]} "
   ]
  },
  {
   "cell_type": "code",
   "execution_count": 79,
   "metadata": {},
   "outputs": [
    {
     "ename": "TypeError",
     "evalue": "unhashable type: 'set'",
     "output_type": "error",
     "traceback": [
      "\u001b[0;31m---------------------------------------------------------------------------\u001b[0m",
      "\u001b[0;31mTypeError\u001b[0m                                 Traceback (most recent call last)",
      "Cell \u001b[0;32mIn[79], line 1\u001b[0m\n\u001b[0;32m----> 1\u001b[0m my_set \u001b[38;5;241m=\u001b[39m {\u001b[38;5;241m1\u001b[39m, \u001b[38;5;241m2\u001b[39m, {\u001b[38;5;241m3\u001b[39m, \u001b[38;5;241m4\u001b[39m}}\n",
      "\u001b[0;31mTypeError\u001b[0m: unhashable type: 'set'"
     ]
    }
   ],
   "source": [
    "my_set = {1, 2, {3, 4}}"
   ]
  },
  {
   "cell_type": "code",
   "execution_count": 80,
   "metadata": {},
   "outputs": [
    {
     "ename": "TypeError",
     "evalue": "unhashable type: 'dict'",
     "output_type": "error",
     "traceback": [
      "\u001b[0;31m---------------------------------------------------------------------------\u001b[0m",
      "\u001b[0;31mTypeError\u001b[0m                                 Traceback (most recent call last)",
      "Cell \u001b[0;32mIn[80], line 1\u001b[0m\n\u001b[0;32m----> 1\u001b[0m my_set \u001b[38;5;241m=\u001b[39m {\u001b[38;5;241m1\u001b[39m, \u001b[38;5;241m2\u001b[39m, {\u001b[38;5;241m3\u001b[39m:\u001b[38;5;241m4\u001b[39m}}\n",
      "\u001b[0;31mTypeError\u001b[0m: unhashable type: 'dict'"
     ]
    }
   ],
   "source": [
    "my_set = {1, 2, {3:4}}"
   ]
  },
  {
   "cell_type": "code",
   "execution_count": 81,
   "metadata": {},
   "outputs": [
    {
     "name": "stdout",
     "output_type": "stream",
     "text": [
      "my_set ={-0.98798, 1, (23+3j), None, False, (1, 2), frozenset({3, 4})}\n"
     ]
    }
   ],
   "source": [
    "my_set = {1, 2, frozenset({3, 4})}\n",
    "my_set = {1, 2, tuple({3, 4})}\n",
    "my_set = {1, -0.98798, 23 + 3j, False, None, (1, 2), frozenset((3, 4))}\n",
    "print(f\"{my_set =}\")"
   ]
  },
  {
   "cell_type": "code",
   "execution_count": 84,
   "metadata": {},
   "outputs": [
    {
     "name": "stdout",
     "output_type": "stream",
     "text": [
      "<class 'int'>  1 1\n",
      "<class 'float'>  -2278126776242945280 -0.98798\n",
      "<class 'complex'>  3000032 (23+3j)\n",
      "<class 'bool'>  0 False\n",
      "<class 'NoneType'>  4238894112 None\n",
      "<class 'tuple'>  -3550055125485641917 (1, 2)\n",
      "<class 'frozenset'>  -8296090686598762464 frozenset({3, 4})\n",
      "[1, 2] unhashable type: 'list'\n",
      "{2, 3} unhashable type: 'set'\n",
      "{2: 3} unhashable type: 'dict'\n"
     ]
    }
   ],
   "source": [
    "data = [\n",
    "    1,\n",
    "    -0.98798,\n",
    "    23 + 3j,\n",
    "    False,\n",
    "    None,\n",
    "    (1, 2),\n",
    "    frozenset((3, 4)),\n",
    "    [1, 2],\n",
    "    {2, 3},\n",
    "    {2: 3},\n",
    "]\n",
    "for each_data in data:\n",
    "    try:\n",
    "        print(f\"{type(each_data)}  {hash(each_data)} {each_data}\")\n",
    "    except TypeError as ex:\n",
    "        print(each_data, ex)"
   ]
  },
  {
   "cell_type": "code",
   "execution_count": 85,
   "metadata": {},
   "outputs": [
    {
     "name": "stdout",
     "output_type": "stream",
     "text": [
      "hash(123)              = 123\n",
      "hash(-0.2323)          = -535647331040341120\n",
      "hash(2 + 3j)           = 3000011\n",
      "hash(True)             = 1\n",
      "hash(None)             = 4238894112\n",
      "hash((3,4))            = 1079245023883434373\n",
      "hash(frozenset((3,4))) = -8296090686598762464\n"
     ]
    }
   ],
   "source": [
    "\n",
    "# Immutable object\n",
    "print(f\"{hash(123)              = }\")\n",
    "print(f\"{hash(-0.2323)          = }\")\n",
    "print(f\"{hash(2 + 3j)           = }\")\n",
    "print(f\"{hash(True)             = }\")\n",
    "print(f\"{hash(None)             = }\")\n",
    "\n",
    "print(f\"{hash((3,4))            = }\")\n",
    "\n",
    "print(f\"{hash(frozenset((3,4))) = }\")\n"
   ]
  },
  {
   "cell_type": "code",
   "execution_count": 86,
   "metadata": {},
   "outputs": [
    {
     "name": "stdout",
     "output_type": "stream",
     "text": [
      "[1, 2] unhashable type: 'list'\n",
      "{3, 4} unhashable type: 'set'\n",
      "{'a': 1} unhashable type: 'dict'\n"
     ]
    }
   ],
   "source": [
    "\n",
    "# Mutable Objects\n",
    "for each_obj in [[1, 2], {3, 4}, {\"a\": 1}]:\n",
    "    try:\n",
    "        hash(each_obj)\n",
    "    except TypeError as ex:\n",
    "        print(each_obj, ex)"
   ]
  },
  {
   "cell_type": "code",
   "execution_count": 87,
   "metadata": {},
   "outputs": [],
   "source": [
    "# Conclusion\n",
    "# 1. hash can be created for immutable objects only\n",
    "# so, immutable objects are also called hashable objects"
   ]
  },
  {
   "cell_type": "markdown",
   "metadata": {},
   "source": [
    "#### Set operations\n",
    "\n",
    "    To get the uncommon words\n",
    "        |   set union\n",
    "        &   set intersection\n",
    "        ^   set symmetric_difference\n",
    "        <=  isubset\n",
    "        >=  issuperset"
   ]
  },
  {
   "cell_type": "code",
   "execution_count": 88,
   "metadata": {},
   "outputs": [],
   "source": [
    "word_set1 = {\"San Francisco\", \"Los Angeles\", \"San Deigo\"}\n",
    "word_set2 = {\"San Jose\", \"Los Angeles\", \"San Deigo\", \"Bakersfield\"}\n"
   ]
  },
  {
   "cell_type": "code",
   "execution_count": 89,
   "metadata": {},
   "outputs": [
    {
     "name": "stdout",
     "output_type": "stream",
     "text": [
      "all_words = {'Bakersfield', 'San Jose', 'Los Angeles', 'San Deigo', 'San Francisco'}\n"
     ]
    }
   ],
   "source": [
    "all_words = word_set1 | word_set2  # .union\n",
    "print(f\"{all_words = }\")"
   ]
  },
  {
   "cell_type": "code",
   "execution_count": 90,
   "metadata": {},
   "outputs": [
    {
     "name": "stdout",
     "output_type": "stream",
     "text": [
      "all_words = {'Bakersfield', 'San Jose', 'Los Angeles', 'San Deigo', 'San Francisco'}\n"
     ]
    }
   ],
   "source": [
    "all_words = word_set1.union(word_set2)\n",
    "print(f\"{all_words = }\")"
   ]
  },
  {
   "cell_type": "code",
   "execution_count": 91,
   "metadata": {},
   "outputs": [
    {
     "name": "stdout",
     "output_type": "stream",
     "text": [
      "common_words ={'Los Angeles', 'San Deigo'}\n",
      "common_words ={'Los Angeles', 'San Deigo'}\n"
     ]
    }
   ],
   "source": [
    "common_words = word_set1 & word_set2\n",
    "print(f\"{common_words =}\")\n",
    "\n",
    "common_words = word_set1.intersection(word_set2)\n",
    "print(f\"{common_words =}\")"
   ]
  },
  {
   "cell_type": "code",
   "execution_count": 92,
   "metadata": {},
   "outputs": [
    {
     "name": "stdout",
     "output_type": "stream",
     "text": [
      "uncommon_words ={'San Jose', 'San Francisco', 'Bakersfield'}\n",
      "uncommon_words ={'San Jose', 'San Francisco', 'Bakersfield'}\n"
     ]
    }
   ],
   "source": [
    "uncommon_words = word_set1 ^ word_set2\n",
    "print(f\"{uncommon_words =}\")\n",
    "\n",
    "uncommon_words = word_set1.symmetric_difference(word_set2)\n",
    "print(f\"{uncommon_words =}\")"
   ]
  },
  {
   "cell_type": "code",
   "execution_count": 93,
   "metadata": {},
   "outputs": [
    {
     "name": "stdout",
     "output_type": "stream",
     "text": [
      "True\n",
      "True\n"
     ]
    }
   ],
   "source": [
    "A = {1, 2}\n",
    "B = {1, 2, 3, 4}\n",
    "\n",
    "print(A <= B)  # Output: True\n",
    "print(B >= A)  # Output: True"
   ]
  },
  {
   "cell_type": "code",
   "execution_count": 94,
   "metadata": {},
   "outputs": [],
   "source": [
    "# Assignment -- apply al=l loigical and relationsl operat8ons on the sets; and undestend the results"
   ]
  },
  {
   "cell_type": "markdown",
   "metadata": {},
   "source": [
    "### sets FAQs"
   ]
  },
  {
   "cell_type": "code",
   "execution_count": 95,
   "metadata": {},
   "outputs": [
    {
     "name": "stdout",
     "output_type": "stream",
     "text": [
      "my_set ={1}\n"
     ]
    }
   ],
   "source": [
    "my_set = {1, True, int(1.2)}\n",
    "print(f\"{my_set =}\")"
   ]
  },
  {
   "cell_type": "code",
   "execution_count": 96,
   "metadata": {},
   "outputs": [
    {
     "name": "stdout",
     "output_type": "stream",
     "text": [
      "my_set ={True}\n"
     ]
    }
   ],
   "source": [
    "my_set = {True, int(1.2), 1}\n",
    "print(f\"{my_set =}\")"
   ]
  },
  {
   "cell_type": "code",
   "execution_count": 97,
   "metadata": {},
   "outputs": [
    {
     "name": "stdout",
     "output_type": "stream",
     "text": [
      "my_set ={1}\n"
     ]
    }
   ],
   "source": [
    "my_set = {int(1.2), 1, True}\n",
    "print(f\"{my_set =}\")"
   ]
  },
  {
   "cell_type": "code",
   "execution_count": 98,
   "metadata": {},
   "outputs": [
    {
     "name": "stdout",
     "output_type": "stream",
     "text": [
      "my_set ={0}\n",
      "my_set ={False}\n",
      "my_set ={False}\n"
     ]
    }
   ],
   "source": [
    "my_set = {0, False, 2 + 3 == 6}\n",
    "print(f\"{my_set =}\")\n",
    "\n",
    "my_set = {False, 2 + 3 == 6, 0}\n",
    "print(f\"{my_set =}\")\n",
    "\n",
    "my_set = {2 + 3 == 6, 0, False}\n",
    "print(f\"{my_set =}\")"
   ]
  },
  {
   "cell_type": "code",
   "execution_count": 99,
   "metadata": {},
   "outputs": [],
   "source": [
    "# NOTE:\n",
    "# 1. True, False has values of 1, 0 respectively\n",
    "# 2. Whichever value is placed first in definition,\n",
    "#    that will come in the output"
   ]
  },
  {
   "cell_type": "code",
   "execution_count": null,
   "metadata": {},
   "outputs": [],
   "source": []
  }
 ],
 "metadata": {
  "kernelspec": {
   "display_name": "Python 3",
   "language": "python",
   "name": "python3"
  },
  "language_info": {
   "codemirror_mode": {
    "name": "ipython",
    "version": 3
   },
   "file_extension": ".py",
   "mimetype": "text/x-python",
   "name": "python",
   "nbconvert_exporter": "python",
   "pygments_lexer": "ipython3",
   "version": "3.12.1"
  }
 },
 "nbformat": 4,
 "nbformat_minor": 2
}
