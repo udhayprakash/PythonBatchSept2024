{
 "cells": [
  {
   "cell_type": "markdown",
   "metadata": {},
   "source": [
    "## Dictionaries\n",
    "    - This is representation of the data structure\n",
    "        - HashMap\n",
    "    - Properties\n",
    "        - represented using {} or dict()\n",
    "        - from python 3.6 onwards, the order of dict is maintained\n",
    "            - In older versions, OrderedDict module should be used for the same\n",
    "        - Any data type can be used for dict values\n",
    "        - dict keys should be immutables only"
   ]
  },
  {
   "cell_type": "code",
   "execution_count": 1,
   "metadata": {},
   "outputs": [
    {
     "name": "stdout",
     "output_type": "stream",
     "text": [
      "{} <class 'dict'>\n",
      "{} <class 'dict'>\n",
      "set() <class 'set'>\n"
     ]
    }
   ],
   "source": [
    "empty_dict = {}\n",
    "print(empty_dict, type(empty_dict))\n",
    "\n",
    "empty_dict = dict()\n",
    "print(empty_dict, type(empty_dict))\n",
    "\n",
    "empty_set = set()\n",
    "print(empty_set, type(empty_set))"
   ]
  },
  {
   "cell_type": "code",
   "execution_count": 2,
   "metadata": {},
   "outputs": [
    {
     "name": "stdout",
     "output_type": "stream",
     "text": [
      "{34, 12} <class 'set'>\n",
      "{12: 34, 34: 56} <class 'dict'>\n"
     ]
    }
   ],
   "source": [
    "# - with values\n",
    "other_set = {12, 34}\n",
    "print(other_set, type(other_set))\n",
    "\n",
    "other_dict = {12: 34, 34: 56}\n",
    "print(other_dict, type(other_dict))"
   ]
  },
  {
   "cell_type": "code",
   "execution_count": 3,
   "metadata": {},
   "outputs": [
    {
     "name": "stdout",
     "output_type": "stream",
     "text": [
      "{'a': 1} <class 'dict'>\n",
      "len(dict_with_single_pair) =1\n"
     ]
    }
   ],
   "source": [
    "dict_with_single_pair = {\"a\": 1}\n",
    "print(dict_with_single_pair, type(dict_with_single_pair))\n",
    "print(f\"{len(dict_with_single_pair) =}\")"
   ]
  },
  {
   "cell_type": "code",
   "execution_count": 4,
   "metadata": {},
   "outputs": [
    {
     "name": "stdout",
     "output_type": "stream",
     "text": [
      "{'b': 2, 'a': 1, 'c': 3, 'd': 4}\n"
     ]
    }
   ],
   "source": [
    "alphabhets = {\"b\": 2, \"a\": 1, \"c\": 3, \"d\": 4}\n",
    "print(alphabhets)"
   ]
  },
  {
   "cell_type": "code",
   "execution_count": 8,
   "metadata": {},
   "outputs": [
    {
     "name": "stdout",
     "output_type": "stream",
     "text": [
      "OrderedDict({'b': 2, 'a': 1, 'c': 3, 'd': 4})\n"
     ]
    }
   ],
   "source": [
    "# In python < 3.6, use below code to retaining the assigned order\n",
    "\n",
    "# import OrderedDict\n",
    "# ModuleNotFoundError: No module named 'OrderedDict'\n",
    "\n",
    "\n",
    "from collections import OrderedDict\n",
    "\n",
    "alphabhets = OrderedDict({\"b\": 2, \"a\": 1, \"c\": 3, \"d\": 4})\n",
    "print(alphabhets)"
   ]
  },
  {
   "cell_type": "code",
   "execution_count": 10,
   "metadata": {},
   "outputs": [],
   "source": [
    "person_details = {\n",
    "    \"name\": \"Gudo Van Russom\",\n",
    "    \"age\": 67,\n",
    "    \"salary\": 1233123.12,\n",
    "    \"children\": [\"mary\", \"John\"],\n",
    "    \"parents\": (\"Sam Russom\", \"Michel Russom\"),\n",
    "    1: [12, 3, 12],\n",
    "    -1213.213: {33, 33},\n",
    "    (\"Dr\", \"Mr\"): \"titles\",\n",
    "    None: \"This is None\",\n",
    "    # [12, 23]: 'something',\n",
    "    tuple([12, 23]): \"something\",\n",
    "}"
   ]
  },
  {
   "cell_type": "code",
   "execution_count": 11,
   "metadata": {},
   "outputs": [
    {
     "name": "stdout",
     "output_type": "stream",
     "text": [
      "{'name': 'Gudo Van Russom', 'age': 67, 'salary': 1233123.12, 'children': ['mary', 'John'], 'parents': ('Sam Russom', 'Michel Russom'), 1: [12, 3, 12], -1213.213: {33}, ('Dr', 'Mr'): 'titles', None: 'This is None', (12, 23): 'something'}\n"
     ]
    }
   ],
   "source": [
    "print(person_details)"
   ]
  },
  {
   "cell_type": "code",
   "execution_count": 12,
   "metadata": {},
   "outputs": [
    {
     "name": "stdout",
     "output_type": "stream",
     "text": [
      "{None: 'This is None',\n",
      " -1213.213: {33},\n",
      " 1: [12, 3, 12],\n",
      " 'age': 67,\n",
      " 'children': ['mary', 'John'],\n",
      " 'name': 'Gudo Van Russom',\n",
      " 'parents': ('Sam Russom', 'Michel Russom'),\n",
      " 'salary': 1233123.12,\n",
      " ('Dr', 'Mr'): 'titles',\n",
      " (12, 23): 'something'}\n"
     ]
    }
   ],
   "source": [
    "from pprint import pprint \n",
    "pprint(person_details)"
   ]
  },
  {
   "cell_type": "code",
   "execution_count": 13,
   "metadata": {},
   "outputs": [
    {
     "name": "stdout",
     "output_type": "stream",
     "text": [
      "{'name': 'Gudo Van Russom',\n",
      " 'age': 67,\n",
      " 'salary': 1233123.12,\n",
      " 'children': ['mary', 'John'],\n",
      " 'parents': ('Sam Russom', 'Michel Russom'),\n",
      " 1: [12, 3, 12],\n",
      " -1213.213: {33},\n",
      " ('Dr', 'Mr'): 'titles',\n",
      " None: 'This is None',\n",
      " (12, 23): 'something'}\n"
     ]
    }
   ],
   "source": [
    "from pprint import pp \n",
    "pp(person_details)"
   ]
  },
  {
   "cell_type": "code",
   "execution_count": 14,
   "metadata": {},
   "outputs": [
    {
     "data": {
      "text/plain": [
       "{'name': 'Gudo Van Russom',\n",
       " 'age': 67,\n",
       " 'salary': 1233123.12,\n",
       " 'children': ['mary', 'John'],\n",
       " 'parents': ('Sam Russom', 'Michel Russom'),\n",
       " 1: [12, 3, 12],\n",
       " -1213.213: {33},\n",
       " ('Dr', 'Mr'): 'titles',\n",
       " None: 'This is None',\n",
       " (12, 23): 'something'}"
      ]
     },
     "execution_count": 14,
     "metadata": {},
     "output_type": "execute_result"
    }
   ],
   "source": [
    "person_details"
   ]
  },
  {
   "cell_type": "code",
   "execution_count": 15,
   "metadata": {},
   "outputs": [
    {
     "name": "stdout",
     "output_type": "stream",
     "text": [
      "{   'name': 'Gudo Van Russom',\n",
      "    'age': 67,\n",
      "    'salary': 1233123.12,\n",
      "    'children': ['mary', 'John'],\n",
      "    'parents': ('Sam Russom', 'Michel Russom'),\n",
      "    1: [12, 3, 12],\n",
      "    -1213.213: {33},\n",
      "    ('Dr', 'Mr'): 'titles',\n",
      "    None: 'This is None',\n",
      "    (12, 23): 'something'}\n"
     ]
    }
   ],
   "source": [
    "pp(person_details, indent=4 )"
   ]
  },
  {
   "cell_type": "code",
   "execution_count": 16,
   "metadata": {},
   "outputs": [],
   "source": [
    "# NOTE:\n",
    "# 1. general print() will retain dict order\n",
    "# 2. pprint() will sort by keys and display\n",
    "# 3. pp() will retain dict order, as created."
   ]
  },
  {
   "cell_type": "code",
   "execution_count": 17,
   "metadata": {},
   "outputs": [
    {
     "data": {
      "text/plain": [
       "590899387183067792"
      ]
     },
     "execution_count": 17,
     "metadata": {},
     "output_type": "execute_result"
    }
   ],
   "source": [
    "# hashability \n",
    "\n",
    "hash( (1, 2, 3, 4)    )"
   ]
  },
  {
   "cell_type": "code",
   "execution_count": 18,
   "metadata": {},
   "outputs": [
    {
     "ename": "TypeError",
     "evalue": "unhashable type: 'list'",
     "output_type": "error",
     "traceback": [
      "\u001b[0;31m---------------------------------------------------------------------------\u001b[0m",
      "\u001b[0;31mTypeError\u001b[0m                                 Traceback (most recent call last)",
      "Cell \u001b[0;32mIn[18], line 1\u001b[0m\n\u001b[0;32m----> 1\u001b[0m \u001b[38;5;28;43mhash\u001b[39;49m\u001b[43m(\u001b[49m\u001b[43m \u001b[49m\u001b[43m(\u001b[49m\u001b[38;5;241;43m1\u001b[39;49m\u001b[43m,\u001b[49m\u001b[43m \u001b[49m\u001b[38;5;241;43m2\u001b[39;49m\u001b[43m,\u001b[49m\u001b[43m \u001b[49m\u001b[38;5;241;43m3\u001b[39;49m\u001b[43m,\u001b[49m\u001b[43m \u001b[49m\u001b[38;5;241;43m4\u001b[39;49m\u001b[43m,\u001b[49m\u001b[43m \u001b[49m\u001b[43m[\u001b[49m\u001b[38;5;241;43m5\u001b[39;49m\u001b[43m,\u001b[49m\u001b[43m \u001b[49m\u001b[38;5;241;43m6\u001b[39;49m\u001b[43m]\u001b[49m\u001b[43m)\u001b[49m\u001b[43m    \u001b[49m\u001b[43m)\u001b[49m\n",
      "\u001b[0;31mTypeError\u001b[0m: unhashable type: 'list'"
     ]
    }
   ],
   "source": [
    "hash( (1, 2, 3, 4, [5, 6])    )"
   ]
  },
  {
   "cell_type": "code",
   "execution_count": 19,
   "metadata": {},
   "outputs": [
    {
     "data": {
      "text/plain": [
       "-7649436551191232170"
      ]
     },
     "execution_count": 19,
     "metadata": {},
     "output_type": "execute_result"
    }
   ],
   "source": [
    "hash( (1, 2, 3, 4, tuple([5, 6])  )    )"
   ]
  },
  {
   "cell_type": "code",
   "execution_count": 20,
   "metadata": {},
   "outputs": [
    {
     "ename": "TypeError",
     "evalue": "unhashable type: 'list'",
     "output_type": "error",
     "traceback": [
      "\u001b[0;31m---------------------------------------------------------------------------\u001b[0m",
      "\u001b[0;31mTypeError\u001b[0m                                 Traceback (most recent call last)",
      "Cell \u001b[0;32mIn[20], line 1\u001b[0m\n\u001b[0;32m----> 1\u001b[0m \u001b[38;5;28;43mhash\u001b[39;49m\u001b[43m(\u001b[49m\u001b[43m \u001b[49m\u001b[43m(\u001b[49m\u001b[38;5;241;43m1\u001b[39;49m\u001b[43m,\u001b[49m\u001b[43m \u001b[49m\u001b[38;5;241;43m2\u001b[39;49m\u001b[43m,\u001b[49m\u001b[43m \u001b[49m\u001b[38;5;241;43m3\u001b[39;49m\u001b[43m,\u001b[49m\u001b[43m \u001b[49m\u001b[38;5;241;43m4\u001b[39;49m\u001b[43m,\u001b[49m\u001b[43m \u001b[49m\u001b[38;5;28;43mtuple\u001b[39;49m\u001b[43m(\u001b[49m\u001b[43m[\u001b[49m\u001b[38;5;241;43m5\u001b[39;49m\u001b[43m,\u001b[49m\u001b[43m \u001b[49m\u001b[38;5;241;43m6\u001b[39;49m\u001b[43m,\u001b[49m\u001b[43m \u001b[49m\u001b[43m[\u001b[49m\u001b[38;5;241;43m7\u001b[39;49m\u001b[43m,\u001b[49m\u001b[43m \u001b[49m\u001b[38;5;241;43m8\u001b[39;49m\u001b[43m]\u001b[49m\u001b[43m]\u001b[49m\u001b[43m)\u001b[49m\u001b[43m  \u001b[49m\u001b[43m)\u001b[49m\u001b[43m    \u001b[49m\u001b[43m)\u001b[49m\n",
      "\u001b[0;31mTypeError\u001b[0m: unhashable type: 'list'"
     ]
    }
   ],
   "source": [
    "hash( (1, 2, 3, 4, tuple([5, 6, [7, 8]])  )    )"
   ]
  },
  {
   "cell_type": "code",
   "execution_count": 21,
   "metadata": {},
   "outputs": [],
   "source": [
    "# NOTE: hashable means anywhere in deep level too, it should not have mutable objects"
   ]
  },
  {
   "cell_type": "markdown",
   "metadata": {},
   "source": [
    "### Iterating over Dictionaries"
   ]
  },
  {
   "cell_type": "code",
   "execution_count": 22,
   "metadata": {},
   "outputs": [
    {
     "name": "stdout",
     "output_type": "stream",
     "text": [
      "1\n",
      "2\n",
      "3\n",
      "4\n"
     ]
    }
   ],
   "source": [
    "for val in [1, 2, 3, 4]:\n",
    "    print(val)"
   ]
  },
  {
   "cell_type": "code",
   "execution_count": 23,
   "metadata": {},
   "outputs": [
    {
     "name": "stdout",
     "output_type": "stream",
     "text": [
      "1\n",
      "2\n",
      "3\n",
      "4\n"
     ]
    }
   ],
   "source": [
    "for val in (1, 2, 3, 4):\n",
    "    print(val)"
   ]
  },
  {
   "cell_type": "code",
   "execution_count": 24,
   "metadata": {},
   "outputs": [
    {
     "name": "stdout",
     "output_type": "stream",
     "text": [
      "1\n",
      "2\n",
      "3\n",
      "4\n"
     ]
    }
   ],
   "source": [
    "for val in {1, 2, 3, 4}:\n",
    "    print(val)"
   ]
  },
  {
   "cell_type": "code",
   "execution_count": 25,
   "metadata": {},
   "outputs": [
    {
     "name": "stdout",
     "output_type": "stream",
     "text": [
      "1\n",
      "2\n",
      "3\n",
      "4\n"
     ]
    }
   ],
   "source": [
    "for key in {1: 'a', 2: 'b', 3: 'c', 4: 'd'}:\n",
    "    print(key)"
   ]
  },
  {
   "cell_type": "code",
   "execution_count": 26,
   "metadata": {},
   "outputs": [
    {
     "name": "stdout",
     "output_type": "stream",
     "text": [
      "1\n",
      "2\n",
      "3\n",
      "4\n"
     ]
    }
   ],
   "source": [
    "for key in {1: 'a', 2: 'b', 3: 'c', 4: 'd'}.keys():\n",
    "    print(key)"
   ]
  },
  {
   "cell_type": "code",
   "execution_count": 27,
   "metadata": {},
   "outputs": [],
   "source": [
    "# NOTE: by default, when itera=ting on dict, it will give keys only"
   ]
  },
  {
   "cell_type": "code",
   "execution_count": 28,
   "metadata": {},
   "outputs": [
    {
     "name": "stdout",
     "output_type": "stream",
     "text": [
      "a\n",
      "b\n",
      "c\n",
      "d\n"
     ]
    }
   ],
   "source": [
    "for value in {1: 'a', 2: 'b', 3: 'c', 4: 'd'}.values():\n",
    "    print(value)"
   ]
  },
  {
   "cell_type": "code",
   "execution_count": 29,
   "metadata": {},
   "outputs": [
    {
     "ename": "ValueError",
     "evalue": "not enough values to unpack (expected 2, got 1)",
     "output_type": "error",
     "traceback": [
      "\u001b[0;31m---------------------------------------------------------------------------\u001b[0m",
      "\u001b[0;31mValueError\u001b[0m                                Traceback (most recent call last)",
      "Cell \u001b[0;32mIn[29], line 1\u001b[0m\n\u001b[0;32m----> 1\u001b[0m \u001b[38;5;28;01mfor\u001b[39;00m key, value \u001b[38;5;129;01min\u001b[39;00m {\u001b[38;5;241m1\u001b[39m: \u001b[38;5;124m'\u001b[39m\u001b[38;5;124ma\u001b[39m\u001b[38;5;124m'\u001b[39m, \u001b[38;5;241m2\u001b[39m: \u001b[38;5;124m'\u001b[39m\u001b[38;5;124mb\u001b[39m\u001b[38;5;124m'\u001b[39m, \u001b[38;5;241m3\u001b[39m: \u001b[38;5;124m'\u001b[39m\u001b[38;5;124mc\u001b[39m\u001b[38;5;124m'\u001b[39m, \u001b[38;5;241m4\u001b[39m: \u001b[38;5;124m'\u001b[39m\u001b[38;5;124md\u001b[39m\u001b[38;5;124m'\u001b[39m}\u001b[38;5;241m.\u001b[39mvalues():\n\u001b[1;32m      2\u001b[0m     \u001b[38;5;28mprint\u001b[39m(value)\n",
      "\u001b[0;31mValueError\u001b[0m: not enough values to unpack (expected 2, got 1)"
     ]
    }
   ],
   "source": [
    "for key, value in {1: 'a', 2: 'b', 3: 'c', 4: 'd'}.values():\n",
    "    print(value)"
   ]
  },
  {
   "cell_type": "code",
   "execution_count": 31,
   "metadata": {},
   "outputs": [
    {
     "name": "stdout",
     "output_type": "stream",
     "text": [
      "1 a\n",
      "2 b\n",
      "3 c\n",
      "4 d\n"
     ]
    }
   ],
   "source": [
    "for key, value in {1: 'a', 2: 'b', 3: 'c', 4: 'd'}.items():\n",
    "    print(key, value )"
   ]
  },
  {
   "cell_type": "code",
   "execution_count": 32,
   "metadata": {},
   "outputs": [
    {
     "name": "stdout",
     "output_type": "stream",
     "text": [
      "{'name': 'Narendra Modi', 'age': 67, 'salary': 200000, 'role': 'PM of India'}\n"
     ]
    }
   ],
   "source": [
    "person_details = {\n",
    "    \"name\": \"Narendra Modi\",\n",
    "    \"age\": 67,\n",
    "    \"salary\": 2_00_000,\n",
    "    \"role\": \"CM of Gujarat\",\n",
    "    \"role\": \"PM of India\",  # latest will be stored\n",
    "}\n",
    "print(person_details)\n"
   ]
  },
  {
   "cell_type": "code",
   "execution_count": 34,
   "metadata": {},
   "outputs": [
    {
     "name": "stdout",
     "output_type": "stream",
     "text": [
      "person_details.keys()   = dict_keys(['name', 'age', 'salary', 'role'])\n",
      "person_details.values() = dict_values(['Narendra Modi', 67, 200000, 'PM of India'])\n",
      "person_details.items() = dict_items([('name', 'Narendra Modi'), ('age', 67), ('salary', 200000), ('role', 'PM of India')])\n"
     ]
    }
   ],
   "source": [
    "# To get the dictionary keys\n",
    "print(f\"{person_details.keys()   = }\")\n",
    "\n",
    "# To get the dictionary values\n",
    "print(f\"{person_details.values() = }\")\n",
    "\n",
    "# To get both keys & values as pairs\n",
    "print(f\"{person_details.items() = }\")"
   ]
  },
  {
   "cell_type": "code",
   "execution_count": 35,
   "metadata": {},
   "outputs": [
    {
     "data": {
      "text/plain": [
       "dict_keys"
      ]
     },
     "execution_count": 35,
     "metadata": {},
     "output_type": "execute_result"
    }
   ],
   "source": [
    "type(person_details.keys())"
   ]
  },
  {
   "cell_type": "code",
   "execution_count": 36,
   "metadata": {},
   "outputs": [
    {
     "name": "stdout",
     "output_type": "stream",
     "text": [
      "\n",
      " Iterating over the dictionary \n",
      "name\n",
      "age\n",
      "salary\n",
      "role\n",
      "\n",
      " person_details.keys()\n",
      "name\n",
      "age\n",
      "salary\n",
      "role\n",
      "\n",
      " person_details.values()\n",
      "Narendra Modi\n",
      "67\n",
      "200000\n",
      "PM of India\n"
     ]
    }
   ],
   "source": [
    "print(\"\\n Iterating over the dictionary \")\n",
    "for each in person_details:\n",
    "    print(each)\n",
    "\n",
    "# NOTE: By default, when iterating over dict, it will give dict keys only\n",
    "print(\"\\n person_details.keys()\")\n",
    "for each in person_details.keys():\n",
    "    print(each)\n",
    "\n",
    "print(\"\\n person_details.values()\")\n",
    "for each in person_details.values():\n",
    "    print(each)\n"
   ]
  },
  {
   "cell_type": "code",
   "execution_count": 37,
   "metadata": {},
   "outputs": [
    {
     "name": "stdout",
     "output_type": "stream",
     "text": [
      "\n",
      " person_details.items()\n",
      "('name', 'Narendra Modi')\n",
      "('age', 67)\n",
      "('salary', 200000)\n",
      "('role', 'PM of India')\n"
     ]
    }
   ],
   "source": [
    "print(\"\\n person_details.items()\")\n",
    "for each in person_details.items():\n",
    "    print(each)  # each - is a tuple object\n"
   ]
  },
  {
   "cell_type": "code",
   "execution_count": 38,
   "metadata": {},
   "outputs": [
    {
     "name": "stdout",
     "output_type": "stream",
     "text": [
      "\n",
      " person_details.items()\n",
      "name\tNarendra Modi\n",
      "age\t67\n",
      "salary\t200000\n",
      "role\tPM of India\n"
     ]
    }
   ],
   "source": [
    "\n",
    "print(\"\\n person_details.items()\")\n",
    "for each_key, each_value in person_details.items():\n",
    "    print(f\"{each_key}\\t{each_value}\")"
   ]
  },
  {
   "cell_type": "markdown",
   "metadata": {},
   "source": [
    "###  Dictionary operations"
   ]
  },
  {
   "cell_type": "code",
   "execution_count": 39,
   "metadata": {},
   "outputs": [],
   "source": [
    "employee = {\n",
    "    \"name\": \"Saurav Ganguly\",\n",
    "    \"status\": \"retired\",\n",
    "    \"salary\": 12_222_213,\n",
    "    \"strike_rate\": 85 / 100,\n",
    "}"
   ]
  },
  {
   "cell_type": "code",
   "execution_count": 41,
   "metadata": {},
   "outputs": [
    {
     "name": "stdout",
     "output_type": "stream",
     "text": [
      "Employee Name  : Saurav Ganguly\n",
      "Employee Status: retired\n"
     ]
    }
   ],
   "source": [
    "# Indexing is done with keys, instead of indices\n",
    "\n",
    "# Indexing in Dictionaries\n",
    "print(\"Employee Name  :\", employee[\"name\"])\n",
    "print(\"Employee Status:\", employee[\"status\"])\n"
   ]
  },
  {
   "cell_type": "code",
   "execution_count": 42,
   "metadata": {},
   "outputs": [
    {
     "ename": "AttributeError",
     "evalue": "'dict' object has no attribute 'name'",
     "output_type": "error",
     "traceback": [
      "\u001b[0;31m---------------------------------------------------------------------------\u001b[0m",
      "\u001b[0;31mAttributeError\u001b[0m                            Traceback (most recent call last)",
      "Cell \u001b[0;32mIn[42], line 1\u001b[0m\n\u001b[0;32m----> 1\u001b[0m \u001b[43memployee\u001b[49m\u001b[38;5;241;43m.\u001b[39;49m\u001b[43mname\u001b[49m\n",
      "\u001b[0;31mAttributeError\u001b[0m: 'dict' object has no attribute 'name'"
     ]
    }
   ],
   "source": [
    "employee.name"
   ]
  },
  {
   "cell_type": "code",
   "execution_count": 43,
   "metadata": {},
   "outputs": [
    {
     "name": "stdout",
     "output_type": "stream",
     "text": [
      "No such key :'no_of_centuries'\n"
     ]
    }
   ],
   "source": [
    "try:\n",
    "    employee[\"no_of_centuries\"]\n",
    "except KeyError as ex:\n",
    "    print(f\"No such key :{str(ex)}\")\n"
   ]
  },
  {
   "cell_type": "code",
   "execution_count": 44,
   "metadata": {},
   "outputs": [
    {
     "name": "stdout",
     "output_type": "stream",
     "text": [
      "\n",
      "Before change: id(employee) = 133328325090432\n"
     ]
    }
   ],
   "source": [
    "# Dictionaries are mutable\n",
    "print()\n",
    "print(f\"Before change: {id(employee) = }\")"
   ]
  },
  {
   "cell_type": "code",
   "execution_count": 45,
   "metadata": {},
   "outputs": [
    {
     "name": "stdout",
     "output_type": "stream",
     "text": [
      "Employee Status: rejoined\n",
      "After change : id(employee) = 133328325090432\n"
     ]
    }
   ],
   "source": [
    "# Updating value for existing key\n",
    "employee[\"status\"] = \"rejoined\"\n",
    "print(\"Employee Status:\", employee[\"status\"])\n",
    "print(f\"After change : {id(employee) = }\")"
   ]
  },
  {
   "cell_type": "code",
   "execution_count": 46,
   "metadata": {},
   "outputs": [
    {
     "data": {
      "text/plain": [
       "{'name': 'Saurav Ganguly',\n",
       " 'status': 'rejoined',\n",
       " 'salary': 12222213,\n",
       " 'strike_rate': 0.85}"
      ]
     },
     "execution_count": 46,
     "metadata": {},
     "output_type": "execute_result"
    }
   ],
   "source": [
    "employee"
   ]
  },
  {
   "cell_type": "code",
   "execution_count": 47,
   "metadata": {},
   "outputs": [
    {
     "data": {
      "text/plain": [
       "{'name': 'Saurav Ganguly',\n",
       " 'status': 'rejoined',\n",
       " 'salary': 12222213,\n",
       " 'strike_rate': 0.85,\n",
       " 'no_of_centuries': 345}"
      ]
     },
     "execution_count": 47,
     "metadata": {},
     "output_type": "execute_result"
    }
   ],
   "source": [
    "# To add a new key\n",
    "employee[\"no_of_centuries\"] = 345\n",
    "\n",
    "\n",
    "employee"
   ]
  },
  {
   "cell_type": "code",
   "execution_count": 48,
   "metadata": {},
   "outputs": [],
   "source": [
    "# Difference ways of indexing\n",
    "# Question: dict['key'] vs dict.get() vs dict.setdefault\n"
   ]
  },
  {
   "cell_type": "code",
   "execution_count": 49,
   "metadata": {},
   "outputs": [
    {
     "name": "stdout",
     "output_type": "stream",
     "text": [
      "employee['strike_rate'] =0.85\n"
     ]
    }
   ],
   "source": [
    "print(f\"{employee['strike_rate'] =}\")"
   ]
  },
  {
   "cell_type": "code",
   "execution_count": 50,
   "metadata": {},
   "outputs": [
    {
     "name": "stdout",
     "output_type": "stream",
     "text": [
      "No such key :'no_of_catches'\n"
     ]
    }
   ],
   "source": [
    "try:\n",
    "    print(f\"{employee['no_of_catches'] =}\")\n",
    "except KeyError as ex:\n",
    "    print(f\"No such key :{str(ex)}\")"
   ]
  },
  {
   "cell_type": "code",
   "execution_count": 52,
   "metadata": {},
   "outputs": [
    {
     "name": "stdout",
     "output_type": "stream",
     "text": [
      "employee.get('strike_rate')                    =0.85\n",
      "employee.get('no_of_catches')                  =None\n"
     ]
    }
   ],
   "source": [
    "print(f\"{employee.get('strike_rate')                    =}\")\n",
    "print(f\"{employee.get('no_of_catches')                  =}\")\n",
    "# NOTE: dict.get() - returns None if key is not present\n"
   ]
  },
  {
   "cell_type": "code",
   "execution_count": 53,
   "metadata": {},
   "outputs": [
    {
     "name": "stdout",
     "output_type": "stream",
     "text": [
      "employee.get('no_of_catches', None)            =None\n",
      "employee.get('no_of_catches', 'No such key')   ='No such key'\n",
      "employee.get('no_of_catches', 234)             =234\n"
     ]
    }
   ],
   "source": [
    "print(f\"{employee.get('no_of_catches', None)            =}\")\n",
    "print(f\"{employee.get('no_of_catches', 'No such key')   =}\")\n",
    "print(f\"{employee.get('no_of_catches', 234)             =}\")"
   ]
  },
  {
   "cell_type": "code",
   "execution_count": 54,
   "metadata": {},
   "outputs": [
    {
     "data": {
      "text/plain": [
       "{'name': 'Saurav Ganguly',\n",
       " 'status': 'rejoined',\n",
       " 'salary': 12222213,\n",
       " 'strike_rate': 0.85,\n",
       " 'no_of_centuries': 345}"
      ]
     },
     "execution_count": 54,
     "metadata": {},
     "output_type": "execute_result"
    }
   ],
   "source": [
    "employee"
   ]
  },
  {
   "cell_type": "code",
   "execution_count": 55,
   "metadata": {},
   "outputs": [
    {
     "name": "stdout",
     "output_type": "stream",
     "text": [
      "employee.setdefault('strike_rate')        =0.85\n",
      "employee.setdefault('no_of_catches')      =None\n"
     ]
    }
   ],
   "source": [
    "print(f\"{employee.setdefault('strike_rate')        =}\")\n",
    "print(f\"{employee.setdefault('no_of_catches')      =}\")  # default is None"
   ]
  },
  {
   "cell_type": "code",
   "execution_count": 56,
   "metadata": {},
   "outputs": [
    {
     "data": {
      "text/plain": [
       "{'name': 'Saurav Ganguly',\n",
       " 'status': 'rejoined',\n",
       " 'salary': 12222213,\n",
       " 'strike_rate': 0.85,\n",
       " 'no_of_centuries': 345,\n",
       " 'no_of_catches': None}"
      ]
     },
     "execution_count": 56,
     "metadata": {},
     "output_type": "execute_result"
    }
   ],
   "source": [
    "employee"
   ]
  },
  {
   "cell_type": "code",
   "execution_count": 57,
   "metadata": {},
   "outputs": [
    {
     "name": "stdout",
     "output_type": "stream",
     "text": [
      "employee.setdefault('no_of_catches', 234) =None\n"
     ]
    },
    {
     "data": {
      "text/plain": [
       "{'name': 'Saurav Ganguly',\n",
       " 'status': 'rejoined',\n",
       " 'salary': 12222213,\n",
       " 'strike_rate': 0.85,\n",
       " 'no_of_centuries': 345,\n",
       " 'no_of_catches': None}"
      ]
     },
     "execution_count": 57,
     "metadata": {},
     "output_type": "execute_result"
    }
   ],
   "source": [
    "print(f\"{employee.setdefault('no_of_catches', 234) =}\")\n",
    "# As this key is present now, default values is not taken\n",
    "\n",
    "employee"
   ]
  },
  {
   "cell_type": "code",
   "execution_count": 58,
   "metadata": {},
   "outputs": [
    {
     "name": "stdout",
     "output_type": "stream",
     "text": [
      "employee.setdefault('ODI_matches_played', 155) =155\n"
     ]
    },
    {
     "data": {
      "text/plain": [
       "{'name': 'Saurav Ganguly',\n",
       " 'status': 'rejoined',\n",
       " 'salary': 12222213,\n",
       " 'strike_rate': 0.85,\n",
       " 'no_of_centuries': 345,\n",
       " 'no_of_catches': None,\n",
       " 'ODI_matches_played': 155}"
      ]
     },
     "execution_count": 58,
     "metadata": {},
     "output_type": "execute_result"
    }
   ],
   "source": [
    "print(f\"{employee.setdefault('ODI_matches_played', 155) =}\")\n",
    "\n",
    "\n",
    "employee"
   ]
  },
  {
   "cell_type": "code",
   "execution_count": 59,
   "metadata": {},
   "outputs": [
    {
     "name": "stdout",
     "output_type": "stream",
     "text": [
      "'no_of_catches' in employee            =True\n",
      "employee.__contains__('no_of_catches')   =True\n"
     ]
    }
   ],
   "source": [
    "#  in - operator - membership check\n",
    "print(f\"{'no_of_catches' in employee            =}\")\n",
    "print(f\"{employee.__contains__('no_of_catches')   =}\")"
   ]
  },
  {
   "cell_type": "code",
   "execution_count": 60,
   "metadata": {},
   "outputs": [
    {
     "name": "stdout",
     "output_type": "stream",
     "text": [
      "'no_of_wickets' in employee            =False\n",
      "employee.__contains__('no_of_wickets') =False\n"
     ]
    }
   ],
   "source": [
    "print(f\"{'no_of_wickets' in employee            =}\")\n",
    "print(f\"{employee.__contains__('no_of_wickets') =}\")"
   ]
  },
  {
   "cell_type": "code",
   "execution_count": 61,
   "metadata": {},
   "outputs": [
    {
     "name": "stdout",
     "output_type": "stream",
     "text": [
      "no_of_catches: None\n"
     ]
    }
   ],
   "source": [
    "if \"no_of_catches\" in employee:\n",
    "    print(\"no_of_catches:\", employee[\"no_of_catches\"])\n",
    "else:\n",
    "    print(\"No such key\")"
   ]
  },
  {
   "cell_type": "code",
   "execution_count": 62,
   "metadata": {},
   "outputs": [],
   "source": [
    "language = dict()"
   ]
  },
  {
   "cell_type": "code",
   "execution_count": 63,
   "metadata": {},
   "outputs": [
    {
     "data": {
      "text/plain": [
       "{}"
      ]
     },
     "execution_count": 63,
     "metadata": {},
     "output_type": "execute_result"
    }
   ],
   "source": [
    "language"
   ]
  },
  {
   "cell_type": "code",
   "execution_count": 64,
   "metadata": {},
   "outputs": [],
   "source": [
    "# add new keys\n",
    "language[\"name\"] = \"Python\"\n",
    "language[\"creator\"] = \"Gudo Van Russum\""
   ]
  },
  {
   "cell_type": "code",
   "execution_count": 65,
   "metadata": {},
   "outputs": [
    {
     "data": {
      "text/plain": [
       "{'name': 'Python', 'creator': 'Gudo Van Russum'}"
      ]
     },
     "execution_count": 65,
     "metadata": {},
     "output_type": "execute_result"
    }
   ],
   "source": [
    "language"
   ]
  },
  {
   "cell_type": "code",
   "execution_count": 66,
   "metadata": {},
   "outputs": [
    {
     "data": {
      "text/plain": [
       "{'name': 'Python', 'creator': 'Gudo Van Russum', 'latest_version': '2.7.16'}"
      ]
     },
     "execution_count": 66,
     "metadata": {},
     "output_type": "execute_result"
    }
   ],
   "source": [
    "# add single key value pair\n",
    "language[\"latest_version\"] = \"2.7.16\"\n",
    "\n",
    "\n",
    "language"
   ]
  },
  {
   "cell_type": "code",
   "execution_count": 67,
   "metadata": {},
   "outputs": [
    {
     "data": {
      "text/plain": [
       "{'name': 'Python',\n",
       " 'maintainer': 'Almighty',\n",
       " 'latest_version': '3.8.5',\n",
       " 'dev_version': '3.9'}"
      ]
     },
     "execution_count": 67,
     "metadata": {},
     "output_type": "execute_result"
    }
   ],
   "source": [
    "# Add more key-value pair in bulk\n",
    "python_dict = {\n",
    "    \"name\": \"Python\",\n",
    "    \"maintainer\": \"Almighty\",\n",
    "    \"latest_version\": \"3.8.5\",\n",
    "    \"dev_version\": \"3.9\",\n",
    "}\n",
    "python_dict"
   ]
  },
  {
   "cell_type": "code",
   "execution_count": 68,
   "metadata": {},
   "outputs": [
    {
     "ename": "TypeError",
     "evalue": "unsupported operand type(s) for +: 'dict' and 'dict'",
     "output_type": "error",
     "traceback": [
      "\u001b[0;31m---------------------------------------------------------------------------\u001b[0m",
      "\u001b[0;31mTypeError\u001b[0m                                 Traceback (most recent call last)",
      "Cell \u001b[0;32mIn[68], line 2\u001b[0m\n\u001b[1;32m      1\u001b[0m \u001b[38;5;66;03m# Dictionary concatenation\u001b[39;00m\n\u001b[0;32m----> 2\u001b[0m \u001b[43mlanguage\u001b[49m\u001b[43m \u001b[49m\u001b[38;5;241;43m+\u001b[39;49m\u001b[43m \u001b[49m\u001b[43mpython_dict\u001b[49m\n",
      "\u001b[0;31mTypeError\u001b[0m: unsupported operand type(s) for +: 'dict' and 'dict'"
     ]
    }
   ],
   "source": [
    "# Dictionary concatenation\n",
    "language + python_dict"
   ]
  },
  {
   "cell_type": "code",
   "execution_count": 69,
   "metadata": {},
   "outputs": [],
   "source": [
    "language.update(python_dict)"
   ]
  },
  {
   "cell_type": "code",
   "execution_count": 70,
   "metadata": {},
   "outputs": [
    {
     "data": {
      "text/plain": [
       "{'name': 'Python',\n",
       " 'creator': 'Gudo Van Russum',\n",
       " 'latest_version': '3.8.5',\n",
       " 'maintainer': 'Almighty',\n",
       " 'dev_version': '3.9'}"
      ]
     },
     "execution_count": 70,
     "metadata": {},
     "output_type": "execute_result"
    }
   ],
   "source": [
    "language"
   ]
  },
  {
   "cell_type": "code",
   "execution_count": 71,
   "metadata": {},
   "outputs": [
    {
     "data": {
      "text/plain": [
       "{'name': 'Python',\n",
       " 'maintainer': 'Almighty',\n",
       " 'latest_version': '3.8.5',\n",
       " 'dev_version': '3.9'}"
      ]
     },
     "execution_count": 71,
     "metadata": {},
     "output_type": "execute_result"
    }
   ],
   "source": [
    "python_dict"
   ]
  },
  {
   "cell_type": "code",
   "execution_count": 72,
   "metadata": {},
   "outputs": [],
   "source": [
    "# NOTE:\n",
    "# 1. first dictionary is modified, and not the second one\n",
    "# 2. If keys are present, values will be updates,\n",
    "#  else new key-values pairs will be created"
   ]
  },
  {
   "cell_type": "code",
   "execution_count": 73,
   "metadata": {},
   "outputs": [
    {
     "data": {
      "text/plain": [
       "{'name': 'Python',\n",
       " 'maintainer': 'Almighty',\n",
       " 'latest_version': '3.8.5',\n",
       " 'dev_version': '3.9.0rc'}"
      ]
     },
     "execution_count": 73,
     "metadata": {},
     "output_type": "execute_result"
    }
   ],
   "source": [
    "python_dict.update({\"dev_version\": \"3.9.0rc\"})\n",
    "\n",
    "\n",
    "python_dict"
   ]
  },
  {
   "cell_type": "code",
   "execution_count": 74,
   "metadata": {},
   "outputs": [],
   "source": [
    "# For deleting key-value pairs\n"
   ]
  },
  {
   "cell_type": "code",
   "execution_count": 75,
   "metadata": {},
   "outputs": [
    {
     "ename": "TypeError",
     "evalue": "pop expected at least 1 argument, got 0",
     "output_type": "error",
     "traceback": [
      "\u001b[0;31m---------------------------------------------------------------------------\u001b[0m",
      "\u001b[0;31mTypeError\u001b[0m                                 Traceback (most recent call last)",
      "Cell \u001b[0;32mIn[75], line 1\u001b[0m\n\u001b[0;32m----> 1\u001b[0m \u001b[43mpython_dict\u001b[49m\u001b[38;5;241;43m.\u001b[39;49m\u001b[43mpop\u001b[49m\u001b[43m(\u001b[49m\u001b[43m)\u001b[49m\n",
      "\u001b[0;31mTypeError\u001b[0m: pop expected at least 1 argument, got 0"
     ]
    }
   ],
   "source": [
    "python_dict.pop()"
   ]
  },
  {
   "cell_type": "code",
   "execution_count": 76,
   "metadata": {},
   "outputs": [
    {
     "name": "stdout",
     "output_type": "stream",
     "text": [
      "python_dict.pop('maintainer') ='Almighty'\n",
      "{'name': 'Python', 'latest_version': '3.8.5', 'dev_version': '3.9.0rc'}\n"
     ]
    }
   ],
   "source": [
    "print(f\"{python_dict.pop('maintainer') =}\")\n",
    "print(python_dict)"
   ]
  },
  {
   "cell_type": "code",
   "execution_count": 77,
   "metadata": {},
   "outputs": [
    {
     "name": "stdout",
     "output_type": "stream",
     "text": [
      "no such key 'maintainer'\n"
     ]
    }
   ],
   "source": [
    "try:\n",
    "    print(f\"{python_dict.pop('maintainer') =}\")\n",
    "except KeyError as ex:\n",
    "    print(\"no such key\", ex)"
   ]
  },
  {
   "cell_type": "code",
   "execution_count": 79,
   "metadata": {},
   "outputs": [
    {
     "name": "stdout",
     "output_type": "stream",
     "text": [
      "python_dict.pop('maintainer', None)          =None\n",
      "python_dict.pop('maintainer', 'no such key') ='no such key'\n",
      "{'name': 'Python', 'latest_version': '3.8.5', 'dev_version': '3.9.0rc'}\n"
     ]
    }
   ],
   "source": [
    "print(f\"{python_dict.pop('maintainer', None)          =}\")\n",
    "print(f\"{python_dict.pop('maintainer', 'no such key') =}\")\n",
    "print(python_dict)"
   ]
  },
  {
   "cell_type": "code",
   "execution_count": 80,
   "metadata": {},
   "outputs": [
    {
     "data": {
      "text/plain": [
       "('dev_version', '3.9.0rc')"
      ]
     },
     "execution_count": 80,
     "metadata": {},
     "output_type": "execute_result"
    }
   ],
   "source": [
    "# last key-value pair will be deleted\n",
    "python_dict.popitem()"
   ]
  },
  {
   "cell_type": "code",
   "execution_count": 81,
   "metadata": {},
   "outputs": [
    {
     "data": {
      "text/plain": [
       "('latest_version', '3.8.5')"
      ]
     },
     "execution_count": 81,
     "metadata": {},
     "output_type": "execute_result"
    }
   ],
   "source": [
    "python_dict.popitem()"
   ]
  },
  {
   "cell_type": "code",
   "execution_count": 82,
   "metadata": {},
   "outputs": [
    {
     "data": {
      "text/plain": [
       "{'name': 'Python'}"
      ]
     },
     "execution_count": 82,
     "metadata": {},
     "output_type": "execute_result"
    }
   ],
   "source": [
    "python_dict"
   ]
  },
  {
   "cell_type": "code",
   "execution_count": 83,
   "metadata": {},
   "outputs": [],
   "source": [
    "python_dict.clear()"
   ]
  },
  {
   "cell_type": "code",
   "execution_count": 84,
   "metadata": {},
   "outputs": [
    {
     "data": {
      "text/plain": [
       "{}"
      ]
     },
     "execution_count": 84,
     "metadata": {},
     "output_type": "execute_result"
    }
   ],
   "source": [
    "python_dict"
   ]
  },
  {
   "cell_type": "code",
   "execution_count": 88,
   "metadata": {},
   "outputs": [
    {
     "data": {
      "text/plain": [
       "'Gudo VAn russum'"
      ]
     },
     "execution_count": 88,
     "metadata": {},
     "output_type": "execute_result"
    }
   ],
   "source": [
    "python_dict = {'name': 'Gudo VAn russum', 'age': 76}\n",
    "python_dict['name']"
   ]
  },
  {
   "cell_type": "code",
   "execution_count": 89,
   "metadata": {},
   "outputs": [],
   "source": [
    "del python_dict['name']"
   ]
  },
  {
   "cell_type": "code",
   "execution_count": 90,
   "metadata": {},
   "outputs": [
    {
     "data": {
      "text/plain": [
       "{'age': 76}"
      ]
     },
     "execution_count": 90,
     "metadata": {},
     "output_type": "execute_result"
    }
   ],
   "source": [
    "python_dict"
   ]
  },
  {
   "cell_type": "code",
   "execution_count": 91,
   "metadata": {},
   "outputs": [],
   "source": [
    "del python_dict"
   ]
  },
  {
   "cell_type": "code",
   "execution_count": 93,
   "metadata": {},
   "outputs": [
    {
     "ename": "NameError",
     "evalue": "name 'python_dict' is not defined",
     "output_type": "error",
     "traceback": [
      "\u001b[0;31m---------------------------------------------------------------------------\u001b[0m",
      "\u001b[0;31mNameError\u001b[0m                                 Traceback (most recent call last)",
      "Cell \u001b[0;32mIn[93], line 1\u001b[0m\n\u001b[0;32m----> 1\u001b[0m \u001b[43mpython_dict\u001b[49m\n",
      "\u001b[0;31mNameError\u001b[0m: name 'python_dict' is not defined"
     ]
    }
   ],
   "source": [
    "python_dict"
   ]
  },
  {
   "cell_type": "code",
   "execution_count": 94,
   "metadata": {},
   "outputs": [],
   "source": [
    "#  Merging two dicts\n",
    "a = {\"one\": 1}\n",
    "b = {\"one\": 2, \"two\": 2}"
   ]
  },
  {
   "cell_type": "code",
   "execution_count": 95,
   "metadata": {},
   "outputs": [
    {
     "name": "stdout",
     "output_type": "stream",
     "text": [
      "c ={'one': 2, 'two': 2}\n"
     ]
    }
   ],
   "source": [
    "# Dict unpacking\n",
    "c = {**a, **b}\n",
    "print(f\"{c =}\")  # {'one': 2, 'two': 2}"
   ]
  },
  {
   "cell_type": "code",
   "execution_count": 96,
   "metadata": {},
   "outputs": [
    {
     "ename": "SyntaxError",
     "evalue": "invalid syntax (3173213217.py, line 1)",
     "output_type": "error",
     "traceback": [
      "\u001b[0;36m  Cell \u001b[0;32mIn[96], line 1\u001b[0;36m\u001b[0m\n\u001b[0;31m    **b\u001b[0m\n\u001b[0m    ^\u001b[0m\n\u001b[0;31mSyntaxError\u001b[0m\u001b[0;31m:\u001b[0m invalid syntax\n"
     ]
    }
   ],
   "source": [
    "**b"
   ]
  },
  {
   "cell_type": "code",
   "execution_count": 97,
   "metadata": {},
   "outputs": [
    {
     "data": {
      "text/plain": [
       "{'one': 2, 'two': 2}"
      ]
     },
     "execution_count": 97,
     "metadata": {},
     "output_type": "execute_result"
    }
   ],
   "source": [
    "{**b}"
   ]
  },
  {
   "cell_type": "code",
   "execution_count": 98,
   "metadata": {},
   "outputs": [
    {
     "name": "stdout",
     "output_type": "stream",
     "text": [
      "c2=ChainMap({'one': 1}, {'one': 2, 'two': 2})\n"
     ]
    }
   ],
   "source": [
    "import collections \n",
    "\n",
    "c2 = collections.ChainMap(a, b)\n",
    "print(f\"{c2=}\")  # ChainMap({'one': 1}, {'one': 2, 'two': 2})"
   ]
  },
  {
   "cell_type": "code",
   "execution_count": 99,
   "metadata": {},
   "outputs": [
    {
     "data": {
      "text/plain": [
       "{'one': 1, 'two': 2}"
      ]
     },
     "execution_count": 99,
     "metadata": {},
     "output_type": "execute_result"
    }
   ],
   "source": [
    "dict(c2)"
   ]
  },
  {
   "cell_type": "code",
   "execution_count": 100,
   "metadata": {},
   "outputs": [
    {
     "name": "stdout",
     "output_type": "stream",
     "text": [
      "d = {'one': 2, 'two': 2}\n"
     ]
    }
   ],
   "source": [
    "# Python 3.9+\n",
    "d = a | b\n",
    "print(f\"{d = }\")  # {'one': 2, 'two': 2}"
   ]
  },
  {
   "cell_type": "code",
   "execution_count": 101,
   "metadata": {},
   "outputs": [
    {
     "name": "stdout",
     "output_type": "stream",
     "text": [
      "a = {'one': 1}\n",
      "b = {'one': 2, 'two': 2}\n",
      "a = {'one': 2, 'two': 2}\n",
      "b = {'one': 2, 'two': 2}\n"
     ]
    }
   ],
   "source": [
    "print(f\"{a = }\")\n",
    "print(f\"{b = }\")\n",
    "\n",
    "a |= b\n",
    "print(f\"{a = }\")\n",
    "print(f\"{b = }\")"
   ]
  },
  {
   "cell_type": "code",
   "execution_count": 102,
   "metadata": {},
   "outputs": [
    {
     "name": "stdout",
     "output_type": "stream",
     "text": [
      "{0}\n",
      "{False}\n"
     ]
    }
   ],
   "source": [
    "# set Union Is Not Commutative\n",
    "print({0} | {False})  # {0}\n",
    "print({False} | {0})  # {False}"
   ]
  },
  {
   "cell_type": "code",
   "execution_count": 103,
   "metadata": {},
   "outputs": [
    {
     "name": "stdout",
     "output_type": "stream",
     "text": [
      "{0: 'False'}\n",
      "{False: '0'}\n"
     ]
    }
   ],
   "source": [
    "print({0: \"0\"} | {False: \"False\"})  # {0: 'False'}\n",
    "print({False: \"False\"} | {0: \"0\"})  # {False: '0'}"
   ]
  },
  {
   "cell_type": "code",
   "execution_count": 104,
   "metadata": {},
   "outputs": [
    {
     "name": "stdout",
     "output_type": "stream",
     "text": [
      "{0: 'False', 1: 'True'}\n"
     ]
    }
   ],
   "source": [
    "mydict = {0: \"zero\", False: \"False\", 1: \"one\", True: \"True\"}\n",
    "print(mydict)"
   ]
  },
  {
   "cell_type": "code",
   "execution_count": 105,
   "metadata": {},
   "outputs": [
    {
     "name": "stdout",
     "output_type": "stream",
     "text": [
      "{False: 'zero', True: 'one'}\n"
     ]
    }
   ],
   "source": [
    "mydict = {False: \"False\", 0: \"zero\", True: \"True\", 1: \"one\"}\n",
    "print(mydict)"
   ]
  },
  {
   "cell_type": "code",
   "execution_count": 106,
   "metadata": {},
   "outputs": [],
   "source": [
    "## Assignment -- create a dict one with single dimension and another with dict with dict (mulgti-dimension) and see the importanvce of dict.copy() (shallow copy ) and copy.deepcopy"
   ]
  },
  {
   "cell_type": "markdown",
   "metadata": {},
   "source": [
    "## ways of defining dictionaries"
   ]
  },
  {
   "cell_type": "code",
   "execution_count": 107,
   "metadata": {},
   "outputs": [],
   "source": [
    "# ways of creating dictionary\n",
    "a = {\"one\": 1, \"two\": 2, \"three\": 3}\n",
    "b = dict(one=1, two=2, three=3)\n",
    "c = dict([(\"two\", 2), (\"one\", 1), (\"three\", 3)])\n",
    "d = dict(zip([\"one\", \"two\", \"three\"], [1, 2, 3]))\n",
    "e = dict({\"three\": 3, \"one\": 1, \"two\": 2})\n",
    "\n",
    "assert a == b == c == d == e"
   ]
  },
  {
   "cell_type": "code",
   "execution_count": 108,
   "metadata": {},
   "outputs": [
    {
     "data": {
      "text/plain": [
       "['p', 'y', 't', 'h', 'o', 'n']"
      ]
     },
     "execution_count": 108,
     "metadata": {},
     "output_type": "execute_result"
    }
   ],
   "source": [
    "list(\"python\")"
   ]
  },
  {
   "cell_type": "code",
   "execution_count": 109,
   "metadata": {},
   "outputs": [
    {
     "data": {
      "text/plain": [
       "('p', 'y', 't', 'h', 'o', 'n')"
      ]
     },
     "execution_count": 109,
     "metadata": {},
     "output_type": "execute_result"
    }
   ],
   "source": [
    "tuple(\"python\")"
   ]
  },
  {
   "cell_type": "code",
   "execution_count": 110,
   "metadata": {},
   "outputs": [
    {
     "data": {
      "text/plain": [
       "{'h', 'n', 'o', 'p', 't', 'y'}"
      ]
     },
     "execution_count": 110,
     "metadata": {},
     "output_type": "execute_result"
    }
   ],
   "source": [
    "set(\"python\")"
   ]
  },
  {
   "cell_type": "code",
   "execution_count": 111,
   "metadata": {},
   "outputs": [
    {
     "ename": "ValueError",
     "evalue": "dictionary update sequence element #0 has length 1; 2 is required",
     "output_type": "error",
     "traceback": [
      "\u001b[0;31m---------------------------------------------------------------------------\u001b[0m",
      "\u001b[0;31mValueError\u001b[0m                                Traceback (most recent call last)",
      "Cell \u001b[0;32mIn[111], line 1\u001b[0m\n\u001b[0;32m----> 1\u001b[0m \u001b[38;5;28;43mdict\u001b[39;49m\u001b[43m(\u001b[49m\u001b[38;5;124;43m\"\u001b[39;49m\u001b[38;5;124;43mpython\u001b[39;49m\u001b[38;5;124;43m\"\u001b[39;49m\u001b[43m)\u001b[49m\n",
      "\u001b[0;31mValueError\u001b[0m: dictionary update sequence element #0 has length 1; 2 is required"
     ]
    }
   ],
   "source": [
    "dict(\"python\")"
   ]
  },
  {
   "cell_type": "code",
   "execution_count": 112,
   "metadata": {},
   "outputs": [
    {
     "ename": "TypeError",
     "evalue": "dict expected at most 1 argument, got 2",
     "output_type": "error",
     "traceback": [
      "\u001b[0;31m---------------------------------------------------------------------------\u001b[0m",
      "\u001b[0;31mTypeError\u001b[0m                                 Traceback (most recent call last)",
      "Cell \u001b[0;32mIn[112], line 1\u001b[0m\n\u001b[0;32m----> 1\u001b[0m \u001b[38;5;28;43mdict\u001b[39;49m\u001b[43m(\u001b[49m\u001b[38;5;124;43m\"\u001b[39;49m\u001b[38;5;124;43mpython\u001b[39;49m\u001b[38;5;124;43m\"\u001b[39;49m\u001b[43m,\u001b[49m\u001b[43m \u001b[49m\u001b[38;5;124;43m\"\u001b[39;49m\u001b[38;5;124;43mlanguage\u001b[39;49m\u001b[38;5;124;43m\"\u001b[39;49m\u001b[43m)\u001b[49m\n",
      "\u001b[0;31mTypeError\u001b[0m: dict expected at most 1 argument, got 2"
     ]
    }
   ],
   "source": [
    "dict(\"python\", \"language\")"
   ]
  },
  {
   "cell_type": "code",
   "execution_count": 113,
   "metadata": {},
   "outputs": [
    {
     "data": {
      "text/plain": [
       "<zip at 0x7942eab4b200>"
      ]
     },
     "execution_count": 113,
     "metadata": {},
     "output_type": "execute_result"
    }
   ],
   "source": [
    "zip(\"python\", \"language\")"
   ]
  },
  {
   "cell_type": "code",
   "execution_count": 114,
   "metadata": {},
   "outputs": [
    {
     "data": {
      "text/plain": [
       "[('p', 'l'), ('y', 'a'), ('t', 'n'), ('h', 'g'), ('o', 'u'), ('n', 'a')]"
      ]
     },
     "execution_count": 114,
     "metadata": {},
     "output_type": "execute_result"
    }
   ],
   "source": [
    "list(    zip(\"python\", \"language\")     )"
   ]
  },
  {
   "cell_type": "code",
   "execution_count": 115,
   "metadata": {},
   "outputs": [
    {
     "data": {
      "text/plain": [
       "{'p': 'l', 'y': 'a', 't': 'n', 'h': 'g', 'o': 'u', 'n': 'a'}"
      ]
     },
     "execution_count": 115,
     "metadata": {},
     "output_type": "execute_result"
    }
   ],
   "source": [
    "dict(    zip(\"python\", \"language\")     )"
   ]
  },
  {
   "cell_type": "code",
   "execution_count": 116,
   "metadata": {},
   "outputs": [
    {
     "name": "stdout",
     "output_type": "stream",
     "text": [
      "{1: 'red', 2: 'blue', 3: 'yellow'}\n"
     ]
    }
   ],
   "source": [
    "# creating dict from pairs\n",
    "data = [(1, \"red\"), (2, \"blue\"), (3, \"yellow\")]\n",
    "print(dict(data))"
   ]
  },
  {
   "cell_type": "code",
   "execution_count": 117,
   "metadata": {},
   "outputs": [
    {
     "name": "stdout",
     "output_type": "stream",
     "text": [
      "{'red': 1, 'blue': 2, 'yellow': 3}\n"
     ]
    }
   ],
   "source": [
    "data = [(\"red\", 1), (\"blue\", 2), (\"yellow\", 3)]\n",
    "print(dict(data))"
   ]
  },
  {
   "cell_type": "code",
   "execution_count": 118,
   "metadata": {},
   "outputs": [
    {
     "name": "stdout",
     "output_type": "stream",
     "text": [
      "{'red': 1, 'blue': 2, 'yellow': 3}\n"
     ]
    }
   ],
   "source": [
    "data = ((\"red\", 1), (\"blue\", 2), (\"yellow\", 3))\n",
    "print(dict(data))"
   ]
  },
  {
   "cell_type": "code",
   "execution_count": 119,
   "metadata": {},
   "outputs": [
    {
     "name": "stdout",
     "output_type": "stream",
     "text": [
      "{'red': 1, 'blue': 2, 'yellow': 3}\n"
     ]
    }
   ],
   "source": [
    "data = {(\"red\", 1), (\"blue\", 2), (\"yellow\", 3)}\n",
    "print(dict(data))"
   ]
  },
  {
   "cell_type": "code",
   "execution_count": 120,
   "metadata": {},
   "outputs": [
    {
     "name": "stdout",
     "output_type": "stream",
     "text": [
      "{'red': 1, 'blue': 2, 'yellow': 3}\n"
     ]
    }
   ],
   "source": [
    "data = ([\"red\", 1], [\"blue\", 2], (\"yellow\", 3))\n",
    "print(dict(data))"
   ]
  },
  {
   "cell_type": "code",
   "execution_count": 121,
   "metadata": {},
   "outputs": [
    {
     "ename": "ValueError",
     "evalue": "dictionary update sequence element #0 has length 3; 2 is required",
     "output_type": "error",
     "traceback": [
      "\u001b[0;31m---------------------------------------------------------------------------\u001b[0m",
      "\u001b[0;31mValueError\u001b[0m                                Traceback (most recent call last)",
      "Cell \u001b[0;32mIn[121], line 2\u001b[0m\n\u001b[1;32m      1\u001b[0m data \u001b[38;5;241m=\u001b[39m ([\u001b[38;5;124m'\u001b[39m\u001b[38;5;124mred\u001b[39m\u001b[38;5;124m'\u001b[39m, \u001b[38;5;241m1\u001b[39m, \u001b[38;5;124m'\u001b[39m\u001b[38;5;124mA\u001b[39m\u001b[38;5;124m'\u001b[39m], [\u001b[38;5;124m'\u001b[39m\u001b[38;5;124mblue\u001b[39m\u001b[38;5;124m'\u001b[39m, \u001b[38;5;241m2\u001b[39m, \u001b[38;5;124m'\u001b[39m\u001b[38;5;124mB\u001b[39m\u001b[38;5;124m'\u001b[39m], (\u001b[38;5;124m'\u001b[39m\u001b[38;5;124myellow\u001b[39m\u001b[38;5;124m'\u001b[39m, \u001b[38;5;241m3\u001b[39m, \u001b[38;5;124m\"\u001b[39m\u001b[38;5;124mC\u001b[39m\u001b[38;5;124m\"\u001b[39m))\n\u001b[0;32m----> 2\u001b[0m \u001b[38;5;28mprint\u001b[39m(\u001b[38;5;28;43mdict\u001b[39;49m\u001b[43m(\u001b[49m\u001b[43mdata\u001b[49m\u001b[43m)\u001b[49m)\n",
      "\u001b[0;31mValueError\u001b[0m: dictionary update sequence element #0 has length 3; 2 is required"
     ]
    }
   ],
   "source": [
    "data = (['red', 1, 'A'], ['blue', 2, 'B'], ('yellow', 3, \"C\"))\n",
    "print(dict(data))"
   ]
  },
  {
   "cell_type": "code",
   "execution_count": 122,
   "metadata": {},
   "outputs": [
    {
     "name": "stdout",
     "output_type": "stream",
     "text": [
      "{'red': (1, 'A'), 'blue': (2, 'B'), 'yellow': (3, 'C')}\n",
      "{('red', 1): 'A', ('blue', 2): 'B', 'yellow': (3, 'C')}\n"
     ]
    }
   ],
   "source": [
    "data = ([\"red\", (1, \"A\")], [\"blue\", (2, \"B\")], (\"yellow\", (3, \"C\")))\n",
    "print(dict(data))\n",
    "\n",
    "data = ([(\"red\", 1), \"A\"], [(\"blue\", 2), \"B\"], (\"yellow\", (3, \"C\")))\n",
    "print(dict(data))"
   ]
  },
  {
   "cell_type": "code",
   "execution_count": 125,
   "metadata": {},
   "outputs": [
    {
     "data": {
      "text/plain": [
       "<zip at 0x7942eaa16640>"
      ]
     },
     "execution_count": 125,
     "metadata": {},
     "output_type": "execute_result"
    }
   ],
   "source": [
    "cities = (   \"New Delhi\", \"New York\", \"Shangai\", \"Berlin\")\n",
    "countries = [\"India\",     \"USA\",      \"China\",   \"Germany\", \"London\"]\n",
    "\n",
    "zip(cities, countries)"
   ]
  },
  {
   "cell_type": "code",
   "execution_count": 126,
   "metadata": {},
   "outputs": [
    {
     "data": {
      "text/plain": [
       "[('New Delhi', 'India'),\n",
       " ('New York', 'USA'),\n",
       " ('Shangai', 'China'),\n",
       " ('Berlin', 'Germany')]"
      ]
     },
     "execution_count": 126,
     "metadata": {},
     "output_type": "execute_result"
    }
   ],
   "source": [
    "list( zip(cities, countries) )"
   ]
  },
  {
   "cell_type": "code",
   "execution_count": 127,
   "metadata": {},
   "outputs": [
    {
     "data": {
      "text/plain": [
       "{'New Delhi': 'India',\n",
       " 'New York': 'USA',\n",
       " 'Shangai': 'China',\n",
       " 'Berlin': 'Germany'}"
      ]
     },
     "execution_count": 127,
     "metadata": {},
     "output_type": "execute_result"
    }
   ],
   "source": [
    "dict( zip(cities, countries) )"
   ]
  },
  {
   "cell_type": "code",
   "execution_count": 128,
   "metadata": {},
   "outputs": [
    {
     "name": "stdout",
     "output_type": "stream",
     "text": [
      "{'Berlin': 'Germany',\n",
      " 'New Delhi': 'India',\n",
      " 'New York': 'USA',\n",
      " 'Shangai': 'China'}\n",
      "{'China': 'Shangai',\n",
      " 'Germany': 'Berlin',\n",
      " 'India': 'New Delhi',\n",
      " 'USA': 'New York'}\n"
     ]
    }
   ],
   "source": [
    "cities_n_countries = dict(zip(cities, countries))\n",
    "pprint(cities_n_countries)\n",
    "\n",
    "\n",
    "counties_n_cities = dict(zip(countries, cities))\n",
    "pprint(counties_n_cities)"
   ]
  },
  {
   "cell_type": "code",
   "execution_count": 129,
   "metadata": {},
   "outputs": [
    {
     "name": "stdout",
     "output_type": "stream",
     "text": [
      "{'P': 0, 'y': 1, 't': 2, 'h': 3, 'o': 4, 'n': 5}\n",
      "{'P': 'f', 'y': 'i', 't': 's', 'h': 'h'}\n"
     ]
    }
   ],
   "source": [
    "print(dict(zip(\"Python\", range(6))))\n",
    "print(dict(zip(\"Python\", \"fish\")))"
   ]
  },
  {
   "cell_type": "code",
   "execution_count": 130,
   "metadata": {},
   "outputs": [
    {
     "name": "stdout",
     "output_type": "stream",
     "text": [
      "{1: 'a', 2: 'b', 3: 'c', 4: 'd'}\n"
     ]
    }
   ],
   "source": [
    "# Question: How to interchange keys with values in dict\n",
    "my_dict = dict(zip((1, 2, 3, 4), \"abcdef\"))\n",
    "print(my_dict)"
   ]
  },
  {
   "cell_type": "code",
   "execution_count": 131,
   "metadata": {},
   "outputs": [
    {
     "data": {
      "text/plain": [
       "{'a': 1, 'b': 2, 'c': 3, 'd': 4}"
      ]
     },
     "execution_count": 131,
     "metadata": {},
     "output_type": "execute_result"
    }
   ],
   "source": [
    "# question - How to reverse the key -values as values-keys\n",
    "reverse_dict = {}\n",
    "for each_key, each_value in my_dict.items():\n",
    "    # print(f\"{each_key =} \\t {each_value =}\")\n",
    "    # reverse_dict[each_key] = each_value\n",
    "    reverse_dict[each_value] = each_key\n",
    "\n",
    "reverse_dict"
   ]
  },
  {
   "cell_type": "code",
   "execution_count": null,
   "metadata": {},
   "outputs": [],
   "source": []
  }
 ],
 "metadata": {
  "kernelspec": {
   "display_name": "Python 3",
   "language": "python",
   "name": "python3"
  },
  "language_info": {
   "codemirror_mode": {
    "name": "ipython",
    "version": 3
   },
   "file_extension": ".py",
   "mimetype": "text/x-python",
   "name": "python",
   "nbconvert_exporter": "python",
   "pygments_lexer": "ipython3",
   "version": "3.12.1"
  }
 },
 "nbformat": 4,
 "nbformat_minor": 2
}
