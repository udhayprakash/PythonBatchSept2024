{
 "cells": [
  {
   "cell_type": "markdown",
   "metadata": {},
   "source": [
    "# working with Iterables"
   ]
  },
  {
   "cell_type": "code",
   "execution_count": 1,
   "metadata": {},
   "outputs": [
    {
     "name": "stdout",
     "output_type": "stream",
     "text": [
      "values                        =[1, 2, 3, 4, 2, 1, 3, 1, 4, 3, 3]\n"
     ]
    }
   ],
   "source": [
    "values = [1, 2, 3, 4, 2, 1, 3, 1, 4, 3, 3]\n",
    "print(f\"{values                        =}\")"
   ]
  },
  {
   "cell_type": "code",
   "execution_count": 3,
   "metadata": {},
   "outputs": [
    {
     "data": {
      "text/plain": [
       "4"
      ]
     },
     "execution_count": 3,
     "metadata": {},
     "output_type": "execute_result"
    }
   ],
   "source": [
    "max(values)"
   ]
  },
  {
   "cell_type": "code",
   "execution_count": 4,
   "metadata": {},
   "outputs": [
    {
     "data": {
      "text/plain": [
       "Counter({3: 4, 1: 3, 2: 2, 4: 2})"
      ]
     },
     "execution_count": 4,
     "metadata": {},
     "output_type": "execute_result"
    }
   ],
   "source": [
    "from collections import Counter\n",
    "\n",
    "Counter(values)"
   ]
  },
  {
   "cell_type": "code",
   "execution_count": 5,
   "metadata": {},
   "outputs": [
    {
     "data": {
      "text/plain": [
       "2"
      ]
     },
     "execution_count": 5,
     "metadata": {},
     "output_type": "execute_result"
    }
   ],
   "source": [
    "values.count(2)"
   ]
  },
  {
   "cell_type": "code",
   "execution_count": 6,
   "metadata": {},
   "outputs": [
    {
     "data": {
      "text/plain": [
       "4"
      ]
     },
     "execution_count": 6,
     "metadata": {},
     "output_type": "execute_result"
    }
   ],
   "source": [
    "values.count(3)"
   ]
  },
  {
   "cell_type": "code",
   "execution_count": 7,
   "metadata": {},
   "outputs": [
    {
     "data": {
      "text/plain": [
       "3"
      ]
     },
     "execution_count": 7,
     "metadata": {},
     "output_type": "execute_result"
    }
   ],
   "source": [
    "max(values, key=values.count)"
   ]
  },
  {
   "cell_type": "code",
   "execution_count": 8,
   "metadata": {},
   "outputs": [
    {
     "name": "stdout",
     "output_type": "stream",
     "text": [
      "max(values)                   =4\n",
      "values.count(2)               =2\n",
      "values.count(3)               =4\n",
      "max(values, key=values.count) =3\n"
     ]
    }
   ],
   "source": [
    "print(f\"{max(values)                   =}\")\n",
    "print(f\"{values.count(2)               =}\")\n",
    "print(f\"{values.count(3)               =}\")\n",
    "print(f\"{max(values, key=values.count) =}\")  # mode"
   ]
  },
  {
   "cell_type": "code",
   "execution_count": 9,
   "metadata": {},
   "outputs": [
    {
     "name": "stdout",
     "output_type": "stream",
     "text": [
      "min(values)                   =1\n",
      "min(values, key=values.count) =2\n"
     ]
    }
   ],
   "source": [
    "print(f\"{min(values)                   =}\")\n",
    "print(f\"{min(values, key=values.count) =}\")"
   ]
  },
  {
   "cell_type": "code",
   "execution_count": 10,
   "metadata": {},
   "outputs": [
    {
     "name": "stdout",
     "output_type": "stream",
     "text": [
      "add_result                    =27\n"
     ]
    }
   ],
   "source": [
    "# Method 1\n",
    "add_result = 0\n",
    "for num in values:\n",
    "    add_result += num\n",
    "print(f\"{add_result                    =}\")"
   ]
  },
  {
   "cell_type": "code",
   "execution_count": 11,
   "metadata": {},
   "outputs": [
    {
     "name": "stdout",
     "output_type": "stream",
     "text": [
      "sum(values)                   =27\n"
     ]
    }
   ],
   "source": [
    "# Method 2\n",
    "print(f\"{sum(values)                   =}\")"
   ]
  },
  {
   "cell_type": "code",
   "execution_count": 12,
   "metadata": {},
   "outputs": [
    {
     "name": "stdout",
     "output_type": "stream",
     "text": [
      "sum(values, start=0         ) =27\n",
      "sum(values, start=4         ) =31\n",
      "sum(values, start=100       ) =127\n"
     ]
    }
   ],
   "source": [
    "print(f\"{sum(values, start=0         ) =}\")  # +0\n",
    "print(f\"{sum(values, start=4         ) =}\")  # +4\n",
    "print(f\"{sum(values, start=100       ) =}\")  # +100"
   ]
  },
  {
   "cell_type": "code",
   "execution_count": 13,
   "metadata": {},
   "outputs": [
    {
     "name": "stdout",
     "output_type": "stream",
     "text": [
      "sorted(values)                                  =[1, 1, 1, 2, 2, 3, 3, 3, 3, 4, 4]\n",
      "sorted(values, key=values.count)                =[2, 4, 2, 4, 1, 1, 1, 3, 3, 3, 3]\n",
      "sorted(values, key=values.count, reverse=True)  =[3, 3, 3, 3, 1, 1, 1, 2, 4, 2, 4]\n",
      "sorted(values, key=values.count, reverse=False) =[2, 4, 2, 4, 1, 1, 1, 3, 3, 3, 3]\n"
     ]
    }
   ],
   "source": [
    "print(f\"{sorted(values)                                  =}\")\n",
    "print(f\"{sorted(values, key=values.count)                =}\")\n",
    "print(f\"{sorted(values, key=values.count, reverse=True)  =}\")\n",
    "print(f\"{sorted(values, key=values.count, reverse=False) =}\")"
   ]
  },
  {
   "cell_type": "code",
   "execution_count": 14,
   "metadata": {},
   "outputs": [
    {
     "name": "stdout",
     "output_type": "stream",
     "text": [
      "values                 =[3, 2, 6, 4, 9, 5]\n",
      "values                 =[5, 9, 4, 6, 2, 3]\n",
      "reversed(values)       =<list_reverseiterator object at 0x7595e862f760>\n",
      "list(reversed(values)) =[3, 2, 6, 4, 9, 5]\n"
     ]
    }
   ],
   "source": [
    "# list.reverse() and reversed() will reverse the order of assignment\n",
    "values = [3, 2, 6, 4, 9, 5]\n",
    "print(f\"{values                 =}\")\n",
    "values.reverse()\n",
    "print(f\"{values                 =}\")\n",
    "print(f\"{reversed(values)       =}\")\n",
    "print(f\"{list(reversed(values)) =}\")"
   ]
  },
  {
   "cell_type": "code",
   "execution_count": 15,
   "metadata": {},
   "outputs": [
    {
     "name": "stdout",
     "output_type": "stream",
     "text": [
      "sorted(word)              = ['a', 'a', 'a', 'a', 'l', 'l', 'm', 'm', 'y']\n",
      "sorted(word, reverse=True)= ['y', 'm', 'm', 'l', 'l', 'a', 'a', 'a', 'a']\n"
     ]
    }
   ],
   "source": [
    "word = \"malayalam\"\n",
    "\n",
    "print(f\"{sorted(word)              = }\")\n",
    "print(f\"{sorted(word, reverse=True)= }\")\n"
   ]
  },
  {
   "cell_type": "code",
   "execution_count": 16,
   "metadata": {},
   "outputs": [
    {
     "name": "stdout",
     "output_type": "stream",
     "text": [
      "sorted(word)              = ['malayalam']\n",
      "sorted(word, reverse=True)= ['malayalam']\n"
     ]
    }
   ],
   "source": [
    "word = [\"malayalam\"]\n",
    "\n",
    "print(f\"{sorted(word)              = }\")\n",
    "print(f\"{sorted(word, reverse=True)= }\")\n"
   ]
  },
  {
   "cell_type": "code",
   "execution_count": 17,
   "metadata": {},
   "outputs": [
    {
     "name": "stdout",
     "output_type": "stream",
     "text": [
      "max(word)      = 'y'\n",
      "max(word, key=word.count)= 'a'\n",
      "min(word)      = 'a'\n",
      "min(word, key=word.count)= 'y'\n"
     ]
    }
   ],
   "source": [
    "word = \"malayalam\"\n",
    "\n",
    "print(f\"{max(word)      = }\")\n",
    "print(f\"{max(word, key=word.count)= }\")\n",
    "\n",
    "print(f\"{min(word)      = }\")\n",
    "print(f\"{min(word, key=word.count)= }\")"
   ]
  },
  {
   "cell_type": "code",
   "execution_count": 18,
   "metadata": {},
   "outputs": [
    {
     "ename": "TypeError",
     "evalue": "'<' not supported between instances of 'str' and 'int'",
     "output_type": "error",
     "traceback": [
      "\u001b[0;31m---------------------------------------------------------------------------\u001b[0m",
      "\u001b[0;31mTypeError\u001b[0m                                 Traceback (most recent call last)",
      "Cell \u001b[0;32mIn[18], line 3\u001b[0m\n\u001b[1;32m      1\u001b[0m values \u001b[38;5;241m=\u001b[39m [\u001b[38;5;241m1\u001b[39m, \u001b[38;5;124m\"\u001b[39m\u001b[38;5;124m2\u001b[39m\u001b[38;5;124m\"\u001b[39m, \u001b[38;5;124m\"\u001b[39m\u001b[38;5;124m3\u001b[39m\u001b[38;5;124m\"\u001b[39m, \u001b[38;5;241m4\u001b[39m, \u001b[38;5;124m\"\u001b[39m\u001b[38;5;124m5\u001b[39m\u001b[38;5;124m\"\u001b[39m, \u001b[38;5;124m\"\u001b[39m\u001b[38;5;124m6\u001b[39m\u001b[38;5;124m\"\u001b[39m]\n\u001b[0;32m----> 3\u001b[0m \u001b[38;5;28;43msorted\u001b[39;49m\u001b[43m(\u001b[49m\u001b[43mvalues\u001b[49m\u001b[43m)\u001b[49m\n",
      "\u001b[0;31mTypeError\u001b[0m: '<' not supported between instances of 'str' and 'int'"
     ]
    }
   ],
   "source": [
    "values = [1, \"2\", \"3\", 4, \"5\", \"6\"]\n",
    "\n",
    "sorted(values)"
   ]
  },
  {
   "cell_type": "code",
   "execution_count": 19,
   "metadata": {},
   "outputs": [
    {
     "data": {
      "text/plain": [
       "['6', '5', 4, '3', '2', 1]"
      ]
     },
     "execution_count": 19,
     "metadata": {},
     "output_type": "execute_result"
    }
   ],
   "source": [
    "values = [1, \"2\", \"3\", 4, \"5\", \"6\"]\n",
    "\n",
    "sorted(values, key=lambda val: int(val))\n",
    "sorted(values, key=lambda val: int(val), reverse=True)\n",
    "list(reversed(values))"
   ]
  },
  {
   "cell_type": "code",
   "execution_count": 20,
   "metadata": {},
   "outputs": [
    {
     "name": "stdout",
     "output_type": "stream",
     "text": [
      "pairs =[(1, '2'), ('2', '3'), ('3', 4), (4, '5'), ('5', '6')]\n"
     ]
    }
   ],
   "source": [
    "\n",
    "pairs = list(zip(values, values[1:]))\n",
    "print(f\"{pairs =}\")"
   ]
  },
  {
   "cell_type": "code",
   "execution_count": 21,
   "metadata": {},
   "outputs": [
    {
     "data": {
      "text/plain": [
       "{1: '2', '2': '3', '3': 4, 4: '5', '5': '6'}"
      ]
     },
     "execution_count": 21,
     "metadata": {},
     "output_type": "execute_result"
    }
   ],
   "source": [
    "dict(pairs)"
   ]
  },
  {
   "cell_type": "code",
   "execution_count": 22,
   "metadata": {},
   "outputs": [
    {
     "name": "stdout",
     "output_type": "stream",
     "text": [
      "pairs =[(1, '2'), ('2', '3'), ('3', 4), (4, '5'), ('5', '6')]\n",
      "pairs =[(1, '2'), ('2', '3'), ('3', 4), (4, '5'), ('5', '6')]\n"
     ]
    }
   ],
   "source": [
    "pairs = list(zip(values, values[1:]))\n",
    "print(f\"{pairs =}\")\n",
    "\n",
    "from itertools import islice\n",
    "\n",
    "pairs = list(zip(values, islice(values, 1, None)))\n",
    "print(f\"{pairs =}\")"
   ]
  },
  {
   "cell_type": "code",
   "execution_count": null,
   "metadata": {},
   "outputs": [],
   "source": []
  }
 ],
 "metadata": {
  "kernelspec": {
   "display_name": "Python 3",
   "language": "python",
   "name": "python3"
  },
  "language_info": {
   "codemirror_mode": {
    "name": "ipython",
    "version": 3
   },
   "file_extension": ".py",
   "mimetype": "text/x-python",
   "name": "python",
   "nbconvert_exporter": "python",
   "pygments_lexer": "ipython3",
   "version": "3.12.1"
  }
 },
 "nbformat": 4,
 "nbformat_minor": 2
}
