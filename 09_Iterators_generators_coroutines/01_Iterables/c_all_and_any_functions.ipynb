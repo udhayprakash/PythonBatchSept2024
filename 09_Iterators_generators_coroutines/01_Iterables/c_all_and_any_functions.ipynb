{
 "cells": [
  {
   "cell_type": "markdown",
   "metadata": {},
   "source": [
    "# all() and any()\n",
    "\n",
    "\n",
    "\n",
    "    bool()\n",
    "        int/float\n",
    "            zero     - False\n",
    "            non-zero - True\n",
    "        str\n",
    "            empty str - False\n",
    "            non-empty - True\n",
    "        brace\n",
    "            empty     - False\n",
    "            with ele  - True\n",
    "\n",
    "    all() -> True if bool(each element) is True\n",
    "    any() -> True if bool(at-least one element) is True"
   ]
  },
  {
   "cell_type": "code",
   "execution_count": 1,
   "metadata": {},
   "outputs": [
    {
     "data": {
      "text/plain": [
       "False"
      ]
     },
     "execution_count": 1,
     "metadata": {},
     "output_type": "execute_result"
    }
   ],
   "source": [
    "bool(0)"
   ]
  },
  {
   "cell_type": "code",
   "execution_count": 2,
   "metadata": {},
   "outputs": [
    {
     "data": {
      "text/plain": [
       "True"
      ]
     },
     "execution_count": 2,
     "metadata": {},
     "output_type": "execute_result"
    }
   ],
   "source": [
    "bool(232)"
   ]
  },
  {
   "cell_type": "code",
   "execution_count": 3,
   "metadata": {},
   "outputs": [
    {
     "name": "stdout",
     "output_type": "stream",
     "text": [
      "0 False\n",
      "[1, 2, 3, 4, 6, 0, 6, 7] False\n",
      "[1, 2, 3, 4, 6, 0, 6, 7] False\n"
     ]
    }
   ],
   "source": [
    "# all() -> True if bool(ech_element) is True\n",
    "my_list = [1, 2, 3, 4, 6, 0, 6, 7]\n",
    "for i in my_list:\n",
    "    if not bool(i):\n",
    "        print(i, bool(i))\n",
    "        result = False\n",
    "        break\n",
    "else:\n",
    "    print(\"All loop given are ran\")\n",
    "    result = True\n",
    "\n",
    "print(my_list, result)\n",
    "print(my_list, all(my_list))\n"
   ]
  },
  {
   "cell_type": "code",
   "execution_count": 4,
   "metadata": {},
   "outputs": [
    {
     "name": "stdout",
     "output_type": "stream",
     "text": [
      "\n",
      "1 True\n",
      "[1, 2, 3, 4, 6, 0] True\n",
      "[1, 2, 3, 4, 6, 0] True\n"
     ]
    }
   ],
   "source": [
    "# any() -> True if bool(atleast one element) is True\n",
    "print()\n",
    "my_list = [1, 2, 3, 4, 6, 0]\n",
    "for i in my_list:\n",
    "    if bool(i):\n",
    "        print(i, bool(i))\n",
    "        result = True\n",
    "        break\n",
    "else:\n",
    "    result = False\n",
    "\n",
    "print(my_list, result)\n",
    "print(my_list, any(my_list))"
   ]
  },
  {
   "cell_type": "code",
   "execution_count": 5,
   "metadata": {},
   "outputs": [
    {
     "name": "stdout",
     "output_type": "stream",
     "text": [
      "True\n",
      "True\n"
     ]
    }
   ],
   "source": [
    "# list\n",
    "\n",
    "print(all([1, 2, 3, 4, 6]))  # True\n",
    "print(any([1, 2, 3, 4, 6]))  # True\n"
   ]
  },
  {
   "cell_type": "code",
   "execution_count": 6,
   "metadata": {},
   "outputs": [
    {
     "name": "stdout",
     "output_type": "stream",
     "text": [
      "False\n",
      "True\n"
     ]
    }
   ],
   "source": [
    "print(all([1, 1, 1, 0]))  # False\n",
    "print(any([0, 0, 0, 1]))  # True\n"
   ]
  },
  {
   "cell_type": "code",
   "execution_count": 7,
   "metadata": {},
   "outputs": [
    {
     "name": "stdout",
     "output_type": "stream",
     "text": [
      "False\n",
      "True\n"
     ]
    }
   ],
   "source": [
    "print(all([None, 1, 2, 3]))  # False\n",
    "print(any([None, 1, 2, 3]))  # True"
   ]
  },
  {
   "cell_type": "code",
   "execution_count": 8,
   "metadata": {},
   "outputs": [
    {
     "name": "stdout",
     "output_type": "stream",
     "text": [
      "python True\n",
      "pyt hon True\n"
     ]
    }
   ],
   "source": [
    "print(\"python\",  all(\"python\"))  # True\n",
    "print(\"pyt hon\", all(\"pyt hon\"))  # True"
   ]
  },
  {
   "cell_type": "code",
   "execution_count": 9,
   "metadata": {},
   "outputs": [
    {
     "name": "stdout",
     "output_type": "stream",
     "text": [
      "bool(\" \") =True\n",
      "bool(\"\")  =False\n"
     ]
    }
   ],
   "source": [
    "print(f'{bool(\" \") =}')\n",
    "print(f'{bool(\"\")  =}')"
   ]
  },
  {
   "cell_type": "code",
   "execution_count": null,
   "metadata": {},
   "outputs": [],
   "source": []
  }
 ],
 "metadata": {
  "kernelspec": {
   "display_name": "Python 3",
   "language": "python",
   "name": "python3"
  },
  "language_info": {
   "codemirror_mode": {
    "name": "ipython",
    "version": 3
   },
   "file_extension": ".py",
   "mimetype": "text/x-python",
   "name": "python",
   "nbconvert_exporter": "python",
   "pygments_lexer": "ipython3",
   "version": "3.12.1"
  }
 },
 "nbformat": 4,
 "nbformat_minor": 2
}
