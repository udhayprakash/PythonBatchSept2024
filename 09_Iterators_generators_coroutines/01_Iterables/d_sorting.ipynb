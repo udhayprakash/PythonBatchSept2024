{
 "cells": [
  {
   "cell_type": "markdown",
   "metadata": {},
   "source": [
    "# Sorting\n",
    "\n",
    "        Python uses Timsort algorithm for sorting list.sort()\n",
    "    sorted()\n",
    "        - applicable on any iterable object\n",
    "        - create new list object and stores sorted result there\n",
    "        - default sorting is in ascending order\n",
    "    reversed()\n",
    "        - results in an lazy object\n",
    "        - reverses the elements in reverse order of ASSIGNMENT"
   ]
  },
  {
   "cell_type": "code",
   "execution_count": 1,
   "metadata": {},
   "outputs": [
    {
     "name": "stdout",
     "output_type": "stream",
     "text": [
      "numbers         : [5, 2, 3, 1, 4]\n"
     ]
    }
   ],
   "source": [
    "numbers = [5, 2, 3, 1, 4]\n",
    "print(f\"numbers         : {numbers}\")"
   ]
  },
  {
   "cell_type": "code",
   "execution_count": 2,
   "metadata": {},
   "outputs": [
    {
     "name": "stdout",
     "output_type": "stream",
     "text": [
      "sorted(numbers) : [1, 2, 3, 4, 5]\n",
      "numbers         : [5, 2, 3, 1, 4]\n"
     ]
    }
   ],
   "source": [
    "print(f\"sorted(numbers) : {sorted(numbers)}\")\n",
    "print(f\"numbers         : {numbers}\")"
   ]
  },
  {
   "cell_type": "code",
   "execution_count": 3,
   "metadata": {},
   "outputs": [],
   "source": [
    "# NOTE: sorted() will create new objects.\n",
    "# existing objects is not modified."
   ]
  },
  {
   "cell_type": "code",
   "execution_count": 4,
   "metadata": {},
   "outputs": [
    {
     "name": "stdout",
     "output_type": "stream",
     "text": [
      "numbers         : [1, 2, 3, 4, 5]\n"
     ]
    }
   ],
   "source": [
    "numbers.sort()  # updates the original object\n",
    "print(f\"numbers         : {numbers}\")"
   ]
  },
  {
   "cell_type": "code",
   "execution_count": 5,
   "metadata": {},
   "outputs": [
    {
     "name": "stdout",
     "output_type": "stream",
     "text": [
      "sorted(numbers)                 : [1, 2, 3, 4, 5]\n",
      "sorted(numbers, reverse=True)   : [5, 4, 3, 2, 1]\n",
      "numbers                         : [5, 4, 3, 2, 1]\n"
     ]
    }
   ],
   "source": [
    "print(f\"sorted(numbers)                 : {sorted(numbers)}\")\n",
    "print(f\"sorted(numbers, reverse=True)   : {sorted(numbers, reverse=True)}\")\n",
    "\n",
    "numbers.sort(reverse=True)\n",
    "print(f\"numbers                         : {numbers}\")"
   ]
  },
  {
   "cell_type": "code",
   "execution_count": 6,
   "metadata": {},
   "outputs": [
    {
     "name": "stdout",
     "output_type": "stream",
     "text": [
      "reversed(numbers): <list_reverseiterator object at 0x75485e6041f0>\n"
     ]
    }
   ],
   "source": [
    "numbers = [5, 2, 3, 1, 4]\n",
    "print(f\"reversed(numbers): {reversed(numbers)}\")  # list_reverseiterator"
   ]
  },
  {
   "cell_type": "code",
   "execution_count": 7,
   "metadata": {},
   "outputs": [
    {
     "data": {
      "text/plain": [
       "[4, 1, 3, 2, 5]"
      ]
     },
     "execution_count": 7,
     "metadata": {},
     "output_type": "execute_result"
    }
   ],
   "source": [
    "list(reversed(numbers))  # numbers[::-1]"
   ]
  },
  {
   "cell_type": "code",
   "execution_count": 8,
   "metadata": {},
   "outputs": [
    {
     "name": "stdout",
     "output_type": "stream",
     "text": [
      "word                        :az AZ 10\n",
      "list(word)                  :['a', 'z', ' ', 'A', 'Z', ' ', '1', '0']\n",
      "sorted(word)                :[' ', ' ', '0', '1', 'A', 'Z', 'a', 'z']\n",
      "sorted(word, key=str.lower) :[' ', ' ', '0', '1', 'a', 'A', 'z', 'Z']\n"
     ]
    }
   ],
   "source": [
    "word = \"az AZ 10\"\n",
    "print(f\"word                        :{word}\")\n",
    "print(f\"list(word)                  :{list(word)}\")\n",
    "print(f\"sorted(word)                :{sorted(word)}\")\n",
    "print(f\"sorted(word, key=str.lower) :{sorted(word, key=str.lower)}\")\n"
   ]
  },
  {
   "cell_type": "code",
   "execution_count": 9,
   "metadata": {},
   "outputs": [
    {
     "name": "stdout",
     "output_type": "stream",
     "text": [
      "['Apple', 'is', 'a', 'fruit']\n",
      "['Apple', 'a', 'fruit', 'is']\n",
      "['a', 'Apple', 'fruit', 'is']\n"
     ]
    }
   ],
   "source": [
    "lst_of_strs = \"Apple is a fruit\".split()\n",
    "print(lst_of_strs)\n",
    "print(sorted(lst_of_strs))\n",
    "print(sorted(lst_of_strs, key=str.lower))"
   ]
  },
  {
   "cell_type": "code",
   "execution_count": 10,
   "metadata": {},
   "outputs": [
    {
     "name": "stdout",
     "output_type": "stream",
     "text": [
      "[1, 2, 3, 4, 5]\n",
      "[1, 2, 3, 4, 5]\n",
      "['A', 'B', 'B', 'D', 'E']\n"
     ]
    }
   ],
   "source": [
    "my_dict = {1: \"D\", 2: \"B\", 3: \"B\", 4: \"E\", 5: \"A\"}\n",
    "print(sorted(my_dict))              # [1, 2, 3, 4, 5]\n",
    "print(sorted(my_dict.keys()))       # [1, 2, 3, 4, 5]\n",
    "print(sorted(my_dict.values()))     # ['A', 'B', 'B', 'D', 'E']"
   ]
  },
  {
   "cell_type": "code",
   "execution_count": 11,
   "metadata": {},
   "outputs": [
    {
     "name": "stdout",
     "output_type": "stream",
     "text": [
      "[(1, 'D'), (2, 'B'), (3, 'B'), (4, 'E'), (5, 'A')]\n"
     ]
    }
   ],
   "source": [
    "print(sorted(my_dict.items()))"
   ]
  },
  {
   "cell_type": "code",
   "execution_count": 12,
   "metadata": {},
   "outputs": [
    {
     "name": "stdout",
     "output_type": "stream",
     "text": [
      "[(1, 'D'), (2, 'B'), (3, 'B'), (4, 'E'), (5, 'A')]\n"
     ]
    }
   ],
   "source": [
    "print(sorted(my_dict.items(), key=lambda x: x[0]))  # by key\n"
   ]
  },
  {
   "cell_type": "code",
   "execution_count": 13,
   "metadata": {},
   "outputs": [
    {
     "name": "stdout",
     "output_type": "stream",
     "text": [
      "[(5, 'A'), (2, 'B'), (3, 'B'), (1, 'D'), (4, 'E')]\n"
     ]
    }
   ],
   "source": [
    "print(sorted(my_dict.items(), key=lambda x: x[1]))  # by value\n"
   ]
  },
  {
   "cell_type": "code",
   "execution_count": 14,
   "metadata": {},
   "outputs": [
    {
     "name": "stdout",
     "output_type": "stream",
     "text": [
      "[(4, 'E'), (1, 'D'), (2, 'B'), (3, 'B'), (5, 'A')]\n"
     ]
    }
   ],
   "source": [
    "print(sorted(my_dict.items(), key=lambda x: x[1], reverse=True))  # by value"
   ]
  },
  {
   "cell_type": "code",
   "execution_count": null,
   "metadata": {},
   "outputs": [],
   "source": []
  }
 ],
 "metadata": {
  "kernelspec": {
   "display_name": "Python 3",
   "language": "python",
   "name": "python3"
  },
  "language_info": {
   "codemirror_mode": {
    "name": "ipython",
    "version": 3
   },
   "file_extension": ".py",
   "mimetype": "text/x-python",
   "name": "python",
   "nbconvert_exporter": "python",
   "pygments_lexer": "ipython3",
   "version": "3.12.1"
  }
 },
 "nbformat": 4,
 "nbformat_minor": 2
}
