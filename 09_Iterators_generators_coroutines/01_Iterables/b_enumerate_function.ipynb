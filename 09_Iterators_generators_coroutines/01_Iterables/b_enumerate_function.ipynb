{
 "cells": [
  {
   "cell_type": "markdown",
   "metadata": {},
   "source": [
    "## Enumerate()"
   ]
  },
  {
   "cell_type": "code",
   "execution_count": 1,
   "metadata": {},
   "outputs": [],
   "source": [
    "my_string = \"Program\""
   ]
  },
  {
   "cell_type": "code",
   "execution_count": 2,
   "metadata": {},
   "outputs": [
    {
     "name": "stdout",
     "output_type": "stream",
     "text": [
      "0 P\n",
      "1 r\n",
      "2 o\n",
      "3 g\n",
      "4 r\n",
      "5 a\n",
      "6 m\n"
     ]
    }
   ],
   "source": [
    "count = 0\n",
    "for ech_chr in my_string:\n",
    "    print(count, ech_chr)\n",
    "    count += 1"
   ]
  },
  {
   "cell_type": "code",
   "execution_count": 3,
   "metadata": {},
   "outputs": [
    {
     "name": "stdout",
     "output_type": "stream",
     "text": [
      "(0, 'P')\n",
      "(1, 'r')\n",
      "(2, 'o')\n",
      "(3, 'g')\n",
      "(4, 'r')\n",
      "(5, 'a')\n",
      "(6, 'm')\n"
     ]
    }
   ],
   "source": [
    "for ech_chr in enumerate(my_string):\n",
    "    print(ech_chr)"
   ]
  },
  {
   "cell_type": "code",
   "execution_count": 4,
   "metadata": {},
   "outputs": [
    {
     "name": "stdout",
     "output_type": "stream",
     "text": [
      "At loop  0, we found P\n",
      "At loop  1, we found r\n",
      "At loop  2, we found o\n",
      "At loop  3, we found g\n",
      "At loop  4, we found r\n",
      "At loop  5, we found a\n",
      "At loop  6, we found m\n"
     ]
    }
   ],
   "source": [
    "for loop_index, ech_chr in enumerate(my_string):\n",
    "    print(f\"At loop {loop_index:2}, we found {ech_chr}\")"
   ]
  },
  {
   "cell_type": "code",
   "execution_count": 5,
   "metadata": {},
   "outputs": [
    {
     "name": "stdout",
     "output_type": "stream",
     "text": [
      "At loop  0, we found P\n",
      "At loop  1, we found r\n",
      "At loop  2, we found o\n",
      "At loop  3, we found g\n",
      "At loop  4, we found r\n",
      "At loop  5, we found a\n",
      "At loop  6, we found m\n"
     ]
    }
   ],
   "source": [
    "for loop_index, ech_chr in enumerate(my_string, start=0):\n",
    "    print(f\"At loop {loop_index:2}, we found {ech_chr}\")"
   ]
  },
  {
   "cell_type": "code",
   "execution_count": 6,
   "metadata": {},
   "outputs": [
    {
     "name": "stdout",
     "output_type": "stream",
     "text": [
      "At loop  4, we found P\n",
      "At loop  5, we found r\n",
      "At loop  6, we found o\n",
      "At loop  7, we found g\n",
      "At loop  8, we found r\n",
      "At loop  9, we found a\n",
      "At loop 10, we found m\n"
     ]
    }
   ],
   "source": [
    "for loop_index, ech_chr in enumerate(my_string, start=4):\n",
    "    print(f\"At loop {loop_index:2}, we found {ech_chr}\")"
   ]
  },
  {
   "cell_type": "code",
   "execution_count": 7,
   "metadata": {},
   "outputs": [
    {
     "name": "stdout",
     "output_type": "stream",
     "text": [
      "At loop -3, we found P\n",
      "At loop -2, we found r\n",
      "At loop -1, we found o\n",
      "At loop  0, we found g\n",
      "At loop  1, we found r\n",
      "At loop  2, we found a\n",
      "At loop  3, we found m\n"
     ]
    }
   ],
   "source": [
    "for loop_index, ech_chr in enumerate(my_string, start=-3):\n",
    "    print(f\"At loop {loop_index:2}, we found {ech_chr}\")"
   ]
  },
  {
   "cell_type": "code",
   "execution_count": 8,
   "metadata": {},
   "outputs": [],
   "source": [
    "# for loop_index, ech_chr in enumerate(my_string, start=-3.5):\n",
    "#     print(f'At loop {loop_index:2}, we found {ech_chr}')\n",
    "# TypeError: 'float' object cannot be interpreted as an integer"
   ]
  },
  {
   "cell_type": "code",
   "execution_count": null,
   "metadata": {},
   "outputs": [],
   "source": []
  }
 ],
 "metadata": {
  "kernelspec": {
   "display_name": "Python 3",
   "language": "python",
   "name": "python3"
  },
  "language_info": {
   "codemirror_mode": {
    "name": "ipython",
    "version": 3
   },
   "file_extension": ".py",
   "mimetype": "text/x-python",
   "name": "python",
   "nbconvert_exporter": "python",
   "pygments_lexer": "ipython3",
   "version": "3.12.1"
  }
 },
 "nbformat": 4,
 "nbformat_minor": 2
}
