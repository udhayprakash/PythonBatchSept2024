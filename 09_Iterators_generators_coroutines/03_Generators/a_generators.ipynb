{
 "cells": [
  {
   "cell_type": "markdown",
   "metadata": {},
   "source": [
    "# Generators\n",
    "\n",
    "    `\n",
    "        range(0, 100000, 2) -> 0\n",
    "        range(2, 100000, 2) -> 2\n",
    "        range(4, 100000, 2) -> 4\n",
    "        range(6, 100000, 2) -> 6\n",
    "        ....\n",
    "\n",
    "    return is the last statement to execute in any function\n",
    "\n",
    "    yield - keyword in python\n",
    "        If yield is placed within function definition,\n",
    "        it becomes generator\n",
    "\n",
    "    PEP8 - don't use both return & yield in same function\n",
    "\n",
    "    Generators follow th`e \"STATE SUSPENSION\""
   ]
  },
  {
   "cell_type": "code",
   "execution_count": 1,
   "metadata": {},
   "outputs": [
    {
     "name": "stdout",
     "output_type": "stream",
     "text": [
      "I am in a function\n"
     ]
    }
   ],
   "source": [
    "def myfunc():\n",
    "    print('I am in a function')\n",
    "\n",
    "myfunc()"
   ]
  },
  {
   "cell_type": "code",
   "execution_count": 2,
   "metadata": {},
   "outputs": [
    {
     "name": "stdout",
     "output_type": "stream",
     "text": [
      "I am in a function\n"
     ]
    },
    {
     "data": {
      "text/plain": [
       "123"
      ]
     },
     "execution_count": 2,
     "metadata": {},
     "output_type": "execute_result"
    }
   ],
   "source": [
    "def myfunc():\n",
    "    print('I am in a function')\n",
    "    return 123\n",
    "\n",
    "myfunc()"
   ]
  },
  {
   "cell_type": "code",
   "execution_count": 4,
   "metadata": {},
   "outputs": [
    {
     "data": {
      "text/plain": [
       "<generator object my_generator at 0x7d26f0e6f700>"
      ]
     },
     "execution_count": 4,
     "metadata": {},
     "output_type": "execute_result"
    }
   ],
   "source": [
    "def my_generator():\n",
    "    print('I am in a generator')\n",
    "    yield 123\n",
    "\n",
    "my_generator()"
   ]
  },
  {
   "cell_type": "code",
   "execution_count": 5,
   "metadata": {},
   "outputs": [
    {
     "data": {
      "text/plain": [
       "<generator object my_generator at 0x7d26f0e6fa00>"
      ]
     },
     "execution_count": 5,
     "metadata": {},
     "output_type": "execute_result"
    }
   ],
   "source": [
    "def my_generator():\n",
    "    print('I am in a generator')\n",
    "    yield 123\n",
    "    return 123\n",
    "\n",
    "my_generator()"
   ]
  },
  {
   "cell_type": "code",
   "execution_count": 6,
   "metadata": {},
   "outputs": [
    {
     "name": "stdout",
     "output_type": "stream",
     "text": [
      "<class 'generator'> <generator object my_generator at 0x7d26f0e6f880>\n"
     ]
    }
   ],
   "source": [
    "def my_generator():\n",
    "    print(\" I am in the function\")\n",
    "    yield 111\n",
    "    print(\"yielding 222\")\n",
    "    yield 222\n",
    "\n",
    "\n",
    "result = my_generator()\n",
    "print(type(result), result)"
   ]
  },
  {
   "cell_type": "markdown",
   "metadata": {},
   "source": [
    "__NOTE:__ generator will be executed once your request for the first data"
   ]
  },
  {
   "cell_type": "code",
   "execution_count": 7,
   "metadata": {},
   "outputs": [
    {
     "name": "stdout",
     "output_type": "stream",
     "text": [
      " I am in the function\n"
     ]
    },
    {
     "data": {
      "text/plain": [
       "111"
      ]
     },
     "execution_count": 7,
     "metadata": {},
     "output_type": "execute_result"
    }
   ],
   "source": [
    "next(result)"
   ]
  },
  {
   "cell_type": "code",
   "execution_count": 8,
   "metadata": {},
   "outputs": [
    {
     "name": "stdout",
     "output_type": "stream",
     "text": [
      "yielding 222\n"
     ]
    },
    {
     "data": {
      "text/plain": [
       "222"
      ]
     },
     "execution_count": 8,
     "metadata": {},
     "output_type": "execute_result"
    }
   ],
   "source": [
    "next(result)"
   ]
  },
  {
   "cell_type": "code",
   "execution_count": 9,
   "metadata": {},
   "outputs": [
    {
     "ename": "StopIteration",
     "evalue": "",
     "output_type": "error",
     "traceback": [
      "\u001b[0;31m---------------------------------------------------------------------------\u001b[0m",
      "\u001b[0;31mStopIteration\u001b[0m                             Traceback (most recent call last)",
      "Cell \u001b[0;32mIn[9], line 1\u001b[0m\n\u001b[0;32m----> 1\u001b[0m \u001b[38;5;28;43mnext\u001b[39;49m\u001b[43m(\u001b[49m\u001b[43mresult\u001b[49m\u001b[43m)\u001b[49m\n",
      "\u001b[0;31mStopIteration\u001b[0m: "
     ]
    }
   ],
   "source": [
    "next(result)"
   ]
  },
  {
   "cell_type": "code",
   "execution_count": 10,
   "metadata": {},
   "outputs": [
    {
     "name": "stdout",
     "output_type": "stream",
     "text": [
      "\n",
      " After Re-initializing\n",
      " I am in the function\n",
      "111\n",
      "yielding 222\n",
      "222\n"
     ]
    }
   ],
   "source": [
    "print(\"\\n After Re-initializing\")\n",
    "result = my_generator()\n",
    "for ech in result:\n",
    "    print(ech)"
   ]
  },
  {
   "cell_type": "code",
   "execution_count": 11,
   "metadata": {},
   "outputs": [
    {
     "name": "stdout",
     "output_type": "stream",
     "text": [
      " I am in the function\n",
      "yielding 222\n",
      "\n",
      " [111, 222]\n"
     ]
    }
   ],
   "source": [
    "result = my_generator()\n",
    "print(\"\\n\", list(result))  # [111, 222, 333, 444]"
   ]
  },
  {
   "cell_type": "code",
   "execution_count": 12,
   "metadata": {},
   "outputs": [],
   "source": [
    "def my_generator():\n",
    "    print(\" I am in the function\")\n",
    "    print(\"yielding 111\")\n",
    "    yield 111\n",
    "    print(\"yielding 222\")\n",
    "    yield 222\n",
    "    print(\"yielding 333\")\n",
    "    yield 333\n",
    "    print(\"yielding 444\")\n",
    "    yield 444\n",
    "    return \"No More value to yield\""
   ]
  },
  {
   "cell_type": "code",
   "execution_count": 13,
   "metadata": {},
   "outputs": [
    {
     "name": "stdout",
     "output_type": "stream",
     "text": [
      " I am in the function\n",
      "yielding 111\n",
      "yielding 222\n",
      "yielding 333\n",
      "yielding 444\n",
      "\n",
      " [111, 222, 333, 444]\n"
     ]
    }
   ],
   "source": [
    "result = my_generator()\n",
    "print(\"\\n\", list(result)) "
   ]
  },
  {
   "cell_type": "code",
   "execution_count": 14,
   "metadata": {},
   "outputs": [
    {
     "ename": "StopIteration",
     "evalue": "",
     "output_type": "error",
     "traceback": [
      "\u001b[0;31m---------------------------------------------------------------------------\u001b[0m",
      "\u001b[0;31mStopIteration\u001b[0m                             Traceback (most recent call last)",
      "Cell \u001b[0;32mIn[14], line 1\u001b[0m\n\u001b[0;32m----> 1\u001b[0m \u001b[38;5;28;43mnext\u001b[39;49m\u001b[43m(\u001b[49m\u001b[43mresult\u001b[49m\u001b[43m)\u001b[49m\n",
      "\u001b[0;31mStopIteration\u001b[0m: "
     ]
    }
   ],
   "source": [
    "next(result)"
   ]
  },
  {
   "cell_type": "code",
   "execution_count": 15,
   "metadata": {},
   "outputs": [
    {
     "name": "stdout",
     "output_type": "stream",
     "text": [
      " I am in the function\n",
      "yielding 111\n"
     ]
    },
    {
     "data": {
      "text/plain": [
       "111"
      ]
     },
     "execution_count": 15,
     "metadata": {},
     "output_type": "execute_result"
    }
   ],
   "source": [
    "result = my_generator()\n",
    "\n",
    "next(result)"
   ]
  },
  {
   "cell_type": "code",
   "execution_count": 16,
   "metadata": {},
   "outputs": [
    {
     "name": "stdout",
     "output_type": "stream",
     "text": [
      "yielding 222\n"
     ]
    },
    {
     "data": {
      "text/plain": [
       "222"
      ]
     },
     "execution_count": 16,
     "metadata": {},
     "output_type": "execute_result"
    }
   ],
   "source": [
    "next(result)"
   ]
  },
  {
   "cell_type": "code",
   "execution_count": 17,
   "metadata": {},
   "outputs": [
    {
     "name": "stdout",
     "output_type": "stream",
     "text": [
      "yielding 333\n"
     ]
    },
    {
     "data": {
      "text/plain": [
       "333"
      ]
     },
     "execution_count": 17,
     "metadata": {},
     "output_type": "execute_result"
    }
   ],
   "source": [
    "next(result)"
   ]
  },
  {
   "cell_type": "code",
   "execution_count": 18,
   "metadata": {},
   "outputs": [
    {
     "name": "stdout",
     "output_type": "stream",
     "text": [
      "yielding 444\n"
     ]
    },
    {
     "data": {
      "text/plain": [
       "444"
      ]
     },
     "execution_count": 18,
     "metadata": {},
     "output_type": "execute_result"
    }
   ],
   "source": [
    "next(result)"
   ]
  },
  {
   "cell_type": "code",
   "execution_count": 19,
   "metadata": {},
   "outputs": [
    {
     "ename": "StopIteration",
     "evalue": "No More value to yield",
     "output_type": "error",
     "traceback": [
      "\u001b[0;31m---------------------------------------------------------------------------\u001b[0m",
      "\u001b[0;31mStopIteration\u001b[0m                             Traceback (most recent call last)",
      "Cell \u001b[0;32mIn[19], line 1\u001b[0m\n\u001b[0;32m----> 1\u001b[0m \u001b[38;5;28;43mnext\u001b[39;49m\u001b[43m(\u001b[49m\u001b[43mresult\u001b[49m\u001b[43m)\u001b[49m\n",
      "\u001b[0;31mStopIteration\u001b[0m: No More value to yield"
     ]
    }
   ],
   "source": [
    "next(result)"
   ]
  },
  {
   "cell_type": "markdown",
   "metadata": {},
   "source": [
    "### Generator Properties\n",
    "\n",
    "    - designed for user-defined functions\n",
    "    - disposable\n",
    "    - can't be indexed\n",
    "    - stores the state\n",
    "    - used for large data handling\n",
    "    - State suspension and on-demand computation"
   ]
  },
  {
   "cell_type": "code",
   "execution_count": 21,
   "metadata": {},
   "outputs": [
    {
     "name": "stdout",
     "output_type": "stream",
     "text": [
      "Start the function!\n",
      "\tbefore yield 0\n",
      "f 0\n",
      "['__abs__', '__add__', '__and__', '__bool__', '__ceil__', '__class__', '__delattr__', '__dir__', '__divmod__', '__doc__', '__eq__', '__float__', '__floor__', '__floordiv__', '__format__', '__ge__', '__getattribute__', '__getnewargs__', '__getstate__', '__gt__', '__hash__', '__index__', '__init__', '__init_subclass__', '__int__', '__invert__', '__le__', '__lshift__', '__lt__', '__mod__', '__mul__', '__ne__', '__neg__', '__new__', '__or__', '__pos__', '__pow__', '__radd__', '__rand__', '__rdivmod__', '__reduce__', '__reduce_ex__', '__repr__', '__rfloordiv__', '__rlshift__', '__rmod__', '__rmul__', '__ror__', '__round__', '__rpow__', '__rrshift__', '__rshift__', '__rsub__', '__rtruediv__', '__rxor__', '__setattr__', '__sizeof__', '__str__', '__sub__', '__subclasshook__', '__truediv__', '__trunc__', '__xor__', 'as_integer_ratio', 'bit_count', 'bit_length', 'conjugate', 'denominator', 'from_bytes', 'imag', 'is_integer', 'numerator', 'real', 'to_bytes']\n"
     ]
    }
   ],
   "source": [
    "def foo():\n",
    "    print(\"Start the function!\")\n",
    "    for i in range(3):\n",
    "        print(\"\\tbefore yield\", i)\n",
    "        return i\n",
    "        # yield i\n",
    "        # print(\"\\tafter yield\", i)\n",
    "\n",
    "    print(\"end of function \")\n",
    "    # return None\n",
    "\n",
    "\n",
    "# call\n",
    "f = foo()\n",
    "\n",
    "print(\"f\", f)\n",
    "print(dir(f))"
   ]
  },
  {
   "cell_type": "code",
   "execution_count": 22,
   "metadata": {},
   "outputs": [
    {
     "name": "stdout",
     "output_type": "stream",
     "text": [
      "f <generator object foo at 0x7d26d35853c0>\n",
      "['__class__', '__del__', '__delattr__', '__dir__', '__doc__', '__eq__', '__format__', '__ge__', '__getattribute__', '__getstate__', '__gt__', '__hash__', '__init__', '__init_subclass__', '__iter__', '__le__', '__lt__', '__name__', '__ne__', '__new__', '__next__', '__qualname__', '__reduce__', '__reduce_ex__', '__repr__', '__setattr__', '__sizeof__', '__str__', '__subclasshook__', 'close', 'gi_code', 'gi_frame', 'gi_running', 'gi_suspended', 'gi_yieldfrom', 'send', 'throw']\n"
     ]
    }
   ],
   "source": [
    "def foo():\n",
    "    print(\"Start the function!\")\n",
    "    for i in range(3):\n",
    "        print(\"\\tbefore yield\", i)\n",
    "        return i\n",
    "        yield i\n",
    "        print(\"\\tafter yield\", i)\n",
    "\n",
    "    print(\"end of function \")\n",
    "    # return None\n",
    "\n",
    "\n",
    "# call\n",
    "f = foo()\n",
    "\n",
    "print(\"f\", f)\n",
    "print(dir(f))"
   ]
  },
  {
   "cell_type": "code",
   "execution_count": 23,
   "metadata": {},
   "outputs": [],
   "source": [
    "def foo():\n",
    "    print(\"Start the function!\")\n",
    "    for i in range(3):\n",
    "        print(\"\\tbefore yield\", i)\n",
    "        # return i\n",
    "        yield i\n",
    "        print(\"\\tafter yield\", i)\n",
    "\n",
    "    print(\"end of function \")\n",
    "    # return None\n",
    "\n",
    "\n",
    "# call\n",
    "f = foo()\n"
   ]
  },
  {
   "cell_type": "code",
   "execution_count": 24,
   "metadata": {},
   "outputs": [
    {
     "name": "stdout",
     "output_type": "stream",
     "text": [
      "Start the function!\n",
      "\tbefore yield 0\n"
     ]
    },
    {
     "data": {
      "text/plain": [
       "0"
      ]
     },
     "execution_count": 24,
     "metadata": {},
     "output_type": "execute_result"
    }
   ],
   "source": [
    "next(f)"
   ]
  },
  {
   "cell_type": "code",
   "execution_count": 25,
   "metadata": {},
   "outputs": [
    {
     "name": "stdout",
     "output_type": "stream",
     "text": [
      "\tafter yield 0\n",
      "\tbefore yield 1\n"
     ]
    },
    {
     "data": {
      "text/plain": [
       "1"
      ]
     },
     "execution_count": 25,
     "metadata": {},
     "output_type": "execute_result"
    }
   ],
   "source": [
    "f.__next__()"
   ]
  },
  {
   "cell_type": "code",
   "execution_count": 26,
   "metadata": {},
   "outputs": [
    {
     "name": "stdout",
     "output_type": "stream",
     "text": [
      "\tafter yield 1\n",
      "\tbefore yield 2\n"
     ]
    },
    {
     "data": {
      "text/plain": [
       "2"
      ]
     },
     "execution_count": 26,
     "metadata": {},
     "output_type": "execute_result"
    }
   ],
   "source": [
    "f.__next__()"
   ]
  },
  {
   "cell_type": "code",
   "execution_count": 27,
   "metadata": {},
   "outputs": [
    {
     "name": "stdout",
     "output_type": "stream",
     "text": [
      "\tafter yield 2\n",
      "end of function \n"
     ]
    },
    {
     "ename": "StopIteration",
     "evalue": "",
     "output_type": "error",
     "traceback": [
      "\u001b[0;31m---------------------------------------------------------------------------\u001b[0m",
      "\u001b[0;31mStopIteration\u001b[0m                             Traceback (most recent call last)",
      "Cell \u001b[0;32mIn[27], line 1\u001b[0m\n\u001b[0;32m----> 1\u001b[0m \u001b[43mf\u001b[49m\u001b[38;5;241;43m.\u001b[39;49m\u001b[38;5;21;43m__next__\u001b[39;49m\u001b[43m(\u001b[49m\u001b[43m)\u001b[49m\n",
      "\u001b[0;31mStopIteration\u001b[0m: "
     ]
    }
   ],
   "source": [
    "f.__next__()"
   ]
  },
  {
   "cell_type": "code",
   "execution_count": 28,
   "metadata": {},
   "outputs": [
    {
     "name": "stdout",
     "output_type": "stream",
     "text": [
      "error is  StopIteration()\n"
     ]
    }
   ],
   "source": [
    "try:\n",
    "    print(next(f))\n",
    "except StopIteration as ex:\n",
    "    print(\"error is \", repr(ex))"
   ]
  },
  {
   "cell_type": "code",
   "execution_count": 29,
   "metadata": {},
   "outputs": [],
   "source": [
    "def foo():\n",
    "    print(\"Start the function!\")\n",
    "    for i in range(3):\n",
    "        print(\"\\tbefore yield\", i)\n",
    "        # return i\n",
    "        yield i\n",
    "        print(\"\\tafter yield\", i)\n",
    "\n",
    "    return \"end of function \"\n",
    "    # return None\n",
    "\n",
    "\n",
    "# call\n",
    "f = foo()\n"
   ]
  },
  {
   "cell_type": "code",
   "execution_count": 30,
   "metadata": {},
   "outputs": [
    {
     "name": "stdout",
     "output_type": "stream",
     "text": [
      "Start the function!\n",
      "\tbefore yield 0\n",
      "\tafter yield 0\n",
      "\tbefore yield 1\n",
      "\tafter yield 1\n",
      "\tbefore yield 2\n",
      "\tafter yield 2\n"
     ]
    },
    {
     "data": {
      "text/plain": [
       "[0, 1, 2]"
      ]
     },
     "execution_count": 30,
     "metadata": {},
     "output_type": "execute_result"
    }
   ],
   "source": [
    "list(f)"
   ]
  },
  {
   "cell_type": "code",
   "execution_count": 32,
   "metadata": {},
   "outputs": [
    {
     "name": "stdout",
     "output_type": "stream",
     "text": [
      "error is  StopIteration()\n"
     ]
    }
   ],
   "source": [
    "try:\n",
    "    print(next(f))\n",
    "except StopIteration as ex:\n",
    "    print(\"error is \", repr(ex))"
   ]
  },
  {
   "cell_type": "code",
   "execution_count": 33,
   "metadata": {},
   "outputs": [],
   "source": [
    "# Assignment - research how to get the return message as stopIteration excetion message"
   ]
  },
  {
   "cell_type": "code",
   "execution_count": 34,
   "metadata": {},
   "outputs": [],
   "source": [
    "# Fibonacci Series\n",
    "#     - first two values are 0 & 1\n",
    "#     - subseqeunt values are summation of previous two values\n",
    "#     - 0, 1, 1, 2, 3, 5, 8, 13, ..."
   ]
  },
  {
   "cell_type": "code",
   "execution_count": 35,
   "metadata": {},
   "outputs": [
    {
     "name": "stdout",
     "output_type": "stream",
     "text": [
      "[0, 1, 1, 2, 3, 5, 8, 13, 21, 34]\n"
     ]
    }
   ],
   "source": [
    "# Method 1 -- using functions -- you get all values at a time\n",
    "def fib_series(num):\n",
    "    if num < 0:\n",
    "        return \"Invalid Input\"\n",
    "    fib_nums = []\n",
    "    a, b = 0, 1\n",
    "    for _ in range(0, num):\n",
    "        fib_nums.append(a)\n",
    "        a, b = b, a + b\n",
    "    return fib_nums\n",
    "\n",
    "result = fib_series(10)\n",
    "print(result)"
   ]
  },
  {
   "cell_type": "code",
   "execution_count": 36,
   "metadata": {},
   "outputs": [
    {
     "name": "stdout",
     "output_type": "stream",
     "text": [
      "<generator object fib_series at 0x7d26d35784a0>\n"
     ]
    }
   ],
   "source": [
    "# Method 2 -- using Generators\n",
    "def fib_series(num):\n",
    "    if num < 0:\n",
    "        return \"Invalid Input\"\n",
    "    #fib_nums = []\n",
    "    a, b = 0, 1\n",
    "    for _ in range(0, num):\n",
    "        yield a               #fib_nums.append(a)\n",
    "        a, b = b, a + b\n",
    "    #return fib_nums\n",
    "\n",
    "result = fib_series(10)\n",
    "print(result)"
   ]
  },
  {
   "cell_type": "code",
   "execution_count": 37,
   "metadata": {},
   "outputs": [
    {
     "data": {
      "text/plain": [
       "0"
      ]
     },
     "execution_count": 37,
     "metadata": {},
     "output_type": "execute_result"
    }
   ],
   "source": [
    "next(result)"
   ]
  },
  {
   "cell_type": "code",
   "execution_count": 38,
   "metadata": {},
   "outputs": [
    {
     "data": {
      "text/plain": [
       "1"
      ]
     },
     "execution_count": 38,
     "metadata": {},
     "output_type": "execute_result"
    }
   ],
   "source": [
    "next(result)"
   ]
  },
  {
   "cell_type": "code",
   "execution_count": 39,
   "metadata": {},
   "outputs": [
    {
     "name": "stdout",
     "output_type": "stream",
     "text": [
      "1\n",
      "2\n",
      "3\n",
      "5\n",
      "8\n",
      "13\n",
      "21\n",
      "34\n"
     ]
    }
   ],
   "source": [
    "for each_fib in result:\n",
    "    print(each_fib)\n"
   ]
  },
  {
   "cell_type": "code",
   "execution_count": 40,
   "metadata": {},
   "outputs": [
    {
     "name": "stdout",
     "output_type": "stream",
     "text": [
      "0\n",
      "1\n",
      "1\n",
      "2\n",
      "3\n",
      "5\n",
      "8\n",
      "13\n",
      "21\n",
      "34\n"
     ]
    }
   ],
   "source": [
    "for each_fib in fib_series(10):\n",
    "    print(each_fib)\n"
   ]
  },
  {
   "cell_type": "code",
   "execution_count": 41,
   "metadata": {},
   "outputs": [
    {
     "name": "stdout",
     "output_type": "stream",
     "text": [
      "[0, 1, 2, 3, 5, 8]\n"
     ]
    }
   ],
   "source": [
    "# Method 2b - using generators\n",
    "def fib_series2(num):\n",
    "    yield 0\n",
    "    yield 1\n",
    "    curr, prev = 2, 1\n",
    "    while curr < num:\n",
    "        yield curr\n",
    "        curr, prev = curr + prev, curr\n",
    "\n",
    "\n",
    "print(list(fib_series2(10)))  # [0, 1, 2, 3, 5, 8]"
   ]
  },
  {
   "cell_type": "markdown",
   "metadata": {},
   "source": [
    "## yield from"
   ]
  },
  {
   "cell_type": "code",
   "execution_count": 42,
   "metadata": {},
   "outputs": [
    {
     "name": "stdout",
     "output_type": "stream",
     "text": [
      "list(ng) = [0, 1, 2, 3, 4, 5, 6, 7, 8, 9]\n"
     ]
    }
   ],
   "source": [
    "def num_generator(n):\n",
    "    for i in range(n):\n",
    "        yield i\n",
    "\n",
    "\n",
    "ng = num_generator(10)\n",
    "print(f\"{list(ng) = }\")"
   ]
  },
  {
   "cell_type": "code",
   "execution_count": 45,
   "metadata": {},
   "outputs": [
    {
     "name": "stdout",
     "output_type": "stream",
     "text": [
      "tuple(sp) =(12, 34, 56, 78, 90)\n"
     ]
    }
   ],
   "source": [
    "def sequence_parser(mylist):\n",
    "    for ele in mylist:\n",
    "        yield ele\n",
    "\n",
    "\n",
    "sp = sequence_parser([12, 34, 56, 78, 90])\n",
    "print(f\"{tuple(sp) =}\")"
   ]
  },
  {
   "cell_type": "code",
   "execution_count": 46,
   "metadata": {},
   "outputs": [
    {
     "name": "stdout",
     "output_type": "stream",
     "text": [
      "list(ng) = [0, 1, 2, 3, 4, 5, 6, 7, 8, 9]\n"
     ]
    }
   ],
   "source": [
    "# Method 2 - using \"yield from\"\n",
    "def num_generator(n):\n",
    "    # for i in range(n):\n",
    "    #     yield i\n",
    "    yield from range(n)\n",
    "\n",
    "\n",
    "ng = num_generator(10)\n",
    "print(f\"{list(ng) = }\")"
   ]
  },
  {
   "cell_type": "code",
   "execution_count": 47,
   "metadata": {},
   "outputs": [
    {
     "name": "stdout",
     "output_type": "stream",
     "text": [
      "tuple(sp) =(12, 34, 56, 78, 90)\n"
     ]
    }
   ],
   "source": [
    "def sequence_parser(mylist):\n",
    "    # for ele in mylist:\n",
    "    #     yield ele\n",
    "    yield from mylist\n",
    "\n",
    "\n",
    "sp = sequence_parser([12, 34, 56, 78, 90])\n",
    "print(f\"{tuple(sp) =}\")"
   ]
  },
  {
   "cell_type": "code",
   "execution_count": null,
   "metadata": {},
   "outputs": [],
   "source": [
    "### Gener"
   ]
  }
 ],
 "metadata": {
  "kernelspec": {
   "display_name": "Python 3",
   "language": "python",
   "name": "python3"
  },
  "language_info": {
   "codemirror_mode": {
    "name": "ipython",
    "version": 3
   },
   "file_extension": ".py",
   "mimetype": "text/x-python",
   "name": "python",
   "nbconvert_exporter": "python",
   "pygments_lexer": "ipython3",
   "version": "3.12.1"
  }
 },
 "nbformat": 4,
 "nbformat_minor": 2
}
