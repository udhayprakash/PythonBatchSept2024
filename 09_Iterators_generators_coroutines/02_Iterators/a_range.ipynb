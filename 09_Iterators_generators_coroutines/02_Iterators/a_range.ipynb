{
 "cells": [
  {
   "cell_type": "markdown",
   "metadata": {},
   "source": [
    "## Range() function\n",
    "\n",
    "    Lazy loading object\n"
   ]
  },
  {
   "cell_type": "code",
   "execution_count": 1,
   "metadata": {},
   "outputs": [
    {
     "data": {
      "text/plain": [
       "range(0, 9)"
      ]
     },
     "execution_count": 1,
     "metadata": {},
     "output_type": "execute_result"
    }
   ],
   "source": [
    "nums = range(0, 9, 1)\n",
    "\n",
    "\n",
    "nums"
   ]
  },
  {
   "cell_type": "code",
   "execution_count": 2,
   "metadata": {},
   "outputs": [
    {
     "name": "stdout",
     "output_type": "stream",
     "text": [
      "nums: range(0, 9), <class 'range'>\n"
     ]
    }
   ],
   "source": [
    "print(f\"nums: {nums}, {type(nums)}\")"
   ]
  },
  {
   "cell_type": "code",
   "execution_count": 3,
   "metadata": {},
   "outputs": [
    {
     "name": "stdout",
     "output_type": "stream",
     "text": [
      "0 1 2 3 4 5 6 7 8 "
     ]
    }
   ],
   "source": [
    "# Method 1 - iterating on range object\n",
    "for each_val in nums:\n",
    "    print(each_val, end=\" \")\n"
   ]
  },
  {
   "cell_type": "code",
   "execution_count": 4,
   "metadata": {},
   "outputs": [
    {
     "name": "stdout",
     "output_type": "stream",
     "text": [
      "nums1: [0, 1, 2, 3, 4, 5, 6, 7, 8], <class 'list'>\n",
      "nums2: (0, 1, 2, 3, 4, 5, 6, 7, 8), <class 'tuple'>\n",
      "nums3: {0, 1, 2, 3, 4, 5, 6, 7, 8}, <class 'set'>\n",
      "nums4: range(0, 9), <class 'str'>\n"
     ]
    }
   ],
   "source": [
    "\n",
    "# Method 2 - Convert to other iterables\n",
    "nums1 = list(nums)  # [0, 1, 2, 3, 4, 5, 6, 7, 8]\n",
    "print(f\"nums1: {nums1}, {type(nums1)}\")\n",
    "\n",
    "nums2 = tuple(nums)  # (0, 1, 2, 3, 4, 5, 6, 7, 8)\n",
    "print(f\"nums2: {nums2}, {type(nums2)}\")\n",
    "\n",
    "nums3 = set(nums)  # {0, 1, 2, 3, 4, 5, 6, 7, 8}\n",
    "print(f\"nums3: {nums3}, {type(nums3)}\")\n",
    "\n",
    "nums4 = str(nums)  # range(0, 9)\n",
    "print(f\"nums4: {nums4}, {type(nums4)}\")"
   ]
  },
  {
   "cell_type": "code",
   "execution_count": 5,
   "metadata": {},
   "outputs": [
    {
     "name": "stdout",
     "output_type": "stream",
     "text": [
      "0,1,2,3,4,5,6,7,8\n"
     ]
    }
   ],
   "source": [
    "# print(','.join(nums)) # TypeError: sequence item 0: expected str instance, int found\n",
    "print(\",\".join(str(i) for i in nums))"
   ]
  }
 ],
 "metadata": {
  "kernelspec": {
   "display_name": "Python 3",
   "language": "python",
   "name": "python3"
  },
  "language_info": {
   "codemirror_mode": {
    "name": "ipython",
    "version": 3
   },
   "file_extension": ".py",
   "mimetype": "text/x-python",
   "name": "python",
   "nbconvert_exporter": "python",
   "pygments_lexer": "ipython3",
   "version": "3.12.1"
  }
 },
 "nbformat": 4,
 "nbformat_minor": 2
}
