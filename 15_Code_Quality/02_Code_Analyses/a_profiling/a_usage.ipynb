{
 "cells": [
  {
   "attachments": {},
   "cell_type": "markdown",
   "metadata": {},
   "source": [
    "## cProfile"
   ]
  },
  {
   "cell_type": "code",
   "execution_count": 2,
   "metadata": {},
   "outputs": [],
   "source": [
    "import cProfile"
   ]
  },
  {
   "cell_type": "code",
   "execution_count": 3,
   "metadata": {},
   "outputs": [
    {
     "data": {
      "text/plain": [
       "['Profile',\n",
       " '__all__',\n",
       " '__builtins__',\n",
       " '__cached__',\n",
       " '__doc__',\n",
       " '__file__',\n",
       " '__loader__',\n",
       " '__name__',\n",
       " '__package__',\n",
       " '__spec__',\n",
       " '_lsprof',\n",
       " '_pyprofile',\n",
       " 'label',\n",
       " 'main',\n",
       " 'run',\n",
       " 'runctx']"
      ]
     },
     "execution_count": 3,
     "metadata": {},
     "output_type": "execute_result"
    }
   ],
   "source": [
    "dir(cProfile)"
   ]
  },
  {
   "cell_type": "code",
   "execution_count": 4,
   "metadata": {},
   "outputs": [
    {
     "name": "stdout",
     "output_type": "stream",
     "text": [
      "         3 function calls in 0.000 seconds\n",
      "\n",
      "   Ordered by: standard name\n",
      "\n",
      "   ncalls  tottime  percall  cumtime  percall filename:lineno(function)\n",
      "        1    0.000    0.000    0.000    0.000 <string>:1(<module>)\n",
      "        1    0.000    0.000    0.000    0.000 {built-in method builtins.exec}\n",
      "        1    0.000    0.000    0.000    0.000 {method 'disable' of '_lsprof.Profiler' objects}\n",
      "\n",
      "\n"
     ]
    }
   ],
   "source": [
    "cProfile.run(\"20+10\")"
   ]
  },
  {
   "attachments": {},
   "cell_type": "markdown",
   "metadata": {},
   "source": [
    "*ncalls* : Shows the number of calls made\n",
    "\n",
    "*tottime*: Total time taken by the given function.\n",
    "    Note that the time made in calls to sub-functions are excluded.\n",
    "\n",
    "*percall*: Total time / No of calls. ( remainder is left out )\n",
    "\n",
    "*cumtime*: Unlike tottime, this includes time spent in this and all\n",
    "    subfunctions that the higher-level function calls.\n",
    "    It is most useful and is accurate for recursive functions.\n",
    "\n",
    "The percall following cumtime is calculated as the quotient of cumtime divided by primitive calls.\n",
    "The primitive calls include all the calls that were not included through recursion."
   ]
  },
  {
   "cell_type": "code",
   "execution_count": 5,
   "metadata": {},
   "outputs": [
    {
     "name": "stdout",
     "output_type": "stream",
     "text": [
      "         12 function calls in 0.000 seconds\n",
      "\n",
      "   Ordered by: standard name\n",
      "\n",
      "   ncalls  tottime  percall  cumtime  percall filename:lineno(function)\n",
      "        1    0.000    0.000    0.000    0.000 <string>:1(<module>)\n",
      "        1    0.000    0.000    0.000    0.000 {built-in method builtins.exec}\n",
      "        9    0.000    0.000    0.000    0.000 {method 'append' of 'list' objects}\n",
      "        1    0.000    0.000    0.000    0.000 {method 'disable' of '_lsprof.Profiler' objects}\n",
      "\n",
      "\n"
     ]
    }
   ],
   "source": [
    "cProfile.run(\n",
    "    \"\"\"\n",
    "result = []\n",
    "for i in range(9):\n",
    "    result.append(i)\n",
    "\"\"\"\n",
    ")"
   ]
  },
  {
   "cell_type": "code",
   "execution_count": 6,
   "metadata": {},
   "outputs": [
    {
     "name": "stdout",
     "output_type": "stream",
     "text": [
      "         4 function calls in 0.000 seconds\n",
      "\n",
      "   Ordered by: standard name\n",
      "\n",
      "   ncalls  tottime  percall  cumtime  percall filename:lineno(function)\n",
      "        1    0.000    0.000    0.000    0.000 <string>:1(<module>)\n",
      "        1    0.000    0.000    0.000    0.000 <string>:2(<listcomp>)\n",
      "        1    0.000    0.000    0.000    0.000 {built-in method builtins.exec}\n",
      "        1    0.000    0.000    0.000    0.000 {method 'disable' of '_lsprof.Profiler' objects}\n",
      "\n",
      "\n"
     ]
    }
   ],
   "source": [
    "cProfile.run(\n",
    "    \"\"\"\n",
    "result = [i for i in range(9)]\n",
    "\"\"\"\n",
    ")"
   ]
  },
  {
   "cell_type": "code",
   "execution_count": 7,
   "metadata": {},
   "outputs": [
    {
     "name": "stdout",
     "output_type": "stream",
     "text": [
      "         3 function calls in 0.000 seconds\n",
      "\n",
      "   Ordered by: standard name\n",
      "\n",
      "   ncalls  tottime  percall  cumtime  percall filename:lineno(function)\n",
      "        1    0.000    0.000    0.000    0.000 <string>:1(<module>)\n",
      "        1    0.000    0.000    0.000    0.000 {built-in method builtins.exec}\n",
      "        1    0.000    0.000    0.000    0.000 {method 'disable' of '_lsprof.Profiler' objects}\n",
      "\n",
      "\n"
     ]
    }
   ],
   "source": [
    "cProfile.run(\n",
    "    \"\"\"\n",
    "result = list(range(9))\n",
    "\"\"\",\n",
    "    filename=None,\n",
    "    sort=-1,\n",
    ")"
   ]
  },
  {
   "cell_type": "code",
   "execution_count": 8,
   "metadata": {},
   "outputs": [
    {
     "name": "stdout",
     "output_type": "stream",
     "text": [
      "Array created successfully\n",
      "         400031 function calls in 0.738 seconds\n",
      "\n",
      "   Ordered by: standard name\n",
      "\n",
      "   ncalls  tottime  percall  cumtime  percall filename:lineno(function)\n",
      "        1    0.013    0.013    0.738    0.738 1140210951.py:12(main)\n",
      "        1    0.492    0.492    0.725    0.725 1140210951.py:2(create_array)\n",
      "        1    0.000    0.000    0.001    0.001 1140210951.py:8(print_statement)\n",
      "        1    0.000    0.000    0.738    0.738 <string>:1(<module>)\n",
      "        1    0.000    0.000    0.001    0.001 iostream.py:205(schedule)\n",
      "        2    0.000    0.000    0.000    0.000 iostream.py:467(_is_master_process)\n",
      "        2    0.000    0.000    0.001    0.000 iostream.py:494(_schedule_flush)\n",
      "        2    0.000    0.000    0.001    0.000 iostream.py:572(write)\n",
      "        1    0.000    0.000    0.000    0.000 iostream.py:91(_event_pipe)\n",
      "        1    0.001    0.001    0.001    0.001 socket.py:621(send)\n",
      "        1    0.000    0.000    0.000    0.000 threading.py:1118(_wait_for_tstate_lock)\n",
      "        1    0.000    0.000    0.000    0.000 threading.py:1185(is_alive)\n",
      "        1    0.000    0.000    0.000    0.000 threading.py:568(is_set)\n",
      "        1    0.000    0.000    0.738    0.738 {built-in method builtins.exec}\n",
      "        2    0.000    0.000    0.000    0.000 {built-in method builtins.isinstance}\n",
      "        2    0.000    0.000    0.000    0.000 {built-in method builtins.len}\n",
      "        1    0.000    0.000    0.001    0.001 {built-in method builtins.print}\n",
      "        2    0.000    0.000    0.000    0.000 {built-in method nt.getpid}\n",
      "        2    0.000    0.000    0.000    0.000 {method '__exit__' of '_thread.RLock' objects}\n",
      "        1    0.000    0.000    0.000    0.000 {method 'acquire' of '_thread.lock' objects}\n",
      "        1    0.000    0.000    0.000    0.000 {method 'append' of 'collections.deque' objects}\n",
      "   400000    0.233    0.000    0.233    0.000 {method 'append' of 'list' objects}\n",
      "        1    0.000    0.000    0.000    0.000 {method 'disable' of '_lsprof.Profiler' objects}\n",
      "        2    0.000    0.000    0.000    0.000 {method 'write' of '_io.StringIO' objects}\n",
      "\n",
      "\n"
     ]
    }
   ],
   "source": [
    "# Code containing multiple functions\n",
    "def create_array():\n",
    "    arr = []\n",
    "    for i in range(0, 400000):\n",
    "        arr.append(i)\n",
    "\n",
    "\n",
    "def print_statement():\n",
    "    print(\"Array created successfully\")\n",
    "\n",
    "\n",
    "def main():\n",
    "    create_array()\n",
    "    print_statement()\n",
    "\n",
    "\n",
    "cProfile.run(\"main()\")"
   ]
  },
  {
   "cell_type": "code",
   "execution_count": 9,
   "metadata": {},
   "outputs": [
    {
     "name": "stdout",
     "output_type": "stream",
     "text": [
      "Array created successfully\n",
      "         400031 function calls in 0.614 seconds\n",
      "\n",
      "   Ordered by: internal time\n",
      "\n",
      "   ncalls  tottime  percall  cumtime  percall filename:lineno(function)\n",
      "        1    0.397    0.397    0.596    0.596 1140210951.py:2(create_array)\n",
      "   400000    0.199    0.000    0.199    0.000 {method 'append' of 'list' objects}\n",
      "        1    0.016    0.016    0.614    0.614 1140210951.py:12(main)\n",
      "        1    0.001    0.001    0.001    0.001 socket.py:621(send)\n",
      "        1    0.000    0.000    0.614    0.614 {built-in method builtins.exec}\n",
      "        2    0.000    0.000    0.001    0.001 iostream.py:572(write)\n",
      "        1    0.000    0.000    0.001    0.001 iostream.py:205(schedule)\n",
      "        1    0.000    0.000    0.001    0.001 {built-in method builtins.print}\n",
      "        1    0.000    0.000    0.001    0.001 1140210951.py:8(print_statement)\n",
      "        2    0.000    0.000    0.000    0.000 iostream.py:467(_is_master_process)\n",
      "        2    0.000    0.000    0.001    0.000 iostream.py:494(_schedule_flush)\n",
      "        1    0.000    0.000    0.000    0.000 threading.py:1185(is_alive)\n",
      "        2    0.000    0.000    0.000    0.000 {built-in method nt.getpid}\n",
      "        1    0.000    0.000    0.000    0.000 threading.py:1118(_wait_for_tstate_lock)\n",
      "        1    0.000    0.000    0.614    0.614 <string>:1(<module>)\n",
      "        1    0.000    0.000    0.000    0.000 iostream.py:91(_event_pipe)\n",
      "        2    0.000    0.000    0.000    0.000 {method 'write' of '_io.StringIO' objects}\n",
      "        2    0.000    0.000    0.000    0.000 {method '__exit__' of '_thread.RLock' objects}\n",
      "        1    0.000    0.000    0.000    0.000 {method 'acquire' of '_thread.lock' objects}\n",
      "        1    0.000    0.000    0.000    0.000 {method 'disable' of '_lsprof.Profiler' objects}\n",
      "        2    0.000    0.000    0.000    0.000 {built-in method builtins.isinstance}\n",
      "        2    0.000    0.000    0.000    0.000 {built-in method builtins.len}\n",
      "        1    0.000    0.000    0.000    0.000 threading.py:568(is_set)\n",
      "        1    0.000    0.000    0.000    0.000 {method 'append' of 'collections.deque' objects}\n",
      "\n",
      "\n"
     ]
    }
   ],
   "source": [
    "cProfile.run(\"main()\", sort=True)  # Order is based on tottime, percall, ncalls"
   ]
  },
  {
   "cell_type": "code",
   "execution_count": 10,
   "metadata": {},
   "outputs": [
    {
     "name": "stdout",
     "output_type": "stream",
     "text": [
      "Array created successfully\n",
      "         400031 function calls in 0.505 seconds\n",
      "\n",
      "   Ordered by: call count\n",
      "\n",
      "   ncalls  tottime  percall  cumtime  percall filename:lineno(function)\n",
      "   400000    0.177    0.000    0.177    0.000 {method 'append' of 'list' objects}\n",
      "        2    0.000    0.000    0.012    0.006 iostream.py:572(write)\n",
      "        2    0.000    0.000    0.012    0.006 iostream.py:494(_schedule_flush)\n",
      "        2    0.000    0.000    0.000    0.000 iostream.py:467(_is_master_process)\n",
      "        2    0.000    0.000    0.000    0.000 {built-in method nt.getpid}\n",
      "        2    0.000    0.000    0.000    0.000 {method '__exit__' of '_thread.RLock' objects}\n",
      "        2    0.000    0.000    0.000    0.000 {method 'write' of '_io.StringIO' objects}\n",
      "        2    0.000    0.000    0.000    0.000 {built-in method builtins.isinstance}\n",
      "        2    0.000    0.000    0.000    0.000 {built-in method builtins.len}\n",
      "        1    0.000    0.000    0.012    0.012 1140210951.py:8(print_statement)\n",
      "        1    0.000    0.000    0.505    0.505 <string>:1(<module>)\n",
      "        1    0.307    0.307    0.484    0.484 1140210951.py:2(create_array)\n",
      "        1    0.000    0.000    0.000    0.000 threading.py:1118(_wait_for_tstate_lock)\n",
      "        1    0.012    0.012    0.012    0.012 socket.py:621(send)\n",
      "        1    0.000    0.000    0.000    0.000 threading.py:568(is_set)\n",
      "        1    0.000    0.000    0.000    0.000 threading.py:1185(is_alive)\n",
      "        1    0.000    0.000    0.000    0.000 iostream.py:91(_event_pipe)\n",
      "        1    0.000    0.000    0.012    0.012 iostream.py:205(schedule)\n",
      "        1    0.008    0.008    0.505    0.505 1140210951.py:12(main)\n",
      "        1    0.000    0.000    0.000    0.000 {method 'append' of 'collections.deque' objects}\n",
      "        1    0.000    0.000    0.000    0.000 {method 'acquire' of '_thread.lock' objects}\n",
      "        1    0.000    0.000    0.505    0.505 {built-in method builtins.exec}\n",
      "        1    0.000    0.000    0.012    0.012 {built-in method builtins.print}\n",
      "        1    0.000    0.000    0.000    0.000 {method 'disable' of '_lsprof.Profiler' objects}\n",
      "\n",
      "\n"
     ]
    }
   ],
   "source": [
    "cProfile.run(\"main()\", sort=\"ncalls\")  # Order is ncalls"
   ]
  },
  {
   "cell_type": "code",
   "execution_count": 11,
   "metadata": {},
   "outputs": [
    {
     "name": "stdout",
     "output_type": "stream",
     "text": [
      "Array created successfully\n"
     ]
    }
   ],
   "source": [
    "cProfile.run(\"main()\", sort=\"ncalls\", filename=\"profile.txt\")  # Order is ncalls"
   ]
  },
  {
   "cell_type": "code",
   "execution_count": 12,
   "metadata": {},
   "outputs": [
    {
     "name": "stdout",
     "output_type": "stream",
     "text": [
      "�)\u0003�>C:\\Users\\Amma\\AppData\\Local\\Temp\\ipykernel_29832\\1140210951.py\u0000\u0000\u0000�\u000fprint_statement)\u0005�\u0001\u0000\u0000\u0000r\u0004\u0000\u0000\u0000g-C\u001c��6�>g�=�F��R?{�\u0003r\u0001\u0000\u0000\u0000�\f\u0000\u0000\u0000�\u0004main)\u0004r\u0004\u0000\u0000\u0000r\u0004\u0000\u0000\u0000g-C\u001c��6�>g�=�F��R?0)\u0003<string>r\u0004\u0000\u0000\u0000<module>)\u0005r\u0004\u0000\u0000\u0000r\u0004\u0000\u0000\u0000g�h㈵��>! _B\u0005�?{)\u0003�\u0001~�\u0000\u0000\u0000\u0000�\u001f<built-in method builtins.exec>)\u0004r\u0004\u0000\u0000\u0000r\u0004\u0000\u0000\u0000g�h㈵��>! _B\u0005�?0)\u0003r\u0001\u0000\u0000\u0000�\u0002\u0000\u0000\u0000�\fcreate_array)\u0005r\u0004\u0000\u0000\u0000r\u0004\u0000\u0000\u0000g����\u0007>�?g���-/��?{r\u0005\u0000\u0000\u0000)\u0004r\u0004\u0000\u0000\u0000r\u0004\u0000\u0000\u0000g����\u0007>�?g���-/��?0)\u0003�qC:\\Program Files\\WindowsApps\\PythonSoftwareFoundation.Python.3.11_3.11.1008.0_x64__qbz5n2kfra8p0\\Lib\\threading.pyi^\u0004\u0000\u0000�\u0015_wait_for_tstate_lock)\u0005r\u0004\u0000\u0000\u0000r\u0004\u0000\u0000\u0000gw�\n",
      "��!�>g�7�P��>{�\u0003r\u000f\u0000\u0000\u0000i�\u0004\u0000\u0000is_alive)\u0004r\u0004\u0000\u0000\u0000r\u0004\u0000\u0000\u0000gw�\n",
      "��!�>g�7�P��>0)\u0003�{c:\\Users\\Amma\\AppData\\Local\\pypoetry\\Cache\\virtualenvs\\pythonmaterial-4Fyt9FjG-py3.11\\Lib\\site-packages\\zmq\\sugar\\socket.pyim\u0002\u0000\u0000�\u0004send)\u0005r\u0004\u0000\u0000\u0000r\u0004\u0000\u0000\u0000gKc\u000fH\u001dxP?gKc\u000fH\u001dxP?{�\u0003�}c:\\Users\\Amma\\AppData\\Local\\pypoetry\\Cache\\virtualenvs\\pythonmaterial-4Fyt9FjG-py3.11\\Lib\\site-packages\\ipykernel\\iostream.py��\u0000\u0000\u0000schedule)\u0004r\u0004\u0000\u0000\u0000r\u0004\u0000\u0000\u0000gKc\u000fH\u001dxP?gKc\u000fH\u001dxP?0)\u0003r\u000f\u0000\u0000\u0000i8\u0002\u0000\u0000�\u0006is_set)\u0005r\u0004\u0000\u0000\u0000r\u0004\u0000\u0000\u0000g2E\u0014��2�>g2E\u0014��2�>{r\u0011\u0000\u0000\u0000)\u0004r\u0004\u0000\u0000\u0000r\u0004\u0000\u0000\u0000g2E\u0014��2�>g2E\u0014��2�>0)\u0003r\u000f\u0000\u0000\u0000i�\u0004\u0000\u0000r\u0012\u0000\u0000\u0000)\u0005r\u0004\u0000\u0000\u0000r\u0004\u0000\u0000\u0000guR�#���>g��z�\u000f\u000b�>{r\u0015\u0000\u0000\u0000)\u0004r\u0004\u0000\u0000\u0000r\u0004\u0000\u0000\u0000guR�#���>g��z�\u000f\u000b�>0)\u0003r\u0016\u0000\u0000\u0000i<\u0002\u0000\u0000�\u0005write)\u0005r\n",
      "\u0000\u0000\u0000r\n",
      "\u0000\u0000\u0000g����\u0011\u001a\f?g ��\u0000R?{)\u0003r\n",
      "\u0000\u0000\u0000r\u000b\u0000\u0000\u0000� <built-in method builtins.print>)\u0004r\n",
      "\u0000\u0000\u0000r\n",
      "\u0000\u0000\u0000g����\u0011\u001a\f?g ��\u0000R?0)\u0003r\u0016\u0000\u0000\u0000�[\u0000\u0000\u0000�\u000b_event_pipe)\u0005r\u0004\u0000\u0000\u0000r\u0004\u0000\u0000\u0000g=zh�q��>g=zh�q��>{r\u0015\u0000\u0000\u0000)\u0004r\u0004\u0000\u0000\u0000r\u0004\u0000\u0000\u0000g=zh�q��>g=zh�q��>0)\u0003r\u0016\u0000\u0000\u0000r\u0017\u0000\u0000\u0000r\u0018\u0000\u0000\u0000)\u0005r\u0004\u0000\u0000\u0000r\u0004\u0000\u0000\u0000gkN�\u001du��>gxT볹 Q?{)\u0003r\u0016\u0000\u0000\u0000i�\u0001\u0000\u0000�\u000f_schedule_flush)\u0004r\u0004\u0000\u0000\u0000r\u0004\u0000\u0000\u0000gkN�\u001du��>gxT볹 Q?0)\u0003r\u0016\u0000\u0000\u0000i�\u0001\u0000\u0000r\u001e\u0000\u0000\u0000)\u0005r\n",
      "\u0000\u0000\u0000r\n",
      "\u0000\u0000\u0000g[\u0017mD��>g�.t��GQ?{�\u0003r\u0016\u0000\u0000\u0000i<\u0002\u0000\u0000r\u001a\u0000\u0000\u0000)\u0004r\n",
      "\u0000\u0000\u0000r\n",
      "\u0000\u0000\u0000g[\u0017mD��>g�.t��GQ?0)\u0003r\u0016\u0000\u0000\u0000i�\u0001\u0000\u0000�\u0012_is_master_process)\u0005r\n",
      "\u0000\u0000\u0000r\n",
      "\u0000\u0000\u0000g��Ÿ́p�>g��A��>{r\u001f\u0000\u0000\u0000)\u0004r\n",
      "\u0000\u0000\u0000r\n",
      "\u0000\u0000\u0000g��Ÿ́p�>g��A��>0)\u0003r\u0001\u0000\u0000\u0000r\u0006\u0000\u0000\u0000r\u0007\u0000\u0000\u0000)\u0005r\u0004\u0000\u0000\u0000r\u0004\u0000\u0000\u0000g}�\u0012\u0019\fd�?gϾ� =\u0005�?{)\u0003\u0000\u0000\u0000r\u0004\u0000\u0000\u0000r\t\u0000\u0000\u0000)\u0004r\u0004\u0000\u0000\u0000r\u0004\u0000\u0000\u0000g}�\u0012\u0019\fd�?gϾ� =\u0005�?0)\u0003r\n",
      "\u0000\u0000\u0000r\u000b\u0000\u0000\u0000�0<method 'append' of 'collections.deque' objects>)\u0005r\u0004\u0000\u0000\u0000r\u0004\u0000\u0000\u0000g`\u0019eG�|�>g`\u0019eG�|�>{r\u0015\u0000\u0000\u0000)\u0004r\u0004\u0000\u0000\u0000r\u0004\u0000\u0000\u0000g`\u0019eG�|�>g`\u0019eG�|�>0)\u0003r\n",
      "\u0000\u0000\u0000r\u000b\u0000\u0000\u0000�\u001b<built-in method nt.getpid>)\u0005r\n",
      "\u0000\u0000\u0000r\n",
      "\u0000\u0000\u0000g2E\u0014��2�>g2E\u0014��2�>{)\u0003r\u0016\u0000\u0000\u0000i�\u0001\u0000\u0000r \u0000\u0000\u0000)\u0004r\n",
      "\u0000\u0000\u0000r\n",
      "\u0000\u0000\u0000g2E\u0014��2�>g2E\u0014��2�>0)\u0003r\n",
      "\u0000\u0000\u0000r\u000b\u0000\u0000\u0000�,<method 'acquire' of '_thread.lock' objects>)\u0005r\u0004\u0000\u0000\u0000r\u0004\u0000\u0000\u0000g�h㈵��>g�h㈵��>{)\u0003r\u000f\u0000\u0000\u0000i^\u0004\u0000\u0000r\u0010\u0000\u0000\u0000)\u0004r\u0004\u0000\u0000\u0000r\u0004\u0000\u0000\u0000g�h㈵��>g�h㈵��>0)\u0003r\n",
      "\u0000\u0000\u0000r\u000b\u0000\u0000\u0000�.<method '__exit__' of '_thread.RLock' objects>)\u0005r\n",
      "\u0000\u0000\u0000r\n",
      "\u0000\u0000\u0000g&\u0010�\u0017p�>g&\u0010�\u0017p�>{r\u001f\u0000\u0000\u0000)\u0004r\n",
      "\u0000\u0000\u0000r\n",
      "\u0000\u0000\u0000g&\u0010�\u0017p�>g&\u0010�\u0017p�>0)\u0003r\n",
      "\u0000\u0000\u0000r\u000b\u0000\u0000\u0000�*<method 'write' of '_io.StringIO' objects>)\u0005r\n",
      "\u0000\u0000\u0000r\n",
      "\u0000\u0000\u0000g�3��4��>g�3��4��>{r\u001f\u0000\u0000\u0000)\u0004r\n",
      "\u0000\u0000\u0000r\n",
      "\u0000\u0000\u0000g�3��4��>g�3��4��>0)\u0003r\n",
      "\u0000\u0000\u0000r\u000b\u0000\u0000\u0000�#<method 'append' of 'list' objects>)\u0005i�\u001a\u0006\u0000i�\u001a\u0006\u0000g\u0013r�r���?g\u0013r�r���?{)\u0003r\u0001\u0000\u0000\u0000r\n",
      "\u0000\u0000\u0000r\u000e\u0000\u0000\u0000)\u0004i�\u001a\u0006\u0000i�\u001a\u0006\u0000g\u0013r�r���?g\u0013r�r���?0)\u0003r\n",
      "\u0000\u0000\u0000r\u000b\u0000\u0000\u0000r\f\u0000\u0000\u0000)\u0005r\u0004\u0000\u0000\u0000r\u0004\u0000\u0000\u0000gT��X�X\u0013?g0�2$�\u0005�?{0)\u0003r\n",
      "\u0000\u0000\u0000r\u000b\u0000\u0000\u0000�%<built-in method builtins.isinstance>)\u0005r\n",
      "\u0000\u0000\u0000r\n",
      "\u0000\u0000\u0000g�h㈵��>g�h㈵��>{r\u001f\u0000\u0000\u0000)\u0004r\n",
      "\u0000\u0000\u0000r\n",
      "\u0000\u0000\u0000g�h㈵��>g�h㈵��>0)\u0003r\n",
      "\u0000\u0000\u0000r\u000b\u0000\u0000\u0000�\u001e<built-in method builtins.len>)\u0005r\n",
      "\u0000\u0000\u0000r\n",
      "\u0000\u0000\u0000gkN�\u001duϵ>gkN�\u001duϵ>{r\u001f\u0000\u0000\u0000)\u0004r\n",
      "\u0000\u0000\u0000r\n",
      "\u0000\u0000\u0000gkN�\u001duϵ>gkN�\u001duϵ>0)\u0003r\n",
      "\u0000\u0000\u0000r\u000b\u0000\u0000\u0000r\u001b\u0000\u0000\u0000)\u0005r\u0004\u0000\u0000\u0000r\u0004\u0000\u0000\u0000gȖ�2���>gN\u0005&�\u0017�R?{)\u0003r\u0001\u0000\u0000\u0000r\u0002\u0000\u0000\u0000r\u0003\u0000\u0000\u0000)\u0004r\u0004\u0000\u0000\u0000r\u0004\u0000\u0000\u0000gȖ�2���>gN\u0005&�\u0017�R?0)\u0003r\n",
      "\u0000\u0000\u0000r\u000b\u0000\u0000\u0000�0<method 'disable' of '_lsprof.Profiler' objects>)\u0005r\u0004\u0000\u0000\u0000r\u0004\u0000\u0000\u0000gkN�\u001duϵ>gkN�\u001duϵ>{00\n"
     ]
    }
   ],
   "source": [
    "!cat profile.txt"
   ]
  },
  {
   "cell_type": "markdown",
   "metadata": {},
   "source": [
    "### Profiling multiple functions or methods together"
   ]
  },
  {
   "cell_type": "code",
   "execution_count": 13,
   "metadata": {},
   "outputs": [],
   "source": [
    "def using_range(nums):\n",
    "    successive_diffs = []\n",
    "    for i in range(len(nums)):\n",
    "        if i == 0:\n",
    "            continue\n",
    "        successive_diffs.append(nums[i - 1] - nums[i])\n",
    "    return successive_diffs\n",
    "\n",
    "\n",
    "def using_enumerate(nums):\n",
    "    successive_diffs = []\n",
    "    for i, num in enumerate(nums):\n",
    "        if i == 0:\n",
    "            continue\n",
    "        successive_diffs.append(nums[i - 1] - nums[i])\n",
    "    return successive_diffs"
   ]
  },
  {
   "cell_type": "code",
   "execution_count": 14,
   "metadata": {},
   "outputs": [
    {
     "name": "stdout",
     "output_type": "stream",
     "text": [
      "         10004 function calls in 0.015 seconds\n",
      "\n",
      "   Ordered by: standard name\n",
      "\n",
      "   ncalls  tottime  percall  cumtime  percall filename:lineno(function)\n",
      "        1    0.012    0.012    0.015    0.015 2603486429.py:1(using_range)\n",
      "        1    0.000    0.000    0.015    0.015 <string>:1(<module>)\n",
      "        1    0.000    0.000    0.015    0.015 {built-in method builtins.exec}\n",
      "        1    0.000    0.000    0.000    0.000 {built-in method builtins.len}\n",
      "     9999    0.003    0.000    0.003    0.000 {method 'append' of 'list' objects}\n",
      "        1    0.000    0.000    0.000    0.000 {method 'disable' of '_lsprof.Profiler' objects}\n",
      "\n",
      "\n"
     ]
    }
   ],
   "source": [
    "cProfile.run(\"using_range(range(10000))\")"
   ]
  },
  {
   "cell_type": "code",
   "execution_count": 15,
   "metadata": {},
   "outputs": [
    {
     "name": "stdout",
     "output_type": "stream",
     "text": [
      "         10003 function calls in 0.018 seconds\n",
      "\n",
      "   Ordered by: standard name\n",
      "\n",
      "   ncalls  tottime  percall  cumtime  percall filename:lineno(function)\n",
      "        1    0.015    0.015    0.018    0.018 2603486429.py:8(using_enumerate)\n",
      "        1    0.000    0.000    0.018    0.018 <string>:1(<module>)\n",
      "        1    0.000    0.000    0.018    0.018 {built-in method builtins.exec}\n",
      "     9999    0.003    0.000    0.003    0.000 {method 'append' of 'list' objects}\n",
      "        1    0.000    0.000    0.000    0.000 {method 'disable' of '_lsprof.Profiler' objects}\n",
      "\n",
      "\n"
     ]
    }
   ],
   "source": [
    "cProfile.run(\"using_enumerate(range(10000))\")"
   ]
  },
  {
   "cell_type": "code",
   "execution_count": 16,
   "metadata": {},
   "outputs": [
    {
     "name": "stdout",
     "output_type": "stream",
     "text": [
      "         20004 function calls in 0.033 seconds\n",
      "\n",
      "   Ordered by: standard name\n",
      "\n",
      "   ncalls  tottime  percall  cumtime  percall filename:lineno(function)\n",
      "        1    0.012    0.012    0.015    0.015 2603486429.py:1(using_range)\n",
      "        1    0.015    0.015    0.018    0.018 2603486429.py:8(using_enumerate)\n",
      "        1    0.000    0.000    0.033    0.033 <string>:1(<module>)\n",
      "        1    0.000    0.000    0.033    0.033 {built-in method builtins.exec}\n",
      "        1    0.000    0.000    0.000    0.000 {built-in method builtins.len}\n",
      "    19998    0.005    0.000    0.005    0.000 {method 'append' of 'list' objects}\n",
      "        1    0.000    0.000    0.000    0.000 {method 'disable' of '_lsprof.Profiler' objects}\n",
      "\n",
      "\n"
     ]
    }
   ],
   "source": [
    "cProfile.run(\"using_range(range(10000));using_enumerate(range(10000))\")"
   ]
  },
  {
   "attachments": {},
   "cell_type": "markdown",
   "metadata": {},
   "source": [
    "### Comparing two functions"
   ]
  },
  {
   "cell_type": "code",
   "execution_count": 17,
   "metadata": {},
   "outputs": [
    {
     "name": "stdout",
     "output_type": "stream",
     "text": [
      "         10004 function calls in 0.014 seconds\n",
      "\n",
      "   Ordered by: internal time\n",
      "\n",
      "   ncalls  tottime  percall  cumtime  percall filename:lineno(function)\n",
      "        1    0.011    0.011    0.014    0.014 2603486429.py:1(using_range)\n",
      "     9999    0.002    0.000    0.002    0.000 {method 'append' of 'list' objects}\n",
      "        1    0.000    0.000    0.014    0.014 {built-in method builtins.exec}\n",
      "        1    0.000    0.000    0.014    0.014 <string>:1(<module>)\n",
      "        1    0.000    0.000    0.000    0.000 {method 'disable' of '_lsprof.Profiler' objects}\n",
      "        1    0.000    0.000    0.000    0.000 {built-in method builtins.len}\n",
      "\n",
      "\n",
      "         10003 function calls in 0.018 seconds\n",
      "\n",
      "   Ordered by: internal time\n",
      "\n",
      "   ncalls  tottime  percall  cumtime  percall filename:lineno(function)\n",
      "        1    0.015    0.015    0.018    0.018 2603486429.py:8(using_enumerate)\n",
      "     9999    0.003    0.000    0.003    0.000 {method 'append' of 'list' objects}\n",
      "        1    0.000    0.000    0.018    0.018 {built-in method builtins.exec}\n",
      "        1    0.000    0.000    0.018    0.018 <string>:1(<module>)\n",
      "        1    0.000    0.000    0.000    0.000 {method 'disable' of '_lsprof.Profiler' objects}\n",
      "\n",
      "\n"
     ]
    }
   ],
   "source": [
    "cProfile.runctx(\n",
    "    \"using_range(range(10000))\", globals(), locals(), sort=\"time\"\n",
    ")  # filename='profile1.txt')\n",
    "cProfile.runctx(\n",
    "    \"using_enumerate(range(10000))\", globals(), locals(), sort=\"time\"\n",
    ")  # filename='profile2.txt')"
   ]
  },
  {
   "cell_type": "markdown",
   "metadata": {},
   "source": [
    "## Profiling with line-by-line analysis"
   ]
  },
  {
   "cell_type": "code",
   "execution_count": 18,
   "metadata": {},
   "outputs": [
    {
     "name": "stdout",
     "output_type": "stream",
     "text": [
      "Array created successfully\n",
      "         400029 function calls in 0.419 seconds\n",
      "\n",
      "   Ordered by: call count\n",
      "\n",
      "   ncalls  tottime  percall  cumtime  percall filename:lineno(function)\n",
      "   400000    0.145    0.000    0.145    0.000 {method 'append' of 'list' objects}\n",
      "        2    0.000    0.000    0.001    0.000 c:\\Users\\Amma\\AppData\\Local\\pypoetry\\Cache\\virtualenvs\\pythonmaterial-4Fyt9FjG-py3.11\\Lib\\site-packages\\ipykernel\\iostream.py:572(write)\n",
      "        2    0.000    0.000    0.000    0.000 c:\\Users\\Amma\\AppData\\Local\\pypoetry\\Cache\\virtualenvs\\pythonmaterial-4Fyt9FjG-py3.11\\Lib\\site-packages\\ipykernel\\iostream.py:494(_schedule_flush)\n",
      "        2    0.000    0.000    0.000    0.000 c:\\Users\\Amma\\AppData\\Local\\pypoetry\\Cache\\virtualenvs\\pythonmaterial-4Fyt9FjG-py3.11\\Lib\\site-packages\\ipykernel\\iostream.py:467(_is_master_process)\n",
      "        2    0.000    0.000    0.000    0.000 {built-in method nt.getpid}\n",
      "        2    0.000    0.000    0.000    0.000 {method '__exit__' of '_thread.RLock' objects}\n",
      "        2    0.000    0.000    0.000    0.000 {method 'write' of '_io.StringIO' objects}\n",
      "        2    0.000    0.000    0.000    0.000 {built-in method builtins.isinstance}\n",
      "        2    0.000    0.000    0.000    0.000 {built-in method builtins.len}\n",
      "        1    0.000    0.000    0.001    0.001 C:\\Users\\Amma\\AppData\\Local\\Temp\\ipykernel_29832\\267384398.py:7(print_statement)\n",
      "        1    0.265    0.265    0.410    0.410 C:\\Users\\Amma\\AppData\\Local\\Temp\\ipykernel_29832\\267384398.py:1(create_array)\n",
      "        1    0.000    0.000    0.000    0.000 C:\\Program Files\\WindowsApps\\PythonSoftwareFoundation.Python.3.11_3.11.1008.0_x64__qbz5n2kfra8p0\\Lib\\threading.py:1118(_wait_for_tstate_lock)\n",
      "        1    0.000    0.000    0.000    0.000 c:\\Users\\Amma\\AppData\\Local\\pypoetry\\Cache\\virtualenvs\\pythonmaterial-4Fyt9FjG-py3.11\\Lib\\site-packages\\zmq\\sugar\\socket.py:621(send)\n",
      "        1    0.000    0.000    0.000    0.000 C:\\Program Files\\WindowsApps\\PythonSoftwareFoundation.Python.3.11_3.11.1008.0_x64__qbz5n2kfra8p0\\Lib\\threading.py:568(is_set)\n",
      "        1    0.000    0.000    0.000    0.000 C:\\Program Files\\WindowsApps\\PythonSoftwareFoundation.Python.3.11_3.11.1008.0_x64__qbz5n2kfra8p0\\Lib\\threading.py:1185(is_alive)\n",
      "        1    0.000    0.000    0.000    0.000 c:\\Users\\Amma\\AppData\\Local\\pypoetry\\Cache\\virtualenvs\\pythonmaterial-4Fyt9FjG-py3.11\\Lib\\site-packages\\ipykernel\\iostream.py:91(_event_pipe)\n",
      "        1    0.000    0.000    0.000    0.000 c:\\Users\\Amma\\AppData\\Local\\pypoetry\\Cache\\virtualenvs\\pythonmaterial-4Fyt9FjG-py3.11\\Lib\\site-packages\\ipykernel\\iostream.py:205(schedule)\n",
      "        1    0.009    0.009    0.419    0.419 C:\\Users\\Amma\\AppData\\Local\\Temp\\ipykernel_29832\\267384398.py:11(main)\n",
      "        1    0.000    0.000    0.000    0.000 {method 'append' of 'collections.deque' objects}\n",
      "        1    0.000    0.000    0.000    0.000 {method 'acquire' of '_thread.lock' objects}\n",
      "        1    0.000    0.000    0.001    0.001 {built-in method builtins.print}\n",
      "        1    0.000    0.000    0.000    0.000 {method 'disable' of '_lsprof.Profiler' objects}\n",
      "\n",
      "\n"
     ]
    }
   ],
   "source": [
    "def create_array():\n",
    "    arr = []\n",
    "    for i in range(0, 400000):\n",
    "        arr.append(i)\n",
    "\n",
    "\n",
    "def print_statement():\n",
    "    print(\"Array created successfully\")\n",
    "\n",
    "\n",
    "def main():\n",
    "    create_array()\n",
    "    print_statement()\n",
    "\n",
    "\n",
    "if __name__ == \"__main__\":\n",
    "    import cProfile\n",
    "    import pstats\n",
    "\n",
    "    profiler = cProfile.Profile()\n",
    "    profiler.enable()\n",
    "    main()\n",
    "    profiler.disable()\n",
    "\n",
    "    stats = pstats.Stats(profiler).sort_stats(\"ncalls\")\n",
    "    stats.print_stats()"
   ]
  },
  {
   "cell_type": "code",
   "execution_count": 19,
   "metadata": {},
   "outputs": [],
   "source": [
    "# Export profiler output to file\n",
    "stats = pstats.Stats(profiler)\n",
    "stats.dump_stats(\"export-data.txt\")"
   ]
  },
  {
   "cell_type": "markdown",
   "metadata": {},
   "source": [
    "## Profiling memory usage"
   ]
  },
  {
   "cell_type": "code",
   "execution_count": 21,
   "metadata": {},
   "outputs": [
    {
     "name": "stdout",
     "output_type": "stream",
     "text": [
      "         10004 function calls in 0.010 seconds\n",
      "\n",
      "   Ordered by: internal time\n",
      "\n",
      "   ncalls  tottime  percall  cumtime  percall filename:lineno(function)\n",
      "        1    0.008    0.008    0.009    0.009 2603486429.py:1(using_range)\n",
      "     9999    0.002    0.000    0.002    0.000 {method 'append' of 'list' objects}\n",
      "        1    0.000    0.000    0.010    0.010 {built-in method builtins.exec}\n",
      "        1    0.000    0.000    0.010    0.010 <string>:1(<module>)\n",
      "        1    0.000    0.000    0.000    0.000 {method 'disable' of '_lsprof.Profiler' objects}\n",
      "        1    0.000    0.000    0.000    0.000 {built-in method builtins.len}\n",
      "\n",
      "\n"
     ]
    }
   ],
   "source": [
    "from memory_profiler import memory_usage\n",
    "\n",
    "cProfile.runctx(\"using_range(range(10000))\", globals(), locals(), sort=\"time\")"
   ]
  },
  {
   "cell_type": "code",
   "execution_count": 27,
   "metadata": {},
   "outputs": [
    {
     "ename": "TypeError",
     "evalue": "using_range() takes 1 positional argument but 1000 were given",
     "output_type": "error",
     "traceback": [
      "\u001b[1;31m---------------------------------------------------------------------------\u001b[0m",
      "\u001b[1;31mTypeError\u001b[0m                                 Traceback (most recent call last)",
      "Cell \u001b[1;32mIn[27], line 2\u001b[0m\n\u001b[0;32m      1\u001b[0m nums \u001b[39m=\u001b[39m \u001b[39mtuple\u001b[39m(\u001b[39mrange\u001b[39m(\u001b[39m1000\u001b[39m))\n\u001b[1;32m----> 2\u001b[0m memory_profiler \u001b[39m=\u001b[39m memory_usage((using_range, nums, {}))\n\u001b[0;32m      3\u001b[0m \u001b[39mprint\u001b[39m(\u001b[39m\"\u001b[39m\u001b[39mMemory usage:\u001b[39m\u001b[39m\"\u001b[39m, memory_profiler[\u001b[39m0\u001b[39m])\n",
      "File \u001b[1;32mc:\\Users\\Amma\\AppData\\Local\\pypoetry\\Cache\\virtualenvs\\pythonmaterial-4Fyt9FjG-py3.11\\Lib\\site-packages\\memory_profiler.py:379\u001b[0m, in \u001b[0;36mmemory_usage\u001b[1;34m(proc, interval, timeout, timestamps, include_children, multiprocess, max_usage, retval, stream, backend, max_iterations)\u001b[0m\n\u001b[0;32m    376\u001b[0m \u001b[39m# When there is an exception in the \"proc\" - the (spawned) monitoring processes don't get killed.\u001b[39;00m\n\u001b[0;32m    377\u001b[0m \u001b[39m# Therefore, the whole process hangs indefinitely. Here, we are ensuring that the process gets killed!\u001b[39;00m\n\u001b[0;32m    378\u001b[0m \u001b[39mtry\u001b[39;00m:\n\u001b[1;32m--> 379\u001b[0m     returned \u001b[39m=\u001b[39m f(\u001b[39m*\u001b[39;49margs, \u001b[39m*\u001b[39;49m\u001b[39m*\u001b[39;49mkw)\n\u001b[0;32m    380\u001b[0m     parent_conn\u001b[39m.\u001b[39msend(\u001b[39m0\u001b[39m)  \u001b[39m# finish timing\u001b[39;00m\n\u001b[0;32m    381\u001b[0m     ret \u001b[39m=\u001b[39m parent_conn\u001b[39m.\u001b[39mrecv()\n",
      "\u001b[1;31mTypeError\u001b[0m: using_range() takes 1 positional argument but 1000 were given"
     ]
    }
   ],
   "source": [
    "nums = tuple(range(1000))\n",
    "memory_profiler = memory_usage((using_range, nums, {}))\n",
    "print(\"Memory usage:\", memory_profiler[0])"
   ]
  },
  {
   "cell_type": "code",
   "execution_count": null,
   "metadata": {},
   "outputs": [],
   "source": []
  }
 ],
 "metadata": {
  "kernelspec": {
   "display_name": "pythonmaterial-4Fyt9FjG-py3.11",
   "language": "python",
   "name": "python3"
  },
  "language_info": {
   "codemirror_mode": {
    "name": "ipython",
    "version": 3
   },
   "file_extension": ".py",
   "mimetype": "text/x-python",
   "name": "python",
   "nbconvert_exporter": "python",
   "pygments_lexer": "ipython3",
   "version": "3.11.3"
  },
  "orig_nbformat": 4
 },
 "nbformat": 4,
 "nbformat_minor": 2
}