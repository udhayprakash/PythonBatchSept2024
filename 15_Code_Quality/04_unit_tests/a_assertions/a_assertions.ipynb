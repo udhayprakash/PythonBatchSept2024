{
 "cells": [
  {
   "cell_type": "markdown",
   "metadata": {},
   "source": [
    "# Assertion\n",
    "\n",
    "\n",
    "    Symantic:\n",
    "        assert <statement>, \"Error Message, if statement is incorrect\""
   ]
  },
  {
   "cell_type": "code",
   "execution_count": 1,
   "metadata": {},
   "outputs": [
    {
     "name": "stdout",
     "output_type": "stream",
     "text": [
      "True\n"
     ]
    }
   ],
   "source": [
    "print(2 + 3 == 5)"
   ]
  },
  {
   "cell_type": "code",
   "execution_count": 2,
   "metadata": {},
   "outputs": [],
   "source": [
    "assert 2 + 3 == 5"
   ]
  },
  {
   "cell_type": "code",
   "execution_count": 3,
   "metadata": {},
   "outputs": [],
   "source": [
    "assert 2 + 3 == 5, \"2+ 3 is Not resulting to 5\""
   ]
  },
  {
   "cell_type": "code",
   "execution_count": 5,
   "metadata": {},
   "outputs": [
    {
     "name": "stdout",
     "output_type": "stream",
     "text": [
      "False\n"
     ]
    },
    {
     "ename": "AssertionError",
     "evalue": "2+ 3 is Not resulting to 6",
     "output_type": "error",
     "traceback": [
      "\u001b[0;31m---------------------------------------------------------------------------\u001b[0m",
      "\u001b[0;31mAssertionError\u001b[0m                            Traceback (most recent call last)",
      "Cell \u001b[0;32mIn[5], line 3\u001b[0m\n\u001b[1;32m      1\u001b[0m \u001b[38;5;28mprint\u001b[39m(\u001b[38;5;241m2\u001b[39m \u001b[38;5;241m+\u001b[39m \u001b[38;5;241m3\u001b[39m \u001b[38;5;241m==\u001b[39m \u001b[38;5;241m6\u001b[39m)\n\u001b[0;32m----> 3\u001b[0m \u001b[38;5;28;01massert\u001b[39;00m \u001b[38;5;241m2\u001b[39m \u001b[38;5;241m+\u001b[39m \u001b[38;5;241m3\u001b[39m \u001b[38;5;241m==\u001b[39m \u001b[38;5;241m6\u001b[39m, \u001b[38;5;124m\"\u001b[39m\u001b[38;5;124m2+ 3 is Not resulting to 6\u001b[39m\u001b[38;5;124m\"\u001b[39m\n",
      "\u001b[0;31mAssertionError\u001b[0m: 2+ 3 is Not resulting to 6"
     ]
    }
   ],
   "source": [
    "print(2 + 3 == 6)\n",
    "\n",
    "assert 2 + 3 == 6, \"2+ 3 is Not resulting to 6\""
   ]
  },
  {
   "cell_type": "code",
   "execution_count": 6,
   "metadata": {},
   "outputs": [
    {
     "name": "stdout",
     "output_type": "stream",
     "text": [
      "False\n",
      "2+ 3 is Not resulting to 6\n"
     ]
    }
   ],
   "source": [
    "print(2 + 3 == 6)\n",
    "\n",
    "try:\n",
    "    assert 2 + 3 == 6, \"2+ 3 is Not resulting to 6\"\n",
    "except AssertionError as ex:\n",
    "    print(ex)\n"
   ]
  },
  {
   "cell_type": "code",
   "execution_count": 7,
   "metadata": {},
   "outputs": [
    {
     "name": "stdout",
     "output_type": "stream",
     "text": [
      "Error is \n"
     ]
    }
   ],
   "source": [
    "try:\n",
    "    assert 10 - 34 > 3\n",
    "except AssertionError as ex:\n",
    "    print(f\"Error is {ex}\")\n"
   ]
  },
  {
   "cell_type": "code",
   "execution_count": 8,
   "metadata": {},
   "outputs": [
    {
     "name": "stdout",
     "output_type": "stream",
     "text": [
      "Error is This statement is incorrect\n"
     ]
    }
   ],
   "source": [
    "try:\n",
    "    assert 10 - 34 > 3, \"This statement is incorrect\"\n",
    "except AssertionError as ex:\n",
    "    print(f\"Error is {ex}\")"
   ]
  },
  {
   "cell_type": "code",
   "execution_count": 9,
   "metadata": {},
   "outputs": [],
   "source": [
    "assert 1 == True"
   ]
  },
  {
   "cell_type": "code",
   "execution_count": 10,
   "metadata": {},
   "outputs": [],
   "source": [
    "assert \"1\" != str(True)"
   ]
  },
  {
   "cell_type": "markdown",
   "metadata": {},
   "source": [
    "### Real-time example"
   ]
  },
  {
   "cell_type": "code",
   "execution_count": null,
   "metadata": {},
   "outputs": [],
   "source": [
    "def addition(num1: int, num2: int) -> int:\n",
    "    return num1 + num2\n",
    "\n",
    "assert addition(0, 0) == 0\n",
    "assert addition(0, 1) == 1\n",
    "assert addition(1, 0) == 1\n",
    "assert addition(1, -1) == 0\n",
    "assert addition(2, 3) == 5\n",
    "assert addition(-2, 3) == 1\n",
    "assert addition(-2, -3) == -5"
   ]
  },
  {
   "cell_type": "code",
   "execution_count": 21,
   "metadata": {},
   "outputs": [],
   "source": [
    "def addition(num1: int | float, num2: int | float) -> int | float:\n",
    "    return round(num1 + num2, 2)\n",
    "\n",
    "\n",
    "assert addition(0, 0) == 0\n",
    "assert addition(0, 1) == 1\n",
    "assert addition(1, 0) == 1\n",
    "assert addition(1, -1) == 0\n",
    "assert addition(2, 3) == 5\n",
    "assert addition(-2, 3) == 1\n",
    "assert addition(-2, -3) == -5\n",
    "\n",
    "assert addition(0, 0.0) == 0.0\n",
    "assert addition(0, 1.0) == 1.0\n",
    "assert addition(1.5, 0) == 1.5\n",
    "\n",
    "assert addition(1.2, -0.9) == 0.3\n"
   ]
  },
  {
   "cell_type": "code",
   "execution_count": null,
   "metadata": {},
   "outputs": [],
   "source": [
    "mytype = int | float | str\n",
    "\n",
    "def addition(num1: mytype, num2: mytype) -> mytype:\n",
    "    if isinstance(num1, str):\n",
    "        num1 = int(num1)\n",
    "        \n",
    "    if isinstance(num2, str):\n",
    "        num2 = int(num2)\n",
    "    return round(num1 + num2, 2)\n",
    "\n",
    "\n",
    "assert addition(0, 0) == 0\n",
    "assert addition(0, 1) == 1\n",
    "assert addition(1, 0) == 1\n",
    "assert addition(1, -1) == 0\n",
    "assert addition(2, 3) == 5\n",
    "assert addition(-2, 3) == 1\n",
    "assert addition(-2, -3) == -5\n",
    "\n",
    "assert addition(0, 0.0) == 0.0\n",
    "assert addition(0, 1.0) == 1.0\n",
    "assert addition(1.5, 0) == 1.5\n",
    "\n",
    "assert addition(1.2, -0.9) == 0.3\n",
    "\n",
    "\n",
    "assert addition('12', '13') == 25\n",
    "assert addition(12, '13') == 25\n",
    "assert addition('12', 13) == 25\n",
    "assert addition(12, 13) == 25"
   ]
  },
  {
   "cell_type": "code",
   "execution_count": 33,
   "metadata": {},
   "outputs": [],
   "source": [
    "mytype = int | float | str\n",
    "\n",
    "def addition(num1: mytype, num2: mytype) -> mytype:\n",
    "    if isinstance(num1, str):\n",
    "        num1 = float(num1)\n",
    "        \n",
    "    if isinstance(num2, str):\n",
    "        num2 = float(num2)\n",
    "    return round(num1 + num2, 2)\n",
    "\n",
    "\n",
    "assert addition(0, 0) == 0\n",
    "assert addition(0, 1) == 1\n",
    "assert addition(1, 0) == 1\n",
    "assert addition(1, -1) == 0\n",
    "assert addition(2, 3) == 5\n",
    "assert addition(-2, 3) == 1\n",
    "assert addition(-2, -3) == -5\n",
    "\n",
    "assert addition(0, 0.0) == 0.0\n",
    "assert addition(0, 1.0) == 1.0\n",
    "assert addition(1.5, 0) == 1.5\n",
    "\n",
    "assert addition(1.2, -0.9) == 0.3\n",
    "\n",
    "\n",
    "assert addition('12', '13') == 25\n",
    "assert addition(12, '13') == 25\n",
    "assert addition('12', 13) == 25\n",
    "assert addition(12, 13) == 25\n",
    "\n",
    "\n",
    "assert addition('12.5', '13.0') == 25.5\n",
    "assert addition(12.0, '13.0') == 25.0\n",
    "assert addition('0.12', 13) ==  13.12\n",
    "assert addition(1.2, -1.3) == -0.1"
   ]
  },
  {
   "cell_type": "code",
   "execution_count": 34,
   "metadata": {},
   "outputs": [],
   "source": [
    "# TDD - test driven development"
   ]
  },
  {
   "cell_type": "code",
   "execution_count": 36,
   "metadata": {},
   "outputs": [
    {
     "name": "stdout",
     "output_type": "stream",
     "text": [
      "Udhay\n",
      "Udhay\n",
      "Python\n",
      "Gudo\n",
      "mystr\n",
      "10\n",
      "12.12\n",
      "None\n",
      "True\n",
      "(1, 2, 3)\n",
      "[23, 23, 32]\n",
      "{1, 3}\n",
      "{12: 2}\n"
     ]
    }
   ],
   "source": [
    "from typing import Any\n",
    "\n",
    "def hello(name: Any) -> None:\n",
    "    print(name)\n",
    "\n",
    "\n",
    "assert hello(\"Udhay\") == None\n",
    "assert hello(\"Udhay\") is None\n",
    "assert hello(\"Python\") is None\n",
    "assert hello(\"Gudo\") is None\n",
    "\n",
    "for value in ('mystr', 10, 12.12, None, True, (1,2,3), [23, 23, 32], {1, 3}, {12:2}):\n",
    "    assert hello(value) is None\n"
   ]
  },
  {
   "cell_type": "code",
   "execution_count": null,
   "metadata": {},
   "outputs": [],
   "source": []
  }
 ],
 "metadata": {
  "kernelspec": {
   "display_name": "Python 3",
   "language": "python",
   "name": "python3"
  },
  "language_info": {
   "codemirror_mode": {
    "name": "ipython",
    "version": 3
   },
   "file_extension": ".py",
   "mimetype": "text/x-python",
   "name": "python",
   "nbconvert_exporter": "python",
   "pygments_lexer": "ipython3",
   "version": "3.12.1"
  }
 },
 "nbformat": 4,
 "nbformat_minor": 2
}
